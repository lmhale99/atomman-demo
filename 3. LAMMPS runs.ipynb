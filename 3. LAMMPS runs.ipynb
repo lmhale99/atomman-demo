{
 "cells": [
  {
   "cell_type": "markdown",
   "metadata": {},
   "source": [
    "# LAMMPS runs\n",
    "\n",
    "## 1. Importing/installing atomman and LAMMPS\n",
    "\n",
    "Setting iscolab=True will install atomman using pip if it is not already installed and will download a lammps executable built for colab."
   ]
  },
  {
   "cell_type": "code",
   "execution_count": 1,
   "metadata": {},
   "outputs": [
    {
     "name": "stdout",
     "output_type": "stream",
     "text": [
      "atomman version 1.4.0 loaded\n"
     ]
    }
   ],
   "source": [
    "iscolab = False\n",
    "\n",
    "if iscolab:\n",
    "    try:\n",
    "        import atomman as am\n",
    "    except:\n",
    "        !pip install atomman\n",
    "        !wget https://github.com/lmhale99/atomman-demo/blob/main/lmp.gz\n",
    "        !gunzip lmp.gz\n",
    "        print('!!!!! RESTART KERNEL/RUNTIME TO USE ATOMMAN !!!!!')\n",
    "else:\n",
    "    import atomman as am\n",
    "    \n",
    "from pathlib import Path\n",
    "import matplotlib.pyplot as plt\n",
    "import atomman.unitconvert as uc    \n",
    "print(f'atomman version {am.__version__} loaded')"
   ]
  },
  {
   "cell_type": "markdown",
   "metadata": {},
   "source": [
    "## 2. Specify LAMMPS executable and check its version"
   ]
  },
  {
   "cell_type": "code",
   "execution_count": 2,
   "metadata": {},
   "outputs": [
    {
     "name": "stdout",
     "output_type": "stream",
     "text": [
      "{'version': '3 Mar 2020', 'date': datetime.date(2020, 3, 3)}\n"
     ]
    }
   ],
   "source": [
    "lmp_command = 'lmp_mpi' \n",
    "#lmp_command = 'lmp' \n",
    "\n",
    "print(am.lammps.checkversion(lmp_command))"
   ]
  },
  {
   "cell_type": "markdown",
   "metadata": {},
   "source": [
    "## 3. Fetch potential and build system"
   ]
  },
  {
   "cell_type": "code",
   "execution_count": 3,
   "metadata": {},
   "outputs": [
    {
     "name": "stdout",
     "output_type": "stream",
     "text": [
      "Found 1 matching potential_LAMMPS records in local library\n",
      "Found 0 matching potential_LAMMPS_KIM records in local library\n",
      "Built 0 lammps potentials for KIM models\n",
      "Matching record retrieved from local\n",
      "Fe_2.eam.fs already in 2003--Mendelev-M-I--Fe-2--LAMMPS--ipr3\n"
     ]
    }
   ],
   "source": [
    "potential = am.load_lammps_potential(id='2003--Mendelev-M-I--Fe-2--LAMMPS--ipr3', pot_dir_style='id', getfiles=True, verbose=True)"
   ]
  },
  {
   "cell_type": "code",
   "execution_count": null,
   "metadata": {},
   "outputs": [],
   "source": [
    "ucell = am.load('crystal', family='A2--W--bcc', potential=potential)\n",
    "print(ucell)"
   ]
  },
  {
   "cell_type": "code",
   "execution_count": 4,
   "metadata": {},
   "outputs": [
    {
     "name": "stdout",
     "output_type": "stream",
     "text": [
      "16000\n"
     ]
    }
   ],
   "source": [
    "system = ucell.supersize(20, 20, 20)\n",
    "print(system.natoms)"
   ]
  },
  {
   "cell_type": "markdown",
   "metadata": {},
   "source": [
    "## 4. Construct template LAMMPS scripts\n",
    "\n",
    "A template LAMMPS script is one which sets up a LAMMPS simulation but defines variables for Python to fill in related to the potential, initial configuration, and any other run parameters that you may want to explore.\n",
    "\n",
    "Here, two template scripts are created: one that is based on starting a simulation from an initial configuration, and one that is based on restarting the simulation from a restart file.\n",
    "\n",
    "The angle brackets are used here as the Python variable name delimiters.  Note that the starting and ending delimiters can be any string as long as they are unique in the template script.\n"
   ]
  },
  {
   "cell_type": "code",
   "execution_count": 5,
   "metadata": {},
   "outputs": [],
   "source": [
    "template_from_start = \"\"\"\n",
    "# Simple LAMMPS NPT relaxation script \n",
    "\n",
    "<pair_data_info>\n",
    "\n",
    "# Define temperature and dependent variables\n",
    "variable T equal <temperature>\n",
    "variable twoT equal 2*$T\n",
    "\n",
    "# Define equilibrium pressure\n",
    "variable P equal <pressure>\n",
    "\n",
    "# Define timestep and dependent variables\n",
    "variable timestep equal <timestep>\n",
    "variable Trelax equal 100*${timestep}\n",
    "variable Prelax equal 1000*${timestep}\n",
    "\n",
    "# Initialize atomic velocities with twoT\n",
    "velocity all create ${twoT} <randomseed>\n",
    "\n",
    "thermo <thermosteps>\n",
    "thermo_style custom step pe temp press lx ly lz\n",
    "\n",
    "restart <runsteps> *.restart\n",
    "\n",
    "timestep ${timestep}\n",
    "\n",
    "# Apply npt conditions\n",
    "fix 1 all npt temp $T $T ${Trelax} iso $P $P ${Prelax}\n",
    "run <runsteps>\n",
    "\"\"\""
   ]
  },
  {
   "cell_type": "code",
   "execution_count": 6,
   "metadata": {},
   "outputs": [],
   "source": [
    "template_from_restart = \"\"\"\n",
    "# Simple LAMMPS NPT relaxation script from restart\n",
    "\n",
    "<pair_restart_info>\n",
    "\n",
    "# Define temperature and dependent variables\n",
    "variable T equal <temperature>\n",
    "variable twoT equal 2*$T\n",
    "\n",
    "# Define equilibrium pressure\n",
    "variable P equal <pressure>\n",
    "\n",
    "# Define timestep and dependent variables\n",
    "variable timestep equal <timestep>\n",
    "variable Trelax equal 100*${timestep}\n",
    "variable Prelax equal 1000*${timestep}\n",
    "\n",
    "thermo <thermosteps>\n",
    "thermo_style custom step pe temp press lx ly lz\n",
    "\n",
    "restart <runsteps> *.restart\n",
    "\n",
    "timestep ${timestep}\n",
    "\n",
    "# Apply npt conditions\n",
    "fix 1 all npt temp $T $T ${Trelax} iso $P $P ${Prelax}\n",
    "run <runsteps>\n",
    "\"\"\""
   ]
  },
  {
   "cell_type": "markdown",
   "metadata": {},
   "source": [
    "## 5. Fill the template scripts\n",
    "\n",
    "The template scripts become full LAMMPS scripts when the delimited Python variables are replaced by appropriate values.  This is easily done by defining a dictionary where the dictionary keys are the parameter names to replace and the dictionary values are the values to fill in."
   ]
  },
  {
   "cell_type": "code",
   "execution_count": 7,
   "metadata": {},
   "outputs": [],
   "source": [
    "# Create dictionary of variable name to value replacements for the template scripts\n",
    "lammps_variables = {}"
   ]
  },
  {
   "cell_type": "markdown",
   "metadata": {},
   "source": [
    "### 5.1. Specify simulation run parameters\n",
    "\n",
    "- __temperature__ is the target relaxation temperature\n",
    "- __pressure__ is the target relaxation pressure\n",
    "- __timestep__ is the timestep size to use. atomman.lammps.style.timestep() allows for the default timestep to be retrieved based on LAMMPS units style.\n",
    "- __thermosteps__ indicates how frequently the thermo data is outputted based on a number of integration steps.\n",
    "- __runsteps__ is the total number of integration steps to perform for a given simulation run.\n",
    "- __randomseed__ is an integer random number seed to use for generating the initial atomic velocities."
   ]
  },
  {
   "cell_type": "code",
   "execution_count": 8,
   "metadata": {},
   "outputs": [],
   "source": [
    "lammps_variables['temperature'] = 300\n",
    "lammps_variables['pressure'] = 0.0\n",
    "lammps_variables['timestep'] = am.lammps.style.timestep(potential.units)\n",
    "lammps_variables['thermosteps'] = 100\n",
    "lammps_variables['runsteps'] = 10000\n",
    "lammps_variables['randomseed'] = 252533"
   ]
  },
  {
   "cell_type": "markdown",
   "metadata": {},
   "source": [
    "### 5.2. Generate atom data file and associated input commands\n",
    "\n",
    "Calling System.dump() allows for the conversion of the System to another format.  If the output style is \"atom_data\", it will generate a LAMMPS data file as well as the necessary LAMMPS commands to read in the file and the interatomic potential."
   ]
  },
  {
   "cell_type": "code",
   "execution_count": 9,
   "metadata": {},
   "outputs": [],
   "source": [
    "datafilename = 'init.dat'\n",
    "lammps_variables['pair_data_info'] = system.dump('atom_data', f=datafilename, potential=potential)"
   ]
  },
  {
   "cell_type": "markdown",
   "metadata": {},
   "source": [
    "Show the generated LAMMPS command lines"
   ]
  },
  {
   "cell_type": "code",
   "execution_count": 10,
   "metadata": {},
   "outputs": [
    {
     "name": "stdout",
     "output_type": "stream",
     "text": [
      "units metal\n",
      "atom_style atomic\n",
      "\n",
      "boundary p p p\n",
      "read_data init.dat\n",
      "\n",
      "print \"Potential 2003--Mendelev-M-I--Fe-2--LAMMPS--ipr3 listed in the NIST Interatomic Potentials Repository:\"\n",
      "print \"https://www.ctcms.nist.gov/potentials/entry/2003--Mendelev-M-I-Han-S-Srolovitz-D-J-et-al--Fe-2/2003--Mendelev-M-I--Fe-2--LAMMPS--ipr3.html\"\n",
      "print \"Publication(s) related to the potential:\"\n",
      "print \"https://doi.org/10.1080/14786430310001613264\"\n",
      "print \"Parameter file(s) can be downloaded at:\"\n",
      "print \"https://www.ctcms.nist.gov/potentials/Download/2003--Mendelev-M-I-Han-S-Srolovitz-D-J-et-al--Fe-2/3/Fe_2.eam.fs\"\n",
      "pair_style eam/fs\n",
      "pair_coeff * * 2003--Mendelev-M-I--Fe-2--LAMMPS--ipr3\\Fe_2.eam.fs Fe\n",
      "mass 1 55.85\n",
      "\n",
      "\n"
     ]
    }
   ],
   "source": [
    "print(lammps_variables['pair_data_info'])"
   ]
  },
  {
   "cell_type": "markdown",
   "metadata": {},
   "source": [
    "Show the first bit of the LAMMPS data file contents"
   ]
  },
  {
   "cell_type": "code",
   "execution_count": 11,
   "metadata": {},
   "outputs": [
    {
     "name": "stdout",
     "output_type": "stream",
     "text": [
      "\n",
      "16000 atoms\n",
      "1 atom types\n",
      "0.0000000000000 57.1064921823479 xlo xhi\n",
      "0.0000000000000 57.1064921823479 ylo yhi\n",
      "0.0000000000000 57.1064921823479 zlo zhi\n",
      "\n",
      "Atoms # atomic\n",
      "\n",
      "1 1 0.0000000000000 0.0000000000000 0.0000000000000\n",
      "2 1 1.4276623045587 1.4276623045587 1.4276623045587\n",
      "3 1 2.8553246091174 0.0000000000000 0.0000000000000\n",
      "4 1 4.2829869136761 1.4276623045587 1.4276623045587\n",
      "5 1 5.7106492182348 0.0000000000000 0.0000000000000\n",
      "6 1 7.1383115227935 1.4276623045587 1.4276623045587\n",
      "7 1 8.5659738273522 0.0000000000000 0.0000000000000\n",
      "8 1 9.9936361319109 1.4276623045587 1.4276623045587\n",
      "9 1 11.4212984364696 0.0000000000000 0.0000000000000\n",
      "10 1 12.8489607410283 1.4276623045587 1.4276623045587\n",
      "11 1 14.2766230455870 0.0000000000000 0.0000000000000\n",
      "...\n"
     ]
    }
   ],
   "source": [
    "with open(datafilename) as f:\n",
    "    for i in range(20):\n",
    "        print(f.readline().strip())\n",
    "print('...')"
   ]
  },
  {
   "cell_type": "markdown",
   "metadata": {},
   "source": [
    "For the restart script, the associated LAMMPS command lines can be built using the potential's pair_restart_info() method."
   ]
  },
  {
   "cell_type": "code",
   "execution_count": 12,
   "metadata": {},
   "outputs": [
    {
     "name": "stdout",
     "output_type": "stream",
     "text": [
      "# Script prepared using atomman Python package\n",
      "\n",
      "read_restart *.restart\n",
      "\n",
      "print \"Potential 2003--Mendelev-M-I--Fe-2--LAMMPS--ipr3 listed in the NIST Interatomic Potentials Repository:\"\n",
      "print \"https://www.ctcms.nist.gov/potentials/entry/2003--Mendelev-M-I-Han-S-Srolovitz-D-J-et-al--Fe-2/2003--Mendelev-M-I--Fe-2--LAMMPS--ipr3.html\"\n",
      "print \"Publication(s) related to the potential:\"\n",
      "print \"https://doi.org/10.1080/14786430310001613264\"\n",
      "print \"Parameter file(s) can be downloaded at:\"\n",
      "print \"https://www.ctcms.nist.gov/potentials/Download/2003--Mendelev-M-I-Han-S-Srolovitz-D-J-et-al--Fe-2/3/Fe_2.eam.fs\"\n",
      "pair_style eam/fs\n",
      "pair_coeff * * 2003--Mendelev-M-I--Fe-2--LAMMPS--ipr3\\Fe_2.eam.fs Fe\n",
      "mass 1 55.85\n",
      "\n",
      "\n"
     ]
    }
   ],
   "source": [
    "lammps_variables['pair_restart_info'] = potential.pair_restart_info('*.restart')\n",
    "print(lammps_variables['pair_restart_info'])"
   ]
  },
  {
   "cell_type": "markdown",
   "metadata": {},
   "source": [
    "### 5.3. Fill in the templates\n",
    "\n",
    "The filltemplate function fills in the template scripts.  The last two parameters indicate the starting and ending delimiters for identifying the template variables to fill in."
   ]
  },
  {
   "cell_type": "code",
   "execution_count": 13,
   "metadata": {},
   "outputs": [
    {
     "name": "stdout",
     "output_type": "stream",
     "text": [
      "\n",
      "# Simple LAMMPS NPT relaxation script \n",
      "\n",
      "units metal\n",
      "atom_style atomic\n",
      "\n",
      "boundary p p p\n",
      "read_data init.dat\n",
      "\n",
      "print \"Potential 2003--Mendelev-M-I--Fe-2--LAMMPS--ipr3 listed in the NIST Interatomic Potentials Repository:\"\n",
      "print \"https://www.ctcms.nist.gov/potentials/entry/2003--Mendelev-M-I-Han-S-Srolovitz-D-J-et-al--Fe-2/2003--Mendelev-M-I--Fe-2--LAMMPS--ipr3.html\"\n",
      "print \"Publication(s) related to the potential:\"\n",
      "print \"https://doi.org/10.1080/14786430310001613264\"\n",
      "print \"Parameter file(s) can be downloaded at:\"\n",
      "print \"https://www.ctcms.nist.gov/potentials/Download/2003--Mendelev-M-I-Han-S-Srolovitz-D-J-et-al--Fe-2/3/Fe_2.eam.fs\"\n",
      "pair_style eam/fs\n",
      "pair_coeff * * 2003--Mendelev-M-I--Fe-2--LAMMPS--ipr3\\Fe_2.eam.fs Fe\n",
      "mass 1 55.85\n",
      "\n",
      "\n",
      "\n",
      "# Define temperature and dependent variables\n",
      "variable T equal 300\n",
      "variable twoT equal 2*$T\n",
      "\n",
      "# Define equilibrium pressure\n",
      "variable P equal 0.0\n",
      "\n",
      "# Define timestep and dependent variables\n",
      "variable timestep equal 0.001\n",
      "variable Trelax equal 100*${timestep}\n",
      "variable Prelax equal 1000*${timestep}\n",
      "\n",
      "# Initialize atomic velocities with twoT\n",
      "velocity all create ${twoT} 252533\n",
      "\n",
      "thermo 100\n",
      "thermo_style custom step pe temp press lx ly lz\n",
      "\n",
      "restart 10000 *.restart\n",
      "\n",
      "timestep ${timestep}\n",
      "\n",
      "# Apply npt conditions\n",
      "fix 1 all npt temp $T $T ${Trelax} iso $P $P ${Prelax}\n",
      "run 10000\n",
      "\n"
     ]
    }
   ],
   "source": [
    "startscript = am.tools.filltemplate(template_from_start, lammps_variables, '<', '>')\n",
    "print(startscript)"
   ]
  },
  {
   "cell_type": "code",
   "execution_count": 14,
   "metadata": {},
   "outputs": [
    {
     "name": "stdout",
     "output_type": "stream",
     "text": [
      "\n",
      "# Simple LAMMPS NPT relaxation script from restart\n",
      "\n",
      "# Script prepared using atomman Python package\n",
      "\n",
      "read_restart *.restart\n",
      "\n",
      "print \"Potential 2003--Mendelev-M-I--Fe-2--LAMMPS--ipr3 listed in the NIST Interatomic Potentials Repository:\"\n",
      "print \"https://www.ctcms.nist.gov/potentials/entry/2003--Mendelev-M-I-Han-S-Srolovitz-D-J-et-al--Fe-2/2003--Mendelev-M-I--Fe-2--LAMMPS--ipr3.html\"\n",
      "print \"Publication(s) related to the potential:\"\n",
      "print \"https://doi.org/10.1080/14786430310001613264\"\n",
      "print \"Parameter file(s) can be downloaded at:\"\n",
      "print \"https://www.ctcms.nist.gov/potentials/Download/2003--Mendelev-M-I-Han-S-Srolovitz-D-J-et-al--Fe-2/3/Fe_2.eam.fs\"\n",
      "pair_style eam/fs\n",
      "pair_coeff * * 2003--Mendelev-M-I--Fe-2--LAMMPS--ipr3\\Fe_2.eam.fs Fe\n",
      "mass 1 55.85\n",
      "\n",
      "\n",
      "\n",
      "# Define temperature and dependent variables\n",
      "variable T equal 300\n",
      "variable twoT equal 2*$T\n",
      "\n",
      "# Define equilibrium pressure\n",
      "variable P equal 0.0\n",
      "\n",
      "# Define timestep and dependent variables\n",
      "variable timestep equal 0.001\n",
      "variable Trelax equal 100*${timestep}\n",
      "variable Prelax equal 1000*${timestep}\n",
      "\n",
      "thermo 100\n",
      "thermo_style custom step pe temp press lx ly lz\n",
      "\n",
      "restart 10000 *.restart\n",
      "\n",
      "timestep ${timestep}\n",
      "\n",
      "# Apply npt conditions\n",
      "fix 1 all npt temp $T $T ${Trelax} iso $P $P ${Prelax}\n",
      "run 10000\n",
      "\n"
     ]
    }
   ],
   "source": [
    "restartscript = am.tools.filltemplate(template_from_restart, lammps_variables, '<', '>')\n",
    "print(restartscript)"
   ]
  },
  {
   "cell_type": "markdown",
   "metadata": {},
   "source": [
    "## 6. Run LAMMPS simulation\n",
    "\n",
    "LAMMPS simulations can then be executed from within Python by using the atomman.lammps.run() command.\n",
    "\n",
    "- The first parameter is the LAMMPS executable to use.\n",
    "- __script__ and __script_name__ indicate the primary LAMMPS scripts to run, with script taking the commands as a str and script_name taking a file path.\n",
    "- __restart_script__ and __restart_script_name__ allow for an optional restart script to be defined and used if the log.lammps file already exists.\n",
    "- __mpi_command__ is an optional MPI command to use for running the simulation in parallel."
   ]
  },
  {
   "cell_type": "code",
   "execution_count": 15,
   "metadata": {},
   "outputs": [],
   "source": [
    "log = am.lammps.run(lammps_command, script=startscript, restart_script=restartscript, \n",
    "                    mpi_command = 'C:/Program Files/MPICH2/bin/mpiexec -localonly 6')"
   ]
  },
  {
   "cell_type": "code",
   "execution_count": 20,
   "metadata": {},
   "outputs": [
    {
     "data": {
      "text/html": [
       "<div>\n",
       "<style scoped>\n",
       "    .dataframe tbody tr th:only-of-type {\n",
       "        vertical-align: middle;\n",
       "    }\n",
       "\n",
       "    .dataframe tbody tr th {\n",
       "        vertical-align: top;\n",
       "    }\n",
       "\n",
       "    .dataframe thead th {\n",
       "        text-align: right;\n",
       "    }\n",
       "</style>\n",
       "<table border=\"1\" class=\"dataframe\">\n",
       "  <thead>\n",
       "    <tr style=\"text-align: right;\">\n",
       "      <th></th>\n",
       "      <th>min time</th>\n",
       "      <th>avg time</th>\n",
       "      <th>max time</th>\n",
       "      <th>%varavg</th>\n",
       "      <th>%total</th>\n",
       "    </tr>\n",
       "    <tr>\n",
       "      <th>Section</th>\n",
       "      <th></th>\n",
       "      <th></th>\n",
       "      <th></th>\n",
       "      <th></th>\n",
       "      <th></th>\n",
       "    </tr>\n",
       "  </thead>\n",
       "  <tbody>\n",
       "    <tr>\n",
       "      <td>Pair</td>\n",
       "      <td>53.621000</td>\n",
       "      <td>55.051000</td>\n",
       "      <td>55.907000</td>\n",
       "      <td>9.7</td>\n",
       "      <td>87.94</td>\n",
       "    </tr>\n",
       "    <tr>\n",
       "      <td>Neigh</td>\n",
       "      <td>0.004721</td>\n",
       "      <td>0.004861</td>\n",
       "      <td>0.005001</td>\n",
       "      <td>0.1</td>\n",
       "      <td>0.01</td>\n",
       "    </tr>\n",
       "    <tr>\n",
       "      <td>Comm</td>\n",
       "      <td>4.069800</td>\n",
       "      <td>4.864400</td>\n",
       "      <td>6.229800</td>\n",
       "      <td>30.8</td>\n",
       "      <td>7.77</td>\n",
       "    </tr>\n",
       "    <tr>\n",
       "      <td>Output</td>\n",
       "      <td>0.018046</td>\n",
       "      <td>0.018231</td>\n",
       "      <td>0.018996</td>\n",
       "      <td>0.3</td>\n",
       "      <td>0.03</td>\n",
       "    </tr>\n",
       "    <tr>\n",
       "      <td>Modify</td>\n",
       "      <td>1.820300</td>\n",
       "      <td>1.858000</td>\n",
       "      <td>1.903900</td>\n",
       "      <td>2.2</td>\n",
       "      <td>2.97</td>\n",
       "    </tr>\n",
       "    <tr>\n",
       "      <td>Other</td>\n",
       "      <td>0.000000</td>\n",
       "      <td>0.807500</td>\n",
       "      <td>0.000000</td>\n",
       "      <td>0.0</td>\n",
       "      <td>1.29</td>\n",
       "    </tr>\n",
       "  </tbody>\n",
       "</table>\n",
       "</div>"
      ],
      "text/plain": [
       "           min time   avg time   max time  %varavg  %total\n",
       "Section                                                   \n",
       "Pair      53.621000  55.051000  55.907000      9.7   87.94\n",
       "Neigh      0.004721   0.004861   0.005001      0.1    0.01\n",
       "Comm       4.069800   4.864400   6.229800     30.8    7.77\n",
       "Output     0.018046   0.018231   0.018996      0.3    0.03\n",
       "Modify     1.820300   1.858000   1.903900      2.2    2.97\n",
       "Other      0.000000   0.807500   0.000000      0.0    1.29"
      ]
     },
     "execution_count": 20,
     "metadata": {},
     "output_type": "execute_result"
    }
   ],
   "source": [
    "log.simulations[2].performance"
   ]
  },
  {
   "cell_type": "code",
   "execution_count": 17,
   "metadata": {},
   "outputs": [
    {
     "data": {
      "text/html": [
       "<div>\n",
       "<style scoped>\n",
       "    .dataframe tbody tr th:only-of-type {\n",
       "        vertical-align: middle;\n",
       "    }\n",
       "\n",
       "    .dataframe tbody tr th {\n",
       "        vertical-align: top;\n",
       "    }\n",
       "\n",
       "    .dataframe thead th {\n",
       "        text-align: right;\n",
       "    }\n",
       "</style>\n",
       "<table border=\"1\" class=\"dataframe\">\n",
       "  <thead>\n",
       "    <tr style=\"text-align: right;\">\n",
       "      <th></th>\n",
       "      <th>Step</th>\n",
       "      <th>PotEng</th>\n",
       "      <th>Temp</th>\n",
       "      <th>Press</th>\n",
       "      <th>Lx</th>\n",
       "      <th>Ly</th>\n",
       "      <th>Lz</th>\n",
       "    </tr>\n",
       "  </thead>\n",
       "  <tbody>\n",
       "    <tr>\n",
       "      <td>0</td>\n",
       "      <td>20000</td>\n",
       "      <td>-65303.084</td>\n",
       "      <td>297.71183</td>\n",
       "      <td>-1553.58190</td>\n",
       "      <td>57.196842</td>\n",
       "      <td>57.196842</td>\n",
       "      <td>57.196842</td>\n",
       "    </tr>\n",
       "    <tr>\n",
       "      <td>1</td>\n",
       "      <td>20100</td>\n",
       "      <td>-65298.600</td>\n",
       "      <td>299.24741</td>\n",
       "      <td>1258.37820</td>\n",
       "      <td>57.164092</td>\n",
       "      <td>57.164092</td>\n",
       "      <td>57.164092</td>\n",
       "    </tr>\n",
       "    <tr>\n",
       "      <td>2</td>\n",
       "      <td>20200</td>\n",
       "      <td>-65293.985</td>\n",
       "      <td>299.22933</td>\n",
       "      <td>-560.36262</td>\n",
       "      <td>57.187333</td>\n",
       "      <td>57.187333</td>\n",
       "      <td>57.187333</td>\n",
       "    </tr>\n",
       "    <tr>\n",
       "      <td>3</td>\n",
       "      <td>20300</td>\n",
       "      <td>-65298.987</td>\n",
       "      <td>300.73198</td>\n",
       "      <td>-271.66838</td>\n",
       "      <td>57.183407</td>\n",
       "      <td>57.183407</td>\n",
       "      <td>57.183407</td>\n",
       "    </tr>\n",
       "    <tr>\n",
       "      <td>4</td>\n",
       "      <td>20400</td>\n",
       "      <td>-65305.861</td>\n",
       "      <td>300.42952</td>\n",
       "      <td>1020.77750</td>\n",
       "      <td>57.166577</td>\n",
       "      <td>57.166577</td>\n",
       "      <td>57.166577</td>\n",
       "    </tr>\n",
       "    <tr>\n",
       "      <td>...</td>\n",
       "      <td>...</td>\n",
       "      <td>...</td>\n",
       "      <td>...</td>\n",
       "      <td>...</td>\n",
       "      <td>...</td>\n",
       "      <td>...</td>\n",
       "      <td>...</td>\n",
       "    </tr>\n",
       "    <tr>\n",
       "      <td>96</td>\n",
       "      <td>29600</td>\n",
       "      <td>-65296.597</td>\n",
       "      <td>298.19099</td>\n",
       "      <td>-760.90491</td>\n",
       "      <td>57.188712</td>\n",
       "      <td>57.188712</td>\n",
       "      <td>57.188712</td>\n",
       "    </tr>\n",
       "    <tr>\n",
       "      <td>97</td>\n",
       "      <td>29700</td>\n",
       "      <td>-65298.665</td>\n",
       "      <td>300.57982</td>\n",
       "      <td>568.74464</td>\n",
       "      <td>57.171869</td>\n",
       "      <td>57.171869</td>\n",
       "      <td>57.171869</td>\n",
       "    </tr>\n",
       "    <tr>\n",
       "      <td>98</td>\n",
       "      <td>29800</td>\n",
       "      <td>-65298.534</td>\n",
       "      <td>299.07758</td>\n",
       "      <td>-184.92083</td>\n",
       "      <td>57.182002</td>\n",
       "      <td>57.182002</td>\n",
       "      <td>57.182002</td>\n",
       "    </tr>\n",
       "    <tr>\n",
       "      <td>99</td>\n",
       "      <td>29900</td>\n",
       "      <td>-65300.204</td>\n",
       "      <td>298.04902</td>\n",
       "      <td>111.02390</td>\n",
       "      <td>57.177106</td>\n",
       "      <td>57.177106</td>\n",
       "      <td>57.177106</td>\n",
       "    </tr>\n",
       "    <tr>\n",
       "      <td>100</td>\n",
       "      <td>30000</td>\n",
       "      <td>-65300.983</td>\n",
       "      <td>296.00564</td>\n",
       "      <td>100.76402</td>\n",
       "      <td>57.176144</td>\n",
       "      <td>57.176144</td>\n",
       "      <td>57.176144</td>\n",
       "    </tr>\n",
       "  </tbody>\n",
       "</table>\n",
       "<p>101 rows × 7 columns</p>\n",
       "</div>"
      ],
      "text/plain": [
       "      Step     PotEng       Temp       Press         Lx         Ly         Lz\n",
       "0    20000 -65303.084  297.71183 -1553.58190  57.196842  57.196842  57.196842\n",
       "1    20100 -65298.600  299.24741  1258.37820  57.164092  57.164092  57.164092\n",
       "2    20200 -65293.985  299.22933  -560.36262  57.187333  57.187333  57.187333\n",
       "3    20300 -65298.987  300.73198  -271.66838  57.183407  57.183407  57.183407\n",
       "4    20400 -65305.861  300.42952  1020.77750  57.166577  57.166577  57.166577\n",
       "..     ...        ...        ...         ...        ...        ...        ...\n",
       "96   29600 -65296.597  298.19099  -760.90491  57.188712  57.188712  57.188712\n",
       "97   29700 -65298.665  300.57982   568.74464  57.171869  57.171869  57.171869\n",
       "98   29800 -65298.534  299.07758  -184.92083  57.182002  57.182002  57.182002\n",
       "99   29900 -65300.204  298.04902   111.02390  57.177106  57.177106  57.177106\n",
       "100  30000 -65300.983  296.00564   100.76402  57.176144  57.176144  57.176144\n",
       "\n",
       "[101 rows x 7 columns]"
      ]
     },
     "execution_count": 17,
     "metadata": {},
     "output_type": "execute_result"
    }
   ],
   "source": [
    "log.simulations[-1].thermo"
   ]
  },
  {
   "cell_type": "code",
   "execution_count": null,
   "metadata": {},
   "outputs": [],
   "source": [
    "lammps_units = am.lammps.style.unit(potential.units)\n",
    "print(lammps_units)"
   ]
  },
  {
   "cell_type": "code",
   "execution_count": 18,
   "metadata": {},
   "outputs": [
    {
     "data": {
      "image/png": "[encoded data removed]",
      "text/plain": [
       "<Figure size 1440x720 with 6 Axes>"
      ]
     },
     "metadata": {
      "needs_background": "light"
     },
     "output_type": "display_data"
    }
   ],
   "source": [
    "fig, axes = plt.subplots(2, 3, figsize=(20, 10))\n",
    "for sim in log.simulations:\n",
    "    axes[0,0].plot(sim.thermo.Step, sim.thermo.PotEng / system.natoms)\n",
    "    axes[0,1].plot(sim.thermo.Step, sim.thermo.Temp)\n",
    "    P = uc.set_in_units(sim.thermo.Press, lammps_units['pressure'])\n",
    "    axes[0,2].plot(sim.thermo.Step, uc.get_in_units(P, 'GPa'))\n",
    "    axes[1,0].plot(sim.thermo.Step, sim.thermo.Lx / 20)\n",
    "    axes[1,1].plot(sim.thermo.Step, sim.thermo.Ly / 20)\n",
    "    axes[1,2].plot(sim.thermo.Step, sim.thermo.Lz / 20)\n",
    "\n",
    "for i in range(2):\n",
    "    for j in range(3):\n",
    "        axes[i,j].set_xlabel('step', size='xx-large')\n",
    "        axes[i,j].set_xlim(0, log.simulations[-1].thermo.Step.values[-1])\n",
    "axes[0,0].set_ylabel('Potential Energy (eV/atom)', size='xx-large')\n",
    "axes[0,1].set_ylabel('Temperature (K)', size='xx-large')\n",
    "axes[0,2].set_ylabel('Pressure (GPa)', size='xx-large')\n",
    "axes[1,0].set_ylabel('a (angstrom)', size='xx-large')\n",
    "axes[1,1].set_ylabel('b (angstrom)', size='xx-large')\n",
    "axes[1,2].set_ylabel('c (angstrom)', size='xx-large')\n",
    "plt.show()"
   ]
  },
  {
   "cell_type": "code",
   "execution_count": null,
   "metadata": {},
   "outputs": [],
   "source": []
  }
 ],
 "metadata": {
  "kernelspec": {
   "display_name": "Python 3",
   "language": "python",
   "name": "python3"
  },
  "language_info": {
   "codemirror_mode": {
    "name": "ipython",
    "version": 3
   },
   "file_extension": ".py",
   "mimetype": "text/x-python",
   "name": "python",
   "nbconvert_exporter": "python",
   "pygments_lexer": "ipython3",
   "version": "3.7.4"
  }
 },
 "nbformat": 4,
 "nbformat_minor": 4
}
