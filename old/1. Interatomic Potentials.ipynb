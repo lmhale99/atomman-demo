{
 "cells": [
  {
   "cell_type": "markdown",
   "metadata": {},
   "source": [
    "# Interatomic Potentials"
   ]
  },
  {
   "cell_type": "markdown",
   "metadata": {},
   "source": [
    "## 1. Importing/installing atomman\n",
    "\n",
    "Setting iscolab=True will install atomman using pip if it is not already installed.  Ideally, this is for running the Notebook in colab."
   ]
  },
  {
   "cell_type": "code",
   "execution_count": 15,
   "metadata": {},
   "outputs": [
    {
     "name": "stdout",
     "output_type": "stream",
     "text": [
      "atomman version 1.4.0 loaded\n"
     ]
    }
   ],
   "source": [
    "iscolab = False\n",
    "\n",
    "if iscolab:\n",
    "    try:\n",
    "        import atomman as am\n",
    "    except:\n",
    "        !pip install atomman\n",
    "        print('!!!!! RESTART KERNEL/RUNTIME TO USE ATOMMAN !!!!!')\n",
    "    else:\n",
    "        print(f'atomman version {am.__version__} loaded')\n",
    "else:\n",
    "    import atomman as am\n",
    "    print(f'atomman version {am.__version__} loaded')\n",
    "    \n",
    "from pathlib import Path"
   ]
  },
  {
   "cell_type": "markdown",
   "metadata": {},
   "source": [
    "## 2. Interatomic potential listings\n",
    "\n",
    "Listings for interatomic potentials hosted by the NIST Interatomic Potentials Repository can be found\n",
    "\n",
    "1. On the main NIST Interatomic Potentials Repository website https://www.ctcms.nist.gov/potentials/,\n",
    "2. In the underlying database used by the repository accessible at https://potentials.nist.gov/,\n",
    "3. In a snapshot archive of the datbase, downloadable at https://github.com/lmhale99/potentials-library, and\n",
    "4. Using either the potentials or atomman Python packages that search records at 2 and in a local copy of 3."
   ]
  },
  {
   "cell_type": "markdown",
   "metadata": {},
   "source": [
    "### 2.1. Retrieving potential listings from the database"
   ]
  },
  {
   "cell_type": "markdown",
   "metadata": {},
   "source": [
    "Initialize a database object.  By setting remote=True and local=False, only the remote database at https://potentials.nist.gov will be searched.  "
   ]
  },
  {
   "cell_type": "code",
   "execution_count": 2,
   "metadata": {},
   "outputs": [],
   "source": [
    "potdb = am.library.Database(local=False, remote=True)"
   ]
  },
  {
   "cell_type": "markdown",
   "metadata": {},
   "source": [
    "Get all potential listings. \n",
    "- return_df=True will return a pandas.DataFrame of the metadata associated with the listings.\n",
    "- verbose=True will print informative messages about the listings found."
   ]
  },
  {
   "cell_type": "code",
   "execution_count": 3,
   "metadata": {},
   "outputs": [
    {
     "name": "stdout",
     "output_type": "stream",
     "text": [
      "Found 649 matching Potential records in remote library\n"
     ]
    }
   ],
   "source": [
    "listings, listings_df = potdb.get_potentials(return_df=True, verbose=True)"
   ]
  },
  {
   "cell_type": "markdown",
   "metadata": {},
   "source": [
    "### 2.2. GUI widget search"
   ]
  },
  {
   "cell_type": "code",
   "execution_count": 4,
   "metadata": {},
   "outputs": [
    {
     "data": {
      "application/vnd.jupyter.widget-view+json": {
       "model_id": "5dfe5545cd464746b0809f10383f3864",
       "version_major": 2,
       "version_minor": 0
      },
      "text/plain": [
       "Output()"
      ]
     },
     "metadata": {},
     "output_type": "display_data"
    },
    {
     "data": {
      "application/vnd.jupyter.widget-view+json": {
       "model_id": "734f8d3ea84f4c34a42382fbde60dea7",
       "version_major": 2,
       "version_minor": 0
      },
      "text/plain": [
       "Dropdown(description='Element1:', options=('', 'Ac', 'Ag', 'Al', 'Am', 'Ar', 'As', 'At', 'Au', 'B', 'Ba', 'Be'…"
      ]
     },
     "metadata": {},
     "output_type": "display_data"
    },
    {
     "data": {
      "application/vnd.jupyter.widget-view+json": {
       "model_id": "78f507dd234647aba3047ebb047406d0",
       "version_major": 2,
       "version_minor": 0
      },
      "text/plain": [
       "Dropdown(description='Element2:', options=('', 'Ac', 'Ag', 'Al', 'Am', 'Ar', 'As', 'At', 'Au', 'B', 'Ba', 'Be'…"
      ]
     },
     "metadata": {},
     "output_type": "display_data"
    },
    {
     "data": {
      "application/vnd.jupyter.widget-view+json": {
       "model_id": "1ece62becf544a4a8af99c82be071dc1",
       "version_major": 2,
       "version_minor": 0
      },
      "text/plain": [
       "Dropdown(description='Element3:', options=('', 'Ac', 'Ag', 'Al', 'Am', 'Ar', 'As', 'At', 'Au', 'B', 'Ba', 'Be'…"
      ]
     },
     "metadata": {},
     "output_type": "display_data"
    },
    {
     "data": {
      "application/vnd.jupyter.widget-view+json": {
       "model_id": "caa9754ebbad4ba98f2abecf113d4276",
       "version_major": 2,
       "version_minor": 0
      },
      "text/plain": [
       "Dropdown(description='Year:', options=('', '1958', '1959', '1970', '1971', '1972', '1973', '1981', '1984', '19…"
      ]
     },
     "metadata": {},
     "output_type": "display_data"
    },
    {
     "data": {
      "application/vnd.jupyter.widget-view+json": {
       "model_id": "a0da3555537c44f0b310ccc8b3db0c71",
       "version_major": 2,
       "version_minor": 0
      },
      "text/plain": [
       "Text(value='', continuous_update=False, description='Author:')"
      ]
     },
     "metadata": {},
     "output_type": "display_data"
    },
    {
     "data": {
      "application/vnd.jupyter.widget-view+json": {
       "model_id": "559f8d7a5e10492795a978cffd55969d",
       "version_major": 2,
       "version_minor": 0
      },
      "text/plain": [
       "Dropdown(description='Potential:', options=('1958--Bernardes-N--Ar', '1958--Bernardes-N--Kr', '1958--Bernardes…"
      ]
     },
     "metadata": {},
     "output_type": "display_data"
    },
    {
     "data": {
      "application/vnd.jupyter.widget-view+json": {
       "model_id": "b2e830bd82b44200bd998b3939354d44",
       "version_major": 2,
       "version_minor": 0
      },
      "text/plain": [
       "Output()"
      ]
     },
     "metadata": {},
     "output_type": "display_data"
    }
   ],
   "source": [
    "potdb.widget_search_potentials(listings)"
   ]
  },
  {
   "cell_type": "markdown",
   "metadata": {},
   "source": [
    "### 2.3. Manual search\n",
    "\n",
    "Viewing the pandas.DataFrame allows for a quick visual comparison of the metadata for the listings. "
   ]
  },
  {
   "cell_type": "code",
   "execution_count": 7,
   "metadata": {},
   "outputs": [
    {
     "data": {
      "text/html": [
       "<div>\n",
       "<style scoped>\n",
       "    .dataframe tbody tr th:only-of-type {\n",
       "        vertical-align: middle;\n",
       "    }\n",
       "\n",
       "    .dataframe tbody tr th {\n",
       "        vertical-align: top;\n",
       "    }\n",
       "\n",
       "    .dataframe thead th {\n",
       "        text-align: right;\n",
       "    }\n",
       "</style>\n",
       "<table border=\"1\" class=\"dataframe\">\n",
       "  <thead>\n",
       "    <tr style=\"text-align: right;\">\n",
       "      <th></th>\n",
       "      <th>name</th>\n",
       "      <th>key</th>\n",
       "      <th>id</th>\n",
       "      <th>recorddate</th>\n",
       "      <th>notes</th>\n",
       "      <th>fictional</th>\n",
       "      <th>elements</th>\n",
       "      <th>othername</th>\n",
       "      <th>modelname</th>\n",
       "      <th>citations</th>\n",
       "      <th>implementations</th>\n",
       "    </tr>\n",
       "  </thead>\n",
       "  <tbody>\n",
       "    <tr>\n",
       "      <td>0</td>\n",
       "      <td>potential.1958--Bernardes-N--Ar</td>\n",
       "      <td>24c37060-bdcd-47a9-ba96-33efe0691930</td>\n",
       "      <td>1958--Bernardes-N--Ar</td>\n",
       "      <td>2019-08-08</td>\n",
       "      <td>None</td>\n",
       "      <td>False</td>\n",
       "      <td>[Ar]</td>\n",
       "      <td>None</td>\n",
       "      <td>None</td>\n",
       "      <td>[{'name': '10.1103_physrev.112.1534', 'year_au...</td>\n",
       "      <td>[{'key': '70bc5886-6004-4ef3-bf14-2a1b8e4cd564...</td>\n",
       "    </tr>\n",
       "    <tr>\n",
       "      <td>1</td>\n",
       "      <td>potential.1958--Bernardes-N--Kr</td>\n",
       "      <td>e62cbc12-99ba-469b-8d4e-e26ad40cb15a</td>\n",
       "      <td>1958--Bernardes-N--Kr</td>\n",
       "      <td>2019-08-08</td>\n",
       "      <td>None</td>\n",
       "      <td>False</td>\n",
       "      <td>[Kr]</td>\n",
       "      <td>None</td>\n",
       "      <td>None</td>\n",
       "      <td>[{'name': '10.1103_physrev.112.1534', 'year_au...</td>\n",
       "      <td>[{'key': 'be07eb49-d6fd-4677-8a6a-6ee6a764fbac...</td>\n",
       "    </tr>\n",
       "    <tr>\n",
       "      <td>2</td>\n",
       "      <td>potential.1958--Bernardes-N--Ne</td>\n",
       "      <td>90c2411b-6b91-41a9-a562-7544e1bea780</td>\n",
       "      <td>1958--Bernardes-N--Ne</td>\n",
       "      <td>2019-08-08</td>\n",
       "      <td>None</td>\n",
       "      <td>False</td>\n",
       "      <td>[Ne]</td>\n",
       "      <td>None</td>\n",
       "      <td>None</td>\n",
       "      <td>[{'name': '10.1103_physrev.112.1534', 'year_au...</td>\n",
       "      <td>[{'key': '72fe01b3-dd55-414f-9183-585eb9c35df3...</td>\n",
       "    </tr>\n",
       "    <tr>\n",
       "      <td>3</td>\n",
       "      <td>potential.1958--Bernardes-N--Xe</td>\n",
       "      <td>d6b56970-f7f5-428a-8830-499e8d0e2715</td>\n",
       "      <td>1958--Bernardes-N--Xe</td>\n",
       "      <td>2019-08-08</td>\n",
       "      <td>None</td>\n",
       "      <td>False</td>\n",
       "      <td>[Xe]</td>\n",
       "      <td>None</td>\n",
       "      <td>None</td>\n",
       "      <td>[{'name': '10.1103_physrev.112.1534', 'year_au...</td>\n",
       "      <td>[{'key': '211bf97c-e643-4a51-9c3e-1252c9cd13c5...</td>\n",
       "    </tr>\n",
       "    <tr>\n",
       "      <td>4</td>\n",
       "      <td>potential.1959--Girifalco-L-A-Weizer-V-G--Ag</td>\n",
       "      <td>ab71e60e-3f45-4eb4-9c92-7feb98f7e168</td>\n",
       "      <td>1959--Girifalco-L-A-Weizer-V-G--Ag</td>\n",
       "      <td>2020-10-08</td>\n",
       "      <td>None</td>\n",
       "      <td>False</td>\n",
       "      <td>[Ag]</td>\n",
       "      <td>None</td>\n",
       "      <td>None</td>\n",
       "      <td>[{'name': '10.1103_physrev.114.687', 'year_aut...</td>\n",
       "      <td>[{'key': '3778a2c6-ee92-4415-baf6-d4427f2d12f6...</td>\n",
       "    </tr>\n",
       "    <tr>\n",
       "      <td>...</td>\n",
       "      <td>...</td>\n",
       "      <td>...</td>\n",
       "      <td>...</td>\n",
       "      <td>...</td>\n",
       "      <td>...</td>\n",
       "      <td>...</td>\n",
       "      <td>...</td>\n",
       "      <td>...</td>\n",
       "      <td>...</td>\n",
       "      <td>...</td>\n",
       "      <td>...</td>\n",
       "    </tr>\n",
       "    <tr>\n",
       "      <td>644</td>\n",
       "      <td>potential.2021--Starikov-S-Smirnova-D-Pradhan-...</td>\n",
       "      <td>48617ddd-9e54-40ad-b65b-3ce6ea580075</td>\n",
       "      <td>2021--Starikov-S-Smirnova-D-Pradhan-T-et-al--Fe</td>\n",
       "      <td>2021-07-06</td>\n",
       "      <td>None</td>\n",
       "      <td>False</td>\n",
       "      <td>[Fe]</td>\n",
       "      <td>None</td>\n",
       "      <td>None</td>\n",
       "      <td>[{'name': '10.1103_physrevmaterials.5.063607',...</td>\n",
       "      <td>[{'key': '0b2e2029-5fde-4e2f-bd96-4e8ea04f3c3c...</td>\n",
       "    </tr>\n",
       "    <tr>\n",
       "      <td>645</td>\n",
       "      <td>potential.2021--Wang-G-Xu-Y-Qian-P-Su-Y--Au-Rh</td>\n",
       "      <td>ccd7fceb-a257-40df-812b-b1326955bff1</td>\n",
       "      <td>2021--Wang-G-Xu-Y-Qian-P-Su-Y--Au-Rh</td>\n",
       "      <td>2020-08-25</td>\n",
       "      <td>None</td>\n",
       "      <td>False</td>\n",
       "      <td>[Au, Rh]</td>\n",
       "      <td>None</td>\n",
       "      <td>None</td>\n",
       "      <td>[{'name': '10.1016_j.commatsci.2020.110002', '...</td>\n",
       "      <td>[{'key': 'f8f52d2e-597d-435a-926a-09f38094b1da...</td>\n",
       "    </tr>\n",
       "    <tr>\n",
       "      <td>646</td>\n",
       "      <td>potential.2021--Wen-M--Fe-H</td>\n",
       "      <td>a32373ef-05b0-419e-b346-6ba5c6b36f61</td>\n",
       "      <td>2021--Wen-M--Fe-H</td>\n",
       "      <td>2021-07-06</td>\n",
       "      <td>None</td>\n",
       "      <td>False</td>\n",
       "      <td>[Fe, H]</td>\n",
       "      <td>None</td>\n",
       "      <td>None</td>\n",
       "      <td>[{'name': '10.1016_j.commatsci.2021.110640', '...</td>\n",
       "      <td>[{'key': 'd45b6e62-e69e-4c4a-b0f4-8a6f147f19f0...</td>\n",
       "    </tr>\n",
       "    <tr>\n",
       "      <td>647</td>\n",
       "      <td>potential.2021--Zhou-H-Dickel-D-E-Baskes-M-I-e...</td>\n",
       "      <td>0aa1b65e-0641-4845-bab6-ca6b0ed589ce</td>\n",
       "      <td>2021--Zhou-H-Dickel-D-E-Baskes-M-I-et-al--Bi</td>\n",
       "      <td>2021-07-16</td>\n",
       "      <td>None</td>\n",
       "      <td>False</td>\n",
       "      <td>[Bi]</td>\n",
       "      <td>None</td>\n",
       "      <td>None</td>\n",
       "      <td>[{'name': '10.1088_1361-651x_ac095c', 'year_au...</td>\n",
       "      <td>[{'key': 'f9f5cd2b-116b-46da-ab68-323810437f0c...</td>\n",
       "    </tr>\n",
       "    <tr>\n",
       "      <td>648</td>\n",
       "      <td>potential.2021--Zhou-X-W-Bartelt-N-C-Sills-R-B...</td>\n",
       "      <td>2541a13a-b398-485a-bf90-e4c48674c601</td>\n",
       "      <td>2021--Zhou-X-W-Bartelt-N-C-Sills-R-B--Pd-H-He</td>\n",
       "      <td>2021-04-01</td>\n",
       "      <td>None</td>\n",
       "      <td>False</td>\n",
       "      <td>[Pd, H, He]</td>\n",
       "      <td>None</td>\n",
       "      <td>None</td>\n",
       "      <td>[{'name': '10.1103_physrevb.103.014108', 'year...</td>\n",
       "      <td>[{'key': 'd220fd7a-1545-4170-9d8e-5a0da105a781...</td>\n",
       "    </tr>\n",
       "  </tbody>\n",
       "</table>\n",
       "<p>649 rows × 11 columns</p>\n",
       "</div>"
      ],
      "text/plain": [
       "                                                  name  \\\n",
       "0                      potential.1958--Bernardes-N--Ar   \n",
       "1                      potential.1958--Bernardes-N--Kr   \n",
       "2                      potential.1958--Bernardes-N--Ne   \n",
       "3                      potential.1958--Bernardes-N--Xe   \n",
       "4         potential.1959--Girifalco-L-A-Weizer-V-G--Ag   \n",
       "..                                                 ...   \n",
       "644  potential.2021--Starikov-S-Smirnova-D-Pradhan-...   \n",
       "645     potential.2021--Wang-G-Xu-Y-Qian-P-Su-Y--Au-Rh   \n",
       "646                        potential.2021--Wen-M--Fe-H   \n",
       "647  potential.2021--Zhou-H-Dickel-D-E-Baskes-M-I-e...   \n",
       "648  potential.2021--Zhou-X-W-Bartelt-N-C-Sills-R-B...   \n",
       "\n",
       "                                      key  \\\n",
       "0    24c37060-bdcd-47a9-ba96-33efe0691930   \n",
       "1    e62cbc12-99ba-469b-8d4e-e26ad40cb15a   \n",
       "2    90c2411b-6b91-41a9-a562-7544e1bea780   \n",
       "3    d6b56970-f7f5-428a-8830-499e8d0e2715   \n",
       "4    ab71e60e-3f45-4eb4-9c92-7feb98f7e168   \n",
       "..                                    ...   \n",
       "644  48617ddd-9e54-40ad-b65b-3ce6ea580075   \n",
       "645  ccd7fceb-a257-40df-812b-b1326955bff1   \n",
       "646  a32373ef-05b0-419e-b346-6ba5c6b36f61   \n",
       "647  0aa1b65e-0641-4845-bab6-ca6b0ed589ce   \n",
       "648  2541a13a-b398-485a-bf90-e4c48674c601   \n",
       "\n",
       "                                                  id  recorddate notes  \\\n",
       "0                              1958--Bernardes-N--Ar  2019-08-08  None   \n",
       "1                              1958--Bernardes-N--Kr  2019-08-08  None   \n",
       "2                              1958--Bernardes-N--Ne  2019-08-08  None   \n",
       "3                              1958--Bernardes-N--Xe  2019-08-08  None   \n",
       "4                 1959--Girifalco-L-A-Weizer-V-G--Ag  2020-10-08  None   \n",
       "..                                               ...         ...   ...   \n",
       "644  2021--Starikov-S-Smirnova-D-Pradhan-T-et-al--Fe  2021-07-06  None   \n",
       "645             2021--Wang-G-Xu-Y-Qian-P-Su-Y--Au-Rh  2020-08-25  None   \n",
       "646                                2021--Wen-M--Fe-H  2021-07-06  None   \n",
       "647     2021--Zhou-H-Dickel-D-E-Baskes-M-I-et-al--Bi  2021-07-16  None   \n",
       "648    2021--Zhou-X-W-Bartelt-N-C-Sills-R-B--Pd-H-He  2021-04-01  None   \n",
       "\n",
       "     fictional     elements othername modelname  \\\n",
       "0        False         [Ar]      None      None   \n",
       "1        False         [Kr]      None      None   \n",
       "2        False         [Ne]      None      None   \n",
       "3        False         [Xe]      None      None   \n",
       "4        False         [Ag]      None      None   \n",
       "..         ...          ...       ...       ...   \n",
       "644      False         [Fe]      None      None   \n",
       "645      False     [Au, Rh]      None      None   \n",
       "646      False      [Fe, H]      None      None   \n",
       "647      False         [Bi]      None      None   \n",
       "648      False  [Pd, H, He]      None      None   \n",
       "\n",
       "                                             citations  \\\n",
       "0    [{'name': '10.1103_physrev.112.1534', 'year_au...   \n",
       "1    [{'name': '10.1103_physrev.112.1534', 'year_au...   \n",
       "2    [{'name': '10.1103_physrev.112.1534', 'year_au...   \n",
       "3    [{'name': '10.1103_physrev.112.1534', 'year_au...   \n",
       "4    [{'name': '10.1103_physrev.114.687', 'year_aut...   \n",
       "..                                                 ...   \n",
       "644  [{'name': '10.1103_physrevmaterials.5.063607',...   \n",
       "645  [{'name': '10.1016_j.commatsci.2020.110002', '...   \n",
       "646  [{'name': '10.1016_j.commatsci.2021.110640', '...   \n",
       "647  [{'name': '10.1088_1361-651x_ac095c', 'year_au...   \n",
       "648  [{'name': '10.1103_physrevb.103.014108', 'year...   \n",
       "\n",
       "                                       implementations  \n",
       "0    [{'key': '70bc5886-6004-4ef3-bf14-2a1b8e4cd564...  \n",
       "1    [{'key': 'be07eb49-d6fd-4677-8a6a-6ee6a764fbac...  \n",
       "2    [{'key': '72fe01b3-dd55-414f-9183-585eb9c35df3...  \n",
       "3    [{'key': '211bf97c-e643-4a51-9c3e-1252c9cd13c5...  \n",
       "4    [{'key': '3778a2c6-ee92-4415-baf6-d4427f2d12f6...  \n",
       "..                                                 ...  \n",
       "644  [{'key': '0b2e2029-5fde-4e2f-bd96-4e8ea04f3c3c...  \n",
       "645  [{'key': 'f8f52d2e-597d-435a-926a-09f38094b1da...  \n",
       "646  [{'key': 'd45b6e62-e69e-4c4a-b0f4-8a6f147f19f0...  \n",
       "647  [{'key': 'f9f5cd2b-116b-46da-ab68-323810437f0c...  \n",
       "648  [{'key': 'd220fd7a-1545-4170-9d8e-5a0da105a781...  \n",
       "\n",
       "[649 rows x 11 columns]"
      ]
     },
     "execution_count": 7,
     "metadata": {},
     "output_type": "execute_result"
    }
   ],
   "source": [
    "listings_df"
   ]
  },
  {
   "cell_type": "markdown",
   "metadata": {},
   "source": [
    "It also allows for parsing according to that metadata."
   ]
  },
  {
   "cell_type": "code",
   "execution_count": 9,
   "metadata": {},
   "outputs": [
    {
     "data": {
      "text/html": [
       "<div>\n",
       "<style scoped>\n",
       "    .dataframe tbody tr th:only-of-type {\n",
       "        vertical-align: middle;\n",
       "    }\n",
       "\n",
       "    .dataframe tbody tr th {\n",
       "        vertical-align: top;\n",
       "    }\n",
       "\n",
       "    .dataframe thead th {\n",
       "        text-align: right;\n",
       "    }\n",
       "</style>\n",
       "<table border=\"1\" class=\"dataframe\">\n",
       "  <thead>\n",
       "    <tr style=\"text-align: right;\">\n",
       "      <th></th>\n",
       "      <th>name</th>\n",
       "      <th>key</th>\n",
       "      <th>id</th>\n",
       "      <th>recorddate</th>\n",
       "      <th>notes</th>\n",
       "      <th>fictional</th>\n",
       "      <th>elements</th>\n",
       "      <th>othername</th>\n",
       "      <th>modelname</th>\n",
       "      <th>citations</th>\n",
       "      <th>implementations</th>\n",
       "    </tr>\n",
       "  </thead>\n",
       "  <tbody>\n",
       "    <tr>\n",
       "      <td>646</td>\n",
       "      <td>potential.2021--Wen-M--Fe-H</td>\n",
       "      <td>a32373ef-05b0-419e-b346-6ba5c6b36f61</td>\n",
       "      <td>2021--Wen-M--Fe-H</td>\n",
       "      <td>2021-07-06</td>\n",
       "      <td>None</td>\n",
       "      <td>False</td>\n",
       "      <td>[Fe, H]</td>\n",
       "      <td>None</td>\n",
       "      <td>None</td>\n",
       "      <td>[{'name': '10.1016_j.commatsci.2021.110640', '...</td>\n",
       "      <td>[{'key': 'd45b6e62-e69e-4c4a-b0f4-8a6f147f19f0...</td>\n",
       "    </tr>\n",
       "  </tbody>\n",
       "</table>\n",
       "</div>"
      ],
      "text/plain": [
       "                            name                                   key  \\\n",
       "646  potential.2021--Wen-M--Fe-H  a32373ef-05b0-419e-b346-6ba5c6b36f61   \n",
       "\n",
       "                    id  recorddate notes  fictional elements othername  \\\n",
       "646  2021--Wen-M--Fe-H  2021-07-06  None      False  [Fe, H]      None   \n",
       "\n",
       "    modelname                                          citations  \\\n",
       "646      None  [{'name': '10.1016_j.commatsci.2021.110640', '...   \n",
       "\n",
       "                                       implementations  \n",
       "646  [{'key': 'd45b6e62-e69e-4c4a-b0f4-8a6f147f19f0...  "
      ]
     },
     "execution_count": 9,
     "metadata": {},
     "output_type": "execute_result"
    }
   ],
   "source": [
    "listings_df[listings_df.id=='2021--Wen-M--Fe-H']"
   ]
  },
  {
   "cell_type": "markdown",
   "metadata": {},
   "source": [
    "The listings themselves are returned inside a numpy array, meaning that the same pandas parsing actions will work on the listing objects themselves.  Calling html() on a potential listing will create the HTML representation."
   ]
  },
  {
   "cell_type": "code",
   "execution_count": 11,
   "metadata": {},
   "outputs": [
    {
     "data": {
      "text/html": [
       "<div xmlns=\"http://www.w3.org/TR/xhtml1/strict\"><script src=\"https://www.ctcms.nist.gov/potentials/site/showFiles.js\">//</script><div class=\"panel panel-default\"><div class=\"panel-heading\"><h3 class=\"panel-title\">2021--Wen-M--Fe-H</h3></div><div class=\"panel-body\"><div class=\"citation\"><b>Citation: </b>M. Wen (2021), \"A new interatomic potential describing Fe-H and H-H interactions in bcc iron\", <i>Computational Materials Science</i>, <b>197</b>, 110640. DOI: <a href=\"https://doi.org/10.1016/j.commatsci.2021.110640\" class=\"external\">10.1016/j.commatsci.2021.110640</a>.<br/></div><div class=\"abstract\"><b>Abstract: </b>We present a new many-body interatomic potential for H in body-centered cubic (bcc) Fe. The potential is developed based on extensive energetics and atomic configurations of an H atom and H-H interactions in Fe from density functional theory calculations. In detail, the potential is parameterized by fitting not only to a single H atom in the perfect bcc Fe lattice and to the properties of H trap binding to a vacancy and surfaces as being done by previous studies, but also to multiple H trapping to a vacancy and H-H interaction in Fe lattice. With such a fitting strategy, the developed potential outperforms existing potentials in its ability not only describing the behaviors of a single H atom in Fe, but also capturing the features of H-H interaction reliably, which is of key importance in revealing H behaviors in local H accumulation around dislocation cores, grain boundaries and crack tips.</div><br/><div class=\"format\"><b>LAMMPS pair_style eam/fs</b><a href=\"https://www.ctcms.nist.gov/potentials/entry/2021--Wen-M--Fe-H/2021--Wen-M--Fe-H--LAMMPS--ipr1.html\"> (2021--Wen-M--Fe-H--LAMMPS--ipr1)</a></div><div class=\"implementation-notes\"><a href=\"https://www.ctcms.nist.gov/potentials/entry/2021--Wen-M--Fe-H/2021--Wen-M--Fe-H--LAMMPS--ipr1.html\"><b>See Computed Properties</b></a><br/><b>Notes: </b>This file was provided by Ping Yu (Shanghai Jiao Tong University) on June 24, 2021 and posted with his permission.<br/><b>File(s): </b><div id=\"d45b6e62-e69e-4c4a-b0f4-8a6f147f19f0\" style=\"display:block\"><a href=\"https://www.ctcms.nist.gov/potentials/Download/2021--Wen-M--Fe-H/1/FeH_Wen.eam.fs\">FeH_Wen.eam.fs</a><br/></div><br/></div></div></div></div>"
      ],
      "text/plain": [
       "<IPython.core.display.HTML object>"
      ]
     },
     "metadata": {},
     "output_type": "display_data"
    }
   ],
   "source": [
    "listings[listings_df.id=='2021--Wen-M--Fe-H'][0].html(render=True)"
   ]
  },
  {
   "cell_type": "markdown",
   "metadata": {},
   "source": [
    "## 3. LAMMPS Potentials\n",
    "\n",
    "Separate database records address LAMMPS-compatible versions of interatomic potentials that are stored in the NIST Interatomic Potentials Repository.  These records allow for users to\n",
    "\n",
    "1. Search and explore the LAMMPS-compatible interatomic potentials,\n",
    "2. Easily download any associated parameter files, and\n",
    "3. Generate the correct LAMMPS input commands for using the potentials."
   ]
  },
  {
   "cell_type": "markdown",
   "metadata": {},
   "source": [
    "### 3.1. GUI widgets search\n",
    "\n",
    "The get_lammps_potentials() method behaves similarly to the get_potentials() method above.  \n",
    "- Setting pot_dir_style='id' means that any parameter files are expected to be in a subdirectory named according to the LAMMPS potential's id."
   ]
  },
  {
   "cell_type": "code",
   "execution_count": 13,
   "metadata": {},
   "outputs": [
    {
     "name": "stdout",
     "output_type": "stream",
     "text": [
      "Found 408 matching potential_LAMMPS records in remote library\n",
      "Found 450 matching potential_LAMMPS_KIM records in remote library\n",
      "Built 302 lammps potentials for KIM models\n"
     ]
    }
   ],
   "source": [
    "pots, pots_df = potdb.get_lammps_potentials(return_df=True, verbose=True, pot_dir_style='id')"
   ]
  },
  {
   "cell_type": "code",
   "execution_count": 14,
   "metadata": {},
   "outputs": [
    {
     "data": {
      "application/vnd.jupyter.widget-view+json": {
       "model_id": "07890847d2c44990aaa258ce0deeb1df",
       "version_major": 2,
       "version_minor": 0
      },
      "text/plain": [
       "Output()"
      ]
     },
     "metadata": {},
     "output_type": "display_data"
    },
    {
     "data": {
      "application/vnd.jupyter.widget-view+json": {
       "model_id": "65bb53e988204296a35af3b71a563604",
       "version_major": 2,
       "version_minor": 0
      },
      "text/plain": [
       "Dropdown(description='Element1:', options=('', 'Ag', 'Al', 'As', 'Au', 'B', 'Be', 'Bi', 'Br', 'C', 'Ca', 'Cd',…"
      ]
     },
     "metadata": {},
     "output_type": "display_data"
    },
    {
     "data": {
      "application/vnd.jupyter.widget-view+json": {
       "model_id": "6ba4d1146a5a4baebd717f563de398f4",
       "version_major": 2,
       "version_minor": 0
      },
      "text/plain": [
       "Dropdown(description='Element2:', options=('', 'Ag', 'Al', 'As', 'Au', 'B', 'Be', 'Bi', 'Br', 'C', 'Ca', 'Cd',…"
      ]
     },
     "metadata": {},
     "output_type": "display_data"
    },
    {
     "data": {
      "application/vnd.jupyter.widget-view+json": {
       "model_id": "9b48df65bfda4b2cbb3ce3ba6628b275",
       "version_major": 2,
       "version_minor": 0
      },
      "text/plain": [
       "Dropdown(description='Element3:', options=('', 'Ag', 'Al', 'As', 'Au', 'B', 'Be', 'Bi', 'Br', 'C', 'Ca', 'Cd',…"
      ]
     },
     "metadata": {},
     "output_type": "display_data"
    },
    {
     "data": {
      "application/vnd.jupyter.widget-view+json": {
       "model_id": "6f1eabe4286c48ccbca3f86e66199ead",
       "version_major": 2,
       "version_minor": 0
      },
      "text/plain": [
       "Dropdown(description='Pair Style:', options=('', 'adp', 'aenet', 'agni', 'bop', 'comb3', 'eam', 'eam/alloy', '…"
      ]
     },
     "metadata": {},
     "output_type": "display_data"
    },
    {
     "data": {
      "application/vnd.jupyter.widget-view+json": {
       "model_id": "901324582a734610b6461d6512c0aea0",
       "version_major": 2,
       "version_minor": 0
      },
      "text/plain": [
       "Dropdown(description='Potential:', options=('1985--Foiles-S-M--Ni-Cu--LAMMPS--ipr1', '1985--Stillinger-F-H--Si…"
      ]
     },
     "metadata": {},
     "output_type": "display_data"
    },
    {
     "data": {
      "application/vnd.jupyter.widget-view+json": {
       "model_id": "f603f7ebc428486ca075ecf97ebaf7fe",
       "version_major": 2,
       "version_minor": 0
      },
      "text/plain": [
       "Button(description='Copy Files', style=ButtonStyle())"
      ]
     },
     "metadata": {},
     "output_type": "display_data"
    },
    {
     "data": {
      "application/vnd.jupyter.widget-view+json": {
       "model_id": "faa57eaad8744b999e34045a257b663a",
       "version_major": 2,
       "version_minor": 0
      },
      "text/plain": [
       "Output()"
      ]
     },
     "metadata": {},
     "output_type": "display_data"
    }
   ],
   "source": [
    "results = {}\n",
    "potdb.widget_lammps_potential(pots, pots_df, results=results)"
   ]
  },
  {
   "cell_type": "markdown",
   "metadata": {},
   "source": [
    "Passing a results dictionary into the widget allows for the selected LAMMPS potential to be accessed."
   ]
  },
  {
   "cell_type": "code",
   "execution_count": 17,
   "metadata": {},
   "outputs": [
    {
     "name": "stdout",
     "output_type": "stream",
     "text": [
      "potential_LAMMPS record named 1985--Foiles-S-M--Ni-Cu--LAMMPS--ipr1\n"
     ]
    }
   ],
   "source": [
    "print(results['lammps_potential'])"
   ]
  },
  {
   "cell_type": "markdown",
   "metadata": {},
   "source": [
    "Clicking \"Copy Files\" will copy/download the potential's parameter files from the database to the set working directory."
   ]
  },
  {
   "cell_type": "code",
   "execution_count": 18,
   "metadata": {},
   "outputs": [
    {
     "name": "stdout",
     "output_type": "stream",
     "text": [
      "1985--Foiles-S-M--Ni-Cu--LAMMPS--ipr1\\Cu_smf7.eam\n",
      "1985--Foiles-S-M--Ni-Cu--LAMMPS--ipr1\\Ni_smf7.eam\n"
     ]
    }
   ],
   "source": [
    "for fname in Path(results['lammps_potential'].id).iterdir():\n",
    "    print(fname)"
   ]
  },
  {
   "cell_type": "markdown",
   "metadata": {},
   "source": [
    "A preview of the LAMMPS command lines can be generated with pair_info()"
   ]
  },
  {
   "cell_type": "code",
   "execution_count": 19,
   "metadata": {},
   "outputs": [
    {
     "name": "stdout",
     "output_type": "stream",
     "text": [
      "print \"Potential 1985--Foiles-S-M--Ni-Cu--LAMMPS--ipr1 listed in the NIST Interatomic Potentials Repository:\"\n",
      "print \"https://www.ctcms.nist.gov/potentials/entry/1985--Foiles-S-M--Ni-Cu/1985--Foiles-S-M--Ni-Cu--LAMMPS--ipr1.html\"\n",
      "print \"Publication(s) related to the potential:\"\n",
      "print \"https://doi.org/10.1103/physrevb.32.7685\"\n",
      "print \"Parameter file(s) can be downloaded at:\"\n",
      "print \"https://www.ctcms.nist.gov/potentials/Download/1985--Foiles-S-M--Ni-Cu/1/Cu_smf7.eam\"\n",
      "print \"https://www.ctcms.nist.gov/potentials/Download/1985--Foiles-S-M--Ni-Cu/1/Ni_smf7.eam\"\n",
      "pair_style eam\n",
      "pair_coeff 1 1 1985--Foiles-S-M--Ni-Cu--LAMMPS--ipr1\\Cu_smf7.eam\n",
      "pair_coeff 2 2 1985--Foiles-S-M--Ni-Cu--LAMMPS--ipr1\\Ni_smf7.eam\n",
      "mass 1 63.55\n",
      "mass 2 58.71\n",
      "\n",
      "\n"
     ]
    }
   ],
   "source": [
    "print(results['lammps_potential'].pair_info())"
   ]
  },
  {
   "cell_type": "markdown",
   "metadata": {},
   "source": [
    "### 3.2. Load a LAMMPS potential\n",
    "\n",
    "The command atomman.load_lammps_potential() provides a simple command for retrieving a known LAMMPS potential and any associated parameter files.\n",
    "\n",
    "- pot_dir_style='id' behaves the same here as above.\n",
    "- getfiles=True will automatically copy/download any parameter files to the pot_dir.\n",
    "- By default, only \"active\" versions of LAMMPS potentials will be returned.  If you wish to search older versions as well, set status=None."
   ]
  },
  {
   "cell_type": "code",
   "execution_count": 21,
   "metadata": {},
   "outputs": [
    {
     "name": "stdout",
     "output_type": "stream",
     "text": [
      "Found 1 matching potential_LAMMPS records in local library\n",
      "Found 0 matching potential_LAMMPS_KIM records in local library\n",
      "Built 0 lammps potentials for KIM models\n",
      "Matching record retrieved from local\n",
      "Cu_smf7.eam already in 1985--Foiles-S-M--Ni-Cu--LAMMPS--ipr1\n",
      "Ni_smf7.eam already in 1985--Foiles-S-M--Ni-Cu--LAMMPS--ipr1\n"
     ]
    }
   ],
   "source": [
    "pot = am.load_lammps_potential('1985--Foiles-S-M--Ni-Cu--LAMMPS--ipr1', pot_dir_style='id', getfiles=True, verbose=True)"
   ]
  },
  {
   "cell_type": "code",
   "execution_count": 22,
   "metadata": {},
   "outputs": [
    {
     "name": "stdout",
     "output_type": "stream",
     "text": [
      "print \"Potential 1985--Foiles-S-M--Ni-Cu--LAMMPS--ipr1 listed in the NIST Interatomic Potentials Repository:\"\n",
      "print \"https://www.ctcms.nist.gov/potentials/entry/1985--Foiles-S-M--Ni-Cu/1985--Foiles-S-M--Ni-Cu--LAMMPS--ipr1.html\"\n",
      "print \"Publication(s) related to the potential:\"\n",
      "print \"https://doi.org/10.1103/physrevb.32.7685\"\n",
      "print \"Parameter file(s) can be downloaded at:\"\n",
      "print \"https://www.ctcms.nist.gov/potentials/Download/1985--Foiles-S-M--Ni-Cu/1/Cu_smf7.eam\"\n",
      "print \"https://www.ctcms.nist.gov/potentials/Download/1985--Foiles-S-M--Ni-Cu/1/Ni_smf7.eam\"\n",
      "pair_style eam\n",
      "pair_coeff 1 1 1985--Foiles-S-M--Ni-Cu--LAMMPS--ipr1\\Cu_smf7.eam\n",
      "pair_coeff 2 2 1985--Foiles-S-M--Ni-Cu--LAMMPS--ipr1\\Ni_smf7.eam\n",
      "mass 1 63.55\n",
      "mass 2 58.71\n",
      "\n",
      "\n"
     ]
    }
   ],
   "source": [
    "print(pot.pair_info())"
   ]
  },
  {
   "cell_type": "markdown",
   "metadata": {},
   "source": [
    "### 3.3. Custom searches\n",
    "\n",
    "Just like with the potentials entries, the pandas.DataFrames for the LAMMPS potentials can also be used to build your own custom parsing methods."
   ]
  },
  {
   "cell_type": "code",
   "execution_count": 24,
   "metadata": {},
   "outputs": [
    {
     "data": {
      "text/html": [
       "<div>\n",
       "<style scoped>\n",
       "    .dataframe tbody tr th:only-of-type {\n",
       "        vertical-align: middle;\n",
       "    }\n",
       "\n",
       "    .dataframe tbody tr th {\n",
       "        vertical-align: top;\n",
       "    }\n",
       "\n",
       "    .dataframe thead th {\n",
       "        text-align: right;\n",
       "    }\n",
       "</style>\n",
       "<table border=\"1\" class=\"dataframe\">\n",
       "  <thead>\n",
       "    <tr style=\"text-align: right;\">\n",
       "      <th></th>\n",
       "      <th>name</th>\n",
       "      <th>id</th>\n",
       "      <th>key</th>\n",
       "      <th>potid</th>\n",
       "      <th>potkey</th>\n",
       "      <th>units</th>\n",
       "      <th>atom_style</th>\n",
       "      <th>allsymbols</th>\n",
       "      <th>pair_style</th>\n",
       "      <th>status</th>\n",
       "      <th>symbols</th>\n",
       "      <th>elements</th>\n",
       "      <th>artifacts</th>\n",
       "      <th>comments</th>\n",
       "      <th>dois</th>\n",
       "    </tr>\n",
       "  </thead>\n",
       "  <tbody>\n",
       "    <tr>\n",
       "      <td>0</td>\n",
       "      <td>1985--Foiles-S-M--Ni-Cu--LAMMPS--ipr1</td>\n",
       "      <td>1985--Foiles-S-M--Ni-Cu--LAMMPS--ipr1</td>\n",
       "      <td>062d2ba7-3903-40ae-a772-daa471d107c6</td>\n",
       "      <td>1985--Foiles-S-M--Ni-Cu</td>\n",
       "      <td>301f04ce-9082-4542-8590-489300cd19e8</td>\n",
       "      <td>metal</td>\n",
       "      <td>atomic</td>\n",
       "      <td>False</td>\n",
       "      <td>eam</td>\n",
       "      <td>active</td>\n",
       "      <td>[Cu, Ni]</td>\n",
       "      <td>[Cu, Ni]</td>\n",
       "      <td>[{'filename': 'Cu_smf7.eam', 'label': None, 'u...</td>\n",
       "      <td>Potential 1985--Foiles-S-M--Ni-Cu--LAMMPS--ipr...</td>\n",
       "      <td>[10.1103/physrevb.32.7685]</td>\n",
       "    </tr>\n",
       "    <tr>\n",
       "      <td>1</td>\n",
       "      <td>1985--Stillinger-F-H--Si--LAMMPS--ipr1</td>\n",
       "      <td>1985--Stillinger-F-H--Si--LAMMPS--ipr1</td>\n",
       "      <td>d085648c-b3ef-4be8-824b-7093fd22770a</td>\n",
       "      <td>1985--Stillinger-F-H-Weber-T-A--Si</td>\n",
       "      <td>edc31ad6-2b9a-455c-9b5f-e888a672ecbd</td>\n",
       "      <td>metal</td>\n",
       "      <td>atomic</td>\n",
       "      <td>False</td>\n",
       "      <td>sw</td>\n",
       "      <td>active</td>\n",
       "      <td>[Si]</td>\n",
       "      <td>[Si]</td>\n",
       "      <td>[{'filename': 'Si.sw', 'label': None, 'url': '...</td>\n",
       "      <td>Potential 1985--Stillinger-F-H--Si--LAMMPS--ip...</td>\n",
       "      <td>[10.1103/physrevb.31.5262, 10.1103/physrevb.33...</td>\n",
       "    </tr>\n",
       "    <tr>\n",
       "      <td>2</td>\n",
       "      <td>1986--Foiles-S-M--Ag--LAMMPS--ipr1</td>\n",
       "      <td>1986--Foiles-S-M--Ag--LAMMPS--ipr1</td>\n",
       "      <td>76a265fc-45ff-49d7-8c64-2044f12402f2</td>\n",
       "      <td>1986--Foiles-S-M-Baskes-M-I-Daw-M-S--Ag</td>\n",
       "      <td>672d54f8-9f48-4200-af56-8a7378ebbc4a</td>\n",
       "      <td>metal</td>\n",
       "      <td>atomic</td>\n",
       "      <td>False</td>\n",
       "      <td>eam</td>\n",
       "      <td>active</td>\n",
       "      <td>[Ag]</td>\n",
       "      <td>[Ag]</td>\n",
       "      <td>[{'filename': 'Ag_u3.eam', 'label': None, 'url...</td>\n",
       "      <td>Potential 1986--Foiles-S-M--Ag--LAMMPS--ipr1 l...</td>\n",
       "      <td>[10.1103/physrevb.33.7983]</td>\n",
       "    </tr>\n",
       "    <tr>\n",
       "      <td>3</td>\n",
       "      <td>1986--Foiles-S-M--Ag-Au-Cu-Ni-Pd-Pt--LAMMPS--ipr1</td>\n",
       "      <td>1986--Foiles-S-M--Ag-Au-Cu-Ni-Pd-Pt--LAMMPS--ipr1</td>\n",
       "      <td>c5afa7e8-6b3b-49cd-ad1c-ae3e4329363a</td>\n",
       "      <td>1986--Foiles-S-M-Baskes-M-I-Daw-M-S--Ag-Au-Cu-...</td>\n",
       "      <td>7a1302de-59cf-4efb-900e-cad845b68ee5</td>\n",
       "      <td>metal</td>\n",
       "      <td>atomic</td>\n",
       "      <td>False</td>\n",
       "      <td>eam</td>\n",
       "      <td>active</td>\n",
       "      <td>[Ag, Au, Cu, Ni, Pd, Pt]</td>\n",
       "      <td>[Ag, Au, Cu, Ni, Pd, Pt]</td>\n",
       "      <td>[{'filename': 'Ag_u3.eam', 'label': None, 'url...</td>\n",
       "      <td>Potential 1986--Foiles-S-M--Ag-Au-Cu-Ni-Pd-Pt-...</td>\n",
       "      <td>[10.1103/physrevb.33.7983]</td>\n",
       "    </tr>\n",
       "    <tr>\n",
       "      <td>4</td>\n",
       "      <td>1986--Foiles-S-M--Au--LAMMPS--ipr1</td>\n",
       "      <td>1986--Foiles-S-M--Au--LAMMPS--ipr1</td>\n",
       "      <td>c588810a-b96d-4871-bfe2-cff8a5a7c709</td>\n",
       "      <td>1986--Foiles-S-M-Baskes-M-I-Daw-M-S--Au</td>\n",
       "      <td>ffb66faa-319d-4556-8363-dad3959cd553</td>\n",
       "      <td>metal</td>\n",
       "      <td>atomic</td>\n",
       "      <td>False</td>\n",
       "      <td>eam</td>\n",
       "      <td>active</td>\n",
       "      <td>[Au]</td>\n",
       "      <td>[Au]</td>\n",
       "      <td>[{'filename': 'Au_u3.eam', 'label': None, 'url...</td>\n",
       "      <td>Potential 1986--Foiles-S-M--Au--LAMMPS--ipr1 l...</td>\n",
       "      <td>[10.1103/physrevb.33.7983]</td>\n",
       "    </tr>\n",
       "    <tr>\n",
       "      <td>...</td>\n",
       "      <td>...</td>\n",
       "      <td>...</td>\n",
       "      <td>...</td>\n",
       "      <td>...</td>\n",
       "      <td>...</td>\n",
       "      <td>...</td>\n",
       "      <td>...</td>\n",
       "      <td>...</td>\n",
       "      <td>...</td>\n",
       "      <td>...</td>\n",
       "      <td>...</td>\n",
       "      <td>...</td>\n",
       "      <td>...</td>\n",
       "      <td>...</td>\n",
       "      <td>...</td>\n",
       "    </tr>\n",
       "    <tr>\n",
       "      <td>705</td>\n",
       "      <td>MO_987541074959</td>\n",
       "      <td>EMT_Asap_MetalGlass_PaduraruKenoufiBailey_2007...</td>\n",
       "      <td>ae436ece-e774-4a52-a2ad-5fdca0d7cc11</td>\n",
       "      <td>2007--Paduraru-A-Kenoufi-A-Bailey-N-P-Schiotz-...</td>\n",
       "      <td>d05c1f39-89ef-47c7-b263-7bf0145b36ac</td>\n",
       "      <td>metal</td>\n",
       "      <td>atomic</td>\n",
       "      <td>False</td>\n",
       "      <td>kim</td>\n",
       "      <td>active</td>\n",
       "      <td>[]</td>\n",
       "      <td>[]</td>\n",
       "      <td>NaN</td>\n",
       "      <td>NaN</td>\n",
       "      <td>NaN</td>\n",
       "    </tr>\n",
       "    <tr>\n",
       "      <td>706</td>\n",
       "      <td>MO_988703794028</td>\n",
       "      <td>EAM_Dynamo_ZhouWadleyJohnson_2001NISTretabulat...</td>\n",
       "      <td>0cf56710-0492-4b36-b2ca-a01dac5db5ba</td>\n",
       "      <td>2004--Zhou-X-W-Johnson-R-A-Wadley-H-N-G--Pb</td>\n",
       "      <td>1c592eb1-3cdd-4090-aa0b-e7246f7d5f91</td>\n",
       "      <td>metal</td>\n",
       "      <td>atomic</td>\n",
       "      <td>False</td>\n",
       "      <td>kim</td>\n",
       "      <td>active</td>\n",
       "      <td>[]</td>\n",
       "      <td>[]</td>\n",
       "      <td>NaN</td>\n",
       "      <td>NaN</td>\n",
       "      <td>NaN</td>\n",
       "    </tr>\n",
       "    <tr>\n",
       "      <td>707</td>\n",
       "      <td>MO_993644691224</td>\n",
       "      <td>EAM_Dynamo_ZhouWadleyJohnson_2001NISTretabulat...</td>\n",
       "      <td>2b10dcab-b59a-44b8-93e4-470f33f987c0</td>\n",
       "      <td>2004--Zhou-X-W-Johnson-R-A-Wadley-H-N-G--Pd</td>\n",
       "      <td>5ea5dd6c-a901-4acd-b036-9c33a0acd5b0</td>\n",
       "      <td>metal</td>\n",
       "      <td>atomic</td>\n",
       "      <td>False</td>\n",
       "      <td>kim</td>\n",
       "      <td>active</td>\n",
       "      <td>[]</td>\n",
       "      <td>[]</td>\n",
       "      <td>NaN</td>\n",
       "      <td>NaN</td>\n",
       "      <td>NaN</td>\n",
       "    </tr>\n",
       "    <tr>\n",
       "      <td>708</td>\n",
       "      <td>MO_995724792024</td>\n",
       "      <td>LJ_Shifted_Bernardes_1958LowCutoff_Kr__MO_9957...</td>\n",
       "      <td>be07eb49-d6fd-4677-8a6a-6ee6a764fbac</td>\n",
       "      <td>1958--Bernardes-N--Kr</td>\n",
       "      <td>e62cbc12-99ba-469b-8d4e-e26ad40cb15a</td>\n",
       "      <td>metal</td>\n",
       "      <td>atomic</td>\n",
       "      <td>False</td>\n",
       "      <td>kim</td>\n",
       "      <td>active</td>\n",
       "      <td>[]</td>\n",
       "      <td>[]</td>\n",
       "      <td>NaN</td>\n",
       "      <td>NaN</td>\n",
       "      <td>NaN</td>\n",
       "    </tr>\n",
       "    <tr>\n",
       "      <td>709</td>\n",
       "      <td>MO_999639780744</td>\n",
       "      <td>Morse_Shifted_GirifalcoWeizer_1959MedCutoff_Cs...</td>\n",
       "      <td>a6b1f0b6-f679-4354-9743-1aea1af29a52</td>\n",
       "      <td>1959--Girifalco-L-A-Weizer-V-G--Cs</td>\n",
       "      <td>8d561d50-26d9-43d6-822a-e95a4be93436</td>\n",
       "      <td>metal</td>\n",
       "      <td>atomic</td>\n",
       "      <td>False</td>\n",
       "      <td>kim</td>\n",
       "      <td>active</td>\n",
       "      <td>[]</td>\n",
       "      <td>[]</td>\n",
       "      <td>NaN</td>\n",
       "      <td>NaN</td>\n",
       "      <td>NaN</td>\n",
       "    </tr>\n",
       "  </tbody>\n",
       "</table>\n",
       "<p>710 rows × 15 columns</p>\n",
       "</div>"
      ],
      "text/plain": [
       "                                                  name  \\\n",
       "0                1985--Foiles-S-M--Ni-Cu--LAMMPS--ipr1   \n",
       "1               1985--Stillinger-F-H--Si--LAMMPS--ipr1   \n",
       "2                   1986--Foiles-S-M--Ag--LAMMPS--ipr1   \n",
       "3    1986--Foiles-S-M--Ag-Au-Cu-Ni-Pd-Pt--LAMMPS--ipr1   \n",
       "4                   1986--Foiles-S-M--Au--LAMMPS--ipr1   \n",
       "..                                                 ...   \n",
       "705                                    MO_987541074959   \n",
       "706                                    MO_988703794028   \n",
       "707                                    MO_993644691224   \n",
       "708                                    MO_995724792024   \n",
       "709                                    MO_999639780744   \n",
       "\n",
       "                                                    id  \\\n",
       "0                1985--Foiles-S-M--Ni-Cu--LAMMPS--ipr1   \n",
       "1               1985--Stillinger-F-H--Si--LAMMPS--ipr1   \n",
       "2                   1986--Foiles-S-M--Ag--LAMMPS--ipr1   \n",
       "3    1986--Foiles-S-M--Ag-Au-Cu-Ni-Pd-Pt--LAMMPS--ipr1   \n",
       "4                   1986--Foiles-S-M--Au--LAMMPS--ipr1   \n",
       "..                                                 ...   \n",
       "705  EMT_Asap_MetalGlass_PaduraruKenoufiBailey_2007...   \n",
       "706  EAM_Dynamo_ZhouWadleyJohnson_2001NISTretabulat...   \n",
       "707  EAM_Dynamo_ZhouWadleyJohnson_2001NISTretabulat...   \n",
       "708  LJ_Shifted_Bernardes_1958LowCutoff_Kr__MO_9957...   \n",
       "709  Morse_Shifted_GirifalcoWeizer_1959MedCutoff_Cs...   \n",
       "\n",
       "                                      key  \\\n",
       "0    062d2ba7-3903-40ae-a772-daa471d107c6   \n",
       "1    d085648c-b3ef-4be8-824b-7093fd22770a   \n",
       "2    76a265fc-45ff-49d7-8c64-2044f12402f2   \n",
       "3    c5afa7e8-6b3b-49cd-ad1c-ae3e4329363a   \n",
       "4    c588810a-b96d-4871-bfe2-cff8a5a7c709   \n",
       "..                                    ...   \n",
       "705  ae436ece-e774-4a52-a2ad-5fdca0d7cc11   \n",
       "706  0cf56710-0492-4b36-b2ca-a01dac5db5ba   \n",
       "707  2b10dcab-b59a-44b8-93e4-470f33f987c0   \n",
       "708  be07eb49-d6fd-4677-8a6a-6ee6a764fbac   \n",
       "709  a6b1f0b6-f679-4354-9743-1aea1af29a52   \n",
       "\n",
       "                                                 potid  \\\n",
       "0                              1985--Foiles-S-M--Ni-Cu   \n",
       "1                   1985--Stillinger-F-H-Weber-T-A--Si   \n",
       "2              1986--Foiles-S-M-Baskes-M-I-Daw-M-S--Ag   \n",
       "3    1986--Foiles-S-M-Baskes-M-I-Daw-M-S--Ag-Au-Cu-...   \n",
       "4              1986--Foiles-S-M-Baskes-M-I-Daw-M-S--Au   \n",
       "..                                                 ...   \n",
       "705  2007--Paduraru-A-Kenoufi-A-Bailey-N-P-Schiotz-...   \n",
       "706        2004--Zhou-X-W-Johnson-R-A-Wadley-H-N-G--Pb   \n",
       "707        2004--Zhou-X-W-Johnson-R-A-Wadley-H-N-G--Pd   \n",
       "708                              1958--Bernardes-N--Kr   \n",
       "709                 1959--Girifalco-L-A-Weizer-V-G--Cs   \n",
       "\n",
       "                                   potkey  units atom_style  allsymbols  \\\n",
       "0    301f04ce-9082-4542-8590-489300cd19e8  metal     atomic       False   \n",
       "1    edc31ad6-2b9a-455c-9b5f-e888a672ecbd  metal     atomic       False   \n",
       "2    672d54f8-9f48-4200-af56-8a7378ebbc4a  metal     atomic       False   \n",
       "3    7a1302de-59cf-4efb-900e-cad845b68ee5  metal     atomic       False   \n",
       "4    ffb66faa-319d-4556-8363-dad3959cd553  metal     atomic       False   \n",
       "..                                    ...    ...        ...         ...   \n",
       "705  d05c1f39-89ef-47c7-b263-7bf0145b36ac  metal     atomic       False   \n",
       "706  1c592eb1-3cdd-4090-aa0b-e7246f7d5f91  metal     atomic       False   \n",
       "707  5ea5dd6c-a901-4acd-b036-9c33a0acd5b0  metal     atomic       False   \n",
       "708  e62cbc12-99ba-469b-8d4e-e26ad40cb15a  metal     atomic       False   \n",
       "709  8d561d50-26d9-43d6-822a-e95a4be93436  metal     atomic       False   \n",
       "\n",
       "    pair_style  status                   symbols                  elements  \\\n",
       "0          eam  active                  [Cu, Ni]                  [Cu, Ni]   \n",
       "1           sw  active                      [Si]                      [Si]   \n",
       "2          eam  active                      [Ag]                      [Ag]   \n",
       "3          eam  active  [Ag, Au, Cu, Ni, Pd, Pt]  [Ag, Au, Cu, Ni, Pd, Pt]   \n",
       "4          eam  active                      [Au]                      [Au]   \n",
       "..         ...     ...                       ...                       ...   \n",
       "705        kim  active                        []                        []   \n",
       "706        kim  active                        []                        []   \n",
       "707        kim  active                        []                        []   \n",
       "708        kim  active                        []                        []   \n",
       "709        kim  active                        []                        []   \n",
       "\n",
       "                                             artifacts  \\\n",
       "0    [{'filename': 'Cu_smf7.eam', 'label': None, 'u...   \n",
       "1    [{'filename': 'Si.sw', 'label': None, 'url': '...   \n",
       "2    [{'filename': 'Ag_u3.eam', 'label': None, 'url...   \n",
       "3    [{'filename': 'Ag_u3.eam', 'label': None, 'url...   \n",
       "4    [{'filename': 'Au_u3.eam', 'label': None, 'url...   \n",
       "..                                                 ...   \n",
       "705                                                NaN   \n",
       "706                                                NaN   \n",
       "707                                                NaN   \n",
       "708                                                NaN   \n",
       "709                                                NaN   \n",
       "\n",
       "                                              comments  \\\n",
       "0    Potential 1985--Foiles-S-M--Ni-Cu--LAMMPS--ipr...   \n",
       "1    Potential 1985--Stillinger-F-H--Si--LAMMPS--ip...   \n",
       "2    Potential 1986--Foiles-S-M--Ag--LAMMPS--ipr1 l...   \n",
       "3    Potential 1986--Foiles-S-M--Ag-Au-Cu-Ni-Pd-Pt-...   \n",
       "4    Potential 1986--Foiles-S-M--Au--LAMMPS--ipr1 l...   \n",
       "..                                                 ...   \n",
       "705                                                NaN   \n",
       "706                                                NaN   \n",
       "707                                                NaN   \n",
       "708                                                NaN   \n",
       "709                                                NaN   \n",
       "\n",
       "                                                  dois  \n",
       "0                           [10.1103/physrevb.32.7685]  \n",
       "1    [10.1103/physrevb.31.5262, 10.1103/physrevb.33...  \n",
       "2                           [10.1103/physrevb.33.7983]  \n",
       "3                           [10.1103/physrevb.33.7983]  \n",
       "4                           [10.1103/physrevb.33.7983]  \n",
       "..                                                 ...  \n",
       "705                                                NaN  \n",
       "706                                                NaN  \n",
       "707                                                NaN  \n",
       "708                                                NaN  \n",
       "709                                                NaN  \n",
       "\n",
       "[710 rows x 15 columns]"
      ]
     },
     "execution_count": 24,
     "metadata": {},
     "output_type": "execute_result"
    }
   ],
   "source": [
    "pots_df"
   ]
  },
  {
   "cell_type": "markdown",
   "metadata": {},
   "source": [
    "## 4. OpenKIM models\n",
    "\n",
    "Loading the native LAMMPS potentials as above can also build corresponding listings for OpenKIM models.  The OpenKIM models are managed by\n",
    "\n",
    "1. Records in the NIST database link the OpenKIM models to one or more potentials listings.  These records are named for the shortcode for the OpenKIM models making them independent of the kim versions.\n",
    "2. The atomman Database object receives a list of full kim ids for any installed OpenKIM models. This is either explicitly given, or the location of a kim-api is given and it is called to extract the list of installed OpenKIM models.\n",
    "3. Objects that behaves similarly to the potentials objects for native LAMMPS potentials are generated based on 1 and 2."
   ]
  },
  {
   "cell_type": "code",
   "execution_count": null,
   "metadata": {},
   "outputs": [],
   "source": []
  }
 ],
 "metadata": {
  "kernelspec": {
   "display_name": "Python 3 (ipykernel)",
   "language": "python",
   "name": "python3"
  },
  "language_info": {
   "codemirror_mode": {
    "name": "ipython",
    "version": 3
   },
   "file_extension": ".py",
   "mimetype": "text/x-python",
   "name": "python",
   "nbconvert_exporter": "python",
   "pygments_lexer": "ipython3",
   "version": "3.11.3"
  }
 },
 "nbformat": 4,
 "nbformat_minor": 4
}
