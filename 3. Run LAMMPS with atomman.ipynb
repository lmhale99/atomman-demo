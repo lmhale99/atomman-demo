{
 "cells": [
  {
   "cell_type": "markdown",
   "id": "1580cf45-4abf-4d0c-9637-760d3829f8a7",
   "metadata": {},
   "source": [
    "# Run LAMMPS with atomman\n",
    "\n",
    "Tools for setting up and running LAMMPS calculations are available in the atomman.lammps submodule"
   ]
  },
  {
   "cell_type": "code",
   "execution_count": 22,
   "id": "a02f265f-1d33-407c-ae54-5c7ebfb1da4e",
   "metadata": {
    "tags": []
   },
   "outputs": [],
   "source": [
    "from pathlib import Path\n",
    "\n",
    "import matplotlib.pyplot as plt\n",
    "import random\n",
    "import numpy as np\n",
    "\n",
    "import atomman as am\n",
    "import atomman.unitconvert as uc\n",
    "import atomman.lammps as lmp"
   ]
  },
  {
   "cell_type": "markdown",
   "id": "e200c543-dce9-4d6e-a3dd-7c2dd505cf81",
   "metadata": {},
   "source": [
    "## 1. Specify *your* LAMMPS and mpi_commands"
   ]
  },
  {
   "cell_type": "code",
   "execution_count": 3,
   "id": "4eb2e671-99cd-48a8-b7ef-83b531021a70",
   "metadata": {
    "tags": []
   },
   "outputs": [],
   "source": [
    "lammps_command = 'lmp_serial'\n",
    "mpi_command = None\n",
    "#mpi_command = 'mpiexec -localonly 6'"
   ]
  },
  {
   "cell_type": "markdown",
   "id": "fa28b90c-4172-421b-bc76-3e9620e3481f",
   "metadata": {},
   "source": [
    "## 2. Load a potential, unit cell, and build a system"
   ]
  },
  {
   "cell_type": "code",
   "execution_count": 4,
   "id": "083079d9-32b0-43d0-baa5-5ff0b40f7f32",
   "metadata": {
    "tags": []
   },
   "outputs": [
    {
     "name": "stdout",
     "output_type": "stream",
     "text": [
      "avect =  [ 4.080,  0.000,  0.000]\n",
      "bvect =  [ 0.000,  4.080,  0.000]\n",
      "cvect =  [ 0.000,  0.000,  4.080]\n",
      "origin = [ 0.000,  0.000,  0.000]\n",
      "natoms = 4\n",
      "natypes = 1\n",
      "symbols = ('Au',)\n",
      "pbc = [ True  True  True]\n",
      "per-atom properties = ['atype', 'pos']\n",
      "     id |   atype |  pos[0] |  pos[1] |  pos[2]\n",
      "      0 |       1 |   0.000 |   0.000 |   0.000\n",
      "      1 |       1 |   0.000 |   2.040 |   2.040\n",
      "      2 |       1 |   2.040 |   0.000 |   2.040\n",
      "      3 |       1 |   2.040 |   2.040 |   0.000\n"
     ]
    }
   ],
   "source": [
    "potential = am.load_lammps_potential('2004--Zhou-X-W--Au--LAMMPS--ipr1', getfiles=True)\n",
    "\n",
    "ucell = am.load('crystal', potential=potential, family='A1--Cu--fcc', symbols='Au')\n",
    "print(ucell)"
   ]
  },
  {
   "cell_type": "markdown",
   "id": "be393037-4cc4-4a4e-a19c-2bcd8f4ce487",
   "metadata": {},
   "source": [
    "Now, we're going to make a 6x6x6 supercell and randomly delete 2 atoms just for fun."
   ]
  },
  {
   "cell_type": "code",
   "execution_count": 5,
   "id": "c92997f8-b20f-4b38-b017-0a2ff6413a21",
   "metadata": {
    "tags": []
   },
   "outputs": [],
   "source": [
    "system = ucell.supersize(6, 6, 6)"
   ]
  },
  {
   "cell_type": "code",
   "execution_count": 9,
   "id": "bfb6da53-2ec5-45a5-8f36-608bfe0dfcde",
   "metadata": {
    "tags": []
   },
   "outputs": [
    {
     "name": "stdout",
     "output_type": "stream",
     "text": [
      "3995\n"
     ]
    }
   ],
   "source": [
    "# Random shuffle atom ids\n",
    "allids = [i for i in range(system.natoms)]\n",
    "random.shuffle(allids)\n",
    "\n",
    "# Slice system with atoms_ix using all ids except for the first 2\n",
    "system = system.atoms_ix[allids[2:]]\n",
    "print(system.natoms)"
   ]
  },
  {
   "cell_type": "markdown",
   "id": "cc8e2e2b-6263-4efc-995c-46b41293bb15",
   "metadata": {},
   "source": [
    "## 3. Define a template LAMMPS script\n",
    "\n",
    "This script is designed to evaluate mean squared displacements.  All values in \"\\<\\>\" are variables that are to be filled in from Python."
   ]
  },
  {
   "cell_type": "code",
   "execution_count": 10,
   "id": "1eb08be3-3f04-4db5-97ab-b5f62798d28c",
   "metadata": {
    "tags": []
   },
   "outputs": [],
   "source": [
    "template = \"\"\"\n",
    "# LAMMPS input script for dynamic msd computation\n",
    "\n",
    "<atomman_system_pair_info>\n",
    "\n",
    "# Assign simulation parameter values\n",
    "variable temperature equal <temperature>\n",
    "variable randomseed equal <randomseed>\n",
    "variable thermosteps equal <thermosteps>\n",
    "variable timestep equal <timestep>\n",
    "variable dumpsteps equal <dumpsteps>\n",
    "variable runsteps equal <runsteps>\n",
    "variable twotemp equal 2*${temperature}\n",
    "variable damptemp equal 100*${timestep}\n",
    "\n",
    "# Specify property computes\n",
    "compute peatom all pe/atom\n",
    "compute msd all msd com yes\n",
    "\n",
    "# Define thermo data\n",
    "thermo ${thermosteps}\n",
    "thermo_style custom step temp pe ke etotal pxx pyy pzz c_msd[1] c_msd[2] c_msd[3] c_msd[4]\n",
    "thermo_modify format float %.13e\n",
    "\n",
    "# Specify timestep\n",
    "timestep ${timestep}\n",
    "\n",
    "# Define dump file contents and frequency\n",
    "dump dumpit all custom <dumpsteps> *.dump id type x y z c_peatom\n",
    "dump_modify dumpit format float %.13e\n",
    "\n",
    "# Create velocities and equilibrate system using nvt\n",
    "velocity all create ${twotemp} ${randomseed}\n",
    "fix nvt all nvt temp ${temperature} ${temperature} ${damptemp}\n",
    "run ${runsteps}\n",
    "\n",
    "\"\"\""
   ]
  },
  {
   "cell_type": "markdown",
   "id": "0e60f6eb-074e-4317-bc9b-8f7aad904b04",
   "metadata": {},
   "source": [
    "## 4. Build LAMMPS script by filling in the template"
   ]
  },
  {
   "cell_type": "markdown",
   "id": "bec28cad-04c8-4dc1-9f7a-23e14303e49a",
   "metadata": {},
   "source": [
    "Save the system to a data file"
   ]
  },
  {
   "cell_type": "code",
   "execution_count": 11,
   "id": "7a53a4a2-ea44-42ce-9fd2-6d30f4e2345a",
   "metadata": {
    "tags": []
   },
   "outputs": [],
   "source": [
    "data_file = 'init.dat'\n",
    "system_pair_info = system.dump('atom_data', f=data_file, potential=potential)"
   ]
  },
  {
   "cell_type": "markdown",
   "id": "d1300eae-a9af-457d-8951-5d2cdb0b11d3",
   "metadata": {},
   "source": [
    "Build dict of terms to fill in"
   ]
  },
  {
   "cell_type": "code",
   "execution_count": 13,
   "id": "ffe9d331-1a0a-41c1-8f28-c52b4259af14",
   "metadata": {
    "tags": []
   },
   "outputs": [],
   "source": [
    "lammps_variables = {}\n",
    "lammps_variables['atomman_system_pair_info'] = system_pair_info\n",
    "lammps_variables['temperature'] = 1000\n",
    "lammps_variables['randomseed'] = lmp.newseed()              # generates a random LAMMPS-compatible random seed\n",
    "lammps_variables['thermosteps'] = 100\n",
    "lammps_variables['timestep'] = lmp.style.timestep('metal')  # selects the default timestep to use for a unit style\n",
    "lammps_variables['dumpsteps'] = 10000\n",
    "lammps_variables['runsteps'] = 100000"
   ]
  },
  {
   "cell_type": "code",
   "execution_count": 14,
   "id": "85d759b3-e82b-4190-b9db-15dfed097559",
   "metadata": {
    "tags": []
   },
   "outputs": [
    {
     "name": "stdout",
     "output_type": "stream",
     "text": [
      "\n",
      "# LAMMPS input script for dynamic msd computation\n",
      "\n",
      "units metal\n",
      "atom_style atomic\n",
      "\n",
      "boundary p p p\n",
      "read_data init.dat\n",
      "\n",
      "print \"Parameter file(s) can be downloaded at:\"\n",
      "print \"https://www.ctcms.nist.gov/potentials/Download/2004--Zhou-X-W-Johnson-R-A-Wadley-H-N-G--Au/2/Au.set\"\n",
      "\n",
      "pair_style eam/alloy \n",
      "pair_coeff * * 2004--Zhou-X-W--Au--LAMMPS--ipr1\\Au.set Au\n",
      "\n",
      "mass 1 196.97\n",
      "\n",
      "\n",
      "\n",
      "# Assign simulation parameter values\n",
      "variable temperature equal 1000\n",
      "variable randomseed equal 716041761\n",
      "variable thermosteps equal 100\n",
      "variable timestep equal 0.001\n",
      "variable dumpsteps equal 10000\n",
      "variable runsteps equal 100000\n",
      "variable twotemp equal 2*${temperature}\n",
      "variable damptemp equal 100*${timestep}\n",
      "\n",
      "# Specify property computes\n",
      "compute peatom all pe/atom\n",
      "compute msd all msd com yes\n",
      "\n",
      "# Define thermo data\n",
      "thermo ${thermosteps}\n",
      "thermo_style custom step temp pe ke etotal pxx pyy pzz c_msd[1] c_msd[2] c_msd[3] c_msd[4]\n",
      "thermo_modify format float %.13e\n",
      "\n",
      "# Specify timestep\n",
      "timestep ${timestep}\n",
      "\n",
      "# Define dump file contents and frequency\n",
      "dump dumpit all custom 10000 *.dump id type x y z c_peatom\n",
      "dump_modify dumpit format float %.13e\n",
      "\n",
      "# Create velocities and equilibrate system using nvt\n",
      "velocity all create ${twotemp} ${randomseed}\n",
      "fix nvt all nvt temp ${temperature} ${temperature} ${damptemp}\n",
      "run ${runsteps}\n",
      "\n",
      "\n"
     ]
    }
   ],
   "source": [
    "script = am.tools.filltemplate(template, lammps_variables, '<', '>')\n",
    "print(script)"
   ]
  },
  {
   "cell_type": "markdown",
   "id": "d26d1df9-5703-42d7-ac50-786bff88b732",
   "metadata": {},
   "source": [
    "## 5. Run LAMMPS and explore results"
   ]
  },
  {
   "cell_type": "code",
   "execution_count": 15,
   "id": "74391de2-ea85-489f-b324-e148ae63a882",
   "metadata": {
    "tags": []
   },
   "outputs": [],
   "source": [
    "log = lmp.run(lammps_command, script=script, mpi_command=mpi_command)"
   ]
  },
  {
   "cell_type": "code",
   "execution_count": 17,
   "id": "4ac2b67e-e48d-44a1-b2c9-e0fcdddba158",
   "metadata": {
    "tags": []
   },
   "outputs": [
    {
     "data": {
      "text/html": [
       "<div>\n",
       "<style scoped>\n",
       "    .dataframe tbody tr th:only-of-type {\n",
       "        vertical-align: middle;\n",
       "    }\n",
       "\n",
       "    .dataframe tbody tr th {\n",
       "        vertical-align: top;\n",
       "    }\n",
       "\n",
       "    .dataframe thead th {\n",
       "        text-align: right;\n",
       "    }\n",
       "</style>\n",
       "<table border=\"1\" class=\"dataframe\">\n",
       "  <thead>\n",
       "    <tr style=\"text-align: right;\">\n",
       "      <th></th>\n",
       "      <th>Step</th>\n",
       "      <th>Temp</th>\n",
       "      <th>PotEng</th>\n",
       "      <th>KinEng</th>\n",
       "      <th>TotEng</th>\n",
       "      <th>Pxx</th>\n",
       "      <th>Pyy</th>\n",
       "      <th>Pzz</th>\n",
       "      <th>c_msd[1]</th>\n",
       "      <th>c_msd[2]</th>\n",
       "      <th>c_msd[3]</th>\n",
       "      <th>c_msd[4]</th>\n",
       "    </tr>\n",
       "  </thead>\n",
       "  <tbody>\n",
       "    <tr>\n",
       "      <th>0</th>\n",
       "      <td>0</td>\n",
       "      <td>2000.000000</td>\n",
       "      <td>-15694.943169</td>\n",
       "      <td>1032.530038</td>\n",
       "      <td>-14662.413131</td>\n",
       "      <td>15905.714141</td>\n",
       "      <td>15835.098250</td>\n",
       "      <td>15714.052607</td>\n",
       "      <td>2.839899e-27</td>\n",
       "      <td>8.077936e-28</td>\n",
       "      <td>1.212953e-26</td>\n",
       "      <td>1.577722e-26</td>\n",
       "    </tr>\n",
       "    <tr>\n",
       "      <th>1</th>\n",
       "      <td>100</td>\n",
       "      <td>636.166363</td>\n",
       "      <td>-15044.706833</td>\n",
       "      <td>328.430440</td>\n",
       "      <td>-14716.276393</td>\n",
       "      <td>82299.336143</td>\n",
       "      <td>83927.783907</td>\n",
       "      <td>82512.809019</td>\n",
       "      <td>3.429656e-02</td>\n",
       "      <td>3.296991e-02</td>\n",
       "      <td>3.449804e-02</td>\n",
       "      <td>1.017645e-01</td>\n",
       "    </tr>\n",
       "    <tr>\n",
       "      <th>2</th>\n",
       "      <td>200</td>\n",
       "      <td>865.763840</td>\n",
       "      <td>-15102.268588</td>\n",
       "      <td>446.963585</td>\n",
       "      <td>-14655.305003</td>\n",
       "      <td>78854.986403</td>\n",
       "      <td>79333.232738</td>\n",
       "      <td>77975.541074</td>\n",
       "      <td>4.310560e-02</td>\n",
       "      <td>3.977673e-02</td>\n",
       "      <td>4.316342e-02</td>\n",
       "      <td>1.260457e-01</td>\n",
       "    </tr>\n",
       "    <tr>\n",
       "      <th>3</th>\n",
       "      <td>300</td>\n",
       "      <td>1067.926345</td>\n",
       "      <td>-15174.147602</td>\n",
       "      <td>551.333015</td>\n",
       "      <td>-14622.814587</td>\n",
       "      <td>71666.058602</td>\n",
       "      <td>71958.638093</td>\n",
       "      <td>70652.757415</td>\n",
       "      <td>4.135062e-02</td>\n",
       "      <td>3.712161e-02</td>\n",
       "      <td>3.985539e-02</td>\n",
       "      <td>1.183276e-01</td>\n",
       "    </tr>\n",
       "    <tr>\n",
       "      <th>4</th>\n",
       "      <td>400</td>\n",
       "      <td>1033.485037</td>\n",
       "      <td>-15185.544817</td>\n",
       "      <td>533.552173</td>\n",
       "      <td>-14651.992644</td>\n",
       "      <td>69899.488188</td>\n",
       "      <td>70487.366108</td>\n",
       "      <td>69797.750684</td>\n",
       "      <td>4.057064e-02</td>\n",
       "      <td>3.801067e-02</td>\n",
       "      <td>3.898256e-02</td>\n",
       "      <td>1.175639e-01</td>\n",
       "    </tr>\n",
       "    <tr>\n",
       "      <th>...</th>\n",
       "      <td>...</td>\n",
       "      <td>...</td>\n",
       "      <td>...</td>\n",
       "      <td>...</td>\n",
       "      <td>...</td>\n",
       "      <td>...</td>\n",
       "      <td>...</td>\n",
       "      <td>...</td>\n",
       "      <td>...</td>\n",
       "      <td>...</td>\n",
       "      <td>...</td>\n",
       "      <td>...</td>\n",
       "    </tr>\n",
       "    <tr>\n",
       "      <th>996</th>\n",
       "      <td>99600</td>\n",
       "      <td>992.495949</td>\n",
       "      <td>-15180.134220</td>\n",
       "      <td>512.390940</td>\n",
       "      <td>-14667.743280</td>\n",
       "      <td>69668.930180</td>\n",
       "      <td>70484.620355</td>\n",
       "      <td>70860.238231</td>\n",
       "      <td>5.783345e-02</td>\n",
       "      <td>4.310484e-02</td>\n",
       "      <td>4.943760e-02</td>\n",
       "      <td>1.503759e-01</td>\n",
       "    </tr>\n",
       "    <tr>\n",
       "      <th>997</th>\n",
       "      <td>99700</td>\n",
       "      <td>1010.917488</td>\n",
       "      <td>-15193.124553</td>\n",
       "      <td>521.901337</td>\n",
       "      <td>-14671.223216</td>\n",
       "      <td>69446.261448</td>\n",
       "      <td>68335.902962</td>\n",
       "      <td>69400.260981</td>\n",
       "      <td>5.684298e-02</td>\n",
       "      <td>4.266532e-02</td>\n",
       "      <td>4.914992e-02</td>\n",
       "      <td>1.486582e-01</td>\n",
       "    </tr>\n",
       "    <tr>\n",
       "      <th>998</th>\n",
       "      <td>99800</td>\n",
       "      <td>983.384222</td>\n",
       "      <td>-15186.171365</td>\n",
       "      <td>507.686874</td>\n",
       "      <td>-14678.484491</td>\n",
       "      <td>69559.046418</td>\n",
       "      <td>68978.023641</td>\n",
       "      <td>70123.319727</td>\n",
       "      <td>5.615163e-02</td>\n",
       "      <td>4.242825e-02</td>\n",
       "      <td>5.069410e-02</td>\n",
       "      <td>1.492740e-01</td>\n",
       "    </tr>\n",
       "    <tr>\n",
       "      <th>999</th>\n",
       "      <td>99900</td>\n",
       "      <td>1001.234954</td>\n",
       "      <td>-15194.741788</td>\n",
       "      <td>516.902583</td>\n",
       "      <td>-14677.839206</td>\n",
       "      <td>69614.948446</td>\n",
       "      <td>68485.943439</td>\n",
       "      <td>68881.502831</td>\n",
       "      <td>5.569187e-02</td>\n",
       "      <td>4.307428e-02</td>\n",
       "      <td>5.018378e-02</td>\n",
       "      <td>1.489499e-01</td>\n",
       "    </tr>\n",
       "    <tr>\n",
       "      <th>1000</th>\n",
       "      <td>100000</td>\n",
       "      <td>1008.630257</td>\n",
       "      <td>-15188.089096</td>\n",
       "      <td>520.720519</td>\n",
       "      <td>-14667.368577</td>\n",
       "      <td>69053.310443</td>\n",
       "      <td>69702.445381</td>\n",
       "      <td>70341.826680</td>\n",
       "      <td>5.461744e-02</td>\n",
       "      <td>4.348419e-02</td>\n",
       "      <td>5.091545e-02</td>\n",
       "      <td>1.490171e-01</td>\n",
       "    </tr>\n",
       "  </tbody>\n",
       "</table>\n",
       "<p>1001 rows × 12 columns</p>\n",
       "</div>"
      ],
      "text/plain": [
       "        Step         Temp        PotEng       KinEng        TotEng  \\\n",
       "0          0  2000.000000 -15694.943169  1032.530038 -14662.413131   \n",
       "1        100   636.166363 -15044.706833   328.430440 -14716.276393   \n",
       "2        200   865.763840 -15102.268588   446.963585 -14655.305003   \n",
       "3        300  1067.926345 -15174.147602   551.333015 -14622.814587   \n",
       "4        400  1033.485037 -15185.544817   533.552173 -14651.992644   \n",
       "...      ...          ...           ...          ...           ...   \n",
       "996    99600   992.495949 -15180.134220   512.390940 -14667.743280   \n",
       "997    99700  1010.917488 -15193.124553   521.901337 -14671.223216   \n",
       "998    99800   983.384222 -15186.171365   507.686874 -14678.484491   \n",
       "999    99900  1001.234954 -15194.741788   516.902583 -14677.839206   \n",
       "1000  100000  1008.630257 -15188.089096   520.720519 -14667.368577   \n",
       "\n",
       "               Pxx           Pyy           Pzz      c_msd[1]      c_msd[2]  \\\n",
       "0     15905.714141  15835.098250  15714.052607  2.839899e-27  8.077936e-28   \n",
       "1     82299.336143  83927.783907  82512.809019  3.429656e-02  3.296991e-02   \n",
       "2     78854.986403  79333.232738  77975.541074  4.310560e-02  3.977673e-02   \n",
       "3     71666.058602  71958.638093  70652.757415  4.135062e-02  3.712161e-02   \n",
       "4     69899.488188  70487.366108  69797.750684  4.057064e-02  3.801067e-02   \n",
       "...            ...           ...           ...           ...           ...   \n",
       "996   69668.930180  70484.620355  70860.238231  5.783345e-02  4.310484e-02   \n",
       "997   69446.261448  68335.902962  69400.260981  5.684298e-02  4.266532e-02   \n",
       "998   69559.046418  68978.023641  70123.319727  5.615163e-02  4.242825e-02   \n",
       "999   69614.948446  68485.943439  68881.502831  5.569187e-02  4.307428e-02   \n",
       "1000  69053.310443  69702.445381  70341.826680  5.461744e-02  4.348419e-02   \n",
       "\n",
       "          c_msd[3]      c_msd[4]  \n",
       "0     1.212953e-26  1.577722e-26  \n",
       "1     3.449804e-02  1.017645e-01  \n",
       "2     4.316342e-02  1.260457e-01  \n",
       "3     3.985539e-02  1.183276e-01  \n",
       "4     3.898256e-02  1.175639e-01  \n",
       "...            ...           ...  \n",
       "996   4.943760e-02  1.503759e-01  \n",
       "997   4.914992e-02  1.486582e-01  \n",
       "998   5.069410e-02  1.492740e-01  \n",
       "999   5.018378e-02  1.489499e-01  \n",
       "1000  5.091545e-02  1.490171e-01  \n",
       "\n",
       "[1001 rows x 12 columns]"
      ]
     },
     "execution_count": 17,
     "metadata": {},
     "output_type": "execute_result"
    }
   ],
   "source": [
    "thermo = log.simulations[0].thermo\n",
    "thermo"
   ]
  },
  {
   "cell_type": "code",
   "execution_count": 18,
   "id": "7e1f952e-2082-47f9-856e-41bf592906fb",
   "metadata": {
    "tags": []
   },
   "outputs": [
    {
     "data": {
      "text/plain": [
       "[<matplotlib.lines.Line2D at 0x19757437710>]"
      ]
     },
     "execution_count": 18,
     "metadata": {},
     "output_type": "execute_result"
    },
    {
     "data": {
      "image/png": "[encoded data removed]",
      "text/plain": [
       "<Figure size 640x480 with 1 Axes>"
      ]
     },
     "metadata": {},
     "output_type": "display_data"
    }
   ],
   "source": [
    "plt.plot(thermo.Step, thermo['c_msd[4]'])"
   ]
  },
  {
   "cell_type": "code",
   "execution_count": 20,
   "id": "870bba75-cd88-4a8a-a459-7f7d38113523",
   "metadata": {
    "tags": []
   },
   "outputs": [
    {
     "name": "stdout",
     "output_type": "stream",
     "text": [
      "['atype', 'pos', 'atom_id', 'c_peatom']\n"
     ]
    }
   ],
   "source": [
    "final = am.load('atom_dump', '100000.dump')\n",
    "print(final.atoms_prop())"
   ]
  },
  {
   "cell_type": "markdown",
   "id": "adad1368-b365-4b9e-9938-47996c452755",
   "metadata": {},
   "source": [
    "File cleanup"
   ]
  },
  {
   "cell_type": "code",
   "execution_count": 23,
   "id": "4a08f69f-8712-4181-96ec-2643833df660",
   "metadata": {
    "tags": []
   },
   "outputs": [],
   "source": [
    "for fname in Path().glob('*.dump'):\n",
    "    fname.unlink()\n",
    "Path('log.lammps').unlink()"
   ]
  },
  {
   "cell_type": "code",
   "execution_count": null,
   "id": "01312051-2fd6-4270-8dd6-5367de22f584",
   "metadata": {},
   "outputs": [],
   "source": []
  }
 ],
 "metadata": {
  "kernelspec": {
   "display_name": "Python 3 (ipykernel)",
   "language": "python",
   "name": "python3"
  },
  "language_info": {
   "codemirror_mode": {
    "name": "ipython",
    "version": 3
   },
   "file_extension": ".py",
   "mimetype": "text/x-python",
   "name": "python",
   "nbconvert_exporter": "python",
   "pygments_lexer": "ipython3",
   "version": "3.11.3"
  }
 },
 "nbformat": 4,
 "nbformat_minor": 5
}
