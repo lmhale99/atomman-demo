{
 "cells": [
  {
   "cell_type": "markdown",
   "id": "7463fb62-8d79-4d72-807a-85512691fdb8",
   "metadata": {},
   "source": [
    "# iprPy calculation basics"
   ]
  },
  {
   "cell_type": "code",
   "execution_count": 1,
   "id": "1497bb04-bfc5-4e0c-8dc8-c522dba288ac",
   "metadata": {
    "tags": []
   },
   "outputs": [
    {
     "data": {
      "application/vnd.jupyter.widget-view+json": {
       "model_id": "4d9ea167c3024e1eba16db458299107c",
       "version_major": 2,
       "version_minor": 0
      },
      "text/plain": []
     },
     "metadata": {},
     "output_type": "display_data"
    }
   ],
   "source": [
    "from IPython.display import display, Markdown\n",
    "\n",
    "import numpy as np\n",
    "\n",
    "import atomman as am\n",
    "import atomman.unitconvert as uc\n",
    "\n",
    "import iprPy"
   ]
  },
  {
   "cell_type": "code",
   "execution_count": 2,
   "id": "d6622a56-f7f9-4297-86fe-0f8d7e3d4844",
   "metadata": {
    "tags": []
   },
   "outputs": [],
   "source": [
    "lammps_command = 'lmp_serial'\n",
    "mpi_command = None\n",
    "#mpi_command = 'mpiexec -localonly 6'"
   ]
  },
  {
   "cell_type": "markdown",
   "id": "0ce061e3-e25e-4a5c-9da1-8fca5e84c530",
   "metadata": {},
   "source": [
    "## 1. Load a calculation object\n",
    "\n",
    "Calculation objects provide the tools to run and analyze iprPy calculations.\n",
    "\n",
    "You can see the names of all current working calculations using the calculationmanager."
   ]
  },
  {
   "cell_type": "code",
   "execution_count": 3,
   "id": "47b62a0f-4756-4d75-809f-e6ed50899fee",
   "metadata": {
    "tags": []
   },
   "outputs": [
    {
     "data": {
      "text/plain": [
       "['bond_angle_scan',\n",
       " 'crystal_space_group',\n",
       " 'diatom_scan',\n",
       " 'diffusion_liquid',\n",
       " 'diffusion_msd',\n",
       " 'dislocation_dipole',\n",
       " 'dislocation_monopole',\n",
       " 'dislocation_periodic_array',\n",
       " 'dislocation_SDVPN',\n",
       " 'elastic_constants_dynamic',\n",
       " 'elastic_constants_static',\n",
       " 'energy_check',\n",
       " 'E_vs_r_scan',\n",
       " 'free_energy',\n",
       " 'free_energy_liquid',\n",
       " 'grain_boundary_grip',\n",
       " 'grain_boundary_static',\n",
       " 'isolated_atom',\n",
       " 'melting_temperature',\n",
       " 'phonon',\n",
       " 'point_defect_diffusion',\n",
       " 'point_defect_mobility',\n",
       " 'point_defect_static',\n",
       " 'relax_box',\n",
       " 'relax_dynamic',\n",
       " 'relax_liquid',\n",
       " 'relax_liquid_redo',\n",
       " 'relax_static',\n",
       " 'stacking_fault_map_2D',\n",
       " 'stacking_fault_static',\n",
       " 'surface_energy_static',\n",
       " 'viscosity_driving',\n",
       " 'viscosity_green_kubo']"
      ]
     },
     "execution_count": 3,
     "metadata": {},
     "output_type": "execute_result"
    }
   ],
   "source": [
    "iprPy.calculationmanager.loaded_style_names"
   ]
  },
  {
   "cell_type": "markdown",
   "id": "92559b1d-96da-4a55-a0e5-dc6c08ce9fc1",
   "metadata": {},
   "source": [
    "Load a calculation object with load_calculation.  This calculation object can be used to view metadata on the calculation, and to run the calculation."
   ]
  },
  {
   "cell_type": "code",
   "execution_count": 4,
   "id": "532a4655-a032-419f-b5e9-1060b9cf63a5",
   "metadata": {
    "tags": []
   },
   "outputs": [],
   "source": [
    "calc = iprPy.load_calculation('elastic_constants_static')"
   ]
  },
  {
   "cell_type": "markdown",
   "id": "34d2b6cb-9e1b-4d09-b814-2e98aa4b77aa",
   "metadata": {},
   "source": [
    "## 2. Run calculation functions directly\n",
    "\n",
    "You can access and run a calculation's primary function directly as the **calc()** method."
   ]
  },
  {
   "cell_type": "code",
   "execution_count": 5,
   "id": "afa8cde5-799d-4ee2-928b-01ea4fb10a11",
   "metadata": {
    "tags": []
   },
   "outputs": [
    {
     "name": "stdout",
     "output_type": "stream",
     "text": [
      "\n",
      "    Computes the elastic constants of an atomic configuration using small\n",
      "    strains.  This calculation is comparable to the LAMMPS ELASTIC example.\n",
      "    \n",
      "    Parameters\n",
      "    ----------\n",
      "    lammps_command :str\n",
      "        Command for running LAMMPS.\n",
      "    system : atomman.System\n",
      "        The system to perform the calculation on.\n",
      "    potential : atomman.lammps.Potential\n",
      "        The LAMMPS implemented potential to use.\n",
      "    mpi_command : str, optional\n",
      "        The MPI command for running LAMMPS in parallel.  If not given, LAMMPS\n",
      "        will run serially.\n",
      "    strainrange : float, optional\n",
      "        The small strain value to apply when calculating the elastic\n",
      "        constants (default is 1e-6).\n",
      "    etol : float, optional\n",
      "        The energy tolerance for the structure minimization. This value is\n",
      "        unitless. (Default is 0.0).\n",
      "    ftol : float, optional\n",
      "        The force tolerance for the structure minimization. This value is in\n",
      "        units of force. (Default is 0.0).\n",
      "    maxiter : int, optional\n",
      "        The maximum number of minimization iterations to use (default is 10000).\n",
      "    maxeval : int, optional\n",
      "        The maximum number of minimization evaluations to use (default is \n",
      "        100000).\n",
      "    dmax : float, optional\n",
      "        The maximum distance in length units that any atom is allowed to relax\n",
      "        in any direction during a single minimization iteration (default is\n",
      "        0.01 Angstroms).\n",
      "    \n",
      "    Returns\n",
      "    -------\n",
      "    dict\n",
      "        Dictionary of results consisting of keys:\n",
      "        \n",
      "        - **'raw_Cij_negative'** (*numpy.ndarray*) - The values of Cij obtained\n",
      "          from only the negative strains.\n",
      "        - **'raw_Cij_positive'** (*numpy.ndarray*) - The values of Cij obtained\n",
      "          from only the positive strains.\n",
      "        - **'C'** (*atomman.ElasticConstants*) - The computed elastic constants\n",
      "          obtained from averaging the negative and positive strain values.\n",
      "    \n"
     ]
    }
   ],
   "source": [
    "# Print calc()'s docstring to see what it does and what parameters it takes\n",
    "print(calc.calc.__doc__)"
   ]
  },
  {
   "cell_type": "code",
   "execution_count": 6,
   "id": "6a1bf861-e1d6-4313-ae93-d7e0bb2cad7f",
   "metadata": {
    "tags": []
   },
   "outputs": [
    {
     "name": "stdout",
     "output_type": "stream",
     "text": [
      "[[187.919 157.751 157.751   0.      0.      0.   ]\n",
      " [157.751 187.919 157.751   0.      0.      0.   ]\n",
      " [157.751 157.751 187.919   0.      0.      0.   ]\n",
      " [  0.      0.      0.     42.542   0.      0.   ]\n",
      " [  0.      0.      0.      0.     42.542   0.   ]\n",
      " [  0.      0.      0.      0.      0.     42.542]]\n"
     ]
    }
   ],
   "source": [
    "# Load potential and unit cell\n",
    "potential = am.load_lammps_potential('2004--Zhou-X-W--Au--LAMMPS--ipr1', getfiles=True)\n",
    "ucell = am.load('crystal', potential=potential, family='A1--Cu--fcc', symbols='Au')\n",
    "\n",
    "# Run the calculation with calc()\n",
    "results = calc.calc(lammps_command, ucell, potential)\n",
    "\n",
    "# Extract and print results\n",
    "Cij = results['C'].Cij\n",
    "with np.printoptions(precision=3):\n",
    "    print(uc.get_in_units(Cij, 'GPa'))"
   ]
  },
  {
   "cell_type": "markdown",
   "id": "f72ea591-faf1-409d-b2c2-13f98596b921",
   "metadata": {},
   "source": [
    "## 3. Run calculations using an input file\n",
    "\n",
    "The calculations all also support reading in the necessary inputs from a text key-value input file."
   ]
  },
  {
   "cell_type": "markdown",
   "id": "48aeab14-cf9c-4c77-92cc-84df7f059344",
   "metadata": {},
   "source": [
    "### 3.1. View documentation on the input terms with templatedoc"
   ]
  },
  {
   "cell_type": "code",
   "execution_count": 7,
   "id": "cca9efe5-6075-4e9f-95bc-f624794c8297",
   "metadata": {
    "tags": []
   },
   "outputs": [
    {
     "data": {
      "text/markdown": [
       "# elastic_constants_static Input Terms\n",
       "\n",
       "## Calculation Metadata\n",
       "\n",
       "Specifies metadata descriptors common to all calculation styles.\n",
       "\n",
       "- __branch__: A metadata group name that the calculation can be parsed by. Primarily meant for differentiating runs with different settings parameters.\n",
       "\n",
       "## LAMMPS and MPI Commands\n",
       "\n",
       "Specifies the external commands for running LAMMPS and MPI.\n",
       "\n",
       "- __lammps_command__: The path to the executable for running LAMMPS on your system. Don't include command line options.\n",
       "- __mpi_command__: The path to the MPI executable and any command line options to use for calling LAMMPS to run in parallel on your system. LAMMPS will run as a serial process if not given.\n",
       "\n",
       "## Interatomic Potential\n",
       "\n",
       "Specifies the interatomic potential to use and the directory where any associated parameter files are located.\n",
       "\n",
       "- __potential_file__: The path to the potential_LAMMPS or potential_LAMMPS_KIM record that defines the interatomic potential to use for LAMMPS calculations.\n",
       "- __potential_kim_id__: If potential_file is a potential_LAMMPS_KIM record, this allows for the specification of which version of the KIM model to use by specifying a full kim model id.  If not given, the newest known version of the kim model will be assumed.\n",
       "- __potential_kim_potid__: Some potential_LAMMPS_KIM records are associated with multiple potential entries.  This allows for the clear specification of which potential (by potid) to associate with those kim models.This will affect the list of available symbols for the calculation.\n",
       "- __potential_dir__: The path to the directory containing any potential parameter files (eg. eam.alloy setfl files) that are needed for the potential. If not given, then any required files are expected to be in the working directory where the calculation is executed.\n",
       "\n",
       "## Initial System Configuration\n",
       "\n",
       "Specifies the file and options to load for the initial atomic configuration.\n",
       "\n",
       "- __load_file__: The path to the initial configuration file to load.\n",
       "- __load_style__: The atomman.load() style indicating the format of the load_file.\n",
       "- __load_options__: A space-delimited list of key-value pairs for optional style-specific arguments used by atomman.load().\n",
       "- __family__: A metadata descriptor for relating the load_file back to the original crystal structure or prototype that the load_file was based on.  If not given, will use the family field in load_file if load_style is 'system_model', or the file's name otherwise.\n",
       "- __symbols__: A space-delimited list of the potential's atom-model symbols to associate with the loaded system's atom types.  Required if load_file does not contain symbol/species information.\n",
       "- __box_parameters__: Specifies new box parameters to scale the loaded configuration by. Can be given either as a list of three or six numbers: 'a b c' for orthogonal boxes, or 'a b c alpha beta gamma' for triclinic boxes. The a, b, c parameters are in units of length and the alpha, beta, gamma angles are in degrees.\n",
       "\n",
       "## System Manipulations\n",
       "\n",
       "Performs simple manipulations on the loaded initial system.\n",
       "\n",
       "- __a_uvw__: The Miller(-Bravais) crystal vector relative to the loaded system to orient with the a box vector of a resulting rotated system. Specified as three or four space-delimited numbers. Either all or none of the uvw parameters must be given.\n",
       "- __b_uvw__: The Miller(-Bravais) crystal vector relative to the loaded system to orient with the b box vector of a resulting rotated system. Specified as three or four space-delimited numbers. Either all or none of the uvw parameters must be given.\n",
       "- __c_uvw__: The Miller(-Bravais) crystal vector relative to the loaded system to orient with the c box vector of a resulting rotated system. Specified as three or four space-delimited numbers. Either all or none of the uvw parameters must be given.\n",
       "- __atomshift__: A rigid-body shift vector to apply to all atoms in the rotated configuration.  Specified as three space-delimited numbers that are relative to the size of the system after rotating, but before sizemults have been applied. This allows for the same relative shift of similar systems regardless of box_parameters and sizemults. Default value is '0.0 0.0 0.0' (i.e. no shift).\n",
       "- __sizemults__: Multiplication parameters to construct a supercell from the rotated system.  Given as either three or six space-delimited integers. For three integers, each value indicates the number of replicas to make along the corresponding a, b, c box vector with negative values replicating in the negative Cartesian space. For six integers, the values are divided into three pairs with each pair indicating the number of 'negative' and 'positive' replications to make for a given a, b, c box vector.\n",
       "\n",
       "## LAMMPS Energy/Force Minimization\n",
       "\n",
       "Specifies the parameters and options associated with performing an energy and/or force minimization in LAMMPS.\n",
       "\n",
       "- __energytolerance__: The energy tolerance to use for the minimization. This value is unitless and corresponds to the etol term for the LAMMPS minimize command. Default value is 0.0.\n",
       "- __forcetolerance__: The force tolerance to use for the minimization. This value is in force units and corresponds to the ftol term for the LAMMPS minimize command. Default value is '0.0 eV/angstrom'.\n",
       "- __maxiterations__: The maximum number of iterations to use for the minimization. This value corresponds to the maxiter term for the LAMMPS minimize command. Default value is 100000.\n",
       "- __maxevaluations__: The maximum number of iterations to use for the minimization. This value corresponds to the maxeval term for the LAMMPS minimize command. Default value is 1000000.\n",
       "- __maxatommotion__: The maximum distance that any atom can move during a minimization iteration. This value is in units length and corresponds to the dmax term for the LAMMPS min_modify command. Default value is '0.01 angstrom'.\n",
       "\n",
       "## Input/Output Units\n",
       "\n",
       "Specifies the default units to use for the other input keys and to use for saving to the results file.\n",
       "\n",
       "- __length_unit__: The unit of length to use. Default value is 'angstrom'.\n",
       "- __pressure_unit__: The unit of pressure to use.  Default value is 'GPa'.\n",
       "- __energy_unit__: The unit of energy to use.  Default value is 'eV'.\n",
       "- __force_unit__: The unit of force to use.  Default value is 'eV/angstrom'.\n",
       "\n",
       "## Run Parameters\n",
       "\n",
       "- __strainrange__: The strain range to apply to the system to evaluate the elastic constants.  Default value is '1e-6'"
      ],
      "text/plain": [
       "<IPython.core.display.Markdown object>"
      ]
     },
     "metadata": {},
     "output_type": "display_data"
    }
   ],
   "source": [
    "display(Markdown(calc.templatedoc))"
   ]
  },
  {
   "cell_type": "markdown",
   "id": "69442c99-34f4-4db7-8c2b-365f63b2b488",
   "metadata": {},
   "source": [
    "### 3.2. Get an empty/template version of the calculation's input with template"
   ]
  },
  {
   "cell_type": "code",
   "execution_count": 8,
   "id": "127a9094-6fc3-4deb-be24-a2df361f576d",
   "metadata": {
    "tags": []
   },
   "outputs": [
    {
     "name": "stdout",
     "output_type": "stream",
     "text": [
      "# Input script for iprPy calculation elastic_constants_static\n",
      "\n",
      "# Calculation Metadata\n",
      "branch                          <branch>\n",
      "\n",
      "# LAMMPS and MPI Commands\n",
      "lammps_command                  <lammps_command>\n",
      "mpi_command                     <mpi_command>\n",
      "\n",
      "# Interatomic Potential\n",
      "potential_file                  <potential_file>\n",
      "potential_kim_id                <potential_kim_id>\n",
      "potential_kim_potid             <potential_kim_potid>\n",
      "potential_dir                   <potential_dir>\n",
      "\n",
      "# Initial System Configuration\n",
      "load_file                       <load_file>\n",
      "load_style                      <load_style>\n",
      "load_options                    <load_options>\n",
      "family                          <family>\n",
      "symbols                         <symbols>\n",
      "box_parameters                  <box_parameters>\n",
      "\n",
      "# System Manipulations\n",
      "a_uvw                           <a_uvw>\n",
      "b_uvw                           <b_uvw>\n",
      "c_uvw                           <c_uvw>\n",
      "atomshift                       <atomshift>\n",
      "sizemults                       <sizemults>\n",
      "\n",
      "# LAMMPS Energy/Force Minimization\n",
      "energytolerance                 <energytolerance>\n",
      "forcetolerance                  <forcetolerance>\n",
      "maxiterations                   <maxiterations>\n",
      "maxevaluations                  <maxevaluations>\n",
      "maxatommotion                   <maxatommotion>\n",
      "\n",
      "# Input/Output Units\n",
      "length_unit                     <length_unit>\n",
      "pressure_unit                   <pressure_unit>\n",
      "energy_unit                     <energy_unit>\n",
      "force_unit                      <force_unit>\n",
      "\n",
      "# Run Parameters\n",
      "strainrange                     <strainrange>\n"
     ]
    }
   ],
   "source": [
    "print(calc.template)"
   ]
  },
  {
   "cell_type": "markdown",
   "id": "c9a9c5cf-a816-4c78-9ffa-054a76b31f6b",
   "metadata": {},
   "source": [
    "### 3.3. Copy template and fill in values.  \n",
    "\n",
    "Basic parsing rules\n",
    "- Anything in a line after the first # is treated as a comment.\n",
    "- Only lines with 2 or more terms are read in - keys without values are ignored.\n",
    "- Keys can only have 1 value assigned to them.\n",
    "- Any keys without values will use the default values if available."
   ]
  },
  {
   "cell_type": "code",
   "execution_count": 9,
   "id": "007a2f46-6014-4a1b-b7aa-1e872835b632",
   "metadata": {
    "tags": []
   },
   "outputs": [],
   "source": [
    "infile = \"\"\"\n",
    "# Input script for iprPy calculation elastic_constants_static\n",
    "\n",
    "# Calculation Metadata\n",
    "branch                          \n",
    "\n",
    "# LAMMPS and MPI Commands\n",
    "lammps_command                  lmp_serial\n",
    "mpi_command                     \n",
    "\n",
    "# Interatomic Potential\n",
    "potential_file                  2004--Zhou-X-W--Au--LAMMPS--ipr1.json\n",
    "potential_kim_id                \n",
    "potential_kim_potid             \n",
    "potential_dir                   2004--Zhou-X-W--Au--LAMMPS--ipr1\n",
    "\n",
    "# Initial System Configuration\n",
    "load_file                       ucell.json\n",
    "load_style                      system_model\n",
    "load_options                    \n",
    "family                          \n",
    "symbols                         \n",
    "box_parameters                  \n",
    "\n",
    "# System Manipulations\n",
    "a_uvw                           \n",
    "b_uvw                           \n",
    "c_uvw                           \n",
    "atomshift                       \n",
    "sizemults                       \n",
    "\n",
    "# LAMMPS Energy/Force Minimization\n",
    "energytolerance                 \n",
    "forcetolerance                 \n",
    "maxiterations                   \n",
    "maxevaluations                  \n",
    "maxatommotion                   \n",
    "\n",
    "# Input/Output Units\n",
    "length_unit                     \n",
    "pressure_unit                   \n",
    "energy_unit                     \n",
    "force_unit                      \n",
    "\n",
    "# Run Parameters\n",
    "strainrange                     \n",
    "\"\"\""
   ]
  },
  {
   "cell_type": "markdown",
   "id": "cc67661d-f4a3-49eb-a8ce-4dbea7d03ca7",
   "metadata": {},
   "source": [
    "### 3.4. Create/copy extra files\n",
    "\n",
    "The input keys that end in \"\\_file\" point to files that the calculation will read in.  These files need to exist at the paths listed.  "
   ]
  },
  {
   "cell_type": "code",
   "execution_count": 10,
   "id": "4686de5e-0d6a-4e50-aa54-1491c2ac0503",
   "metadata": {
    "tags": []
   },
   "outputs": [],
   "source": [
    "# Save potential metadata info to a JSON file\n",
    "with open(f'{potential.name}.json', 'w') as f:\n",
    "    potential.model.json(fp=f, indent=4)\n",
    "\n",
    "# Save ucell information to a JSON file\n",
    "ucell.dump('system_model', f='ucell.json')"
   ]
  },
  {
   "cell_type": "markdown",
   "id": "96e062a5-33ec-478d-b985-c4df7f722ac4",
   "metadata": {},
   "source": [
    "### 3.5. Run \n",
    "\n",
    "Calculations can be performed this way either from within Python by passing the script (or dict equivalent) to a calculation object's **run()** function.  When finished, it will generate a \"results.json\" file if results_json=True.\n",
    "\n",
    "\n",
    "Alternatively, if you save the script as \"calc_{calc_name}.in\", you can run it from the command line using \"iprPy run calc_{calc_name}.in\"."
   ]
  },
  {
   "cell_type": "code",
   "execution_count": 11,
   "id": "cb4d2c9f-3672-449d-a5a8-24d31c99abfd",
   "metadata": {
    "tags": []
   },
   "outputs": [],
   "source": [
    "calc.run(infile, results_json=True)"
   ]
  },
  {
   "cell_type": "markdown",
   "id": "c2052e7a-270c-40b2-b994-0fd33ed1cac3",
   "metadata": {},
   "source": [
    "### 3.6. Analyze results\n",
    "\n",
    "When ran with run(), the results values are automatically updated to the calc object as attributes.  "
   ]
  },
  {
   "cell_type": "code",
   "execution_count": 12,
   "id": "8c44e7b6-3d3a-4612-80c3-f388ea401ed1",
   "metadata": {
    "tags": []
   },
   "outputs": [
    {
     "data": {
      "text/plain": [
       "<atomman.core.ElasticConstants.ElasticConstants at 0x2c79ea18890>"
      ]
     },
     "execution_count": 12,
     "metadata": {},
     "output_type": "execute_result"
    }
   ],
   "source": [
    "calc.C"
   ]
  },
  {
   "cell_type": "code",
   "execution_count": 13,
   "id": "3140ac9c-e2af-4aa4-8cf2-cf78348e9e28",
   "metadata": {
    "tags": []
   },
   "outputs": [
    {
     "name": "stdout",
     "output_type": "stream",
     "text": [
      "[[187.919 157.751 157.751   0.      0.      0.   ]\n",
      " [157.751 187.919 157.751   0.      0.      0.   ]\n",
      " [157.751 157.751 187.919   0.      0.      0.   ]\n",
      " [  0.      0.      0.     42.542   0.      0.   ]\n",
      " [  0.      0.      0.      0.     42.542   0.   ]\n",
      " [  0.      0.      0.      0.      0.     42.542]]\n"
     ]
    }
   ],
   "source": [
    "with np.printoptions(precision=3):\n",
    "    print(uc.get_in_units(calc.C.Cij, 'GPa'))"
   ]
  },
  {
   "cell_type": "markdown",
   "id": "73c569f2-91bd-4360-a3e8-4633aa5be63d",
   "metadata": {},
   "source": [
    "During the run call, we set results_json=True, which automatically saves the calculation's results to a JSON file."
   ]
  },
  {
   "cell_type": "code",
   "execution_count": 14,
   "id": "83476723-047c-4439-98dd-206ca5d7d559",
   "metadata": {
    "scrolled": true,
    "tags": []
   },
   "outputs": [
    {
     "name": "stdout",
     "output_type": "stream",
     "text": [
      "{\n",
      "    \"calculation-elastic-constants-static\": {\n",
      "        \"key\": \"da018473-fcae-4015-948b-45608144c4d4\",\n",
      "        \"calculation\": {\n",
      "            \"iprPy-version\": \"0.11.7\",\n",
      "            \"atomman-version\": \"1.5.1\",\n",
      "            \"LAMMPS-version\": \"3 Mar 2020\",\n",
      "            \"branch\": \"main\",\n",
      "            \"run-parameter\": {\n",
      "                \"size-multipliers\": {\n",
      "                    \"a\": [\n",
      "                        0,\n",
      "                        3\n",
      "                    ],\n",
      "                    \"b\": [\n",
      "                        0,\n",
      "                        3\n",
      "                    ],\n",
      "                    \"c\": [\n",
      "                        0,\n",
      "                        3\n",
      "                    ]\n",
      "                },\n",
      "                \"energytolerance\": 0.0,\n",
      "                \"forcetolerance\": {\n",
      "                    \"value\": 1e-06,\n",
      "                    \"unit\": \"eV/angstrom\"\n",
      "                },\n",
      "                \"maxiterations\": 100000,\n",
      "                \"maxevaluations\": 1000000,\n",
      "                \"maxatommotion\": {\n",
      "                    \"value\": 0.01,\n",
      "                    \"unit\": \"angstrom\"\n",
      "                },\n",
      "                \"strain-range\": 1e-06\n",
      "            }\n",
      "        },\n",
      "        \"potential-LAMMPS\": {\n",
      "            \"key\": \"dff08f9e-e9c4-4b33-b64a-4a862d5dcf8c\",\n",
      "            \"id\": \"2004--Zhou-X-W--Au--LAMMPS--ipr1\",\n",
      "            \"URL\": \"https://potentials.nist.gov/pid/rest/local/potentials/2004--Zhou-X-W--Au--LAMMPS--ipr1\",\n",
      "            \"potential\": {\n",
      "                \"key\": \"56c064d6-9bb4-42b6-b5e1-b54bb4dbae1d\",\n",
      "                \"id\": \"2004--Zhou-X-W-Johnson-R-A-Wadley-H-N-G--Au\",\n",
      "                \"URL\": \"https://potentials.nist.gov/pid/rest/local/potentials/potential.2004--Zhou-X-W-Johnson-R-A-Wadley-H-N-G--Au\"\n",
      "            }\n",
      "        },\n",
      "        \"system-info\": {\n",
      "            \"family\": null,\n",
      "            \"artifact\": {\n",
      "                \"file\": \"ucell.json\",\n",
      "                \"format\": \"system_model\",\n",
      "                \"load_options\": null\n",
      "            },\n",
      "            \"symbol\": [\n",
      "                \"Au\"\n",
      "            ],\n",
      "            \"composition\": \"Au\"\n",
      "        },\n",
      "        \"raw-elastic-constants\": [\n",
      "            {\n",
      "                \"Cij\": {\n",
      "                    \"value\": [\n",
      "                        187.91928166600002,\n",
      "                        157.75122930600307,\n",
      "                        157.75122930700186,\n",
      "                        3.3212068776290995e-10,\n",
      "                        -4.904757061749549e-10,\n",
      "                        1.8881581382855997e-10,\n",
      "                        157.75122931200033,\n",
      "                        187.9192816750068,\n",
      "                        157.75122931200468,\n",
      "                        2.0236137057348402e-10,\n",
      "                        -1.3957510778485451e-09,\n",
      "                        -6.7403914587546e-10,\n",
      "                        157.7512293130035,\n",
      "                        157.75122931100586,\n",
      "                        187.91928167600128,\n",
      "                        3.8426711772253e-10,\n",
      "                        -3.12487269607275e-10,\n",
      "                        1.8423134865701703e-09,\n",
      "                        -8.945300244930382e-05,\n",
      "                        -0.00024282999608829652,\n",
      "                        -0.00017283199753077822,\n",
      "                        42.541598307794615,\n",
      "                        1.0678077986382e-10,\n",
      "                        1.0322501729722702e-09,\n",
      "                        -0.00024283500323116038,\n",
      "                        -8.94550000951992e-05,\n",
      "                        -0.00017283199753077822,\n",
      "                        -1.18527385494954e-09,\n",
      "                        42.54159830930611,\n",
      "                        -2.5494226155440007e-11,\n",
      "                        -0.00024283400006550423,\n",
      "                        -0.00017283300069643437,\n",
      "                        -8.94550000951992e-05,\n",
      "                        -1.25892935444964e-09,\n",
      "                        1.3806457028503553e-09,\n",
      "                        42.541598307553386\n",
      "                    ],\n",
      "                    \"shape\": [\n",
      "                        6,\n",
      "                        6\n",
      "                    ],\n",
      "                    \"unit\": \"GPa\"\n",
      "                }\n",
      "            },\n",
      "            {\n",
      "                \"Cij\": {\n",
      "                    \"value\": [\n",
      "                        187.91805012600395,\n",
      "                        157.7515381639935,\n",
      "                        157.75153816299468,\n",
      "                        -6.9655312482835e-10,\n",
      "                        -5.75490100104245e-10,\n",
      "                        -7.042129273501299e-10,\n",
      "                        157.7515381760011,\n",
      "                        187.91805013699968,\n",
      "                        157.7515381739991,\n",
      "                        -1.20200748813637e-10,\n",
      "                        -1.113650293450655e-09,\n",
      "                        7.3437806422447e-10,\n",
      "                        157.75153817699558,\n",
      "                        157.7515381759924,\n",
      "                        187.91805014099498,\n",
      "                        4.494659306866799e-10,\n",
      "                        8.45484999912825e-10,\n",
      "                        5.327584801609501e-10,\n",
      "                        8.945600326085536e-05,\n",
      "                        0.0002428359977113996,\n",
      "                        0.00017283099870783053,\n",
      "                        42.54159830706839,\n",
      "                        1.27860815194985e-10,\n",
      "                        -3.7344114629337996e-10,\n",
      "                        0.00024282899726534883,\n",
      "                        8.944699648349228e-05,\n",
      "                        0.00017282699473062282,\n",
      "                        1.00911254334154e-09,\n",
      "                        42.541598306231904,\n",
      "                        -4.942967294863799e-10,\n",
      "                        0.00024282599645379728,\n",
      "                        0.00017282599590767513,\n",
      "                        8.944699648349228e-05,\n",
      "                        -1.75977468279096e-09,\n",
      "                        1.74717668464935e-10,\n",
      "                        42.54159830634362\n",
      "                    ],\n",
      "                    \"shape\": [\n",
      "                        6,\n",
      "                        6\n",
      "                    ],\n",
      "                    \"unit\": \"GPa\"\n",
      "                }\n",
      "            }\n",
      "        ],\n",
      "        \"elastic-constants\": {\n",
      "            \"Cij\": {\n",
      "                \"value\": [\n",
      "                    187.91866589600198,\n",
      "                    157.7513837394995,\n",
      "                    157.75138373999891,\n",
      "                    0.0,\n",
      "                    0.0,\n",
      "                    0.0,\n",
      "                    157.7513837394995,\n",
      "                    187.91866590600324,\n",
      "                    157.7513837432505,\n",
      "                    0.0,\n",
      "                    0.0,\n",
      "                    0.0,\n",
      "                    157.75138373999891,\n",
      "                    157.7513837432505,\n",
      "                    187.91866590849813,\n",
      "                    0.0,\n",
      "                    0.0,\n",
      "                    0.0,\n",
      "                    0.0,\n",
      "                    0.0,\n",
      "                    0.0,\n",
      "                    42.5415983074315,\n",
      "                    0.0,\n",
      "                    0.0,\n",
      "                    0.0,\n",
      "                    0.0,\n",
      "                    0.0,\n",
      "                    0.0,\n",
      "                    42.54159830776901,\n",
      "                    0.0,\n",
      "                    0.0,\n",
      "                    0.0,\n",
      "                    0.0,\n",
      "                    0.0,\n",
      "                    0.0,\n",
      "                    42.5415983069485\n",
      "                ],\n",
      "                \"shape\": [\n",
      "                    6,\n",
      "                    6\n",
      "                ],\n",
      "                \"unit\": \"GPa\"\n",
      "            }\n",
      "        }\n",
      "    }\n",
      "}\n"
     ]
    }
   ],
   "source": [
    "with open('results.json') as f:\n",
    "    print(f.read())"
   ]
  },
  {
   "cell_type": "markdown",
   "id": "01572dfa-df11-4671-ad82-d8a496f53ea0",
   "metadata": {},
   "source": [
    "The results file can be used to create a new calculation object by providing it when calling load_calculation."
   ]
  },
  {
   "cell_type": "code",
   "execution_count": 15,
   "id": "5cee743a-1750-4368-9208-aca670c6672d",
   "metadata": {
    "tags": []
   },
   "outputs": [],
   "source": [
    "newcalc = iprPy.load_calculation('elastic_constants_static', model='results.json')"
   ]
  },
  {
   "cell_type": "code",
   "execution_count": 16,
   "id": "fb746b39-2a8e-4696-92dc-f00e4126e145",
   "metadata": {
    "tags": []
   },
   "outputs": [
    {
     "name": "stdout",
     "output_type": "stream",
     "text": [
      "[[187.919 157.751 157.751   0.      0.      0.   ]\n",
      " [157.751 187.919 157.751   0.      0.      0.   ]\n",
      " [157.751 157.751 187.919   0.      0.      0.   ]\n",
      " [  0.      0.      0.     42.542   0.      0.   ]\n",
      " [  0.      0.      0.      0.     42.542   0.   ]\n",
      " [  0.      0.      0.      0.      0.     42.542]]\n"
     ]
    }
   ],
   "source": [
    "with np.printoptions(precision=3):\n",
    "    print(uc.get_in_units(newcalc.C.Cij, 'GPa'))"
   ]
  },
  {
   "cell_type": "markdown",
   "id": "2e0c2118-b4a2-4471-bdd2-7328e04151cf",
   "metadata": {},
   "source": [
    "## 4. Explore the public database\n",
    "\n",
    "The calculation objects also contain information about what terms can be used to query for existing records in a database.  You can perform these queries either with a local database or to explore the existing results in the public potentials.nist.gov database."
   ]
  },
  {
   "cell_type": "markdown",
   "id": "8cf22497-c9e7-4e95-a942-406745c7c378",
   "metadata": {},
   "source": [
    "### 4.1. View queryable terms\n",
    "\n",
    "You can see the queryable terms for a calculation by viewing its querydoc."
   ]
  },
  {
   "cell_type": "code",
   "execution_count": 17,
   "id": "4241eeba-a49c-4b0e-9ccb-07f9b6833bfd",
   "metadata": {
    "tags": []
   },
   "outputs": [
    {
     "data": {
      "text/markdown": [
       "# calculation_elastic_constants_static Query Parameters\n",
       "\n",
       "- __key__ (*str or list, optional*): search by calculation's UUID key\n",
       "- __iprPy_version__ (*str or list, optional*): search by iprPy version used\n",
       "- __atomman_version__ (*str or list, optional*): search by atomman version used\n",
       "- __branch__ (*str or list, optional*): search by calculation branch name\n",
       "- __status__ (*str or list, optional*): search by calculation status\n",
       "- __lammps_version__ (*str or list, optional*): search by LAMMPS version\n",
       "- __potential_LAMMPS_key__ (*str or list, optional*): search by potential implementation's UUID key\n",
       "- __potential_LAMMPS_id__ (*str or list, optional*): search by potential implementation's id\n",
       "- __potential_key__ (*str or list, optional*): search by potential's UUID key\n",
       "- __potential_id__ (*str or list, optional*): search by potential's id\n",
       "- __load_file__ (*str or list, optional*): search by the filename for the initial configuration\n",
       "- __parent_key__ (*str or list, optional*): search by the key of the parent record\n",
       "- __family__ (*str or list, optional*): search by the configuration family: original prototype or crystal\n",
       "- __symbol__ (*str or list, optional*): search by atomic symbols in the configuration\n",
       "- __composition__ (*str or list, optional*): search by the composition of the initial configuration\n",
       "- __a_mult1__ (*int or list, optional*): search by lower a_mult value\n",
       "- __a_mult2__ (*int or list, optional*): search by upper a_mult value\n",
       "- __b_mult1__ (*int or list, optional*): search by lower b_mult value\n",
       "- __b_mult2__ (*int or list, optional*): search by upper b_mult value\n",
       "- __c_mult1__ (*int or list, optional*): search by lower c_mult value\n",
       "- __c_mult2__ (*int or list, optional*): search by upper c_mult value\n",
       "- __strainrange__ (*float or list, optional*): search by strain range used\n"
      ],
      "text/plain": [
       "<IPython.core.display.Markdown object>"
      ]
     },
     "metadata": {},
     "output_type": "display_data"
    }
   ],
   "source": [
    "display(Markdown(calc.querydoc))"
   ]
  },
  {
   "cell_type": "markdown",
   "id": "071846bc-3cd5-494f-934f-d6e476172b2f",
   "metadata": {},
   "source": [
    "### 4.2. Connect to the public database and query "
   ]
  },
  {
   "cell_type": "code",
   "execution_count": 18,
   "id": "8b125b1c-c34d-4d10-95fd-eb860f56cd18",
   "metadata": {
    "tags": []
   },
   "outputs": [],
   "source": [
    "remote = iprPy.load_database('potentials')"
   ]
  },
  {
   "cell_type": "code",
   "execution_count": 19,
   "id": "fbdde844-755f-4b58-9de2-649e1ff20738",
   "metadata": {
    "tags": []
   },
   "outputs": [],
   "source": [
    "records, records_df = remote.get_records('calculation_elastic_constants_static',\n",
    "                                         potential_LAMMPS_id = '2004--Zhou-X-W--Au--LAMMPS--ipr2',\n",
    "                                         family = 'A1--Cu--fcc',\n",
    "                                         return_df = True)"
   ]
  },
  {
   "cell_type": "code",
   "execution_count": 20,
   "id": "8777c568-11ba-4fe2-bb9d-357847100e0a",
   "metadata": {
    "tags": []
   },
   "outputs": [
    {
     "data": {
      "text/html": [
       "<div>\n",
       "<style scoped>\n",
       "    .dataframe tbody tr th:only-of-type {\n",
       "        vertical-align: middle;\n",
       "    }\n",
       "\n",
       "    .dataframe tbody tr th {\n",
       "        vertical-align: top;\n",
       "    }\n",
       "\n",
       "    .dataframe thead th {\n",
       "        text-align: right;\n",
       "    }\n",
       "</style>\n",
       "<table border=\"1\" class=\"dataframe\">\n",
       "  <thead>\n",
       "    <tr style=\"text-align: right;\">\n",
       "      <th></th>\n",
       "      <th>name</th>\n",
       "      <th>key</th>\n",
       "      <th>url</th>\n",
       "      <th>iprPy_version</th>\n",
       "      <th>atomman_version</th>\n",
       "      <th>script</th>\n",
       "      <th>branch</th>\n",
       "      <th>status</th>\n",
       "      <th>lammps_version</th>\n",
       "      <th>potential_LAMMPS_key</th>\n",
       "      <th>...</th>\n",
       "      <th>c_uvw</th>\n",
       "      <th>energytolerance</th>\n",
       "      <th>forcetolerance</th>\n",
       "      <th>maxiterations</th>\n",
       "      <th>maxevaluations</th>\n",
       "      <th>maxatommotion</th>\n",
       "      <th>strainrange</th>\n",
       "      <th>C</th>\n",
       "      <th>raw_Cij_negative</th>\n",
       "      <th>raw_Cij_positive</th>\n",
       "    </tr>\n",
       "  </thead>\n",
       "  <tbody>\n",
       "    <tr>\n",
       "      <th>0</th>\n",
       "      <td>958be148-951c-4caa-9e3e-f2c9f1398bc0</td>\n",
       "      <td>958be148-951c-4caa-9e3e-f2c9f1398bc0</td>\n",
       "      <td>https://potentials.nist.gov/pid/rest/local/pot...</td>\n",
       "      <td>0.9.alpha</td>\n",
       "      <td>1.2.7</td>\n",
       "      <td>calc_elastic_constants_static</td>\n",
       "      <td>main</td>\n",
       "      <td>finished</td>\n",
       "      <td>6 Jul 2017</td>\n",
       "      <td>8439c072-b93c-4a6e-a7e6-aca990abd97d</td>\n",
       "      <td>...</td>\n",
       "      <td>[0, 0, 1]</td>\n",
       "      <td>0.0</td>\n",
       "      <td>0.000001</td>\n",
       "      <td>5000</td>\n",
       "      <td>10000</td>\n",
       "      <td>0.01</td>\n",
       "      <td>1.000000e-07</td>\n",
       "      <td>[[1.16327913 0.98205864 0.98205864 0.         ...</td>\n",
       "      <td>[[1.1632795959730886, 0.9820589659681447, 0.98...</td>\n",
       "      <td>[[1.1632786638828596, 0.9820583083239733, 0.98...</td>\n",
       "    </tr>\n",
       "    <tr>\n",
       "      <th>1</th>\n",
       "      <td>d4c51a2b-e51f-491b-a6a9-b6b7b4cae315</td>\n",
       "      <td>d4c51a2b-e51f-491b-a6a9-b6b7b4cae315</td>\n",
       "      <td>https://potentials.nist.gov/pid/rest/local/pot...</td>\n",
       "      <td>0.9.alpha</td>\n",
       "      <td>1.2.7</td>\n",
       "      <td>calc_elastic_constants_static</td>\n",
       "      <td>main</td>\n",
       "      <td>finished</td>\n",
       "      <td>6 Jul 2017</td>\n",
       "      <td>8439c072-b93c-4a6e-a7e6-aca990abd97d</td>\n",
       "      <td>...</td>\n",
       "      <td>[0, 0, 1]</td>\n",
       "      <td>0.0</td>\n",
       "      <td>0.000001</td>\n",
       "      <td>5000</td>\n",
       "      <td>10000</td>\n",
       "      <td>0.01</td>\n",
       "      <td>1.000000e-06</td>\n",
       "      <td>[[ 0.17818931  1.00120433  1.00120433  0.     ...</td>\n",
       "      <td>[[1.1632837903217443, 0.982061937728725, 0.982...</td>\n",
       "      <td>[[-0.8069051750233892, 1.0203467230934378, 1.0...</td>\n",
       "    </tr>\n",
       "    <tr>\n",
       "      <th>2</th>\n",
       "      <td>def77825-8798-4d84-9560-6d35f321cf38</td>\n",
       "      <td>def77825-8798-4d84-9560-6d35f321cf38</td>\n",
       "      <td>https://potentials.nist.gov/pid/rest/local/pot...</td>\n",
       "      <td>0.9.alpha</td>\n",
       "      <td>1.2.7</td>\n",
       "      <td>calc_elastic_constants_static</td>\n",
       "      <td>main</td>\n",
       "      <td>finished</td>\n",
       "      <td>6 Jul 2017</td>\n",
       "      <td>8439c072-b93c-4a6e-a7e6-aca990abd97d</td>\n",
       "      <td>...</td>\n",
       "      <td>[0, 0, 1]</td>\n",
       "      <td>0.0</td>\n",
       "      <td>0.000001</td>\n",
       "      <td>5000</td>\n",
       "      <td>10000</td>\n",
       "      <td>0.01</td>\n",
       "      <td>1.000000e-08</td>\n",
       "      <td>[[ 1.16327912e+00  9.82058633e-01  9.82058633e...</td>\n",
       "      <td>[[1.1632791682775425, 0.9820586602361632, 0.98...</td>\n",
       "      <td>[[1.1632790739325358, 0.9820586047863148, 0.98...</td>\n",
       "    </tr>\n",
       "  </tbody>\n",
       "</table>\n",
       "<p>3 rows × 42 columns</p>\n",
       "</div>"
      ],
      "text/plain": [
       "                                   name                                   key  \\\n",
       "0  958be148-951c-4caa-9e3e-f2c9f1398bc0  958be148-951c-4caa-9e3e-f2c9f1398bc0   \n",
       "1  d4c51a2b-e51f-491b-a6a9-b6b7b4cae315  d4c51a2b-e51f-491b-a6a9-b6b7b4cae315   \n",
       "2  def77825-8798-4d84-9560-6d35f321cf38  def77825-8798-4d84-9560-6d35f321cf38   \n",
       "\n",
       "                                                 url iprPy_version  \\\n",
       "0  https://potentials.nist.gov/pid/rest/local/pot...     0.9.alpha   \n",
       "1  https://potentials.nist.gov/pid/rest/local/pot...     0.9.alpha   \n",
       "2  https://potentials.nist.gov/pid/rest/local/pot...     0.9.alpha   \n",
       "\n",
       "  atomman_version                         script branch    status  \\\n",
       "0           1.2.7  calc_elastic_constants_static   main  finished   \n",
       "1           1.2.7  calc_elastic_constants_static   main  finished   \n",
       "2           1.2.7  calc_elastic_constants_static   main  finished   \n",
       "\n",
       "  lammps_version                  potential_LAMMPS_key  ...      c_uvw  \\\n",
       "0     6 Jul 2017  8439c072-b93c-4a6e-a7e6-aca990abd97d  ...  [0, 0, 1]   \n",
       "1     6 Jul 2017  8439c072-b93c-4a6e-a7e6-aca990abd97d  ...  [0, 0, 1]   \n",
       "2     6 Jul 2017  8439c072-b93c-4a6e-a7e6-aca990abd97d  ...  [0, 0, 1]   \n",
       "\n",
       "  energytolerance forcetolerance maxiterations maxevaluations maxatommotion  \\\n",
       "0             0.0       0.000001          5000          10000          0.01   \n",
       "1             0.0       0.000001          5000          10000          0.01   \n",
       "2             0.0       0.000001          5000          10000          0.01   \n",
       "\n",
       "    strainrange                                                  C  \\\n",
       "0  1.000000e-07  [[1.16327913 0.98205864 0.98205864 0.         ...   \n",
       "1  1.000000e-06  [[ 0.17818931  1.00120433  1.00120433  0.     ...   \n",
       "2  1.000000e-08  [[ 1.16327912e+00  9.82058633e-01  9.82058633e...   \n",
       "\n",
       "                                    raw_Cij_negative  \\\n",
       "0  [[1.1632795959730886, 0.9820589659681447, 0.98...   \n",
       "1  [[1.1632837903217443, 0.982061937728725, 0.982...   \n",
       "2  [[1.1632791682775425, 0.9820586602361632, 0.98...   \n",
       "\n",
       "                                    raw_Cij_positive  \n",
       "0  [[1.1632786638828596, 0.9820583083239733, 0.98...  \n",
       "1  [[-0.8069051750233892, 1.0203467230934378, 1.0...  \n",
       "2  [[1.1632790739325358, 0.9820586047863148, 0.98...  \n",
       "\n",
       "[3 rows x 42 columns]"
      ]
     },
     "execution_count": 20,
     "metadata": {},
     "output_type": "execute_result"
    }
   ],
   "source": [
    "records_df"
   ]
  },
  {
   "cell_type": "code",
   "execution_count": 26,
   "id": "503a47e7-56c0-4d7f-9935-eb090a2d3857",
   "metadata": {
    "tags": []
   },
   "outputs": [
    {
     "name": "stdout",
     "output_type": "stream",
     "text": [
      "1e-07 186.37786407904505\n",
      "1e-06 28.549074514414997\n",
      "1e-08 186.37786266545504\n"
     ]
    }
   ],
   "source": [
    "for record in records:\n",
    "    print(record.strainrange, uc.get_in_units(record.C.Cij[0,0], 'GPa'))"
   ]
  },
  {
   "cell_type": "markdown",
   "id": "29e04379-2388-4f1f-a594-c370b43f5716",
   "metadata": {},
   "source": [
    "**File cleanup**"
   ]
  },
  {
   "cell_type": "code",
   "execution_count": 28,
   "id": "1cd189bd-2c92-4660-bbc7-eedd710e4fb4",
   "metadata": {
    "tags": []
   },
   "outputs": [],
   "source": [
    "from pathlib import Path\n",
    "import shutil\n",
    "\n",
    "for potdir in Path().glob('19*--ipr*'):\n",
    "    if potdir.is_dir():\n",
    "        shutil.rmtree(potdir)\n",
    "for potdir in Path().glob('20*--ipr*'):\n",
    "    if potdir.is_dir():\n",
    "        shutil.rmtree(potdir)\n",
    "\n",
    "for potjson in Path().glob('19*--ipr*.json'):\n",
    "    potjson.unlink()\n",
    "for potjson in Path().glob('20*--ipr*.json'):\n",
    "    potjson.unlink()\n",
    "\n",
    "if Path('results.json').exists():\n",
    "    Path('results.json').unlink()\n",
    "if Path('ucell.json').exists():\n",
    "    Path('ucell.json').unlink()\n",
    "    \n",
    "calc.clean_files()"
   ]
  }
 ],
 "metadata": {
  "kernelspec": {
   "display_name": "Python 3 (ipykernel)",
   "language": "python",
   "name": "python3"
  },
  "language_info": {
   "codemirror_mode": {
    "name": "ipython",
    "version": 3
   },
   "file_extension": ".py",
   "mimetype": "text/x-python",
   "name": "python",
   "nbconvert_exporter": "python",
   "pygments_lexer": "ipython3",
   "version": "3.11.3"
  }
 },
 "nbformat": 4,
 "nbformat_minor": 5
}
