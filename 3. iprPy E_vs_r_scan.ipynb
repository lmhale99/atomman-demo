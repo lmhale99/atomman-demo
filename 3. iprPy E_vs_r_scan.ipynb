{
 "cells": [
  {
   "cell_type": "markdown",
   "id": "55b3471e",
   "metadata": {},
   "source": [
    "# isolated_atom - Python class"
   ]
  },
  {
   "cell_type": "markdown",
   "id": "1eb6d6ea",
   "metadata": {},
   "source": [
    "__Python imports__\n",
    "\n",
    "- [numpy](http://www.numpy.org/)\n",
    "- [IPython](https://ipython.org)\n",
    "- [atomman](https://github.com/usnistgov/atomman)\n",
    "- [iprPy](https://github.com/usnistgov/iprPy)"
   ]
  },
  {
   "cell_type": "code",
   "execution_count": 1,
   "id": "23390e94",
   "metadata": {},
   "outputs": [
    {
     "name": "stdout",
     "output_type": "stream",
     "text": [
      "Notebook last executed on 2023-08-08 using iprPy version 0.11.6\n"
     ]
    }
   ],
   "source": [
    "# Standard Python packages\n",
    "import os\n",
    "from pathlib import Path\n",
    "\n",
    "# Test if this is a colab environment\n",
    "iscolab = 'COLAB_RELEASE_TAG' in os.environ\n",
    "\n",
    "# Install LAMMPS and atomman in colab if needed\n",
    "if iscolab and not Path('lmp').exists():\n",
    "    \n",
    "    if not Path('run').exists():\n",
    "        Path('run').mkdir()\n",
    "    \n",
    "    print('Installing LAMMPS - please wait...')\n",
    "    !wget https://github.com/lmhale99/atomman-demo/raw/main/lmp.gz\n",
    "    !gunzip lmp.gz\n",
    "    !chmod 755 lmp\n",
    "    \n",
    "    print('Installing iprPy')\n",
    "    !pip install iprPy\n",
    "\n",
    "    print('!!!!! RESTART KERNEL/RUNTIME BEFORE CONTINUING!!!!!')\n",
    "    \n",
    "# Import installed packages\n",
    "else:\n",
    "\n",
    "    # Standard library imports\n",
    "    import datetime\n",
    "    from math import floor\n",
    "\n",
    "    # http://www.numpy.org/\n",
    "    import numpy as np\n",
    "\n",
    "    # https://ipython.org/\n",
    "    from IPython.display import display, Markdown\n",
    "\n",
    "    import matplotlib.pyplot as plt\n",
    "    \n",
    "    # https://github.com/usnistgov/atomman \n",
    "    import atomman as am\n",
    "    import atomman.lammps as lmp\n",
    "    import atomman.unitconvert as uc\n",
    "\n",
    "    # https://github.com/usnistgov/iprPy\n",
    "    import iprPy\n",
    "\n",
    "    print('Notebook last executed on', datetime.date.today(), 'using iprPy version', iprPy.__version__)"
   ]
  },
  {
   "cell_type": "markdown",
   "id": "7f981fa6",
   "metadata": {},
   "source": [
    "## 1. Load calculation and view description\n",
    "\n",
    "### 1.1. Load the calculation"
   ]
  },
  {
   "cell_type": "code",
   "execution_count": 2,
   "id": "31194d91",
   "metadata": {},
   "outputs": [],
   "source": [
    "# Load the calculation being demoed\n",
    "calculation = iprPy.load_calculation('E_vs_r_scan')"
   ]
  },
  {
   "cell_type": "markdown",
   "id": "a8c14707",
   "metadata": {},
   "source": [
    "### 1.2. Display calculation description and theory"
   ]
  },
  {
   "cell_type": "code",
   "execution_count": 3,
   "id": "e1edad88",
   "metadata": {},
   "outputs": [
    {
     "data": {
      "text/markdown": [
       "# E_vs_r_scan calculation style\n",
       "\n",
       "**Lucas M. Hale**, [lucas.hale@nist.gov](mailto:lucas.hale@nist.gov?Subject=ipr-demo), *Materials Science and Engineering Division, NIST*.\n",
       "\n",
       "## Introduction\n",
       "\n",
       "The E_vs_r_scan calculation style calculation creates a plot of the cohesive energy vs interatomic spacing, $r$, for a given atomic system. The system size is uniformly scaled ($b/a$ and $c/a$ ratios held fixed) and the energy is calculated at a number of sizes without relaxing the system. All box sizes corresponding to energy minima are identified.\n",
       "\n",
       "This calculation was created as a quick method for scanning the phase space of a crystal structure with a given potential in order to identify starting guesses for further structure refinement calculations.\n",
       "\n",
       "### Version notes\n",
       "\n",
       "- 2018-07-09: Notebook added.\n",
       "- 2019-07-30: Description updated and small changes due to iprPy version.\n",
       "- 2020-05-22: Version 0.10 update - potentials now loaded from database.\n",
       "- 2020-09-22: Setup and parameter definitions streamlined.\n",
       "- 2022-03-11: Notebook updated to reflect version 0.11. r_a() function replaced by the atomman.System.r0() method.\n",
       "\n",
       "### Additional dependencies\n",
       "\n",
       "### Disclaimers\n",
       "\n",
       "- [NIST disclaimers](http://www.nist.gov/public_affairs/disclaimer.cfm)\n",
       "- The minima identified by this calculation do not guarantee that the associated crystal structure will be stable as no relaxation is performed by this calculation. Upon relaxation, the atomic positions and box dimensions may transform the system to a different structure.\n",
       "- It is possible that the calculation may miss an existing minima for a crystal structure if it is outside the range of $r$ values scanned, or has $b/a$, $c/a$ values far from the ideal.\n"
      ],
      "text/plain": [
       "<IPython.core.display.Markdown object>"
      ]
     },
     "metadata": {},
     "output_type": "display_data"
    },
    {
     "data": {
      "text/markdown": [
       "## Method and Theory\n",
       "\n",
       "An initial system (and corresponding unit cell system) is supplied. The $r/a$ ratio is identified from the unit cell. The system is then uniformly scaled to all $r_i$ values in the range to be explored and the energy for each is evaluated using LAMMPS and \"run 0\" command, i.e. no relaxations are performed.\n",
       "\n",
       "In identifying energy minima along the curve, only the explored values are used without interpolation. In this way, the possible energy minima structures are identified for $r_i$ where $E(r_i) < E(r_{i-1})$ and $E(r_i) < E(r_{i+1})$.\n"
      ],
      "text/plain": [
       "<IPython.core.display.Markdown object>"
      ]
     },
     "metadata": {},
     "output_type": "display_data"
    },
    {
     "data": {
      "text/markdown": [
       "## Calculation function docstring"
      ],
      "text/plain": [
       "<IPython.core.display.Markdown object>"
      ]
     },
     "metadata": {},
     "output_type": "display_data"
    },
    {
     "name": "stdout",
     "output_type": "stream",
     "text": [
      "\n",
      "    Performs a cohesive energy scan over a range of interatomic spaces, r.\n",
      "    \n",
      "    Parameters\n",
      "    ----------\n",
      "    lammps_command :str\n",
      "        Command for running LAMMPS.\n",
      "    system : atomman.System\n",
      "        The system to perform the calculation on.\n",
      "    potential : atomman.lammps.Potential\n",
      "        The LAMMPS implemented potential to use.\n",
      "    mpi_command : str, optional\n",
      "        The MPI command for running LAMMPS in parallel.  If not given, LAMMPS\n",
      "        will run serially.\n",
      "    ucell : atomman.System, optional\n",
      "        The fundamental unit cell correspodning to system.  This is used to\n",
      "        convert system dimensions to cell dimensions. If not given, ucell will\n",
      "        be taken as system.\n",
      "    rmin : float, optional\n",
      "        The minimum r spacing to use (default value is 2.0 angstroms).\n",
      "    rmax : float, optional\n",
      "        The maximum r spacing to use (default value is 6.0 angstroms).\n",
      "    rsteps : int, optional\n",
      "        The number of r spacing steps to evaluate (default value is 200).\n",
      "    \n",
      "    Returns\n",
      "    -------\n",
      "    dict\n",
      "        Dictionary of results consisting of keys:\n",
      "        \n",
      "        - **'r_values'** (*numpy.array of float*) - All interatomic spacings,\n",
      "          r, explored.\n",
      "        - **'a_values'** (*numpy.array of float*) - All unit cell a lattice\n",
      "          constants corresponding to the values explored.\n",
      "        - **'Ecoh_values'** (*numpy.array of float*) - The computed cohesive\n",
      "          energies for each r value.\n",
      "        - **'min_cell'** (*list of atomman.System*) - Systems corresponding to\n",
      "          the minima identified in the Ecoh_values.\n",
      "    \n"
     ]
    }
   ],
   "source": [
    "# Display main docs and theory\n",
    "display(Markdown(calculation.maindoc))\n",
    "display(Markdown(calculation.theorydoc))\n",
    "display(Markdown('## Calculation function docstring'))\n",
    "print(calculation.calc.__doc__)"
   ]
  },
  {
   "cell_type": "markdown",
   "id": "93bb4518",
   "metadata": {},
   "source": [
    "## 2. Specify input parameters\n",
    "\n",
    "The calculation input parameters can be specified directly to the associated calculation's attributes."
   ]
  },
  {
   "cell_type": "markdown",
   "id": "d1622947",
   "metadata": {},
   "source": [
    "### 2.1. LAMMPS-related commands"
   ]
  },
  {
   "cell_type": "code",
   "execution_count": 4,
   "id": "b3496296",
   "metadata": {},
   "outputs": [
    {
     "name": "stdout",
     "output_type": "stream",
     "text": [
      "Using LAMMPS version 15 Sep 2022\n"
     ]
    }
   ],
   "source": [
    "if iscolab:\n",
    "    lammps_command = '/content/lmp'\n",
    "    mpi_command = None\n",
    "    \n",
    "else:\n",
    "    lammps_command = 'lmp'\n",
    "    mpi_command = None\n",
    "    \n",
    "# Test that the lammps executable works and print LAMMPS version\n",
    "print('Using LAMMPS version', am.lammps.checkversion(lammps_command)['version'])"
   ]
  },
  {
   "cell_type": "markdown",
   "id": "76fed5b6",
   "metadata": {},
   "source": [
    "### 2.2. Interatomic potential"
   ]
  },
  {
   "cell_type": "code",
   "execution_count": 5,
   "id": "60b4b6a3",
   "metadata": {},
   "outputs": [],
   "source": [
    "potential_name = '1999--Mishin-Y--Ni--LAMMPS--ipr1'\n",
    "potential = am.load_lammps_potential(id=potential_name, getfiles=True)"
   ]
  },
  {
   "cell_type": "markdown",
   "id": "435b2b58",
   "metadata": {},
   "source": [
    "### 2.3. Initial unit cell system"
   ]
  },
  {
   "cell_type": "code",
   "execution_count": 6,
   "id": "601559b6",
   "metadata": {},
   "outputs": [],
   "source": [
    "# Create ucell by loading prototype record\n",
    "ucell = am.load('prototype', 'A1--Cu--fcc', symbols='Ni')"
   ]
  },
  {
   "cell_type": "markdown",
   "id": "35193ffd",
   "metadata": {},
   "source": [
    "### 2.4. System modifications"
   ]
  },
  {
   "cell_type": "code",
   "execution_count": 7,
   "id": "9985043f",
   "metadata": {},
   "outputs": [
    {
     "name": "stdout",
     "output_type": "stream",
     "text": [
      "# of atoms in system = 108\n"
     ]
    }
   ],
   "source": [
    "sizemults = [3, 3, 3]\n",
    "\n",
    "# Generate system by supersizing ucell\n",
    "system = ucell.supersize(*sizemults)\n",
    "print('# of atoms in system =', system.natoms)"
   ]
  },
  {
   "cell_type": "markdown",
   "id": "ed5c0967",
   "metadata": {},
   "source": [
    "### 3.5. Calculation-specific parameters"
   ]
  },
  {
   "cell_type": "code",
   "execution_count": 8,
   "id": "4d03e579",
   "metadata": {},
   "outputs": [],
   "source": [
    "rmin = uc.set_in_units(2.0, 'angstrom')\n",
    "rmax = uc.set_in_units(6.0, 'angstrom')\n",
    "rsteps = 200"
   ]
  },
  {
   "cell_type": "markdown",
   "id": "886e7915",
   "metadata": {},
   "source": [
    "## 4. Run calculation and view results"
   ]
  },
  {
   "cell_type": "code",
   "execution_count": 9,
   "id": "9e6d6e06",
   "metadata": {},
   "outputs": [
    {
     "name": "stdout",
     "output_type": "stream",
     "text": [
      "dict_keys(['r_values', 'a_values', 'Ecoh_values', 'min_cell'])\n"
     ]
    }
   ],
   "source": [
    "results_dict = calculation.calc(lammps_command, system, potential,\n",
    "                                mpi_command = mpi_command, \n",
    "                                ucell = ucell, \n",
    "                                rmin = rmin, \n",
    "                                rmax = rmax, \n",
    "                                rsteps = rsteps)\n",
    "print(results_dict.keys())"
   ]
  },
  {
   "cell_type": "code",
   "execution_count": 10,
   "id": "9960367c-bca4-420e-8aee-3c0f7069e63e",
   "metadata": {},
   "outputs": [],
   "source": [
    "# File cleanup\n",
    "for fglob in ['atom.dat', 'run0-*-log.lammps', 'run0.in']:\n",
    "    for fname in Path.cwd().glob(fglob):\n",
    "        fname.unlink()"
   ]
  },
  {
   "cell_type": "code",
   "execution_count": 12,
   "id": "9f6ed137",
   "metadata": {},
   "outputs": [
    {
     "data": {
      "image/png": "[encoded data removed]",
      "text/plain": [
       "<Figure size 800x600 with 1 Axes>"
      ]
     },
     "metadata": {},
     "output_type": "display_data"
    }
   ],
   "source": [
    "length_unit = 'angstrom'\n",
    "energy_unit = 'eV'\n",
    "\n",
    "\n",
    "Epot = uc.get_in_units(results_dict['Ecoh_values'], energy_unit)\n",
    "r = uc.get_in_units(results_dict['r_values'], length_unit)\n",
    "\n",
    "\n",
    "Emin = floor(Epot.min())\n",
    "if Emin < -10: \n",
    "    Emin = -10\n",
    "\n",
    "fig = plt.figure(figsize=(8,6))\n",
    "plt.plot(r, Epot)\n",
    "plt.xlim(r.min(), r.max())\n",
    "plt.ylim(Epot.min(), 0.0)\n",
    "plt.xlabel(f'r ({length_unit})')\n",
    "plt.ylabel(f'Cohesive Energy ({energy_unit}/atom)')\n",
    "\n",
    "plt.show()"
   ]
  },
  {
   "cell_type": "code",
   "execution_count": 13,
   "id": "3e6b86c5",
   "metadata": {},
   "outputs": [
    {
     "name": "stdout",
     "output_type": "stream",
     "text": [
      "Possible minimum near:\n",
      "a = 3.510660803076929 angstrom\n",
      "b = 3.510660803076929 angstrom\n",
      "c = 3.510660803076929 angstrom\n",
      "\n",
      "Possible minimum near:\n",
      "a = 7.376651646951118 angstrom\n",
      "b = 7.376651646951118 angstrom\n",
      "c = 7.376651646951118 angstrom\n",
      "\n"
     ]
    }
   ],
   "source": [
    "for mincell in results_dict['min_cell']:\n",
    "    print('Possible minimum near:')\n",
    "    print('a =', uc.get_in_units(mincell.box.a, length_unit), length_unit)\n",
    "    print('b =', uc.get_in_units(mincell.box.b, length_unit), length_unit)\n",
    "    print('c =', uc.get_in_units(mincell.box.c, length_unit), length_unit)\n",
    "    print()"
   ]
  },
  {
   "cell_type": "markdown",
   "id": "dfb604fe",
   "metadata": {},
   "source": [
    "   "
   ]
  }
 ],
 "metadata": {
  "kernelspec": {
   "display_name": "Python 3 (ipykernel)",
   "language": "python",
   "name": "python3"
  },
  "language_info": {
   "codemirror_mode": {
    "name": "ipython",
    "version": 3
   },
   "file_extension": ".py",
   "mimetype": "text/x-python",
   "name": "python",
   "nbconvert_exporter": "python",
   "pygments_lexer": "ipython3",
   "version": "3.11.3"
  }
 },
 "nbformat": 4,
 "nbformat_minor": 5
}
