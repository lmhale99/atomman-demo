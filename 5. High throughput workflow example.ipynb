{
 "cells": [
  {
   "cell_type": "markdown",
   "id": "d8066ac8-464a-48a8-bb04-431cc6b2afc7",
   "metadata": {},
   "source": [
    "# High throughput workflow example\n",
    "\n",
    "iprPy handles calculation workflows in two stages:\n",
    "\n",
    "1. Prepare creates multiple instances of a calculation both as input files and preliminary database entries.\n",
    "2. Runner jobs then systematically run the calculations, update the database entries, and upload any generated calculation files into the database."
   ]
  },
  {
   "cell_type": "code",
   "execution_count": 44,
   "id": "58a1eb62-7d5b-40ae-a438-1ef53911c0b7",
   "metadata": {
    "tags": []
   },
   "outputs": [],
   "source": [
    "from pathlib import Path\n",
    "\n",
    "import matplotlib.pyplot as plt\n",
    "\n",
    "import atomman as am\n",
    "import atomman.unitconvert as uc\n",
    "import iprPy\n",
    "\n",
    "import pandas as pd"
   ]
  },
  {
   "cell_type": "markdown",
   "id": "35e24cf8-738b-4fd3-a26d-b9a9a71b5b2e",
   "metadata": {},
   "source": [
    "## 1. Initial setup\n",
    "\n",
    "Here, we'll create a testing \"database\", and populate it with input files from the public database."
   ]
  },
  {
   "cell_type": "code",
   "execution_count": 38,
   "id": "87c0915d-96cf-44e6-9118-c2022a44e1e9",
   "metadata": {
    "tags": []
   },
   "outputs": [],
   "source": [
    "# First, create a directory for running the calculations\n",
    "run_directory = Path('.', 'run_directory')\n",
    "\n",
    "if not Path(run_directory).exists():\n",
    "    Path(run_directory).mkdir()"
   ]
  },
  {
   "cell_type": "code",
   "execution_count": 3,
   "id": "165d3f5d-2ba1-4cb5-b942-2b20e90d937b",
   "metadata": {
    "tags": []
   },
   "outputs": [],
   "source": [
    "# Now specify a database location to use\n",
    "database = iprPy.load_database(style='local', host='testing')"
   ]
  },
  {
   "cell_type": "markdown",
   "id": "c1af1173-471d-4ffc-97f7-798cfeb95daa",
   "metadata": {},
   "source": [
    "The iprPy databases have a \"potdb\" attribute, which will build the atomman-style database from the first Notebook."
   ]
  },
  {
   "cell_type": "code",
   "execution_count": 6,
   "id": "5c174941-ca41-4e8b-a0ab-b7afde56cb59",
   "metadata": {
    "tags": []
   },
   "outputs": [
    {
     "name": "stdout",
     "output_type": "stream",
     "text": [
      "database style cdcs at https://potentials.nist.gov/\n",
      "database style local at F:\\atomman-demo\\testing\n"
     ]
    }
   ],
   "source": [
    "potdb = database.potdb\n",
    "print(potdb.remote_database)\n",
    "print(potdb.local_database)"
   ]
  },
  {
   "cell_type": "markdown",
   "id": "85b0972e-bf24-4845-8f2d-a42d9767276d",
   "metadata": {},
   "source": [
    "Download all EAM potentials for Au"
   ]
  },
  {
   "cell_type": "code",
   "execution_count": 9,
   "id": "8217ad23-1667-48c7-8696-9280d82e7d5d",
   "metadata": {
    "tags": []
   },
   "outputs": [
    {
     "name": "stderr",
     "output_type": "stream",
     "text": [
      "100%|██████████| 19/19 [00:00<00:00, 52.75it/s]\n"
     ]
    },
    {
     "name": "stdout",
     "output_type": "stream",
     "text": [
      "Found 19 matching potential_LAMMPS records in remote library\n",
      "0 new records added to local\n",
      "19 existing records skipped\n",
      "34 existing parameter files skipped\n",
      "Found 0 matching potential_LAMMPS_KIM records in remote library\n",
      "0 new records added to local\n"
     ]
    }
   ],
   "source": [
    "potdb.download_lammps_potentials(\n",
    "    pair_style = ['eam', 'eam/alloy', 'eam/fs'],\n",
    "    symbols = 'Au',\n",
    "    downloadfiles = True,\n",
    "    verbose = True\n",
    ")"
   ]
  },
  {
   "cell_type": "markdown",
   "id": "d65f9ec7-236e-485d-94c6-cf4642e32ef3",
   "metadata": {},
   "source": [
    "Build the list of downloaded potentials"
   ]
  },
  {
   "cell_type": "code",
   "execution_count": 10,
   "id": "065b2a5a-eedc-4b90-b2ee-ed3a8c0f6d77",
   "metadata": {
    "tags": []
   },
   "outputs": [
    {
     "name": "stdout",
     "output_type": "stream",
     "text": [
      "['1986--Foiles-S-M--Ag-Au-Cu-Ni-Pd-Pt--LAMMPS--ipr1', '1986--Foiles-S-M--Au--LAMMPS--ipr1', '1987--Ackland-G-J--Au--LAMMPS--ipr1', '1987--Ackland-G-J--Au--LAMMPS--ipr2', '1989--Adams-J-B--Ag-Au-Cu-Ni-Pd-Pt--LAMMPS--ipr1', '1989--Adams-J-B--Au--LAMMPS--ipr1', '1990--Ackland-G-J--Cu-Ag-Au--LAMMPS--ipr1', '2004--Zhou-X-W--Au--LAMMPS--ipr1', '2004--Zhou-X-W--Au--LAMMPS--ipr2', '2004--Zhou-X-W--Cu-Ag-Au--LAMMPS--ipr1', '2004--Zhou-X-W--Cu-Ag-Au--LAMMPS--ipr2', '2004--Zhou-X-W--Cu-Ag-Au-Ni-Pd-Pt-Al-Pb-Fe-Mo-Ta-W-Mg-Co-Ti-Zr--LAMMPS--ipr1', '2005--Grochola-G--Au--LAMMPS--ipr1', '2009--Zhakhovskii-V-V--Au--LAMMPS--ipr1', '2009--Zhakhovskii-V-V--Au--LAMMPS--ipr2', '2010--Olsson-P-A-T--Au--LAMMPS--ipr1', '2012--Norman-G-E--Au--LAMMPS--ipr1', '2017--OBrien-C-J--Pt-Au--LAMMPS--ipr1', '2017--Purja-Pun-G-P--Au--LAMMPS--ipr1']\n"
     ]
    }
   ],
   "source": [
    "potential_LAMMPS_ids = database.get_records_df('potential_LAMMPS')['id'].tolist()\n",
    "print(potential_LAMMPS_ids)"
   ]
  },
  {
   "cell_type": "markdown",
   "id": "61f048c3-a3fe-41d4-9559-b6f836e783b9",
   "metadata": {},
   "source": [
    "Download all relaxed fcc crystals for the downloaded potentials"
   ]
  },
  {
   "cell_type": "code",
   "execution_count": 12,
   "id": "ff0360dd-a76d-4dd7-96c5-525aa2f517a8",
   "metadata": {
    "tags": []
   },
   "outputs": [
    {
     "name": "stderr",
     "output_type": "stream",
     "text": [
      "100%|██████████| 19/19 [00:01<00:00,  5.32it/s]"
     ]
    },
    {
     "name": "stdout",
     "output_type": "stream",
     "text": [
      "Found 19 matching relaxed_crystal records in remote library\n",
      "19 new records added to local\n"
     ]
    },
    {
     "name": "stderr",
     "output_type": "stream",
     "text": [
      "\n"
     ]
    }
   ],
   "source": [
    "potdb.download_relaxed_crystals(\n",
    "    method = 'dynamic',\n",
    "    standing = 'good',\n",
    "    family = 'A1--Cu--fcc',\n",
    "    potential_LAMMPS_id = potential_LAMMPS_ids,\n",
    "    symbols = 'Au',\n",
    "    verbose = True\n",
    ")"
   ]
  },
  {
   "cell_type": "markdown",
   "id": "fc517ea1-6e71-4295-be19-67a0edfff826",
   "metadata": {},
   "source": [
    "## 2. Prepare relax_static calculations as a function of pressure\n",
    "\n",
    "The prepare step is based on the input file variation of the individual calculation scripts.  In fact, prepare takes a similar input script with difference being that\n",
    "- Keys can now have multiple values which can be specified by repeating the key with new values on new lines.\n",
    "- The special buildcombos key can be used to call a pre-defined function that builds input values based on database entries."
   ]
  },
  {
   "cell_type": "code",
   "execution_count": 13,
   "id": "94f5f9a5-5796-432d-b592-17d9d0eaa5d5",
   "metadata": {
    "tags": []
   },
   "outputs": [
    {
     "name": "stdout",
     "output_type": "stream",
     "text": [
      "# Input script for iprPy calculation relax_static\n",
      "\n",
      "# Calculation Metadata\n",
      "branch                          <branch>\n",
      "\n",
      "# LAMMPS and MPI Commands\n",
      "lammps_command                  <lammps_command>\n",
      "mpi_command                     <mpi_command>\n",
      "\n",
      "# Interatomic Potential\n",
      "potential_file                  <potential_file>\n",
      "potential_kim_id                <potential_kim_id>\n",
      "potential_kim_potid             <potential_kim_potid>\n",
      "potential_dir                   <potential_dir>\n",
      "\n",
      "# Initial System Configuration\n",
      "load_file                       <load_file>\n",
      "load_style                      <load_style>\n",
      "load_options                    <load_options>\n",
      "family                          <family>\n",
      "symbols                         <symbols>\n",
      "box_parameters                  <box_parameters>\n",
      "\n",
      "# System Manipulations\n",
      "a_uvw                           <a_uvw>\n",
      "b_uvw                           <b_uvw>\n",
      "c_uvw                           <c_uvw>\n",
      "atomshift                       <atomshift>\n",
      "sizemults                       <sizemults>\n",
      "\n",
      "# LAMMPS Energy/Force Minimization\n",
      "energytolerance                 <energytolerance>\n",
      "forcetolerance                  <forcetolerance>\n",
      "maxiterations                   <maxiterations>\n",
      "maxevaluations                  <maxevaluations>\n",
      "maxatommotion                   <maxatommotion>\n",
      "\n",
      "# Input/Output Units\n",
      "length_unit                     <length_unit>\n",
      "pressure_unit                   <pressure_unit>\n",
      "energy_unit                     <energy_unit>\n",
      "force_unit                      <force_unit>\n",
      "\n",
      "# Run Parameters\n",
      "pressure_xx                     <pressure_xx>\n",
      "pressure_yy                     <pressure_yy>\n",
      "pressure_zz                     <pressure_zz>\n",
      "pressure_xy                     <pressure_xy>\n",
      "pressure_xz                     <pressure_xz>\n",
      "pressure_yz                     <pressure_yz>\n",
      "displacementkick                <displacementkick>\n",
      "maxcycles                       <maxcycles>\n",
      "cycletolerance                  <cycletolerance>\n",
      "raise_at_maxcycles              <raise_at_maxcycles>\n"
     ]
    }
   ],
   "source": [
    "calc = iprPy.load_calculation('relax_static')\n",
    "print(calc.template)"
   ]
  },
  {
   "cell_type": "markdown",
   "id": "4b3df5ec-251a-4c1e-9431-12e8e74fc39f",
   "metadata": {},
   "source": [
    "When prepare is called, you can pass in either the text key-value script or corresponding kwargs.  Here, we'll do the latter for simplicity."
   ]
  },
  {
   "cell_type": "code",
   "execution_count": null,
   "id": "15e0d553-a753-4dcb-be09-ce9ee9318f5c",
   "metadata": {
    "tags": []
   },
   "outputs": [],
   "source": [
    "prepare_terms = {}\n",
    "\n",
    "prepare_terms['lammps_command'] = 'lmp_serial'\n",
    "\n",
    "\n",
    "# Use the atomicparent buildcombos function to generate potential and system info from the database\n",
    "prepare_terms['buildcombos'] = 'atomicparent load_file parent'  # first term is type, second is an included key, third is name to assign to combo\n",
    "\n",
    "# Modify combo using \"parent_\" keys\n",
    "prepare_terms['parent_record'] = 'relaxed_crystal'\n",
    "prepare_terms['parent_standing'] = 'good'\n",
    "prepare_terms['parent_method'] = 'dynamic'\n",
    "\n",
    "# Prepare limiters\n",
    "prepare_terms['parent_potential_id'] = '2009--Zhakhovskii-V-V--Au--LAMMPS--ipr2'  # use only this potential\n",
    "prepare_terms['parent_family'] = 'A1--Cu--fcc'\n",
    "prepare_terms['parent_composition'] = 'Au'\n",
    "\n",
    "# List pressures to evaluate\n",
    "pressures = [\n",
    "    '0 GPa',\n",
    "    '10 GPa',\n",
    "    '20 GPa',\n",
    "    '30 GPa',\n",
    "    '40 GPa',\n",
    "    '50 GPa',\n",
    "    '60 GPa',\n",
    "    '70 GPa',\n",
    "    '80 GPa',\n",
    "    '90 GPa',\n",
    "    '100 GPa'    \n",
    "]\n",
    "prepare_terms['pressure_xx'] = prepare_terms['pressure_yy'] = prepare_terms['pressure_zz'] = pressures\n",
    "\n"
   ]
  },
  {
   "cell_type": "markdown",
   "id": "50bad063-0d8f-406c-8bed-1b5530a51608",
   "metadata": {},
   "source": [
    "Now we prepare!"
   ]
  },
  {
   "cell_type": "code",
   "execution_count": 24,
   "id": "e7cc6f2d-0459-4235-86bf-8d6c63f7d12b",
   "metadata": {
    "tags": []
   },
   "outputs": [
    {
     "name": "stdout",
     "output_type": "stream",
     "text": [
      "0 existing calculation records found\n",
      "1 matching interatomic potentials found\n",
      "1 matching atomic parents found\n"
     ]
    },
    {
     "name": "stderr",
     "output_type": "stream",
     "text": [
      "100%|██████████| 11/11 [00:00<00:00, 20.42it/s]"
     ]
    },
    {
     "name": "stdout",
     "output_type": "stream",
     "text": [
      "11 calculation combinations to check\n",
      "11 new records to prepare\n"
     ]
    },
    {
     "name": "stderr",
     "output_type": "stream",
     "text": [
      "\n",
      "preparing: 100%|##########| 11/11 [00:02<00:00,  5.04it/s]\n"
     ]
    },
    {
     "data": {
      "text/plain": [
       "['7d8f4915-bb3c-49ad-8854-fdcecb43be8d',\n",
       " '22eba793-19e9-4378-905a-068bbe372e82',\n",
       " '2896a832-8ca1-4c4f-9a53-e920b2d9f3e2',\n",
       " '0c165837-99f2-4acc-85e2-c8cd623c8ef9',\n",
       " '381b79d2-279a-42b3-b0c2-2bbcb5f64fd5',\n",
       " 'a0045dce-f690-44be-8124-f35e73fc08db',\n",
       " '6b992997-c3db-44f4-b204-bc9cd43576fb',\n",
       " '616672e8-9676-4913-a480-67bf64db3ccf',\n",
       " '6c2bd979-4c22-45bf-b469-cc03931b9815',\n",
       " '6a839f51-8707-4af1-88fe-964558e2600e',\n",
       " 'acb879ee-c7ec-451c-9dca-2c771c62523a']"
      ]
     },
     "execution_count": 24,
     "metadata": {},
     "output_type": "execute_result"
    }
   ],
   "source": [
    "database.prepare(run_directory, calc, **prepare_terms)"
   ]
  },
  {
   "cell_type": "markdown",
   "id": "f41df370-81c2-4b8f-8a49-1eefb165b59c",
   "metadata": {},
   "source": [
    "# 3. Run\n",
    "\n",
    "You can start runners either from within Python using Database.runner()\n",
    "\n",
    "If you've saved the database and run_directory info, you can start runners from the command line with\n",
    "    \n",
    "    iprPy runner {database_name} {run_directory_name}\n",
    "    \n",
    "Multiple runners can operate simultaneously without conflict, and can be assigned any number of cores to work with."
   ]
  },
  {
   "cell_type": "code",
   "execution_count": 25,
   "id": "7d5f0209-b44c-4344-95c6-956a9f787e7f",
   "metadata": {
    "tags": []
   },
   "outputs": [
    {
     "name": "stdout",
     "output_type": "stream",
     "text": [
      "Runner started with pid 18312\n",
      "381b79d2-279a-42b3-b0c2-2bbcb5f64fd5\n",
      "sim calculated successfully\n",
      "\n",
      "acb879ee-c7ec-451c-9dca-2c771c62523a\n",
      "sim calculated successfully\n",
      "\n",
      "616672e8-9676-4913-a480-67bf64db3ccf\n",
      "sim calculated successfully\n",
      "\n",
      "6a839f51-8707-4af1-88fe-964558e2600e\n",
      "sim calculated successfully\n",
      "\n",
      "22eba793-19e9-4378-905a-068bbe372e82\n",
      "sim calculated successfully\n",
      "\n",
      "6b992997-c3db-44f4-b204-bc9cd43576fb\n",
      "sim calculated successfully\n",
      "\n",
      "6c2bd979-4c22-45bf-b469-cc03931b9815\n",
      "sim calculated successfully\n",
      "\n",
      "0c165837-99f2-4acc-85e2-c8cd623c8ef9\n",
      "sim calculated successfully\n",
      "\n",
      "2896a832-8ca1-4c4f-9a53-e920b2d9f3e2\n",
      "sim calculated successfully\n",
      "\n",
      "7d8f4915-bb3c-49ad-8854-fdcecb43be8d\n",
      "sim calculated successfully\n",
      "\n",
      "a0045dce-f690-44be-8124-f35e73fc08db\n",
      "sim calculated successfully\n",
      "\n",
      "No simulations left to run\n"
     ]
    }
   ],
   "source": [
    "database.runner(run_directory)"
   ]
  },
  {
   "cell_type": "markdown",
   "id": "14dfc170-4b01-4801-9b1f-67e6e1caa7ea",
   "metadata": {},
   "source": [
    "# 4. Analyze"
   ]
  },
  {
   "cell_type": "code",
   "execution_count": 41,
   "id": "d945b24b-4336-462a-b1af-94bb26885b9c",
   "metadata": {
    "tags": []
   },
   "outputs": [],
   "source": [
    "relaxes, relaxes_df = database.get_records('calculation_relax_static',\n",
    "                                           potential_LAMMPS_id = '2009--Zhakhovskii-V-V--Au--LAMMPS--ipr2',\n",
    "                                           status = 'finished',\n",
    "                                           return_df = True)"
   ]
  },
  {
   "cell_type": "code",
   "execution_count": 30,
   "id": "6317c06c-1dd1-40fd-8357-8a3014e0baec",
   "metadata": {
    "tags": []
   },
   "outputs": [
    {
     "data": {
      "text/plain": [
       "Index(['name', 'key', 'url', 'iprPy_version', 'atomman_version', 'script',\n",
       "       'branch', 'status', 'lammps_version', 'potential_LAMMPS_key',\n",
       "       'potential_LAMMPS_id', 'potential_LAMMPS_url', 'potential_key',\n",
       "       'potential_id', 'potential_url', 'load_file', 'load_style',\n",
       "       'load_options', 'parent_key', 'family', 'family_url', 'symbols',\n",
       "       'composition', 'a_mult1', 'a_mult2', 'b_mult1', 'b_mult2', 'c_mult1',\n",
       "       'c_mult2', 'atomshift', 'a_uvw', 'b_uvw', 'c_uvw', 'energytolerance',\n",
       "       'forcetolerance', 'maxiterations', 'maxevaluations', 'maxatommotion',\n",
       "       'temperature', 'pressure_xx', 'pressure_yy', 'pressure_zz',\n",
       "       'pressure_xy', 'pressure_xz', 'pressure_yz', 'lx', 'ly', 'lz', 'xy',\n",
       "       'xz', 'yz', 'E_pot', 'measured_temperature', 'measured_pressure_xx',\n",
       "       'measured_pressure_yy', 'measured_pressure_zz', 'measured_pressure_xy',\n",
       "       'measured_pressure_xz', 'measured_pressure_yz'],\n",
       "      dtype='object')"
      ]
     },
     "execution_count": 30,
     "metadata": {},
     "output_type": "execute_result"
    }
   ],
   "source": [
    "relaxes_df.keys()"
   ]
  },
  {
   "cell_type": "code",
   "execution_count": 53,
   "id": "4216a405-edc5-4aba-8783-453ec1b103f3",
   "metadata": {
    "tags": []
   },
   "outputs": [
    {
     "data": {
      "image/png": "[encoded data removed]",
      "text/plain": [
       "<Figure size 640x480 with 1 Axes>"
      ]
     },
     "metadata": {},
     "output_type": "display_data"
    }
   ],
   "source": [
    "plt.plot(uc.get_in_units(relaxes_df.pressure_xx, 'GPa'), \n",
    "         uc.get_in_units(relaxes_df.E_pot, 'eV'), 'o')\n",
    "plt.xlabel('Applied pressure (GPa)')\n",
    "plt.ylabel('Potential energy (eV/atom)')\n",
    "plt.show()"
   ]
  },
  {
   "cell_type": "code",
   "execution_count": 54,
   "id": "ad2add54-940d-4253-bb71-1e37b193c0e2",
   "metadata": {
    "tags": []
   },
   "outputs": [
    {
     "data": {
      "image/png": "[encoded data removed]",
      "text/plain": [
       "<Figure size 640x480 with 1 Axes>"
      ]
     },
     "metadata": {},
     "output_type": "display_data"
    }
   ],
   "source": [
    "plt.plot(uc.get_in_units(relaxes_df.pressure_xx, 'GPa'), \n",
    "         uc.get_in_units(relaxes_df.lx, 'eV'), 'o')\n",
    "\n",
    "plt.xlabel('Applied pressure (GPa)')\n",
    "plt.ylabel('Lattice constant (Angstrom)')\n",
    "plt.show()"
   ]
  },
  {
   "cell_type": "markdown",
   "id": "23eb67f6-13da-451f-a963-3364c9a8546d",
   "metadata": {},
   "source": [
    "## 5. Now, do elastic constants..."
   ]
  },
  {
   "cell_type": "code",
   "execution_count": 35,
   "id": "cdc00a61-c737-44d6-b7b9-a939e2ab4b45",
   "metadata": {
    "tags": []
   },
   "outputs": [],
   "source": [
    "calc = iprPy.load_calculation('elastic_constants_static')"
   ]
  },
  {
   "cell_type": "code",
   "execution_count": 36,
   "id": "f1d4d80d-61d4-4db1-805d-ab82d968c386",
   "metadata": {
    "tags": []
   },
   "outputs": [],
   "source": [
    "prepare_terms = {}\n",
    "\n",
    "prepare_terms['lammps_command'] = 'lmp_serial'\n",
    "\n",
    "\n",
    "# Use the atomicarchive buildcombos function to pull final configurations from relax_static results\n",
    "prepare_terms['buildcombos'] = 'atomicarchive load_file parent'  # first term is type, second is an included key, third is name to assign to combo\n",
    "\n",
    "# Modify combo using \"parent_\" keys\n",
    "prepare_terms['parent_record'] = 'calculation_relax_static'\n",
    "prepare_terms['parent_load_key'] = 'final-system'\n",
    "prepare_terms['parent_status'] = 'finished'\n",
    "\n",
    "# Prepare limiters\n",
    "prepare_terms['parent_potential_id'] = '2009--Zhakhovskii-V-V--Au--LAMMPS--ipr2'  # use only this potential\n",
    "prepare_terms['parent_family'] = 'A1--Cu--fcc'\n",
    "prepare_terms['parent_composition'] = 'Au'"
   ]
  },
  {
   "cell_type": "code",
   "execution_count": 39,
   "id": "4ccaa395-f541-43dd-a0cc-d001ed7a58b7",
   "metadata": {
    "tags": []
   },
   "outputs": [
    {
     "name": "stdout",
     "output_type": "stream",
     "text": [
      "0 existing calculation records found\n",
      "1 matching interatomic potentials found\n",
      "11 matching atomic archives found\n"
     ]
    },
    {
     "name": "stderr",
     "output_type": "stream",
     "text": [
      "100%|██████████| 11/11 [00:00<00:00, 21.21it/s]"
     ]
    },
    {
     "name": "stdout",
     "output_type": "stream",
     "text": [
      "11 calculation combinations to check\n",
      "11 new records to prepare\n"
     ]
    },
    {
     "name": "stderr",
     "output_type": "stream",
     "text": [
      "\n",
      "preparing: 100%|##########| 11/11 [00:03<00:00,  3.15it/s]\n"
     ]
    },
    {
     "data": {
      "text/plain": [
       "['4e53ed8b-3019-4b27-9b6e-416cd48620ff',\n",
       " '0c9802ea-23b6-4a04-8328-2acc7779eaf3',\n",
       " '06ce3db3-e86d-4907-8367-5883b6594028',\n",
       " '82b321b9-bbf0-4f35-985b-c13272df8c4a',\n",
       " '73afb74e-016b-43fc-83a5-9468309b98b3',\n",
       " '8a06127b-5d3f-4ec4-8e80-757cda68ac05',\n",
       " '0417d501-8b09-4643-9f61-6cdcad304f07',\n",
       " '1d911982-ee6f-428c-8535-0fa57507dad2',\n",
       " '79f59aa4-18f9-46f2-a690-776b5b05c1d5',\n",
       " '0c2f7440-9bd8-477a-aad4-659bf6c4b07b',\n",
       " 'ab540fad-1632-4b5b-a7b4-0116f5d200d5']"
      ]
     },
     "execution_count": 39,
     "metadata": {},
     "output_type": "execute_result"
    }
   ],
   "source": [
    "database.prepare(run_directory, calc, **prepare_terms)"
   ]
  },
  {
   "cell_type": "code",
   "execution_count": 40,
   "id": "38187d8e-26db-40c6-9a28-8758aac899d2",
   "metadata": {
    "tags": []
   },
   "outputs": [
    {
     "name": "stdout",
     "output_type": "stream",
     "text": [
      "Runner started with pid 18312\n",
      "79f59aa4-18f9-46f2-a690-776b5b05c1d5\n",
      "sim calculated successfully\n",
      "\n",
      "1d911982-ee6f-428c-8535-0fa57507dad2\n",
      "sim calculated successfully\n",
      "\n",
      "8a06127b-5d3f-4ec4-8e80-757cda68ac05\n",
      "sim calculated successfully\n",
      "\n",
      "73afb74e-016b-43fc-83a5-9468309b98b3\n",
      "sim calculated successfully\n",
      "\n",
      "4e53ed8b-3019-4b27-9b6e-416cd48620ff\n",
      "sim calculated successfully\n",
      "\n",
      "82b321b9-bbf0-4f35-985b-c13272df8c4a\n",
      "sim calculated successfully\n",
      "\n",
      "0417d501-8b09-4643-9f61-6cdcad304f07\n",
      "sim calculated successfully\n",
      "\n",
      "0c2f7440-9bd8-477a-aad4-659bf6c4b07b\n",
      "sim calculated successfully\n",
      "\n",
      "06ce3db3-e86d-4907-8367-5883b6594028\n",
      "sim calculated successfully\n",
      "\n",
      "0c9802ea-23b6-4a04-8328-2acc7779eaf3\n",
      "sim calculated successfully\n",
      "\n",
      "ab540fad-1632-4b5b-a7b4-0116f5d200d5\n",
      "sim calculated successfully\n",
      "\n",
      "No simulations left to run\n"
     ]
    }
   ],
   "source": [
    "database.runner(run_directory)"
   ]
  },
  {
   "cell_type": "code",
   "execution_count": 42,
   "id": "2ef890bd-6fdc-4b98-be75-f0534dd5ed01",
   "metadata": {
    "tags": []
   },
   "outputs": [],
   "source": [
    "cijs, cijs_df = database.get_records('calculation_elastic_constants_static',\n",
    "                                     potential_LAMMPS_id = '2009--Zhakhovskii-V-V--Au--LAMMPS--ipr2',\n",
    "                                     status = 'finished',\n",
    "                                     return_df = True)"
   ]
  },
  {
   "cell_type": "code",
   "execution_count": 43,
   "id": "b49d01d1-8f9f-43b2-8f25-5009ec0f6d8f",
   "metadata": {
    "tags": []
   },
   "outputs": [
    {
     "data": {
      "text/plain": [
       "Index(['name', 'key', 'url', 'iprPy_version', 'atomman_version', 'script',\n",
       "       'branch', 'status', 'lammps_version', 'potential_LAMMPS_key',\n",
       "       'potential_LAMMPS_id', 'potential_LAMMPS_url', 'potential_key',\n",
       "       'potential_id', 'potential_url', 'load_file', 'load_style',\n",
       "       'load_options', 'parent_key', 'family', 'family_url', 'symbols',\n",
       "       'composition', 'a_mult1', 'a_mult2', 'b_mult1', 'b_mult2', 'c_mult1',\n",
       "       'c_mult2', 'atomshift', 'a_uvw', 'b_uvw', 'c_uvw', 'energytolerance',\n",
       "       'forcetolerance', 'maxiterations', 'maxevaluations', 'maxatommotion',\n",
       "       'strainrange', 'C', 'raw_Cij_negative', 'raw_Cij_positive'],\n",
       "      dtype='object')"
      ]
     },
     "execution_count": 43,
     "metadata": {},
     "output_type": "execute_result"
    }
   ],
   "source": [
    "cijs_df.keys()"
   ]
  },
  {
   "cell_type": "code",
   "execution_count": 48,
   "id": "f759ae11-0700-42df-9ae4-c18498737d99",
   "metadata": {
    "tags": []
   },
   "outputs": [],
   "source": [
    "def extract_C11_GPa(series):\n",
    "    return(uc.get_in_units(series.C.Cij[0,0], 'GPa'))\n",
    "def extract_C12_GPa(series):\n",
    "    return(uc.get_in_units(series.C.Cij[0,1], 'GPa'))\n",
    "def extract_C44_GPa(series):\n",
    "    return(uc.get_in_units(series.C.Cij[3,3], 'GPa'))\n",
    "\n",
    "cijs_df['C11'] = cijs_df.apply(extract_C11_GPa, axis=1)\n",
    "cijs_df['C12'] = cijs_df.apply(extract_C12_GPa, axis=1)\n",
    "cijs_df['C44'] = cijs_df.apply(extract_C44_GPa, axis=1)"
   ]
  },
  {
   "cell_type": "markdown",
   "id": "8ef364f7-fd56-427c-ac1b-eacc22955f1e",
   "metadata": {},
   "source": [
    "Now, we have a slight issue as the elastic constant calculations do not contain pressure information.  However, they do have a 'parent_key' which corresponds to the relax_static record that it was based on."
   ]
  },
  {
   "cell_type": "code",
   "execution_count": 49,
   "id": "683a2314-9e20-4494-877f-4435c1d0ce37",
   "metadata": {
    "tags": []
   },
   "outputs": [],
   "source": [
    "merged_df = pd.merge(relaxes_df, cijs_df, left_on='key', right_on='parent_key')"
   ]
  },
  {
   "cell_type": "code",
   "execution_count": 50,
   "id": "2ad9220a-a258-4884-bc28-db485f99e262",
   "metadata": {
    "tags": []
   },
   "outputs": [
    {
     "data": {
      "text/plain": [
       "Index(['name_x', 'key_x', 'url_x', 'iprPy_version_x', 'atomman_version_x',\n",
       "       'script_x', 'branch_x', 'status_x', 'lammps_version_x',\n",
       "       'potential_LAMMPS_key_x',\n",
       "       ...\n",
       "       'maxiterations_y', 'maxevaluations_y', 'maxatommotion_y', 'strainrange',\n",
       "       'C', 'raw_Cij_negative', 'raw_Cij_positive', 'C11', 'C12', 'C44'],\n",
       "      dtype='object', length=104)"
      ]
     },
     "execution_count": 50,
     "metadata": {},
     "output_type": "execute_result"
    }
   ],
   "source": [
    "merged_df.keys()"
   ]
  },
  {
   "cell_type": "code",
   "execution_count": 52,
   "id": "7ff25758-dfb4-4375-8e39-5a91d1801205",
   "metadata": {
    "tags": []
   },
   "outputs": [
    {
     "data": {
      "image/png": "[encoded data removed]",
      "text/plain": [
       "<Figure size 640x480 with 1 Axes>"
      ]
     },
     "metadata": {},
     "output_type": "display_data"
    }
   ],
   "source": [
    "plt.plot(uc.get_in_units(merged_df.pressure_xx, 'GPa'), merged_df.C11, 'o', label='C11') \n",
    "plt.plot(uc.get_in_units(merged_df.pressure_xx, 'GPa'), merged_df.C12, 'o', label='C12')\n",
    "plt.plot(uc.get_in_units(merged_df.pressure_xx, 'GPa'), merged_df.C44, 'o', label='C44')\n",
    "\n",
    "plt.xlabel('Applied pressure (GPa)')\n",
    "plt.ylabel('Elastic constants (GPa)')\n",
    "plt.legend()\n",
    "plt.show()"
   ]
  },
  {
   "cell_type": "code",
   "execution_count": null,
   "id": "8881c7e2-5db1-4ff8-ac9f-23ebe411186d",
   "metadata": {},
   "outputs": [],
   "source": []
  }
 ],
 "metadata": {
  "kernelspec": {
   "display_name": "Python 3 (ipykernel)",
   "language": "python",
   "name": "python3"
  },
  "language_info": {
   "codemirror_mode": {
    "name": "ipython",
    "version": 3
   },
   "file_extension": ".py",
   "mimetype": "text/x-python",
   "name": "python",
   "nbconvert_exporter": "python",
   "pygments_lexer": "ipython3",
   "version": "3.11.3"
  }
 },
 "nbformat": 4,
 "nbformat_minor": 5
}
