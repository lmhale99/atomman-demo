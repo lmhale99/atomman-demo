{
 "cells": [
  {
   "cell_type": "markdown",
   "id": "e4806f50-4c95-4fca-82ec-f887eb45f8b5",
   "metadata": {},
   "source": [
    "# Find and interact with LAMMPS potentials and crystals\n",
    "\n",
    "This Notebook provides a quick overview of how you can find and interact with interatomic potentials and associated relaxed crystals hosted in the NIST Interatomic Potentials Repository (IRP) using Python."
   ]
  },
  {
   "cell_type": "code",
   "execution_count": 1,
   "id": "00583a9a-3383-4ebd-b357-6d605413a57e",
   "metadata": {
    "tags": []
   },
   "outputs": [
    {
     "data": {
      "application/vnd.jupyter.widget-view+json": {
       "model_id": "03fb2e55d1024f39a07a31eaf3777e10",
       "version_major": 2,
       "version_minor": 0
      },
      "text/plain": []
     },
     "metadata": {},
     "output_type": "display_data"
    }
   ],
   "source": [
    "import atomman as am"
   ]
  },
  {
   "cell_type": "markdown",
   "id": "9800342d-3af4-419d-a78a-fc5330f04a50",
   "metadata": {},
   "source": [
    "## 1. Load LAMMPS potentials\n",
    "\n",
    "The simplest and easiest way to find and use LAMMPS potentials with atomman is with __atomman.load_lammps_potential()__.  With this one function, you can retrieve a LAMMPS interatomic potential from the IPR database and download any parameter files.\n",
    "\n",
    "When called, the function will first check a local directory for any matching potentials before querying potentials.nist.gov. If multiple matches are found a prompt will appear asking you to select one."
   ]
  },
  {
   "cell_type": "code",
   "execution_count": 2,
   "id": "fd0e1711-7283-4d06-bb86-f8efcc38edd6",
   "metadata": {
    "tags": []
   },
   "outputs": [
    {
     "name": "stdout",
     "output_type": "stream",
     "text": [
      "Found 12 matching potential_LAMMPS records in local library\n",
      "Found 0 matching potential_LAMMPS_KIM records in local library\n",
      "Built 0 lammps potentials for KIM models\n",
      "Multiple matching records retrieved from local\n",
      "1 2004--Zhou-X-W--Au--LAMMPS--ipr1 Au\n",
      "2 2004--Zhou-X-W--Au--LAMMPS--ipr2 Au\n",
      "3 2004--Zhou-X-W--Cu-Ag-Au--LAMMPS--ipr1 Cu-Ag-Au\n",
      "4 2004--Zhou-X-W--Cu-Ag-Au--LAMMPS--ipr2 Cu-Ag-Au\n",
      "5 2004--Zhou-X-W--Cu-Ag-Au-Ni-Pd-Pt-Al-Pb-Fe-Mo-Ta-W-Mg-Co-Ti-Zr--LAMMPS--ipr1 Cu-Ag-Au-Ni-Pd-Pt-Al-Pb-Fe-Mo-Ta-W-Mg-Co-Ti-Zr\n",
      "6 2005--Grochola-G--Au--LAMMPS--ipr1 Au\n",
      "7 2009--Zhakhovskii-V-V--Au--LAMMPS--ipr1 Au\n",
      "8 2009--Zhakhovskii-V-V--Au--LAMMPS--ipr2 Au\n",
      "9 2010--Olsson-P-A-T--Au--LAMMPS--ipr1 Au\n",
      "10 2012--Norman-G-E--Au--LAMMPS--ipr1 Au\n",
      "11 2017--OBrien-C-J--Pt-Au--LAMMPS--ipr1 Pt-Au\n",
      "12 2017--Purja-Pun-G-P--Au--LAMMPS--ipr1 Au\n"
     ]
    },
    {
     "name": "stdin",
     "output_type": "stream",
     "text": [
      "Please select one: 1\n"
     ]
    },
    {
     "name": "stdout",
     "output_type": "stream",
     "text": [
      "Au.set copied to 2004--Zhou-X-W--Au--LAMMPS--ipr1\n"
     ]
    }
   ],
   "source": [
    "potential = am.load_lammps_potential(\n",
    "    #id = '2004--Zhou-X-W--Au--LAMMPS--ipr1',   # The LAMMPS potential id(s) as seen on the IPR website\n",
    "    pair_style = 'eam/alloy',                   # The LAMMPS pair_style(s) to find\n",
    "    #symbols = 'Au',                            # symbols are the particle model \"names\"\n",
    "    elements = 'Au',                            # elements are the elements that the models represent\n",
    "    #local = False,                             # Setting to False skips checking the local database copy\n",
    "    #remote = False,                            # Setting to False skips checking potentials.nist.gov\n",
    "    getfiles = True,                            # Setting to True copies/downloads parameter files to the working directory  \n",
    "    verbose = True                              # Setting to True prints informative messages\n",
    ")"
   ]
  },
  {
   "cell_type": "markdown",
   "id": "cca20f50-7921-4e7a-994d-ba4cdea957ab",
   "metadata": {},
   "source": [
    "The returned LAMMPS potential object can be used to build the correct LAMMPS command lines for using the potential."
   ]
  },
  {
   "cell_type": "code",
   "execution_count": 3,
   "id": "ce7a0fb2-5a93-446a-b47e-74c9fa65e36e",
   "metadata": {
    "tags": []
   },
   "outputs": [
    {
     "name": "stdout",
     "output_type": "stream",
     "text": [
      "print \"Parameter file(s) can be downloaded at:\"\n",
      "print \"https://www.ctcms.nist.gov/potentials/Download/2004--Zhou-X-W-Johnson-R-A-Wadley-H-N-G--Au/2/Au.set\"\n",
      "\n",
      "pair_style eam/alloy \n",
      "pair_coeff * * 2004--Zhou-X-W--Au--LAMMPS--ipr1\\Au.set Au\n",
      "\n",
      "mass 1 196.97\n",
      "\n",
      "\n"
     ]
    }
   ],
   "source": [
    "print(potential.pair_info())"
   ]
  },
  {
   "cell_type": "code",
   "execution_count": 4,
   "id": "1502aa04-a10d-4f3f-aed9-d8b8526472e5",
   "metadata": {
    "tags": []
   },
   "outputs": [
    {
     "name": "stdout",
     "output_type": "stream",
     "text": [
      "pair_style eam/alloy \n",
      "pair_coeff * * 2004--Zhou-X-W--Au--LAMMPS--ipr1\\Au.set Au Au\n",
      "\n",
      "mass 1 196.97\n",
      "mass 2 196.97\n",
      "\n",
      "\n"
     ]
    }
   ],
   "source": [
    "print(potential.pair_info(['Au', 'Au'], comments=False))"
   ]
  },
  {
   "cell_type": "markdown",
   "id": "dc4f3cd5-7aca-4119-ba9d-12c48d61a431",
   "metadata": {},
   "source": [
    "## 2. Load relaxed crystal structures\n",
    "\n",
    "The NIST IPR database has a large number of potential-specific relaxed crystal structures.  These were obtained from relaxing crystal prototype structures as well as crystals from the DFT databases of Materials Project and OQMD.\n",
    "\n",
    "Relaxed crystal records can easily be retrieved from the IPR database using atomman.load() with the 'crystal' option."
   ]
  },
  {
   "cell_type": "code",
   "execution_count": 5,
   "id": "ecc5924c-2306-4895-9117-1694bdf642c5",
   "metadata": {
    "tags": []
   },
   "outputs": [
    {
     "name": "stdout",
     "output_type": "stream",
     "text": [
      "Matching record retrieved from remote\n",
      "avect =  [ 4.080,  0.000,  0.000]\n",
      "bvect =  [ 0.000,  4.080,  0.000]\n",
      "cvect =  [ 0.000,  0.000,  4.080]\n",
      "origin = [ 0.000,  0.000,  0.000]\n",
      "natoms = 4\n",
      "natypes = 1\n",
      "symbols = ('Au',)\n",
      "pbc = [ True  True  True]\n",
      "per-atom properties = ['atype', 'pos']\n",
      "     id |   atype |  pos[0] |  pos[1] |  pos[2]\n",
      "      0 |       1 |   0.000 |   0.000 |   0.000\n",
      "      1 |       1 |   0.000 |   2.040 |   2.040\n",
      "      2 |       1 |   2.040 |   0.000 |   2.040\n",
      "      3 |       1 |   2.040 |   2.040 |   0.000\n"
     ]
    }
   ],
   "source": [
    "ucell = am.load(\n",
    "    'crystal',\n",
    "    family = 'A1--Cu--fcc',                        # Limit by prototype, MP-ID or OQMD-ID\n",
    "    potential = potential,                         \n",
    "    #symbols = ['Au'],                             # Limit by atom model symbols used\n",
    "    #natoms = 4,                                   # Limit by number of atoms\n",
    "    #natypes = 1,                                  # Limit by number of different atom types\n",
    "    #local = False,                                # Setting to False skips checking the local database copy\n",
    "    #remote = False,                               # Setting to False skips checking potentials.nist.gov\n",
    "    verbose = True                                 # Setting to True prints informative messages\n",
    ")\n",
    "print(ucell)"
   ]
  },
  {
   "cell_type": "markdown",
   "id": "ada2f101-79f7-44d2-9636-da830e7c9345",
   "metadata": {},
   "source": [
    "With an atomic configuration, such as ucell, you can save it to a LAMMPS data file using dump('atom_data').  If you pass in the potential object as well, it will simultaneously generate all LAMMPS commands for loading the configuration file and defining the potential."
   ]
  },
  {
   "cell_type": "code",
   "execution_count": 7,
   "id": "f17f3de6-1910-4ddf-ad7c-bf1be237d9d4",
   "metadata": {
    "tags": []
   },
   "outputs": [],
   "source": [
    "load_pair_info = ucell.dump('atom_data', f='ucell.dat', potential=potential)"
   ]
  },
  {
   "cell_type": "code",
   "execution_count": 8,
   "id": "7b6692f2-ebd1-47ed-9a27-db32312f08da",
   "metadata": {
    "tags": []
   },
   "outputs": [
    {
     "name": "stdout",
     "output_type": "stream",
     "text": [
      "units metal\n",
      "atom_style atomic\n",
      "\n",
      "boundary p p p\n",
      "read_data ucell.dat\n",
      "\n",
      "print \"Parameter file(s) can be downloaded at:\"\n",
      "print \"https://www.ctcms.nist.gov/potentials/Download/2004--Zhou-X-W-Johnson-R-A-Wadley-H-N-G--Au/2/Au.set\"\n",
      "\n",
      "pair_style eam/alloy \n",
      "pair_coeff * * 2004--Zhou-X-W--Au--LAMMPS--ipr1\\Au.set Au\n",
      "\n",
      "mass 1 196.97\n",
      "\n",
      "\n"
     ]
    }
   ],
   "source": [
    "print(load_pair_info)"
   ]
  },
  {
   "cell_type": "code",
   "execution_count": 9,
   "id": "d52ad624-cdcc-46bf-8e4d-03ed7379856e",
   "metadata": {
    "tags": []
   },
   "outputs": [
    {
     "name": "stdout",
     "output_type": "stream",
     "text": [
      "\n",
      "4 atoms\n",
      "1 atom types\n",
      "0.0000000000000 4.0797870851023 xlo xhi\n",
      "0.0000000000000 4.0797870851023 ylo yhi\n",
      "0.0000000000000 4.0797870851023 zlo zhi\n",
      "\n",
      "Atoms # atomic\n",
      "\n",
      "1 1 0.0000000000000 0.0000000000000 0.0000000000000\n",
      "2 1 0.0000000000000 2.0398935425512 2.0398935425512\n",
      "3 1 2.0398935425512 0.0000000000000 2.0398935425512\n",
      "4 1 2.0398935425512 2.0398935425512 0.0000000000000\n",
      "\n"
     ]
    }
   ],
   "source": [
    "with open('ucell.dat') as f:\n",
    "    print(f.read())"
   ]
  },
  {
   "cell_type": "markdown",
   "id": "0475bbcb-ae3c-4a03-9652-caab3aafe1b8",
   "metadata": {},
   "source": [
    "## 3. More complex database interactions\n",
    "\n",
    "### 3.1. Defining a Database object\n",
    "\n",
    "The underlying APIs of atomman.load_lammps_potential() and atomman.load('crystal') are also accessible through atomman.library.Database() allowing for more nuanced interactions. When you initialize an atomman.library.Database() object, you are specifying two database locations to interact with:\n",
    "- __remote_database__ is a non-local database.  By default, this is potentials.nist.gov.\n",
    "- __local_database__ is a local database.  This can either be a local directory of files or a locally-hosted MongoDB.  Any queries performed will check for matches here before checking the remote database. By default, this is a subdirectory in your home directory.\n",
    "\n",
    "Default settings can be changed using atomman.settings.  Different local and remote databases to interact with can also be specified when a atomman.library.Database() is initialized.\n"
   ]
  },
  {
   "cell_type": "code",
   "execution_count": 7,
   "id": "5d761eaa-628a-49e3-9010-7278aef9cb5b",
   "metadata": {
    "tags": []
   },
   "outputs": [
    {
     "name": "stdout",
     "output_type": "stream",
     "text": [
      "database style cdcs at https://potentials.nist.gov/\n",
      "database style local at C:\\Users\\lmh1\\Documents\\library\n"
     ]
    }
   ],
   "source": [
    "potdb = am.library.Database()\n",
    "print(potdb.remote_database)\n",
    "print(potdb.local_database)"
   ]
  },
  {
   "cell_type": "markdown",
   "id": "5abb863f-a1fb-41c2-9257-f9a0ebf3148b",
   "metadata": {},
   "source": [
    "### 3.2. Explore potentials listings\n",
    "\n",
    "You can use the database object to explore the potentials listings as they appear on the NIST IPR website.\n",
    "\n",
    "- __get_potentials()__ finds all matching potentials listings and returns them as a list.\n",
    "- __get_potential()__ finds a matching potentials listing.  If more than one match is found, a prompt will ask you to select it.\n",
    "- __download_potentials()__ finds all matching potentials in the remote database and copies them to the local database."
   ]
  },
  {
   "cell_type": "code",
   "execution_count": 10,
   "id": "786adce9-d6aa-4c27-9635-b8aceb360e73",
   "metadata": {
    "tags": []
   },
   "outputs": [
    {
     "name": "stdout",
     "output_type": "stream",
     "text": [
      "Multiple matching record retrieved from local\n",
      "1 1986--Foiles-S-M-Baskes-M-I-Daw-M-S--Ag-Au-Cu-Ni-Pd-Pt\n",
      "2 1986--Foiles-S-M-Baskes-M-I-Daw-M-S--Au\n",
      "3 1987--Ackland-G-J-Tichy-G-Vitek-V-Finnis-M-W--Au\n",
      "4 1989--Adams-J-B-Foiles-S-M-Wolfer-W-G--Ag-Au-Cu-Ni-Pd-Pt\n",
      "5 1989--Adams-J-B-Foiles-S-M-Wolfer-W-G--Au\n",
      "6 1990--Ackland-G-J-Vitek-V--Cu-Ag-Au\n",
      "7 1996--Jacobsen-K-W-Stoltze-P-Norskov-J-K--Al-Ag-Au-Cu-Ni-Pd-Pt\n",
      "8 1996--Jacobsen-K-W-Stoltze-P-Norskov-J-K--Au\n",
      "9 2003--Lee-B-J-Shim-J-H-Baskes-M-I--Au\n",
      "10 2004--Zhou-X-W-Johnson-R-A-Wadley-H-N-G--Au\n",
      "11 2004--Zhou-X-W-Johnson-R-A-Wadley-H-N-G--Cu-Ag-Au\n",
      "12 2004--Zhou-X-W-Johnson-R-A-Wadley-H-N-G--Cu-Ag-Au-Ni-Pd-Pt-Al-Pb-Fe-Mo-Ta-W-Mg-Co-Ti-Zr\n",
      "13 2005--Grochola-G-Russo-S-P-Snook-I-K--Au\n",
      "14 2009--Guthikonda-V-S-Elliott-R-S--Au-Cd\n",
      "15 2009--Zhakhovskii-V-V-Inogamov-N-A-Petrov-Y-V-et-al--Au\n",
      "16 2010--Olsson-P-A-T--Au\n",
      "17 2012--Norman-G-E-Starikov-S-V-Stegailov-V-V--Au\n",
      "18 2015--Elliott-R-S-Akerson-A--Au\n",
      "19 2017--OBrien-C-J-Barr-C-M-Price-P-M-et-al--Pt-Au\n",
      "20 2017--Purja-Pun-G-P--Au\n",
      "21 2018--Gola-A-Pastewka-L--Au-Cu\n",
      "22 2018--Starikov-S-V-Lopanitsyna-N-Y-Smirnova-D-E-Makarov-S-V--Si-Au\n",
      "23 2020--Starikov-S-Gordeev-I-Lysogorskiy-Y-et-al--Si-Au-Al\n",
      "24 2021--Oliveira-D-S-Cotta-M-A--Ga-As-Au\n",
      "25 2021--Wang-G-Xu-Y-Qian-P-Su-Y--Au-Rh\n",
      "26 2022--Alvi-S-M-A-A-Faiyad-A-Munshi-M-A-M-et-al--Ag-Au\n",
      "27 2022--Alvi-S-M-A-A-Faiyad-A-Munshi-M-A-M-et-al--Au\n"
     ]
    },
    {
     "name": "stdin",
     "output_type": "stream",
     "text": [
      "Please select one: 20\n"
     ]
    }
   ],
   "source": [
    "listing = potdb.get_potential(elements='Au')"
   ]
  },
  {
   "cell_type": "code",
   "execution_count": 11,
   "id": "93996ba4-19f1-42d7-b34a-a416c55f46ae",
   "metadata": {
    "tags": []
   },
   "outputs": [
    {
     "data": {
      "text/html": [
       "<div xmlns=\"http://www.w3.org/TR/xhtml1/strict\"><script src=\"https://www.ctcms.nist.gov/potentials/site/showFiles.js\">//</script><div class=\"panel panel-default\"><div class=\"panel-heading\"><h3 class=\"panel-title\">2017--Purja-Pun-G-P--Au</h3></div><div class=\"panel-body\"><div class=\"citation\"><b>Citation: </b>G.P. Purja Pun (2017), \"to be published\".</div><br/><div class=\"format\"><b>LAMMPS pair_style eam/alloy</b><a href=\"https://www.ctcms.nist.gov/potentials/entry/2017--Purja-Pun-G-P--Au/2017--Purja-Pun-G-P--Au--LAMMPS--ipr1.html\"> (2017--Purja-Pun-G-P--Au--LAMMPS--ipr1)</a></div><div class=\"implementation-notes\"><a href=\"https://www.ctcms.nist.gov/potentials/entry/2017--Purja-Pun-G-P--Au/2017--Purja-Pun-G-P--Au--LAMMPS--ipr1.html\"><b>See Computed Properties</b></a><br/><b>Notes: </b>These files were sent by G.P. Purja Pun (George Mason) on 7 Sept. 2017 and posted with his permission.<br/><b>File(s): </b><div id=\"8bfd0a48-8558-46f9-9d20-cd9e92cb83ae\" style=\"display:block\"><a href=\"https://www.ctcms.nist.gov/potentials/Download/2017--Purja-Pun-G-P--Au/1/Au_GLJ10_3.eam.alloy\">Au_GLJ10_3.eam.alloy</a><br/></div><br/></div><div class=\"format\"><b>OpenKIM</b><a href=\"https://www.ctcms.nist.gov/potentials/entry/2017--Purja-Pun-G-P--Au/MO_188701096956.html\"> (MO_188701096956)</a></div><div class=\"implementation-notes\"><a href=\"https://www.ctcms.nist.gov/potentials/entry/2017--Purja-Pun-G-P--Au/MO_188701096956.html\"><b>See Computed Properties</b></a><br/><b>Notes: </b>Listing found at https://openkim.org.  This KIM potential is based on the files from 2017--Purja-Pun-G-P--Au--LAMMPS--ipr1.<br/><b>Link(s): </b><div id=\"da36fb14-8e4f-40c9-83ee-a95e81888d75\" style=\"display:block\">KIM page <a href=\"https://openkim.org/id/EAM_Dynamo_Pun_2017_Au__MO_188701096956_000\">EAM_Dynamo_Pun_2017_Au__MO_188701096956_000</a><br/></div><br/></div></div></div></div>"
      ],
      "text/plain": [
       "<IPython.core.display.HTML object>"
      ]
     },
     "metadata": {},
     "output_type": "display_data"
    }
   ],
   "source": [
    "listing.html(render=True)"
   ]
  },
  {
   "cell_type": "markdown",
   "id": "aeb54a2a-e379-4467-99b6-b5bb9c9f873e",
   "metadata": {},
   "source": [
    "### 3.3. Explore LAMMPS potentials\n",
    "\n",
    "- __get_lammps_potentials()__ finds all matching LAMMPS potential records and returns them as a list.\n",
    "- __get_lammps_potential()__ finds a matching LAMMPS potential record.  If multiple matches are found, a prompt asks you to select one.\n",
    "- __get_lammps_potential_files()__ copies/downloads any parameter files for a LAMMPS potential from a database to the local directory.\n",
    "- __download_lammps_potentials()__ finds all matching potentials in the remote database and copies them (and any parameter files) to the local database.\n"
   ]
  },
  {
   "cell_type": "code",
   "execution_count": 12,
   "id": "b1c75580-5563-4fd1-af39-940256cff711",
   "metadata": {
    "tags": []
   },
   "outputs": [],
   "source": [
    "potential = potdb.get_lammps_potential(id='2017--Purja-Pun-G-P--Au--LAMMPS--ipr1')"
   ]
  },
  {
   "cell_type": "code",
   "execution_count": 13,
   "id": "812ebf20-a113-4814-b450-af7dc606a524",
   "metadata": {
    "tags": []
   },
   "outputs": [
    {
     "data": {
      "text/html": [
       "<div xmlns=\"http://www.w3.org/TR/xhtml1/strict\"><style>\n",
       "        .aslist {list-style-type: circle; list-style-position: inside; margin: 10px;}\n",
       "      </style><h1>LAMMPS potential implementation parameter set</h1><ul><li><b>ID: </b>2017--Purja-Pun-G-P--Au--LAMMPS--ipr1</li><li><b>UUID4: </b>8bfd0a48-8558-46f9-9d20-cd9e92cb83ae</li><li><b>Potential: </b><a href=\"https://potentials.nist.gov/pid/rest/local/potentials/potential.2017--Purja-Pun-G-P--Au\">2017--Purja-Pun-G-P--Au</a></li><li><b>LAMMPS units: </b>metal</li><li><b>LAMMPS atom_style: </b>atomic</li><li><b>LAMMPS pair_style: </b>eam/alloy</li><li><b>Elements: </b>Au </li><li><b>Symbols: </b>Au </li><li><b>File(s): </b><ul class=\"aslist\"><li><a href=\"https://www.ctcms.nist.gov/potentials/Download/2017--Purja-Pun-G-P--Au/1/Au_GLJ10_3.eam.alloy\">Au_GLJ10_3.eam.alloy</a></li></ul></li></ul></div>"
      ],
      "text/plain": [
       "<IPython.core.display.HTML object>"
      ]
     },
     "metadata": {},
     "output_type": "display_data"
    }
   ],
   "source": [
    "potential.html(render=True)"
   ]
  },
  {
   "cell_type": "code",
   "execution_count": 14,
   "id": "4db56cf2-7bab-4e4f-aa6e-435bcaf5b6f5",
   "metadata": {
    "tags": []
   },
   "outputs": [
    {
     "name": "stdout",
     "output_type": "stream",
     "text": [
      "print \"Potential 2017--Purja-Pun-G-P--Au--LAMMPS--ipr1 listed in the NIST Interatomic Potentials Repository:\"\n",
      "print \"https://www.ctcms.nist.gov/potentials/entry/2017--Purja-Pun-G-P--Au/2017--Purja-Pun-G-P--Au--LAMMPS--ipr1.html\"\n",
      "print \"Parameter file(s) can be downloaded at:\"\n",
      "print \"https://www.ctcms.nist.gov/potentials/Download/2017--Purja-Pun-G-P--Au/1/Au_GLJ10_3.eam.alloy\"\n",
      "\n",
      "pair_style eam/alloy \n",
      "pair_coeff * * 2017--Purja-Pun-G-P--Au--LAMMPS--ipr1\\Au_GLJ10_3.eam.alloy Au\n",
      "\n",
      "mass 1 196.96654\n",
      "\n",
      "\n"
     ]
    }
   ],
   "source": [
    "print(potential.pair_info())"
   ]
  },
  {
   "cell_type": "code",
   "execution_count": 17,
   "id": "4ca6736b-1b11-4b6d-ae56-a533a23e5f9c",
   "metadata": {
    "tags": []
   },
   "outputs": [
    {
     "name": "stdout",
     "output_type": "stream",
     "text": [
      "pair_style eam/alloy \n",
      "pair_coeff * * 2017--Purja-Pun-G-P--Au--LAMMPS--ipr1\\Au_GLJ10_3.eam.alloy Au\n",
      "\n",
      "mass 1 196.96654\n",
      "\n",
      "\n"
     ]
    }
   ],
   "source": [
    "print(potential.pair_info(comments=False))"
   ]
  },
  {
   "cell_type": "markdown",
   "id": "ffa9ff1b-7853-4dcb-ab63-27fae9ef7e4c",
   "metadata": {},
   "source": [
    "### 3.4. Explore crystal structures\n",
    "\n",
    "The NIST IPR database has a large number of potential-specific relaxed crystal structures.  These were obtained from relaxing crystal prototype structures as well as crystals from the DFT databases of Materials Project and OQMD.\n",
    "\n",
    "- __get_relaxed_crystals()__ finds all matching relaxed crystal records and returns them as a list.\n",
    "- __get_relaxed_crystal()__ finds a matching relaxed crystal record. If multiple matches are found, a prompt asks you to select one.\n",
    "- __download_relaxed_crystals()__ finds all matching relaxed crystals in the remote database and copies them (and any parameter files) to the local database.  *CAUTION!!! There are currently 179,000 relaxed crystal records in the remote database!!!*  \n"
   ]
  },
  {
   "cell_type": "code",
   "execution_count": 19,
   "id": "5107bf8c-3706-44f3-bbd0-cdc1f2c0bf31",
   "metadata": {
    "tags": []
   },
   "outputs": [
    {
     "name": "stdout",
     "output_type": "stream",
     "text": [
      "Multiple matching record retrieved from remote\n",
      "#  family               symbols  alat    Ecoh    method  standing\n",
      " 1 A1--Cu--fcc          Au        4.0780 -3.9300 static  bad \n",
      " 2 A1--Cu--fcc          Au        4.0780 -3.9300 dynamic good\n",
      " 3 A1--Cu--fcc          Au        4.0780 -3.9300 box     bad \n"
     ]
    },
    {
     "name": "stdin",
     "output_type": "stream",
     "text": [
      "Please select one: 2\n"
     ]
    },
    {
     "name": "stdout",
     "output_type": "stream",
     "text": [
      "avect =  [ 4.078,  0.000,  0.000]\n",
      "bvect =  [ 0.000,  4.078,  0.000]\n",
      "cvect =  [ 0.000,  0.000,  4.078]\n",
      "origin = [ 0.000,  0.000,  0.000]\n",
      "natoms = 4\n",
      "natypes = 1\n",
      "symbols = ('Au',)\n",
      "pbc = [ True  True  True]\n",
      "per-atom properties = ['atype', 'pos']\n",
      "     id |   atype |  pos[0] |  pos[1] |  pos[2]\n",
      "      0 |       1 |   0.000 |   0.000 |   0.000\n",
      "      1 |       1 |   0.000 |   2.039 |   2.039\n",
      "      2 |       1 |   2.039 |   0.000 |   2.039\n",
      "      3 |       1 |   2.039 |   2.039 |   0.000\n"
     ]
    }
   ],
   "source": [
    "crystal = potdb.get_relaxed_crystal(potential_LAMMPS_id=potential.id, family='A1--Cu--fcc')\n",
    "print(crystal.ucell)"
   ]
  },
  {
   "cell_type": "markdown",
   "id": "065bd175-b602-4c8f-a1aa-42cdf9cccba7",
   "metadata": {},
   "source": [
    "## 4. Populating your local database\n",
    "\n",
    "The Database design mentioned in the last section makes it easy for users to find potentials and structures either from potentials.nist.gov or a local copy.  Having a local copy can be convenient as it can be used offline and can contain extra content not in the IPR database.  To this end, you can copy records to your local database in a few different ways.\n",
    "\n",
    "- https://github.com/lmhale99/potentials-library contains an archive copy of the potentials listings, LAMMPS potentials and parameter files, crystal prototypes, and defect configuration parameters.  It is an easy way to download all records at once, and the downloaded directory can be set as the local database location.\n",
    "- The Database.download_\\*() methods mentioned above can retrieve the individual record types.  Alternatively, you can call Database.download_all() to get all current potentials listings, LAMMPS potentials and parameter files, and crystal prototypes.  \n",
    "\n",
    "I do tend to forget to push updates for the potentials-library github, so the best method is probably to download from there first, then call download_all(overwrite=False)."
   ]
  }
 ],
 "metadata": {
  "kernelspec": {
   "display_name": "Python 3 (ipykernel)",
   "language": "python",
   "name": "python3"
  },
  "language_info": {
   "codemirror_mode": {
    "name": "ipython",
    "version": 3
   },
   "file_extension": ".py",
   "mimetype": "text/x-python",
   "name": "python",
   "nbconvert_exporter": "python",
   "pygments_lexer": "ipython3",
   "version": "3.11.3"
  }
 },
 "nbformat": 4,
 "nbformat_minor": 5
}
