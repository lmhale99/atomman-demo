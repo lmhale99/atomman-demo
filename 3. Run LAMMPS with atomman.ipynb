{
 "cells": [
  {
   "cell_type": "markdown",
   "id": "1580cf45-4abf-4d0c-9637-760d3829f8a7",
   "metadata": {},
   "source": [
    "# Run LAMMPS with atomman\n",
    "\n",
    "Tools for setting up and running LAMMPS calculations are available in the atomman.lammps submodule"
   ]
  },
  {
   "cell_type": "code",
   "execution_count": 1,
   "id": "a02f265f-1d33-407c-ae54-5c7ebfb1da4e",
   "metadata": {
    "tags": []
   },
   "outputs": [],
   "source": [
    "import matplotlib.pyplot as plt\n",
    "import random\n",
    "import numpy as np\n",
    "\n",
    "import atomman as am\n",
    "import atomman.unitconvert as uc\n",
    "import atomman.lammps as lmp"
   ]
  },
  {
   "cell_type": "markdown",
   "id": "e200c543-dce9-4d6e-a3dd-7c2dd505cf81",
   "metadata": {},
   "source": [
    "## 1. Specify *your* LAMMPS and mpi_commands"
   ]
  },
  {
   "cell_type": "code",
   "execution_count": 3,
   "id": "4eb2e671-99cd-48a8-b7ef-83b531021a70",
   "metadata": {
    "tags": []
   },
   "outputs": [],
   "source": [
    "lammps_command = 'lmp'\n",
    "#mpi_command = None\n",
    "mpi_command = 'mpiexec -n 2'"
   ]
  },
  {
   "cell_type": "markdown",
   "id": "fa28b90c-4172-421b-bc76-3e9620e3481f",
   "metadata": {},
   "source": [
    "## 2. Load a potential, unit cell, and build a system"
   ]
  },
  {
   "cell_type": "code",
   "execution_count": 4,
   "id": "083079d9-32b0-43d0-baa5-5ff0b40f7f32",
   "metadata": {
    "tags": []
   },
   "outputs": [
    {
     "name": "stdout",
     "output_type": "stream",
     "text": [
      "{'detail': 'Authentication credentials were not provided.'}\n",
      "avect =  [ 4.080,  0.000,  0.000]\n",
      "bvect =  [ 0.000,  4.080,  0.000]\n",
      "cvect =  [ 0.000,  0.000,  4.080]\n",
      "origin = [ 0.000,  0.000,  0.000]\n",
      "natoms = 4\n",
      "natypes = 1\n",
      "symbols = ('Au',)\n",
      "pbc = [ True  True  True]\n",
      "per-atom properties = ['atype', 'pos']\n",
      "     id |   atype |  pos[0] |  pos[1] |  pos[2]\n",
      "      0 |       1 |   0.000 |   0.000 |   0.000\n",
      "      1 |       1 |   0.000 |   2.040 |   2.040\n",
      "      2 |       1 |   2.040 |   0.000 |   2.040\n",
      "      3 |       1 |   2.040 |   2.040 |   0.000\n"
     ]
    }
   ],
   "source": [
    "potential = am.load_lammps_potential('2004--Zhou-X-W--Au--LAMMPS--ipr2', getfiles=True, pot_dir_style='id')\n",
    "\n",
    "ucell = am.load('crystal', potential=potential, family='A1--Cu--fcc', symbols='Au')\n",
    "print(ucell)"
   ]
  },
  {
   "cell_type": "markdown",
   "id": "be393037-4cc4-4a4e-a19c-2bcd8f4ce487",
   "metadata": {},
   "source": [
    "Now, we're going to make a 5x5x5 supercell and randomly delete 2 atoms just for fun.  The relatively small size is simply to make the simulation fast..."
   ]
  },
  {
   "cell_type": "code",
   "execution_count": 5,
   "id": "c92997f8-b20f-4b38-b017-0a2ff6413a21",
   "metadata": {
    "tags": []
   },
   "outputs": [],
   "source": [
    "system = ucell.supersize(5, 5, 5)"
   ]
  },
  {
   "cell_type": "code",
   "execution_count": 6,
   "id": "bfb6da53-2ec5-45a5-8f36-608bfe0dfcde",
   "metadata": {
    "tags": []
   },
   "outputs": [
    {
     "name": "stdout",
     "output_type": "stream",
     "text": [
      "498\n"
     ]
    }
   ],
   "source": [
    "# Random shuffle atom ids\n",
    "allids = [i for i in range(system.natoms)]\n",
    "random.shuffle(allids)\n",
    "\n",
    "# Slice system with atoms_ix using all ids except for the first 2\n",
    "system = system.atoms_ix[allids[2:]]\n",
    "print(system.natoms)"
   ]
  },
  {
   "cell_type": "markdown",
   "id": "cc8e2e2b-6263-4efc-995c-46b41293bb15",
   "metadata": {},
   "source": [
    "## 3. Define a template LAMMPS script\n",
    "\n",
    "This script is designed to evaluate mean squared displacements.  All values in \"\\<\\>\" are variables that are to be filled in from Python."
   ]
  },
  {
   "cell_type": "code",
   "execution_count": 7,
   "id": "1eb08be3-3f04-4db5-97ab-b5f62798d28c",
   "metadata": {
    "tags": []
   },
   "outputs": [],
   "source": [
    "template = \"\"\"\n",
    "# LAMMPS input script for dynamic msd computation\n",
    "\n",
    "<atomman_system_pair_info>\n",
    "\n",
    "# Assign simulation parameter values\n",
    "variable temperature equal <temperature>\n",
    "variable randomseed equal <randomseed>\n",
    "variable thermosteps equal <thermosteps>\n",
    "variable timestep equal <timestep>\n",
    "variable dumpsteps equal <dumpsteps>\n",
    "variable runsteps equal <runsteps>\n",
    "variable twotemp equal 2*${temperature}\n",
    "variable damptemp equal 100*${timestep}\n",
    "\n",
    "# Specify property computes\n",
    "compute peatom all pe/atom\n",
    "compute msd all msd com yes\n",
    "\n",
    "# Define thermo data\n",
    "thermo ${thermosteps}\n",
    "thermo_style custom step temp pe ke etotal pxx pyy pzz c_msd[1] c_msd[2] c_msd[3] c_msd[4]\n",
    "thermo_modify format float %.13e\n",
    "\n",
    "# Specify timestep\n",
    "timestep ${timestep}\n",
    "\n",
    "# Define dump file contents and frequency\n",
    "dump dumpit all custom ${dumpsteps} *.dump id type x y z c_peatom\n",
    "dump_modify dumpit format float %.13e\n",
    "\n",
    "# Create velocities and equilibrate system using nvt\n",
    "velocity all create ${twotemp} ${randomseed}\n",
    "fix nvt all nvt temp ${temperature} ${temperature} ${damptemp}\n",
    "run ${runsteps}\n",
    "\n",
    "\"\"\""
   ]
  },
  {
   "cell_type": "markdown",
   "id": "0e60f6eb-074e-4317-bc9b-8f7aad904b04",
   "metadata": {},
   "source": [
    "## 4. Build LAMMPS script by filling in the template"
   ]
  },
  {
   "cell_type": "markdown",
   "id": "bec28cad-04c8-4dc1-9f7a-23e14303e49a",
   "metadata": {},
   "source": [
    "### 4.1. Save the system to a data file"
   ]
  },
  {
   "cell_type": "code",
   "execution_count": 8,
   "id": "7a53a4a2-ea44-42ce-9fd2-6d30f4e2345a",
   "metadata": {
    "tags": []
   },
   "outputs": [],
   "source": [
    "data_file = 'init.dat'\n",
    "system_pair_info = system.dump('atom_data', f=data_file, potential=potential)"
   ]
  },
  {
   "cell_type": "markdown",
   "id": "d1300eae-a9af-457d-8951-5d2cdb0b11d3",
   "metadata": {},
   "source": [
    "### 4.2. Build the LAMMPS script\n",
    "\n",
    "Create a dict specifying what values to fill in for the \\<\\> terms in the template script"
   ]
  },
  {
   "cell_type": "code",
   "execution_count": 9,
   "id": "ffe9d331-1a0a-41c1-8f28-c52b4259af14",
   "metadata": {
    "tags": []
   },
   "outputs": [],
   "source": [
    "lammps_variables = {}\n",
    "lammps_variables['atomman_system_pair_info'] = system_pair_info\n",
    "lammps_variables['temperature'] = 1200\n",
    "lammps_variables['randomseed'] = lmp.newseed()              # generates a random LAMMPS-compatible random seed\n",
    "lammps_variables['thermosteps'] = 100\n",
    "lammps_variables['timestep'] = lmp.style.timestep('metal')  # selects the default timestep to use for a unit style\n",
    "lammps_variables['dumpsteps'] = 10000\n",
    "lammps_variables['runsteps'] = 20000"
   ]
  },
  {
   "cell_type": "markdown",
   "id": "93894f54-9e9b-4ef4-aa0e-bdc4aadc6e0d",
   "metadata": {},
   "source": [
    "Fill in the template to build the LAMMPS script.  "
   ]
  },
  {
   "cell_type": "code",
   "execution_count": 10,
   "id": "85d759b3-e82b-4190-b9db-15dfed097559",
   "metadata": {
    "tags": []
   },
   "outputs": [
    {
     "name": "stdout",
     "output_type": "stream",
     "text": [
      "\n",
      "# LAMMPS input script for dynamic msd computation\n",
      "\n",
      "units metal\n",
      "atom_style atomic\n",
      "\n",
      "boundary p p p\n",
      "read_data init.dat\n",
      "\n",
      "print \"Potential 2004--Zhou-X-W--Au--LAMMPS--ipr2 listed in the NIST Interatomic Potentials Repository:\"\n",
      "print \"https://www.ctcms.nist.gov/potentials/entry/2004--Zhou-X-W-Johnson-R-A-Wadley-H-N-G--Au/2004--Zhou-X-W--Au--LAMMPS--ipr2.html\"\n",
      "print \"Publication(s) related to the potential:\"\n",
      "print \"https://doi.org/10.1103/physrevb.69.144113\"\n",
      "print \"Parameter file(s) can be downloaded at:\"\n",
      "print \"https://www.ctcms.nist.gov/potentials/Download/2004--Zhou-X-W-Johnson-R-A-Wadley-H-N-G--Au/4/Au_Zhou04.eam.alloy\"\n",
      "\n",
      "pair_style eam/alloy \n",
      "pair_coeff * * Au_Zhou04.eam.alloy Au\n",
      "\n",
      "mass 1 196.97\n",
      "\n",
      "\n",
      "\n",
      "# Assign simulation parameter values\n",
      "variable temperature equal 1200\n",
      "variable randomseed equal 291971790\n",
      "variable thermosteps equal 100\n",
      "variable timestep equal 0.001\n",
      "variable dumpsteps equal 10000\n",
      "variable runsteps equal 20000\n",
      "variable twotemp equal 2*${temperature}\n",
      "variable damptemp equal 100*${timestep}\n",
      "\n",
      "# Specify property computes\n",
      "compute peatom all pe/atom\n",
      "compute msd all msd com yes\n",
      "\n",
      "# Define thermo data\n",
      "thermo ${thermosteps}\n",
      "thermo_style custom step temp pe ke etotal pxx pyy pzz c_msd[1] c_msd[2] c_msd[3] c_msd[4]\n",
      "thermo_modify format float %.13e\n",
      "\n",
      "# Specify timestep\n",
      "timestep ${timestep}\n",
      "\n",
      "# Define dump file contents and frequency\n",
      "dump dumpit all custom ${dumpsteps} *.dump id type x y z c_peatom\n",
      "dump_modify dumpit format float %.13e\n",
      "\n",
      "# Create velocities and equilibrate system using nvt\n",
      "velocity all create ${twotemp} ${randomseed}\n",
      "fix nvt all nvt temp ${temperature} ${temperature} ${damptemp}\n",
      "run ${runsteps}\n",
      "\n",
      "\n"
     ]
    }
   ],
   "source": [
    "# Function parameters: template, replacement dict, before and after delimiters for template variables\n",
    "script = am.tools.filltemplate(template, lammps_variables, '<', '>')\n",
    "print(script)"
   ]
  },
  {
   "cell_type": "markdown",
   "id": "d26d1df9-5703-42d7-ac50-786bff88b732",
   "metadata": {},
   "source": [
    "## 5. Run LAMMPS and explore results"
   ]
  },
  {
   "cell_type": "markdown",
   "id": "7212c004-cb54-4214-9078-29ce860b13c8",
   "metadata": {},
   "source": [
    "### 5.1. Run LAMMPS\n",
    "\n",
    "Run with atomman.lammps.run().  If it finishes successfully, it will return a Log object.  If if crashes, it should throw a LAMMPSError."
   ]
  },
  {
   "cell_type": "code",
   "execution_count": 11,
   "id": "74391de2-ea85-489f-b324-e148ae63a882",
   "metadata": {
    "scrolled": true,
    "tags": []
   },
   "outputs": [],
   "source": [
    "log = lmp.run(lammps_command, script=script, mpi_command=mpi_command)"
   ]
  },
  {
   "cell_type": "code",
   "execution_count": 11,
   "id": "1aa66a92-e35a-4f1c-8f92-538b8fcff87a",
   "metadata": {
    "tags": []
   },
   "outputs": [
    {
     "ename": "LammpsError",
     "evalue": "Unknown command: bad_command  does not exist (src/input.cpp:314)\nLast input line: bad_command does not exist\n",
     "output_type": "error",
     "traceback": [
      "\u001b[31m---------------------------------------------------------------------------\u001b[39m",
      "\u001b[31mCalledProcessError\u001b[39m                        Traceback (most recent call last)",
      "\u001b[36mFile \u001b[39m\u001b[32m~\\AppData\\Local\\miniforge3\\Lib\\site-packages\\atomman\\lammps\\run.py:143\u001b[39m, in \u001b[36mrun\u001b[39m\u001b[34m(lammps_command, script_name, script, mpi_command, restart_script_name, restart_script, partition, logfile, screen, suffix)\u001b[39m\n\u001b[32m    142\u001b[39m \u001b[38;5;28;01mtry\u001b[39;00m:\n\u001b[32m--> \u001b[39m\u001b[32m143\u001b[39m     output = \u001b[43msubprocess\u001b[49m\u001b[43m.\u001b[49m\u001b[43mrun\u001b[49m\u001b[43m(\u001b[49m\u001b[43mcommand\u001b[49m\u001b[43m,\u001b[49m\u001b[43m \u001b[49m\u001b[38;5;28;43minput\u001b[39;49m\u001b[43m=\u001b[49m\u001b[43mscript\u001b[49m\u001b[43m,\u001b[49m\u001b[43m \u001b[49m\u001b[43mcheck\u001b[49m\u001b[43m=\u001b[49m\u001b[38;5;28;43;01mTrue\u001b[39;49;00m\u001b[43m,\u001b[49m\n\u001b[32m    144\u001b[39m \u001b[43m                            \u001b[49m\u001b[43mcapture_output\u001b[49m\u001b[43m=\u001b[49m\u001b[38;5;28;43;01mTrue\u001b[39;49;00m\u001b[43m,\u001b[49m\u001b[43m \u001b[49m\u001b[43mtext\u001b[49m\u001b[43m=\u001b[49m\u001b[38;5;28;43;01mTrue\u001b[39;49;00m\u001b[43m)\u001b[49m\n\u001b[32m    146\u001b[39m \u001b[38;5;66;03m# Convert LAMMPS error to a Python error if failed\u001b[39;00m\n",
      "\u001b[36mFile \u001b[39m\u001b[32m~\\AppData\\Local\\miniforge3\\Lib\\subprocess.py:571\u001b[39m, in \u001b[36mrun\u001b[39m\u001b[34m(input, capture_output, timeout, check, *popenargs, **kwargs)\u001b[39m\n\u001b[32m    570\u001b[39m     \u001b[38;5;28;01mif\u001b[39;00m check \u001b[38;5;129;01mand\u001b[39;00m retcode:\n\u001b[32m--> \u001b[39m\u001b[32m571\u001b[39m         \u001b[38;5;28;01mraise\u001b[39;00m CalledProcessError(retcode, process.args,\n\u001b[32m    572\u001b[39m                                  output=stdout, stderr=stderr)\n\u001b[32m    573\u001b[39m \u001b[38;5;28;01mreturn\u001b[39;00m CompletedProcess(process.args, retcode, stdout, stderr)\n",
      "\u001b[31mCalledProcessError\u001b[39m: Command '['lmp']' returned non-zero exit status 1.",
      "\nThe above exception was the direct cause of the following exception:\n",
      "\u001b[31mLammpsError\u001b[39m                               Traceback (most recent call last)",
      "\u001b[36mCell\u001b[39m\u001b[36m \u001b[39m\u001b[32mIn[11]\u001b[39m\u001b[32m, line 5\u001b[39m\n\u001b[32m      1\u001b[39m badscript = \u001b[33m\"\"\"\u001b[39m\n\u001b[32m      2\u001b[39m \u001b[33munits metal\u001b[39m\n\u001b[32m      3\u001b[39m \u001b[33mbad_command  does not exist\u001b[39m\n\u001b[32m      4\u001b[39m \u001b[33m\"\"\"\u001b[39m\n\u001b[32m----> \u001b[39m\u001b[32m5\u001b[39m \u001b[43mlmp\u001b[49m\u001b[43m.\u001b[49m\u001b[43mrun\u001b[49m\u001b[43m(\u001b[49m\u001b[43mlammps_command\u001b[49m\u001b[43m,\u001b[49m\u001b[43m \u001b[49m\u001b[43mscript\u001b[49m\u001b[43m=\u001b[49m\u001b[43mbadscript\u001b[49m\u001b[43m)\u001b[49m\n",
      "\u001b[36mFile \u001b[39m\u001b[32m~\\AppData\\Local\\miniforge3\\Lib\\site-packages\\atomman\\lammps\\run.py:153\u001b[39m, in \u001b[36mrun\u001b[39m\u001b[34m(lammps_command, script_name, script, mpi_command, restart_script_name, restart_script, partition, logfile, screen, suffix)\u001b[39m\n\u001b[32m    151\u001b[39m     \u001b[38;5;28;01melse\u001b[39;00m:\n\u001b[32m    152\u001b[39m         output = e.output\n\u001b[32m--> \u001b[39m\u001b[32m153\u001b[39m     \u001b[38;5;28;01mraise\u001b[39;00m LammpsError(output) \u001b[38;5;28;01mfrom\u001b[39;00m\u001b[38;5;250m \u001b[39m\u001b[34;01me\u001b[39;00m\n\u001b[32m    155\u001b[39m \u001b[38;5;66;03m# Initialize Log object\u001b[39;00m\n\u001b[32m    156\u001b[39m log = Log()\n",
      "\u001b[31mLammpsError\u001b[39m: Unknown command: bad_command  does not exist (src/input.cpp:314)\nLast input line: bad_command does not exist\n"
     ]
    }
   ],
   "source": [
    "badscript = \"\"\"\n",
    "units metal\n",
    "bad_command  does not exist\n",
    "\"\"\"\n",
    "lmp.run(lammps_command, script=badscript)"
   ]
  },
  {
   "cell_type": "markdown",
   "id": "814d4172-9834-40e6-8375-55f7c17e7586",
   "metadata": {},
   "source": [
    "### 5.2. Explore log outputs\n",
    "\n",
    "The returned log object contains a list of simulations.  Each simulation has two tables of data: \"performance\" which collects the LAMMPS computational time information, and \"thermo\" which collects that simulation's thermo data.\n",
    "\n",
    "Also, you can use the Log objects to read in log.lammps files."
   ]
  },
  {
   "cell_type": "code",
   "execution_count": 12,
   "id": "208a9c66-cfff-4d7e-91dd-305f2a3d47cb",
   "metadata": {
    "tags": []
   },
   "outputs": [
    {
     "name": "stdout",
     "output_type": "stream",
     "text": [
      "1\n"
     ]
    }
   ],
   "source": [
    "print(len(log.simulations))"
   ]
  },
  {
   "cell_type": "code",
   "execution_count": 13,
   "id": "4ac2b67e-e48d-44a1-b2c9-e0fcdddba158",
   "metadata": {
    "tags": []
   },
   "outputs": [
    {
     "data": {
      "text/html": [
       "<div>\n",
       "<style scoped>\n",
       "    .dataframe tbody tr th:only-of-type {\n",
       "        vertical-align: middle;\n",
       "    }\n",
       "\n",
       "    .dataframe tbody tr th {\n",
       "        vertical-align: top;\n",
       "    }\n",
       "\n",
       "    .dataframe thead th {\n",
       "        text-align: right;\n",
       "    }\n",
       "</style>\n",
       "<table border=\"1\" class=\"dataframe\">\n",
       "  <thead>\n",
       "    <tr style=\"text-align: right;\">\n",
       "      <th></th>\n",
       "      <th>min time</th>\n",
       "      <th>avg time</th>\n",
       "      <th>max time</th>\n",
       "      <th>%varavg</th>\n",
       "      <th>%total</th>\n",
       "    </tr>\n",
       "    <tr>\n",
       "      <th>Section</th>\n",
       "      <th></th>\n",
       "      <th></th>\n",
       "      <th></th>\n",
       "      <th></th>\n",
       "      <th></th>\n",
       "    </tr>\n",
       "  </thead>\n",
       "  <tbody>\n",
       "    <tr>\n",
       "      <th>Pair</th>\n",
       "      <td>19.618000</td>\n",
       "      <td>19.646000</td>\n",
       "      <td>19.674000</td>\n",
       "      <td>0.6</td>\n",
       "      <td>76.36</td>\n",
       "    </tr>\n",
       "    <tr>\n",
       "      <th>Neigh</th>\n",
       "      <td>0.122870</td>\n",
       "      <td>0.123300</td>\n",
       "      <td>0.123740</td>\n",
       "      <td>0.1</td>\n",
       "      <td>0.48</td>\n",
       "    </tr>\n",
       "    <tr>\n",
       "      <th>Comm</th>\n",
       "      <td>5.513000</td>\n",
       "      <td>5.538600</td>\n",
       "      <td>5.564300</td>\n",
       "      <td>1.1</td>\n",
       "      <td>21.53</td>\n",
       "    </tr>\n",
       "    <tr>\n",
       "      <th>Output</th>\n",
       "      <td>0.015199</td>\n",
       "      <td>0.018771</td>\n",
       "      <td>0.022342</td>\n",
       "      <td>2.6</td>\n",
       "      <td>0.07</td>\n",
       "    </tr>\n",
       "    <tr>\n",
       "      <th>Modify</th>\n",
       "      <td>0.231560</td>\n",
       "      <td>0.232950</td>\n",
       "      <td>0.234330</td>\n",
       "      <td>0.3</td>\n",
       "      <td>0.91</td>\n",
       "    </tr>\n",
       "    <tr>\n",
       "      <th>Other</th>\n",
       "      <td>0.000000</td>\n",
       "      <td>0.169400</td>\n",
       "      <td>0.000000</td>\n",
       "      <td>0.0</td>\n",
       "      <td>0.66</td>\n",
       "    </tr>\n",
       "  </tbody>\n",
       "</table>\n",
       "</div>"
      ],
      "text/plain": [
       "           min time   avg time   max time  %varavg  %total\n",
       "Section                                                   \n",
       "Pair      19.618000  19.646000  19.674000      0.6   76.36\n",
       "Neigh      0.122870   0.123300   0.123740      0.1    0.48\n",
       "Comm       5.513000   5.538600   5.564300      1.1   21.53\n",
       "Output     0.015199   0.018771   0.022342      2.6    0.07\n",
       "Modify     0.231560   0.232950   0.234330      0.3    0.91\n",
       "Other      0.000000   0.169400   0.000000      0.0    0.66"
      ]
     },
     "execution_count": 13,
     "metadata": {},
     "output_type": "execute_result"
    }
   ],
   "source": [
    "sim = log.simulations[0]\n",
    "sim.performance"
   ]
  },
  {
   "cell_type": "code",
   "execution_count": 14,
   "id": "b7093c34-6b10-478b-a124-53adcb1b0ff2",
   "metadata": {
    "tags": []
   },
   "outputs": [
    {
     "data": {
      "text/plain": [
       "np.float64(25.618712)"
      ]
     },
     "execution_count": 14,
     "metadata": {},
     "output_type": "execute_result"
    }
   ],
   "source": [
    "sim.performance['max time'].sum()"
   ]
  },
  {
   "cell_type": "code",
   "execution_count": 15,
   "id": "fe52b04a-6391-4bb8-82cc-9840faaabed4",
   "metadata": {
    "tags": []
   },
   "outputs": [
    {
     "data": {
      "text/html": [
       "<div>\n",
       "<style scoped>\n",
       "    .dataframe tbody tr th:only-of-type {\n",
       "        vertical-align: middle;\n",
       "    }\n",
       "\n",
       "    .dataframe tbody tr th {\n",
       "        vertical-align: top;\n",
       "    }\n",
       "\n",
       "    .dataframe thead th {\n",
       "        text-align: right;\n",
       "    }\n",
       "</style>\n",
       "<table border=\"1\" class=\"dataframe\">\n",
       "  <thead>\n",
       "    <tr style=\"text-align: right;\">\n",
       "      <th></th>\n",
       "      <th>Step</th>\n",
       "      <th>Temp</th>\n",
       "      <th>PotEng</th>\n",
       "      <th>KinEng</th>\n",
       "      <th>TotEng</th>\n",
       "      <th>Pxx</th>\n",
       "      <th>Pyy</th>\n",
       "      <th>Pzz</th>\n",
       "      <th>c_msd[1]</th>\n",
       "      <th>c_msd[2]</th>\n",
       "      <th>c_msd[3]</th>\n",
       "      <th>c_msd[4]</th>\n",
       "    </tr>\n",
       "  </thead>\n",
       "  <tbody>\n",
       "    <tr>\n",
       "      <th>0</th>\n",
       "      <td>0</td>\n",
       "      <td>2400.000000</td>\n",
       "      <td>-1954.988838</td>\n",
       "      <td>154.181501</td>\n",
       "      <td>-1800.807337</td>\n",
       "      <td>17093.398683</td>\n",
       "      <td>16911.670679</td>\n",
       "      <td>16859.383504</td>\n",
       "      <td>2.839899e-29</td>\n",
       "      <td>3.155444e-30</td>\n",
       "      <td>2.019484e-28</td>\n",
       "      <td>2.335028e-28</td>\n",
       "    </tr>\n",
       "    <tr>\n",
       "      <th>1</th>\n",
       "      <td>100</td>\n",
       "      <td>786.865087</td>\n",
       "      <td>-1863.396484</td>\n",
       "      <td>50.550017</td>\n",
       "      <td>-1812.846467</td>\n",
       "      <td>84295.558780</td>\n",
       "      <td>93887.658596</td>\n",
       "      <td>92276.142909</td>\n",
       "      <td>4.237694e-02</td>\n",
       "      <td>3.847777e-02</td>\n",
       "      <td>3.951777e-02</td>\n",
       "      <td>1.203725e-01</td>\n",
       "    </tr>\n",
       "    <tr>\n",
       "      <th>2</th>\n",
       "      <td>200</td>\n",
       "      <td>1076.232254</td>\n",
       "      <td>-1868.422284</td>\n",
       "      <td>69.139627</td>\n",
       "      <td>-1799.282657</td>\n",
       "      <td>84174.612970</td>\n",
       "      <td>90101.345623</td>\n",
       "      <td>88547.127970</td>\n",
       "      <td>5.940216e-02</td>\n",
       "      <td>4.904417e-02</td>\n",
       "      <td>4.958503e-02</td>\n",
       "      <td>1.580314e-01</td>\n",
       "    </tr>\n",
       "    <tr>\n",
       "      <th>3</th>\n",
       "      <td>300</td>\n",
       "      <td>1215.853885</td>\n",
       "      <td>-1869.236586</td>\n",
       "      <td>78.109240</td>\n",
       "      <td>-1791.127345</td>\n",
       "      <td>87221.314965</td>\n",
       "      <td>88535.295392</td>\n",
       "      <td>90031.786856</td>\n",
       "      <td>5.408282e-02</td>\n",
       "      <td>6.192638e-02</td>\n",
       "      <td>4.698867e-02</td>\n",
       "      <td>1.629979e-01</td>\n",
       "    </tr>\n",
       "    <tr>\n",
       "      <th>4</th>\n",
       "      <td>400</td>\n",
       "      <td>1288.923140</td>\n",
       "      <td>-1874.803596</td>\n",
       "      <td>82.803377</td>\n",
       "      <td>-1792.000219</td>\n",
       "      <td>84834.856418</td>\n",
       "      <td>83976.061229</td>\n",
       "      <td>86467.846737</td>\n",
       "      <td>5.446230e-02</td>\n",
       "      <td>6.318542e-02</td>\n",
       "      <td>4.349591e-02</td>\n",
       "      <td>1.611436e-01</td>\n",
       "    </tr>\n",
       "    <tr>\n",
       "      <th>...</th>\n",
       "      <td>...</td>\n",
       "      <td>...</td>\n",
       "      <td>...</td>\n",
       "      <td>...</td>\n",
       "      <td>...</td>\n",
       "      <td>...</td>\n",
       "      <td>...</td>\n",
       "      <td>...</td>\n",
       "      <td>...</td>\n",
       "      <td>...</td>\n",
       "      <td>...</td>\n",
       "      <td>...</td>\n",
       "    </tr>\n",
       "    <tr>\n",
       "      <th>196</th>\n",
       "      <td>19600</td>\n",
       "      <td>1303.497993</td>\n",
       "      <td>-1881.921357</td>\n",
       "      <td>83.739699</td>\n",
       "      <td>-1798.181658</td>\n",
       "      <td>76577.641685</td>\n",
       "      <td>77991.002560</td>\n",
       "      <td>78282.367892</td>\n",
       "      <td>4.558363e-02</td>\n",
       "      <td>6.468604e-02</td>\n",
       "      <td>5.075854e-02</td>\n",
       "      <td>1.610282e-01</td>\n",
       "    </tr>\n",
       "    <tr>\n",
       "      <th>197</th>\n",
       "      <td>19700</td>\n",
       "      <td>1212.631807</td>\n",
       "      <td>-1876.659378</td>\n",
       "      <td>77.902247</td>\n",
       "      <td>-1798.757132</td>\n",
       "      <td>80300.399073</td>\n",
       "      <td>81471.214669</td>\n",
       "      <td>82781.305235</td>\n",
       "      <td>5.011097e-02</td>\n",
       "      <td>6.416433e-02</td>\n",
       "      <td>5.450355e-02</td>\n",
       "      <td>1.687789e-01</td>\n",
       "    </tr>\n",
       "    <tr>\n",
       "      <th>198</th>\n",
       "      <td>19800</td>\n",
       "      <td>1211.258260</td>\n",
       "      <td>-1881.800983</td>\n",
       "      <td>77.814007</td>\n",
       "      <td>-1803.986976</td>\n",
       "      <td>78449.376395</td>\n",
       "      <td>75275.420562</td>\n",
       "      <td>80529.689748</td>\n",
       "      <td>4.774340e-02</td>\n",
       "      <td>6.530637e-02</td>\n",
       "      <td>5.112554e-02</td>\n",
       "      <td>1.641753e-01</td>\n",
       "    </tr>\n",
       "    <tr>\n",
       "      <th>199</th>\n",
       "      <td>19900</td>\n",
       "      <td>1084.063203</td>\n",
       "      <td>-1879.644316</td>\n",
       "      <td>69.642705</td>\n",
       "      <td>-1810.001611</td>\n",
       "      <td>80247.409737</td>\n",
       "      <td>75915.361526</td>\n",
       "      <td>79763.226771</td>\n",
       "      <td>4.679579e-02</td>\n",
       "      <td>7.237655e-02</td>\n",
       "      <td>5.555595e-02</td>\n",
       "      <td>1.747283e-01</td>\n",
       "    </tr>\n",
       "    <tr>\n",
       "      <th>200</th>\n",
       "      <td>20000</td>\n",
       "      <td>1182.796393</td>\n",
       "      <td>-1880.896620</td>\n",
       "      <td>75.985551</td>\n",
       "      <td>-1804.911069</td>\n",
       "      <td>78401.387966</td>\n",
       "      <td>77121.631568</td>\n",
       "      <td>77450.330298</td>\n",
       "      <td>5.077433e-02</td>\n",
       "      <td>7.305836e-02</td>\n",
       "      <td>5.892466e-02</td>\n",
       "      <td>1.827573e-01</td>\n",
       "    </tr>\n",
       "  </tbody>\n",
       "</table>\n",
       "<p>201 rows × 12 columns</p>\n",
       "</div>"
      ],
      "text/plain": [
       "      Step         Temp       PotEng      KinEng       TotEng           Pxx  \\\n",
       "0        0  2400.000000 -1954.988838  154.181501 -1800.807337  17093.398683   \n",
       "1      100   786.865087 -1863.396484   50.550017 -1812.846467  84295.558780   \n",
       "2      200  1076.232254 -1868.422284   69.139627 -1799.282657  84174.612970   \n",
       "3      300  1215.853885 -1869.236586   78.109240 -1791.127345  87221.314965   \n",
       "4      400  1288.923140 -1874.803596   82.803377 -1792.000219  84834.856418   \n",
       "..     ...          ...          ...         ...          ...           ...   \n",
       "196  19600  1303.497993 -1881.921357   83.739699 -1798.181658  76577.641685   \n",
       "197  19700  1212.631807 -1876.659378   77.902247 -1798.757132  80300.399073   \n",
       "198  19800  1211.258260 -1881.800983   77.814007 -1803.986976  78449.376395   \n",
       "199  19900  1084.063203 -1879.644316   69.642705 -1810.001611  80247.409737   \n",
       "200  20000  1182.796393 -1880.896620   75.985551 -1804.911069  78401.387966   \n",
       "\n",
       "              Pyy           Pzz      c_msd[1]      c_msd[2]      c_msd[3]  \\\n",
       "0    16911.670679  16859.383504  2.839899e-29  3.155444e-30  2.019484e-28   \n",
       "1    93887.658596  92276.142909  4.237694e-02  3.847777e-02  3.951777e-02   \n",
       "2    90101.345623  88547.127970  5.940216e-02  4.904417e-02  4.958503e-02   \n",
       "3    88535.295392  90031.786856  5.408282e-02  6.192638e-02  4.698867e-02   \n",
       "4    83976.061229  86467.846737  5.446230e-02  6.318542e-02  4.349591e-02   \n",
       "..            ...           ...           ...           ...           ...   \n",
       "196  77991.002560  78282.367892  4.558363e-02  6.468604e-02  5.075854e-02   \n",
       "197  81471.214669  82781.305235  5.011097e-02  6.416433e-02  5.450355e-02   \n",
       "198  75275.420562  80529.689748  4.774340e-02  6.530637e-02  5.112554e-02   \n",
       "199  75915.361526  79763.226771  4.679579e-02  7.237655e-02  5.555595e-02   \n",
       "200  77121.631568  77450.330298  5.077433e-02  7.305836e-02  5.892466e-02   \n",
       "\n",
       "         c_msd[4]  \n",
       "0    2.335028e-28  \n",
       "1    1.203725e-01  \n",
       "2    1.580314e-01  \n",
       "3    1.629979e-01  \n",
       "4    1.611436e-01  \n",
       "..            ...  \n",
       "196  1.610282e-01  \n",
       "197  1.687789e-01  \n",
       "198  1.641753e-01  \n",
       "199  1.747283e-01  \n",
       "200  1.827573e-01  \n",
       "\n",
       "[201 rows x 12 columns]"
      ]
     },
     "execution_count": 15,
     "metadata": {},
     "output_type": "execute_result"
    }
   ],
   "source": [
    "sim.thermo"
   ]
  },
  {
   "cell_type": "code",
   "execution_count": 16,
   "id": "7e1f952e-2082-47f9-856e-41bf592906fb",
   "metadata": {
    "tags": []
   },
   "outputs": [
    {
     "data": {
      "text/plain": [
       "[<matplotlib.lines.Line2D at 0x148bc5d3050>]"
      ]
     },
     "execution_count": 16,
     "metadata": {},
     "output_type": "execute_result"
    },
    {
     "data": {
      "image/png": "[encoded data removed]",
      "text/plain": [
       "<Figure size 640x480 with 1 Axes>"
      ]
     },
     "metadata": {},
     "output_type": "display_data"
    }
   ],
   "source": [
    "plt.plot(sim.thermo.Step, sim.thermo['c_msd[4]'])"
   ]
  },
  {
   "cell_type": "markdown",
   "id": "4c02e877-3ca1-4943-841e-44665101dae1",
   "metadata": {},
   "source": [
    "### 5.3. Load dump files\n",
    "\n",
    "You can use atomman.load to read in any of the dump files to do any further per-atom processing of the results using atomman."
   ]
  },
  {
   "cell_type": "code",
   "execution_count": 18,
   "id": "870bba75-cd88-4a8a-a459-7f7d38113523",
   "metadata": {
    "tags": []
   },
   "outputs": [
    {
     "name": "stdout",
     "output_type": "stream",
     "text": [
      "['atype', 'pos', 'atom_id', 'c_peatom']\n"
     ]
    }
   ],
   "source": [
    "final = am.load('atom_dump', '20000.dump')\n",
    "print(final.atoms_prop())"
   ]
  },
  {
   "cell_type": "markdown",
   "id": "adad1368-b365-4b9e-9938-47996c452755",
   "metadata": {},
   "source": [
    "**File cleanup**"
   ]
  },
  {
   "cell_type": "code",
   "execution_count": 19,
   "id": "4a08f69f-8712-4181-96ec-2643833df660",
   "metadata": {
    "tags": []
   },
   "outputs": [],
   "source": [
    "from pathlib import Path\n",
    "import shutil\n",
    "\n",
    "for potdir in Path().glob('19*--ipr*'):\n",
    "    if potdir.is_dir():\n",
    "        shutil.rmtree(potdir)\n",
    "for potdir in Path().glob('20*--ipr*'):\n",
    "    if potdir.is_dir():\n",
    "        shutil.rmtree(potdir)\n",
    "for fname in Path().glob('*.dump'):\n",
    "    fname.unlink()\n",
    "if Path('log.lammps').exists():\n",
    "    Path('log.lammps').unlink()\n",
    "if Path('init.dat').exists():\n",
    "    Path('init.dat').unlink()"
   ]
  },
  {
   "cell_type": "code",
   "execution_count": null,
   "id": "369121b9-7345-433c-967b-53a6194f8736",
   "metadata": {},
   "outputs": [],
   "source": []
  }
 ],
 "metadata": {
  "kernelspec": {
   "display_name": "Python 3 (ipykernel)",
   "language": "python",
   "name": "python3"
  },
  "language_info": {
   "codemirror_mode": {
    "name": "ipython",
    "version": 3
   },
   "file_extension": ".py",
   "mimetype": "text/x-python",
   "name": "python",
   "nbconvert_exporter": "python",
   "pygments_lexer": "ipython3",
   "version": "3.12.11"
  }
 },
 "nbformat": 4,
 "nbformat_minor": 5
}
