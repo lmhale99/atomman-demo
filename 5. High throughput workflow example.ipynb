{
 "cells": [
  {
   "cell_type": "markdown",
   "id": "d8066ac8-464a-48a8-bb04-431cc6b2afc7",
   "metadata": {},
   "source": [
    "# High throughput workflow example\n",
    "\n",
    "iprPy handles calculation workflows in two stages:\n",
    "\n",
    "1. Prepare creates multiple instances of a calculation both as input files and preliminary database entries.\n",
    "2. Runner jobs then systematically run the calculations, update the database entries, and upload any generated calculation files into the database."
   ]
  },
  {
   "cell_type": "code",
   "execution_count": 1,
   "id": "58a1eb62-7d5b-40ae-a438-1ef53911c0b7",
   "metadata": {
    "tags": []
   },
   "outputs": [],
   "source": [
    "from pathlib import Path\n",
    "\n",
    "import matplotlib.pyplot as plt\n",
    "\n",
    "import atomman as am\n",
    "import atomman.unitconvert as uc\n",
    "import iprPy\n",
    "\n",
    "import pandas as pd"
   ]
  },
  {
   "cell_type": "markdown",
   "id": "35e24cf8-738b-4fd3-a26d-b9a9a71b5b2e",
   "metadata": {},
   "source": [
    "## 1. Initial setup\n",
    "\n",
    "To run the calculations, we need to define a database where the records are added and a run_directory where the calculations are performed."
   ]
  },
  {
   "cell_type": "code",
   "execution_count": 2,
   "id": "87c0915d-96cf-44e6-9118-c2022a44e1e9",
   "metadata": {
    "tags": []
   },
   "outputs": [
    {
     "name": "stdout",
     "output_type": "stream",
     "text": [
      "C:\\Users\\lmh1\\OneDrive - NIST\\Documents\\atomman-demo\\run_directory\\demo_1\n"
     ]
    }
   ],
   "source": [
    "# Set the \"demo_1\" run directory's path \n",
    "iprPy.settings.set_run_directory('demo_1', Path('.', 'run_directory/demo_1').absolute())\n",
    "\n",
    "run_directory = iprPy.load_run_directory('demo_1')\n",
    "print(run_directory)\n",
    "\n",
    "if not Path(run_directory).exists():\n",
    "    Path(run_directory).mkdir(parents=True)"
   ]
  },
  {
   "cell_type": "code",
   "execution_count": 3,
   "id": "165d3f5d-2ba1-4cb5-b942-2b20e90d937b",
   "metadata": {
    "tags": []
   },
   "outputs": [
    {
     "name": "stdout",
     "output_type": "stream",
     "text": [
      "Enter any other database parameters as key, value\n",
      "Exit by leaving key blank\n",
      "key: "
     ]
    },
    {
     "name": "stdin",
     "output_type": "stream",
     "text": [
      " \n"
     ]
    },
    {
     "name": "stdout",
     "output_type": "stream",
     "text": [
      "database style local at C:\\Users\\lmh1\\OneDrive - NIST\\Documents\\atomman-demo\\demo_db\n"
     ]
    }
   ],
   "source": [
    "# Define a local-style database\n",
    "iprPy.settings.set_database('demo', style='local', host='demo_db')\n",
    "\n",
    "database = iprPy.load_database('demo')\n",
    "print(database)"
   ]
  },
  {
   "cell_type": "markdown",
   "id": "c1af1173-471d-4ffc-97f7-798cfeb95daa",
   "metadata": {},
   "source": [
    "The iprPy databases have a \"potdb\" attribute, which will build the atomman-style database from the first Notebook."
   ]
  },
  {
   "cell_type": "code",
   "execution_count": 4,
   "id": "5c174941-ca41-4e8b-a0ab-b7afde56cb59",
   "metadata": {
    "tags": []
   },
   "outputs": [
    {
     "name": "stdout",
     "output_type": "stream",
     "text": [
      "database style cdcs at https://potentials.nist.gov/\n",
      "database style local at C:\\Users\\lmh1\\OneDrive - NIST\\Documents\\atomman-demo\\demo_db\n"
     ]
    }
   ],
   "source": [
    "potdb = database.potdb\n",
    "print(potdb.remote_database)\n",
    "print(potdb.local_database)"
   ]
  },
  {
   "cell_type": "markdown",
   "id": "85b0972e-bf24-4845-8f2d-a42d9767276d",
   "metadata": {},
   "source": [
    "Download all EAM potentials for Au"
   ]
  },
  {
   "cell_type": "code",
   "execution_count": 5,
   "id": "8217ad23-1667-48c7-8696-9280d82e7d5d",
   "metadata": {
    "tags": []
   },
   "outputs": [
    {
     "name": "stderr",
     "output_type": "stream",
     "text": [
      "100%|██████████████████████████████████████████████████████████████████████████████████| 19/19 [00:00<00:00, 24.43it/s]\n"
     ]
    },
    {
     "name": "stdout",
     "output_type": "stream",
     "text": [
      "Found 19 matching potential_LAMMPS records in remote library\n",
      "19 new records added to local\n",
      "34 parameter files downloaded\n",
      "Found 0 matching potential_LAMMPS_KIM records in remote library\n",
      "0 new records added to local\n"
     ]
    }
   ],
   "source": [
    "potdb.download_lammps_potentials(\n",
    "    pair_style = ['eam', 'eam/alloy', 'eam/fs'],\n",
    "    symbols = 'Au',\n",
    "    downloadfiles = True,\n",
    "    verbose = True\n",
    ")"
   ]
  },
  {
   "cell_type": "markdown",
   "id": "d65f9ec7-236e-485d-94c6-cf4642e32ef3",
   "metadata": {},
   "source": [
    "Build the list of downloaded potentials"
   ]
  },
  {
   "cell_type": "code",
   "execution_count": 6,
   "id": "065b2a5a-eedc-4b90-b2ee-ed3a8c0f6d77",
   "metadata": {
    "tags": []
   },
   "outputs": [
    {
     "data": {
      "text/plain": [
       "['1986--Foiles-S-M--Ag-Au-Cu-Ni-Pd-Pt--LAMMPS--ipr1',\n",
       " '1986--Foiles-S-M--Au--LAMMPS--ipr1',\n",
       " '1987--Ackland-G-J--Au--LAMMPS--ipr1',\n",
       " '1987--Ackland-G-J--Au--LAMMPS--ipr2',\n",
       " '1989--Adams-J-B--Ag-Au-Cu-Ni-Pd-Pt--LAMMPS--ipr1',\n",
       " '1989--Adams-J-B--Au--LAMMPS--ipr1',\n",
       " '1990--Ackland-G-J--Cu-Ag-Au--LAMMPS--ipr1',\n",
       " '2004--Zhou-X-W--Au--LAMMPS--ipr1',\n",
       " '2004--Zhou-X-W--Au--LAMMPS--ipr2',\n",
       " '2004--Zhou-X-W--Cu-Ag-Au--LAMMPS--ipr1',\n",
       " '2004--Zhou-X-W--Cu-Ag-Au--LAMMPS--ipr2',\n",
       " '2004--Zhou-X-W--Cu-Ag-Au-Ni-Pd-Pt-Al-Pb-Fe-Mo-Ta-W-Mg-Co-Ti-Zr--LAMMPS--ipr1',\n",
       " '2005--Grochola-G--Au--LAMMPS--ipr1',\n",
       " '2009--Zhakhovskii-V-V--Au--LAMMPS--ipr1',\n",
       " '2009--Zhakhovskii-V-V--Au--LAMMPS--ipr2',\n",
       " '2010--Olsson-P-A-T--Au--LAMMPS--ipr1',\n",
       " '2012--Norman-G-E--Au--LAMMPS--ipr1',\n",
       " '2017--OBrien-C-J--Pt-Au--LAMMPS--ipr1',\n",
       " '2017--Purja-Pun-G-P--Au--LAMMPS--ipr1']"
      ]
     },
     "execution_count": 6,
     "metadata": {},
     "output_type": "execute_result"
    }
   ],
   "source": [
    "potential_LAMMPS_ids = database.get_records_df('potential_LAMMPS')['id'].tolist()\n",
    "potential_LAMMPS_ids"
   ]
  },
  {
   "cell_type": "markdown",
   "id": "61f048c3-a3fe-41d4-9559-b6f836e783b9",
   "metadata": {},
   "source": [
    "Download all relaxed fcc crystals for the downloaded potentials"
   ]
  },
  {
   "cell_type": "code",
   "execution_count": 7,
   "id": "ff0360dd-a76d-4dd7-96c5-525aa2f517a8",
   "metadata": {
    "tags": []
   },
   "outputs": [
    {
     "name": "stderr",
     "output_type": "stream",
     "text": [
      "100%|██████████████████████████████████████████████████████████████████████████████████| 19/19 [00:02<00:00,  4.39it/s]"
     ]
    },
    {
     "name": "stdout",
     "output_type": "stream",
     "text": [
      "Found 19 matching relaxed_crystal records in remote library\n",
      "19 new records added to local\n"
     ]
    },
    {
     "name": "stderr",
     "output_type": "stream",
     "text": [
      "\n"
     ]
    }
   ],
   "source": [
    "potdb.download_relaxed_crystals(\n",
    "    method = 'dynamic',\n",
    "    standing = 'good',\n",
    "    family = 'A1--Cu--fcc',\n",
    "    potential_LAMMPS_id = potential_LAMMPS_ids,\n",
    "    symbols = 'Au',\n",
    "    verbose = True\n",
    ")"
   ]
  },
  {
   "cell_type": "markdown",
   "id": "3e10f9c4-7f52-4ad6-8deb-8d9004112633",
   "metadata": {},
   "source": [
    "View the crystals and check lattice constant and cohesive energy values\n",
    "\n",
    "- Crystals might not exist for some potentials depending on the potential and crystal structure\n",
    "- Occasionally, there are multiple versions of a crystal for the same potential.  These correspond to alternate minima in the energy vs. volume equation of state."
   ]
  },
  {
   "cell_type": "code",
   "execution_count": 8,
   "id": "013a8264-277d-4622-98a3-9d727a5531d8",
   "metadata": {
    "tags": []
   },
   "outputs": [
    {
     "name": "stdout",
     "output_type": "stream",
     "text": [
      "Index(['name', 'key', 'url', 'method', 'standing', 'potential_LAMMPS_key',\n",
      "       'potential_LAMMPS_id', 'potential_LAMMPS_url', 'potential_key',\n",
      "       'potential_id', 'potential_url', 'family', 'family_url', 'parent_key',\n",
      "       'parent_url', 'symbols', 'composition', 'crystalfamily', 'natypes', 'a',\n",
      "       'b', 'c', 'alpha', 'beta', 'gamma', 'natoms', 'Epot (eV/atom)',\n",
      "       'Ecoh (eV/atom)'],\n",
      "      dtype='object')\n"
     ]
    }
   ],
   "source": [
    "crystals_df = database.get_records_df('relaxed_crystal')\n",
    "print(crystals_df.keys())"
   ]
  },
  {
   "cell_type": "code",
   "execution_count": 9,
   "id": "18f78012-3d73-4fe0-95a8-a29577ea876d",
   "metadata": {
    "tags": []
   },
   "outputs": [
    {
     "data": {
      "text/html": [
       "<div>\n",
       "<style scoped>\n",
       "    .dataframe tbody tr th:only-of-type {\n",
       "        vertical-align: middle;\n",
       "    }\n",
       "\n",
       "    .dataframe tbody tr th {\n",
       "        vertical-align: top;\n",
       "    }\n",
       "\n",
       "    .dataframe thead th {\n",
       "        text-align: right;\n",
       "    }\n",
       "</style>\n",
       "<table border=\"1\" class=\"dataframe\">\n",
       "  <thead>\n",
       "    <tr style=\"text-align: right;\">\n",
       "      <th></th>\n",
       "      <th>potential_LAMMPS_id</th>\n",
       "      <th>a</th>\n",
       "      <th>Ecoh (eV/atom)</th>\n",
       "    </tr>\n",
       "  </thead>\n",
       "  <tbody>\n",
       "    <tr>\n",
       "      <th>11</th>\n",
       "      <td>1986--Foiles-S-M--Ag-Au-Cu-Ni-Pd-Pt--LAMMPS--ipr1</td>\n",
       "      <td>4.080000</td>\n",
       "      <td>-3.930000</td>\n",
       "    </tr>\n",
       "    <tr>\n",
       "      <th>4</th>\n",
       "      <td>1986--Foiles-S-M--Au--LAMMPS--ipr1</td>\n",
       "      <td>4.080000</td>\n",
       "      <td>-3.930000</td>\n",
       "    </tr>\n",
       "    <tr>\n",
       "      <th>12</th>\n",
       "      <td>1987--Ackland-G-J--Au--LAMMPS--ipr1</td>\n",
       "      <td>4.078001</td>\n",
       "      <td>-3.789045</td>\n",
       "    </tr>\n",
       "    <tr>\n",
       "      <th>13</th>\n",
       "      <td>1987--Ackland-G-J--Au--LAMMPS--ipr2</td>\n",
       "      <td>4.078001</td>\n",
       "      <td>-3.789045</td>\n",
       "    </tr>\n",
       "    <tr>\n",
       "      <th>0</th>\n",
       "      <td>1989--Adams-J-B--Ag-Au-Cu-Ni-Pd-Pt--LAMMPS--ipr1</td>\n",
       "      <td>4.080000</td>\n",
       "      <td>-3.930000</td>\n",
       "    </tr>\n",
       "    <tr>\n",
       "      <th>15</th>\n",
       "      <td>1989--Adams-J-B--Au--LAMMPS--ipr1</td>\n",
       "      <td>4.080000</td>\n",
       "      <td>-3.930000</td>\n",
       "    </tr>\n",
       "    <tr>\n",
       "      <th>2</th>\n",
       "      <td>1990--Ackland-G-J--Cu-Ag-Au--LAMMPS--ipr1</td>\n",
       "      <td>4.078000</td>\n",
       "      <td>-3.789045</td>\n",
       "    </tr>\n",
       "    <tr>\n",
       "      <th>9</th>\n",
       "      <td>2004--Zhou-X-W--Au--LAMMPS--ipr1</td>\n",
       "      <td>4.079787</td>\n",
       "      <td>-3.930005</td>\n",
       "    </tr>\n",
       "    <tr>\n",
       "      <th>14</th>\n",
       "      <td>2004--Zhou-X-W--Au--LAMMPS--ipr2</td>\n",
       "      <td>4.080053</td>\n",
       "      <td>-3.930005</td>\n",
       "    </tr>\n",
       "    <tr>\n",
       "      <th>18</th>\n",
       "      <td>2004--Zhou-X-W--Cu-Ag-Au--LAMMPS--ipr1</td>\n",
       "      <td>4.080063</td>\n",
       "      <td>-3.930005</td>\n",
       "    </tr>\n",
       "    <tr>\n",
       "      <th>8</th>\n",
       "      <td>2004--Zhou-X-W--Cu-Ag-Au--LAMMPS--ipr2</td>\n",
       "      <td>4.080053</td>\n",
       "      <td>-3.930005</td>\n",
       "    </tr>\n",
       "    <tr>\n",
       "      <th>3</th>\n",
       "      <td>2005--Grochola-G--Au--LAMMPS--ipr1</td>\n",
       "      <td>4.070110</td>\n",
       "      <td>-3.924218</td>\n",
       "    </tr>\n",
       "    <tr>\n",
       "      <th>17</th>\n",
       "      <td>2009--Zhakhovskii-V-V--Au--LAMMPS--ipr2</td>\n",
       "      <td>4.065000</td>\n",
       "      <td>-3.810000</td>\n",
       "    </tr>\n",
       "    <tr>\n",
       "      <th>1</th>\n",
       "      <td>2010--Olsson-P-A-T--Au--LAMMPS--ipr1</td>\n",
       "      <td>4.080000</td>\n",
       "      <td>-3.810000</td>\n",
       "    </tr>\n",
       "    <tr>\n",
       "      <th>5</th>\n",
       "      <td>2012--Norman-G-E--Au--LAMMPS--ipr1</td>\n",
       "      <td>4.068501</td>\n",
       "      <td>-4.299363</td>\n",
       "    </tr>\n",
       "    <tr>\n",
       "      <th>16</th>\n",
       "      <td>2012--Norman-G-E--Au--LAMMPS--ipr1</td>\n",
       "      <td>6.210659</td>\n",
       "      <td>-0.613333</td>\n",
       "    </tr>\n",
       "    <tr>\n",
       "      <th>10</th>\n",
       "      <td>2012--Norman-G-E--Au--LAMMPS--ipr1</td>\n",
       "      <td>7.011749</td>\n",
       "      <td>-5.662467</td>\n",
       "    </tr>\n",
       "    <tr>\n",
       "      <th>7</th>\n",
       "      <td>2017--OBrien-C-J--Pt-Au--LAMMPS--ipr1</td>\n",
       "      <td>4.152944</td>\n",
       "      <td>-3.033205</td>\n",
       "    </tr>\n",
       "    <tr>\n",
       "      <th>6</th>\n",
       "      <td>2017--Purja-Pun-G-P--Au--LAMMPS--ipr1</td>\n",
       "      <td>4.077998</td>\n",
       "      <td>-3.930000</td>\n",
       "    </tr>\n",
       "  </tbody>\n",
       "</table>\n",
       "</div>"
      ],
      "text/plain": [
       "                                  potential_LAMMPS_id         a  \\\n",
       "11  1986--Foiles-S-M--Ag-Au-Cu-Ni-Pd-Pt--LAMMPS--ipr1  4.080000   \n",
       "4                  1986--Foiles-S-M--Au--LAMMPS--ipr1  4.080000   \n",
       "12                1987--Ackland-G-J--Au--LAMMPS--ipr1  4.078001   \n",
       "13                1987--Ackland-G-J--Au--LAMMPS--ipr2  4.078001   \n",
       "0    1989--Adams-J-B--Ag-Au-Cu-Ni-Pd-Pt--LAMMPS--ipr1  4.080000   \n",
       "15                  1989--Adams-J-B--Au--LAMMPS--ipr1  4.080000   \n",
       "2           1990--Ackland-G-J--Cu-Ag-Au--LAMMPS--ipr1  4.078000   \n",
       "9                    2004--Zhou-X-W--Au--LAMMPS--ipr1  4.079787   \n",
       "14                   2004--Zhou-X-W--Au--LAMMPS--ipr2  4.080053   \n",
       "18             2004--Zhou-X-W--Cu-Ag-Au--LAMMPS--ipr1  4.080063   \n",
       "8              2004--Zhou-X-W--Cu-Ag-Au--LAMMPS--ipr2  4.080053   \n",
       "3                  2005--Grochola-G--Au--LAMMPS--ipr1  4.070110   \n",
       "17            2009--Zhakhovskii-V-V--Au--LAMMPS--ipr2  4.065000   \n",
       "1                2010--Olsson-P-A-T--Au--LAMMPS--ipr1  4.080000   \n",
       "5                  2012--Norman-G-E--Au--LAMMPS--ipr1  4.068501   \n",
       "16                 2012--Norman-G-E--Au--LAMMPS--ipr1  6.210659   \n",
       "10                 2012--Norman-G-E--Au--LAMMPS--ipr1  7.011749   \n",
       "7               2017--OBrien-C-J--Pt-Au--LAMMPS--ipr1  4.152944   \n",
       "6               2017--Purja-Pun-G-P--Au--LAMMPS--ipr1  4.077998   \n",
       "\n",
       "    Ecoh (eV/atom)  \n",
       "11       -3.930000  \n",
       "4        -3.930000  \n",
       "12       -3.789045  \n",
       "13       -3.789045  \n",
       "0        -3.930000  \n",
       "15       -3.930000  \n",
       "2        -3.789045  \n",
       "9        -3.930005  \n",
       "14       -3.930005  \n",
       "18       -3.930005  \n",
       "8        -3.930005  \n",
       "3        -3.924218  \n",
       "17       -3.810000  \n",
       "1        -3.810000  \n",
       "5        -4.299363  \n",
       "16       -0.613333  \n",
       "10       -5.662467  \n",
       "7        -3.033205  \n",
       "6        -3.930000  "
      ]
     },
     "execution_count": 9,
     "metadata": {},
     "output_type": "execute_result"
    }
   ],
   "source": [
    "crystals_df.sort_values(['potential_LAMMPS_id', 'a'])[['potential_LAMMPS_id', 'a', 'Ecoh (eV/atom)']]"
   ]
  },
  {
   "cell_type": "markdown",
   "id": "fc517ea1-6e71-4295-be19-67a0edfff826",
   "metadata": {},
   "source": [
    "## 2. Prepare relax_static calculations as a function of pressure\n",
    "\n",
    "The prepare step is based on the input file variation of the individual calculation scripts.  In fact, prepare takes a similar input script with difference being that\n",
    "- Keys can now have multiple values which can be specified by repeating the key with new values on new lines.\n",
    "- The special buildcombos key can be used to call a pre-defined function that builds input values based on database entries."
   ]
  },
  {
   "cell_type": "code",
   "execution_count": 12,
   "id": "94f5f9a5-5796-432d-b592-17d9d0eaa5d5",
   "metadata": {
    "tags": []
   },
   "outputs": [
    {
     "name": "stdout",
     "output_type": "stream",
     "text": [
      "# Input script for iprPy calculation relax_static\n",
      "\n",
      "# Calculation Metadata\n",
      "branch                          <branch>\n",
      "\n",
      "# LAMMPS and MPI Commands\n",
      "lammps_command                  <lammps_command>\n",
      "mpi_command                     <mpi_command>\n",
      "\n",
      "# Interatomic Potential\n",
      "potential_file                  <potential_file>\n",
      "potential_kim_id                <potential_kim_id>\n",
      "potential_kim_potid             <potential_kim_potid>\n",
      "potential_dir                   <potential_dir>\n",
      "\n",
      "# Initial System Configuration\n",
      "load_file                       <load_file>\n",
      "load_style                      <load_style>\n",
      "load_options                    <load_options>\n",
      "family                          <family>\n",
      "symbols                         <symbols>\n",
      "box_parameters                  <box_parameters>\n",
      "\n",
      "# System Manipulations\n",
      "a_uvw                           <a_uvw>\n",
      "b_uvw                           <b_uvw>\n",
      "c_uvw                           <c_uvw>\n",
      "atomshift                       <atomshift>\n",
      "sizemults                       <sizemults>\n",
      "\n",
      "# LAMMPS Energy/Force Minimization\n",
      "energytolerance                 <energytolerance>\n",
      "forcetolerance                  <forcetolerance>\n",
      "maxiterations                   <maxiterations>\n",
      "maxevaluations                  <maxevaluations>\n",
      "maxatommotion                   <maxatommotion>\n",
      "\n",
      "# Input/Output Units\n",
      "length_unit                     <length_unit>\n",
      "pressure_unit                   <pressure_unit>\n",
      "energy_unit                     <energy_unit>\n",
      "force_unit                      <force_unit>\n",
      "\n",
      "# Run Parameters\n",
      "pressure_xx                     <pressure_xx>\n",
      "pressure_yy                     <pressure_yy>\n",
      "pressure_zz                     <pressure_zz>\n",
      "pressure_xy                     <pressure_xy>\n",
      "pressure_xz                     <pressure_xz>\n",
      "pressure_yz                     <pressure_yz>\n",
      "displacementkick                <displacementkick>\n",
      "maxcycles                       <maxcycles>\n",
      "cycletolerance                  <cycletolerance>\n",
      "raise_at_maxcycles              <raise_at_maxcycles>\n"
     ]
    }
   ],
   "source": [
    "calc = iprPy.load_calculation('relax_static')\n",
    "print(calc.template)"
   ]
  },
  {
   "cell_type": "markdown",
   "id": "4b3df5ec-251a-4c1e-9431-12e8e74fc39f",
   "metadata": {},
   "source": [
    "When prepare is called, you can pass in either the text key-value script or corresponding kwargs.  Here, we'll do the latter for simplicity."
   ]
  },
  {
   "cell_type": "code",
   "execution_count": 13,
   "id": "15e0d553-a753-4dcb-be09-ce9ee9318f5c",
   "metadata": {
    "tags": []
   },
   "outputs": [],
   "source": [
    "prepare_terms = {}\n",
    "\n",
    "prepare_terms['lammps_command'] = 'lmp'\n",
    "\n",
    "\n",
    "# Use the atomicparent buildcombos function to generate potential and system info from the database\n",
    "prepare_terms['buildcombos'] = 'atomicparent load_file parent'  # first term is type, second is an included key, third is name to assign to combo\n",
    "\n",
    "# Modify combo using \"parent_\" keys\n",
    "prepare_terms['parent_record'] = 'relaxed_crystal'\n",
    "prepare_terms['parent_standing'] = 'good'\n",
    "prepare_terms['parent_method'] = 'dynamic'\n",
    "\n",
    "# Prepare limiters\n",
    "prepare_terms['parent_potential_id'] = '2009--Zhakhovskii-V-V--Au--LAMMPS--ipr2'  # use only this potential\n",
    "prepare_terms['parent_family'] = 'A1--Cu--fcc'\n",
    "prepare_terms['parent_composition'] = 'Au'\n",
    "\n",
    "# List pressures to evaluate\n",
    "pressures = [\n",
    "    '0 GPa',\n",
    "    '10 GPa',\n",
    "    '20 GPa',\n",
    "    '30 GPa',\n",
    "    '40 GPa',\n",
    "    '50 GPa',\n",
    "    '60 GPa',\n",
    "    '70 GPa',\n",
    "    '80 GPa',\n",
    "    '90 GPa',\n",
    "    '100 GPa'    \n",
    "]\n",
    "prepare_terms['pressure_xx'] = prepare_terms['pressure_yy'] = prepare_terms['pressure_zz'] = pressures\n",
    "\n"
   ]
  },
  {
   "cell_type": "markdown",
   "id": "50bad063-0d8f-406c-8bed-1b5530a51608",
   "metadata": {},
   "source": [
    "Now we prepare!"
   ]
  },
  {
   "cell_type": "code",
   "execution_count": 15,
   "id": "e7cc6f2d-0459-4235-86bf-8d6c63f7d12b",
   "metadata": {
    "tags": []
   },
   "outputs": [
    {
     "name": "stdout",
     "output_type": "stream",
     "text": [
      "11 existing calculation records found\n",
      "1 matching interatomic potentials found\n",
      "1 matching atomic parents found\n"
     ]
    },
    {
     "name": "stderr",
     "output_type": "stream",
     "text": [
      "100%|██████████████████████████████████████████████████████████████████████████████████| 11/11 [00:00<00:00, 11.35it/s]"
     ]
    },
    {
     "name": "stdout",
     "output_type": "stream",
     "text": [
      "11 calculation combinations to check\n",
      "0 new records to prepare\n"
     ]
    },
    {
     "name": "stderr",
     "output_type": "stream",
     "text": [
      "\n",
      "preparing: 0it [00:00, ?it/s]\n"
     ]
    },
    {
     "data": {
      "text/plain": [
       "[]"
      ]
     },
     "execution_count": 15,
     "metadata": {},
     "output_type": "execute_result"
    }
   ],
   "source": [
    "database.prepare(run_directory, calc, **prepare_terms)"
   ]
  },
  {
   "cell_type": "markdown",
   "id": "f41df370-81c2-4b8f-8a49-1eefb165b59c",
   "metadata": {},
   "source": [
    "# 3. Run\n",
    "\n",
    "You can start runners either from within Python using Database.runner()\n",
    "\n",
    "If you've saved the database and run_directory info, you can start runners from the command line with\n",
    "    \n",
    "    iprPy runner {database_name} {run_directory_name}\n",
    "    \n",
    "Multiple runners can operate simultaneously without conflict, and can be assigned any number of cores to work with."
   ]
  },
  {
   "cell_type": "code",
   "execution_count": 16,
   "id": "7d5f0209-b44c-4344-95c6-956a9f787e7f",
   "metadata": {
    "tags": []
   },
   "outputs": [
    {
     "name": "stdout",
     "output_type": "stream",
     "text": [
      "Runner started with pid 12512\n",
      "402494a6-975a-4363-b9ec-852cf3b24061\n",
      "sim calculated successfully\n",
      "\n",
      "8810d6be-a16b-4790-aabb-dd2b30ffd6a3\n",
      "sim calculated successfully\n",
      "\n",
      "1c83ac48-fd13-4ae2-934f-44c427be67dd\n",
      "sim calculated successfully\n",
      "\n",
      "fb44adea-2073-4b43-a345-3433a56832c8\n",
      "sim calculated successfully\n",
      "\n",
      "a4ed53ab-fc8d-4ed8-ba5b-a1f3a23a8486\n",
      "sim calculated successfully\n",
      "\n",
      "c6a459fe-433e-47fd-b9e3-a6c1e4132bd1\n",
      "sim calculated successfully\n",
      "\n",
      "fdbf44e6-5e8d-4f08-8c3a-1cd5c20a4513\n",
      "sim calculated successfully\n",
      "\n",
      "2f50d466-3bd1-4ec5-ad63-3f8eefa605a1\n",
      "sim calculated successfully\n",
      "\n",
      "cd6d416a-6496-4bd9-92d3-ed8d46a7291a\n",
      "sim calculated successfully\n",
      "\n",
      "5171770d-fafa-4dac-8056-a1532073e6a5\n",
      "sim calculated successfully\n",
      "\n",
      "9f52fee9-cf7d-41c5-b6fd-8215ec032c10\n",
      "sim calculated successfully\n",
      "\n",
      "No simulations left to run\n"
     ]
    }
   ],
   "source": [
    "database.runner(run_directory)"
   ]
  },
  {
   "cell_type": "markdown",
   "id": "14dfc170-4b01-4801-9b1f-67e6e1caa7ea",
   "metadata": {},
   "source": [
    "# 4. Analyze"
   ]
  },
  {
   "cell_type": "code",
   "execution_count": 23,
   "id": "d945b24b-4336-462a-b1af-94bb26885b9c",
   "metadata": {
    "tags": []
   },
   "outputs": [],
   "source": [
    "relaxes, relaxes_df = database.get_records('calculation_relax_static',\n",
    "                                           potential_LAMMPS_id = '2009--Zhakhovskii-V-V--Au--LAMMPS--ipr2',\n",
    "                                           status = 'finished',\n",
    "                                           return_df = True,\n",
    "                                           refresh_cache=True,\n",
    "                                       )"
   ]
  },
  {
   "cell_type": "code",
   "execution_count": 24,
   "id": "6317c06c-1dd1-40fd-8357-8a3014e0baec",
   "metadata": {
    "tags": []
   },
   "outputs": [
    {
     "data": {
      "text/plain": [
       "Index(['name', 'key', 'url', 'iprPy_version', 'atomman_version', 'script',\n",
       "       'branch', 'status', 'lammps_version', 'potential_LAMMPS_key',\n",
       "       'potential_LAMMPS_id', 'potential_LAMMPS_url', 'potential_key',\n",
       "       'potential_id', 'potential_url', 'load_file', 'load_style',\n",
       "       'load_options', 'parent_key', 'family', 'family_url', 'symbols',\n",
       "       'composition', 'a_mult1', 'a_mult2', 'b_mult1', 'b_mult2', 'c_mult1',\n",
       "       'c_mult2', 'atomshift', 'a_uvw', 'b_uvw', 'c_uvw', 'energytolerance',\n",
       "       'forcetolerance', 'maxiterations', 'maxevaluations', 'maxatommotion',\n",
       "       'temperature', 'pressure_xx', 'pressure_yy', 'pressure_zz',\n",
       "       'pressure_xy', 'pressure_xz', 'pressure_yz', 'lx', 'ly', 'lz', 'xy',\n",
       "       'xz', 'yz', 'E_pot', 'measured_temperature', 'measured_pressure_xx',\n",
       "       'measured_pressure_yy', 'measured_pressure_zz', 'measured_pressure_xy',\n",
       "       'measured_pressure_xz', 'measured_pressure_yz'],\n",
       "      dtype='object')"
      ]
     },
     "execution_count": 24,
     "metadata": {},
     "output_type": "execute_result"
    }
   ],
   "source": [
    "relaxes_df.keys()"
   ]
  },
  {
   "cell_type": "code",
   "execution_count": 25,
   "id": "4216a405-edc5-4aba-8783-453ec1b103f3",
   "metadata": {
    "tags": []
   },
   "outputs": [
    {
     "data": {
      "image/png": "[encoded data removed]",
      "text/plain": [
       "<Figure size 640x480 with 1 Axes>"
      ]
     },
     "metadata": {},
     "output_type": "display_data"
    }
   ],
   "source": [
    "plt.plot(uc.get_in_units(relaxes_df.pressure_xx, 'GPa'), \n",
    "         uc.get_in_units(relaxes_df.E_pot, 'eV'), 'o')\n",
    "plt.xlabel('Applied pressure (GPa)')\n",
    "plt.ylabel('Potential energy (eV/atom)')\n",
    "plt.show()"
   ]
  },
  {
   "cell_type": "code",
   "execution_count": 26,
   "id": "ad2add54-940d-4253-bb71-1e37b193c0e2",
   "metadata": {
    "tags": []
   },
   "outputs": [
    {
     "data": {
      "image/png": "[encoded data removed]",
      "text/plain": [
       "<Figure size 640x480 with 1 Axes>"
      ]
     },
     "metadata": {},
     "output_type": "display_data"
    }
   ],
   "source": [
    "plt.plot(uc.get_in_units(relaxes_df.pressure_xx, 'GPa'), \n",
    "         uc.get_in_units(relaxes_df.lx, 'eV'), 'o')\n",
    "\n",
    "plt.xlabel('Applied pressure (GPa)')\n",
    "plt.ylabel('Lattice constant (Angstrom)')\n",
    "plt.show()"
   ]
  },
  {
   "cell_type": "markdown",
   "id": "23eb67f6-13da-451f-a963-3364c9a8546d",
   "metadata": {},
   "source": [
    "## 5. Now, do elastic constants..."
   ]
  },
  {
   "cell_type": "code",
   "execution_count": 27,
   "id": "cdc00a61-c737-44d6-b7b9-a939e2ab4b45",
   "metadata": {
    "tags": []
   },
   "outputs": [],
   "source": [
    "calc = iprPy.load_calculation('elastic_constants_static')"
   ]
  },
  {
   "cell_type": "code",
   "execution_count": 28,
   "id": "f1d4d80d-61d4-4db1-805d-ab82d968c386",
   "metadata": {
    "tags": []
   },
   "outputs": [],
   "source": [
    "prepare_terms = {}\n",
    "\n",
    "prepare_terms['lammps_command'] = 'lmp'\n",
    "\n",
    "\n",
    "# Use the atomicarchive buildcombos function to pull final configurations from relax_static results\n",
    "prepare_terms['buildcombos'] = 'atomicarchive load_file parent'  # first term is type, second is an included key, third is name to assign to combo\n",
    "\n",
    "# Modify combo using \"parent_\" keys\n",
    "prepare_terms['parent_record'] = 'calculation_relax_static'\n",
    "prepare_terms['parent_load_key'] = 'final-system'\n",
    "prepare_terms['parent_status'] = 'finished'\n",
    "\n",
    "# Prepare limiters\n",
    "prepare_terms['parent_potential_id'] = '2009--Zhakhovskii-V-V--Au--LAMMPS--ipr2'  # use only this potential\n",
    "prepare_terms['parent_family'] = 'A1--Cu--fcc'\n",
    "prepare_terms['parent_composition'] = 'Au'"
   ]
  },
  {
   "cell_type": "code",
   "execution_count": 30,
   "id": "4ccaa395-f541-43dd-a0cc-d001ed7a58b7",
   "metadata": {
    "tags": []
   },
   "outputs": [
    {
     "name": "stdout",
     "output_type": "stream",
     "text": [
      "11 existing calculation records found\n",
      "1 matching interatomic potentials found\n",
      "11 matching atomic archives found\n"
     ]
    },
    {
     "name": "stderr",
     "output_type": "stream",
     "text": [
      "100%|██████████████████████████████████████████████████████████████████████████████████| 11/11 [00:00<00:00, 11.41it/s]"
     ]
    },
    {
     "name": "stdout",
     "output_type": "stream",
     "text": [
      "11 calculation combinations to check\n",
      "0 new records to prepare\n"
     ]
    },
    {
     "name": "stderr",
     "output_type": "stream",
     "text": [
      "\n",
      "preparing: 0it [00:00, ?it/s]\n"
     ]
    },
    {
     "data": {
      "text/plain": [
       "[]"
      ]
     },
     "execution_count": 30,
     "metadata": {},
     "output_type": "execute_result"
    }
   ],
   "source": [
    "database.prepare(run_directory, calc, **prepare_terms)"
   ]
  },
  {
   "cell_type": "code",
   "execution_count": 31,
   "id": "38187d8e-26db-40c6-9a28-8758aac899d2",
   "metadata": {
    "tags": []
   },
   "outputs": [
    {
     "name": "stdout",
     "output_type": "stream",
     "text": [
      "Runner started with pid 12512\n",
      "bb690f7f-b1a5-4a0d-b640-4f9fc2e7748a\n",
      "sim calculated successfully\n",
      "\n",
      "99f85b7a-470e-40b4-91bc-b4ad115b66e2\n",
      "sim calculated successfully\n",
      "\n",
      "d10ec326-6721-4d43-8286-a63b8eb66f02\n",
      "sim calculated successfully\n",
      "\n",
      "23e17970-2043-4905-8180-420167c52837\n",
      "sim calculated successfully\n",
      "\n",
      "364cdb03-8a6e-43e5-9a40-b72f2ee1952a\n",
      "sim calculated successfully\n",
      "\n",
      "ffe238ff-1fdf-4a34-860c-90224976b037\n",
      "sim calculated successfully\n",
      "\n",
      "1e5ad968-51fa-4582-ab54-8e1f2af8d2e6\n",
      "sim calculated successfully\n",
      "\n",
      "9094bfc8-f9ba-4556-9b45-c945a620d5c7\n",
      "sim calculated successfully\n",
      "\n",
      "b5e5f0f8-b76d-45ad-a298-97445159e606\n",
      "sim calculated successfully\n",
      "\n",
      "76171987-a1ea-4bd2-9782-9407e945bb05\n",
      "sim calculated successfully\n",
      "\n",
      "ec802e9a-ff90-4810-8e19-47dd7b6a3f97\n",
      "sim calculated successfully\n",
      "\n",
      "No simulations left to run\n"
     ]
    }
   ],
   "source": [
    "database.runner(run_directory)"
   ]
  },
  {
   "cell_type": "code",
   "execution_count": 32,
   "id": "2ef890bd-6fdc-4b98-be75-f0534dd5ed01",
   "metadata": {
    "tags": []
   },
   "outputs": [],
   "source": [
    "cijs, cijs_df = database.get_records('calculation_elastic_constants_static',\n",
    "                                     potential_LAMMPS_id = '2009--Zhakhovskii-V-V--Au--LAMMPS--ipr2',\n",
    "                                     status = 'finished',\n",
    "                                     return_df = True,\n",
    "                                     refresh_cache = True)"
   ]
  },
  {
   "cell_type": "code",
   "execution_count": 33,
   "id": "b49d01d1-8f9f-43b2-8f25-5009ec0f6d8f",
   "metadata": {
    "tags": []
   },
   "outputs": [
    {
     "data": {
      "text/plain": [
       "Index(['name', 'key', 'url', 'iprPy_version', 'atomman_version', 'script',\n",
       "       'branch', 'status', 'lammps_version', 'potential_LAMMPS_key',\n",
       "       'potential_LAMMPS_id', 'potential_LAMMPS_url', 'potential_key',\n",
       "       'potential_id', 'potential_url', 'load_file', 'load_style',\n",
       "       'load_options', 'parent_key', 'family', 'family_url', 'symbols',\n",
       "       'composition', 'a_mult1', 'a_mult2', 'b_mult1', 'b_mult2', 'c_mult1',\n",
       "       'c_mult2', 'atomshift', 'a_uvw', 'b_uvw', 'c_uvw', 'energytolerance',\n",
       "       'forcetolerance', 'maxiterations', 'maxevaluations', 'maxatommotion',\n",
       "       'strainrange', 'C', 'raw_Cij_negative', 'raw_Cij_positive'],\n",
       "      dtype='object')"
      ]
     },
     "execution_count": 33,
     "metadata": {},
     "output_type": "execute_result"
    }
   ],
   "source": [
    "cijs_df.keys()"
   ]
  },
  {
   "cell_type": "code",
   "execution_count": 34,
   "id": "f759ae11-0700-42df-9ae4-c18498737d99",
   "metadata": {
    "tags": []
   },
   "outputs": [],
   "source": [
    "def extract_C11_GPa(series):\n",
    "    return(uc.get_in_units(series.C.Cij[0,0], 'GPa'))\n",
    "def extract_C12_GPa(series):\n",
    "    return(uc.get_in_units(series.C.Cij[0,1], 'GPa'))\n",
    "def extract_C44_GPa(series):\n",
    "    return(uc.get_in_units(series.C.Cij[3,3], 'GPa'))\n",
    "\n",
    "cijs_df['C11'] = cijs_df.apply(extract_C11_GPa, axis=1)\n",
    "cijs_df['C12'] = cijs_df.apply(extract_C12_GPa, axis=1)\n",
    "cijs_df['C44'] = cijs_df.apply(extract_C44_GPa, axis=1)"
   ]
  },
  {
   "cell_type": "markdown",
   "id": "8ef364f7-fd56-427c-ac1b-eacc22955f1e",
   "metadata": {},
   "source": [
    "Now, we have a slight issue as the elastic constant calculations do not contain pressure information.  However, they do have a 'parent_key' which corresponds to the relax_static record that it was based on."
   ]
  },
  {
   "cell_type": "code",
   "execution_count": 35,
   "id": "683a2314-9e20-4494-877f-4435c1d0ce37",
   "metadata": {
    "tags": []
   },
   "outputs": [],
   "source": [
    "merged_df = pd.merge(relaxes_df, cijs_df, left_on='key', right_on='parent_key')"
   ]
  },
  {
   "cell_type": "code",
   "execution_count": 36,
   "id": "2ad9220a-a258-4884-bc28-db485f99e262",
   "metadata": {
    "tags": []
   },
   "outputs": [
    {
     "data": {
      "text/plain": [
       "Index(['name_x', 'key_x', 'url_x', 'iprPy_version_x', 'atomman_version_x',\n",
       "       'script_x', 'branch_x', 'status_x', 'lammps_version_x',\n",
       "       'potential_LAMMPS_key_x',\n",
       "       ...\n",
       "       'maxiterations_y', 'maxevaluations_y', 'maxatommotion_y', 'strainrange',\n",
       "       'C', 'raw_Cij_negative', 'raw_Cij_positive', 'C11', 'C12', 'C44'],\n",
       "      dtype='object', length=104)"
      ]
     },
     "execution_count": 36,
     "metadata": {},
     "output_type": "execute_result"
    }
   ],
   "source": [
    "merged_df.keys()"
   ]
  },
  {
   "cell_type": "code",
   "execution_count": 37,
   "id": "7ff25758-dfb4-4375-8e39-5a91d1801205",
   "metadata": {
    "tags": []
   },
   "outputs": [
    {
     "data": {
      "image/png": "[encoded data removed]",
      "text/plain": [
       "<Figure size 640x480 with 1 Axes>"
      ]
     },
     "metadata": {},
     "output_type": "display_data"
    }
   ],
   "source": [
    "plt.plot(uc.get_in_units(merged_df.pressure_xx, 'GPa'), merged_df.C11, 'o', label='C11') \n",
    "plt.plot(uc.get_in_units(merged_df.pressure_xx, 'GPa'), merged_df.C12, 'o', label='C12')\n",
    "plt.plot(uc.get_in_units(merged_df.pressure_xx, 'GPa'), merged_df.C44, 'o', label='C44')\n",
    "\n",
    "plt.xlabel('Applied pressure (GPa)')\n",
    "plt.ylabel('Elastic constants (GPa)')\n",
    "plt.legend()\n",
    "plt.show()"
   ]
  },
  {
   "cell_type": "markdown",
   "id": "42107d18-0352-4d44-90ec-ae1e436a8092",
   "metadata": {},
   "source": [
    "**Cleanup**"
   ]
  },
  {
   "cell_type": "code",
   "execution_count": 38,
   "id": "716fa208-4321-49c7-9767-4ca8ea2af9b3",
   "metadata": {},
   "outputs": [
    {
     "name": "stdout",
     "output_type": "stream",
     "text": [
      "Do you really want to clean everything up?\n"
     ]
    },
    {
     "name": "stdin",
     "output_type": "stream",
     "text": [
      "yes or no? yes\n"
     ]
    },
    {
     "name": "stdout",
     "output_type": "stream",
     "text": [
      "Database demo found\n",
      "Delete settings? (must type yes): "
     ]
    },
    {
     "name": "stdin",
     "output_type": "stream",
     "text": [
      " yes\n"
     ]
    },
    {
     "name": "stdout",
     "output_type": "stream",
     "text": [
      "Run directory demo_1 found\n",
      "Delete settings? (must type yes): "
     ]
    },
    {
     "name": "stdin",
     "output_type": "stream",
     "text": [
      " yes\n"
     ]
    }
   ],
   "source": [
    "import shutil\n",
    "import os\n",
    "\n",
    "print('Do you really want to clean everything up?')\n",
    "clean = input('yes or no?')\n",
    "\n",
    "if clean == 'yes':\n",
    "    os.chdir('..')\n",
    "    shutil.rmtree(database.host)\n",
    "    shutil.rmtree(run_directory)\n",
    "    iprPy.settings.unset_database('demo')\n",
    "    iprPy.settings.unset_run_directory('demo_1')"
   ]
  },
  {
   "cell_type": "code",
   "execution_count": 33,
   "id": "9fbe3605-5d96-49d5-8935-c150c61ba86b",
   "metadata": {},
   "outputs": [
    {
     "data": {
      "text/plain": [
       "WindowsPath('C:/Users/lmh1/OneDrive - NIST/Documents/atomman-demo/testing_db')"
      ]
     },
     "execution_count": 33,
     "metadata": {},
     "output_type": "execute_result"
    }
   ],
   "source": [
    "database.host"
   ]
  },
  {
   "cell_type": "code",
   "execution_count": null,
   "id": "51463c25-f674-46ec-b280-9821d7c36ff7",
   "metadata": {},
   "outputs": [],
   "source": []
  }
 ],
 "metadata": {
  "kernelspec": {
   "display_name": "Python 3 (ipykernel)",
   "language": "python",
   "name": "python3"
  },
  "language_info": {
   "codemirror_mode": {
    "name": "ipython",
    "version": 3
   },
   "file_extension": ".py",
   "mimetype": "text/x-python",
   "name": "python",
   "nbconvert_exporter": "python",
   "pygments_lexer": "ipython3",
   "version": "3.12.11"
  }
 },
 "nbformat": 4,
 "nbformat_minor": 5
}
