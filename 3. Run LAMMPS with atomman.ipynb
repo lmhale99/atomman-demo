{
 "cells": [
  {
   "cell_type": "markdown",
   "id": "1580cf45-4abf-4d0c-9637-760d3829f8a7",
   "metadata": {},
   "source": [
    "# Run LAMMPS with atomman\n",
    "\n",
    "Tools for setting up and running LAMMPS calculations are available in the atomman.lammps submodule"
   ]
  },
  {
   "cell_type": "code",
   "execution_count": 1,
   "id": "a02f265f-1d33-407c-ae54-5c7ebfb1da4e",
   "metadata": {
    "tags": []
   },
   "outputs": [
    {
     "data": {
      "application/vnd.jupyter.widget-view+json": {
       "model_id": "99c1348c8a91424da732d20c135db8ce",
       "version_major": 2,
       "version_minor": 0
      },
      "text/plain": []
     },
     "metadata": {},
     "output_type": "display_data"
    }
   ],
   "source": [
    "import matplotlib.pyplot as plt\n",
    "import random\n",
    "import numpy as np\n",
    "\n",
    "import atomman as am\n",
    "import atomman.unitconvert as uc\n",
    "import atomman.lammps as lmp"
   ]
  },
  {
   "cell_type": "markdown",
   "id": "e200c543-dce9-4d6e-a3dd-7c2dd505cf81",
   "metadata": {},
   "source": [
    "## 1. Specify *your* LAMMPS and mpi_commands"
   ]
  },
  {
   "cell_type": "code",
   "execution_count": 2,
   "id": "4eb2e671-99cd-48a8-b7ef-83b531021a70",
   "metadata": {
    "tags": []
   },
   "outputs": [],
   "source": [
    "lammps_command = 'lmp_serial'\n",
    "mpi_command = None\n",
    "#mpi_command = 'mpiexec -localonly 6'"
   ]
  },
  {
   "cell_type": "markdown",
   "id": "fa28b90c-4172-421b-bc76-3e9620e3481f",
   "metadata": {},
   "source": [
    "## 2. Load a potential, unit cell, and build a system"
   ]
  },
  {
   "cell_type": "code",
   "execution_count": 19,
   "id": "083079d9-32b0-43d0-baa5-5ff0b40f7f32",
   "metadata": {
    "tags": []
   },
   "outputs": [
    {
     "name": "stdout",
     "output_type": "stream",
     "text": [
      "avect =  [ 4.080,  0.000,  0.000]\n",
      "bvect =  [ 0.000,  4.080,  0.000]\n",
      "cvect =  [ 0.000,  0.000,  4.080]\n",
      "origin = [ 0.000,  0.000,  0.000]\n",
      "natoms = 4\n",
      "natypes = 1\n",
      "symbols = ('Au',)\n",
      "pbc = [ True  True  True]\n",
      "per-atom properties = ['atype', 'pos']\n",
      "     id |   atype |  pos[0] |  pos[1] |  pos[2]\n",
      "      0 |       1 |   0.000 |   0.000 |   0.000\n",
      "      1 |       1 |   0.000 |   2.040 |   2.040\n",
      "      2 |       1 |   2.040 |   0.000 |   2.040\n",
      "      3 |       1 |   2.040 |   2.040 |   0.000\n"
     ]
    }
   ],
   "source": [
    "potential = am.load_lammps_potential('2004--Zhou-X-W--Au--LAMMPS--ipr1', getfiles=True)\n",
    "\n",
    "ucell = am.load('crystal', potential=potential, family='A1--Cu--fcc', symbols='Au')\n",
    "print(ucell)"
   ]
  },
  {
   "cell_type": "markdown",
   "id": "be393037-4cc4-4a4e-a19c-2bcd8f4ce487",
   "metadata": {},
   "source": [
    "Now, we're going to make a 5x5x5 supercell and randomly delete 2 atoms just for fun.  The relatively small size is simply to make the simulation fast..."
   ]
  },
  {
   "cell_type": "code",
   "execution_count": 20,
   "id": "c92997f8-b20f-4b38-b017-0a2ff6413a21",
   "metadata": {
    "tags": []
   },
   "outputs": [],
   "source": [
    "system = ucell.supersize(5, 5, 5)"
   ]
  },
  {
   "cell_type": "code",
   "execution_count": 21,
   "id": "bfb6da53-2ec5-45a5-8f36-608bfe0dfcde",
   "metadata": {
    "tags": []
   },
   "outputs": [
    {
     "name": "stdout",
     "output_type": "stream",
     "text": [
      "498\n"
     ]
    }
   ],
   "source": [
    "# Random shuffle atom ids\n",
    "allids = [i for i in range(system.natoms)]\n",
    "random.shuffle(allids)\n",
    "\n",
    "# Slice system with atoms_ix using all ids except for the first 2\n",
    "system = system.atoms_ix[allids[2:]]\n",
    "print(system.natoms)"
   ]
  },
  {
   "cell_type": "markdown",
   "id": "cc8e2e2b-6263-4efc-995c-46b41293bb15",
   "metadata": {},
   "source": [
    "## 3. Define a template LAMMPS script\n",
    "\n",
    "This script is designed to evaluate mean squared displacements.  All values in \"\\<\\>\" are variables that are to be filled in from Python."
   ]
  },
  {
   "cell_type": "code",
   "execution_count": 22,
   "id": "1eb08be3-3f04-4db5-97ab-b5f62798d28c",
   "metadata": {
    "tags": []
   },
   "outputs": [],
   "source": [
    "template = \"\"\"\n",
    "# LAMMPS input script for dynamic msd computation\n",
    "\n",
    "<atomman_system_pair_info>\n",
    "\n",
    "# Assign simulation parameter values\n",
    "variable temperature equal <temperature>\n",
    "variable randomseed equal <randomseed>\n",
    "variable thermosteps equal <thermosteps>\n",
    "variable timestep equal <timestep>\n",
    "variable dumpsteps equal <dumpsteps>\n",
    "variable runsteps equal <runsteps>\n",
    "variable twotemp equal 2*${temperature}\n",
    "variable damptemp equal 100*${timestep}\n",
    "\n",
    "# Specify property computes\n",
    "compute peatom all pe/atom\n",
    "compute msd all msd com yes\n",
    "\n",
    "# Define thermo data\n",
    "thermo ${thermosteps}\n",
    "thermo_style custom step temp pe ke etotal pxx pyy pzz c_msd[1] c_msd[2] c_msd[3] c_msd[4]\n",
    "thermo_modify format float %.13e\n",
    "\n",
    "# Specify timestep\n",
    "timestep ${timestep}\n",
    "\n",
    "# Define dump file contents and frequency\n",
    "dump dumpit all custom ${dumpsteps} *.dump id type x y z c_peatom\n",
    "dump_modify dumpit format float %.13e\n",
    "\n",
    "# Create velocities and equilibrate system using nvt\n",
    "velocity all create ${twotemp} ${randomseed}\n",
    "fix nvt all nvt temp ${temperature} ${temperature} ${damptemp}\n",
    "run ${runsteps}\n",
    "\n",
    "\"\"\""
   ]
  },
  {
   "cell_type": "markdown",
   "id": "0e60f6eb-074e-4317-bc9b-8f7aad904b04",
   "metadata": {},
   "source": [
    "## 4. Build LAMMPS script by filling in the template"
   ]
  },
  {
   "cell_type": "markdown",
   "id": "bec28cad-04c8-4dc1-9f7a-23e14303e49a",
   "metadata": {},
   "source": [
    "### 4.1. Save the system to a data file"
   ]
  },
  {
   "cell_type": "code",
   "execution_count": 23,
   "id": "7a53a4a2-ea44-42ce-9fd2-6d30f4e2345a",
   "metadata": {
    "tags": []
   },
   "outputs": [],
   "source": [
    "data_file = 'init.dat'\n",
    "system_pair_info = system.dump('atom_data', f=data_file, potential=potential)"
   ]
  },
  {
   "cell_type": "markdown",
   "id": "d1300eae-a9af-457d-8951-5d2cdb0b11d3",
   "metadata": {},
   "source": [
    "### 4.2. Build the LAMMPS script\n",
    "\n",
    "Create a dict specifying what values to fill in for the \\<\\> terms in the template script"
   ]
  },
  {
   "cell_type": "code",
   "execution_count": 24,
   "id": "ffe9d331-1a0a-41c1-8f28-c52b4259af14",
   "metadata": {
    "tags": []
   },
   "outputs": [],
   "source": [
    "lammps_variables = {}\n",
    "lammps_variables['atomman_system_pair_info'] = system_pair_info\n",
    "lammps_variables['temperature'] = 1200\n",
    "lammps_variables['randomseed'] = lmp.newseed()              # generates a random LAMMPS-compatible random seed\n",
    "lammps_variables['thermosteps'] = 100\n",
    "lammps_variables['timestep'] = lmp.style.timestep('metal')  # selects the default timestep to use for a unit style\n",
    "lammps_variables['dumpsteps'] = 10000\n",
    "lammps_variables['runsteps'] = 100000"
   ]
  },
  {
   "cell_type": "markdown",
   "id": "93894f54-9e9b-4ef4-aa0e-bdc4aadc6e0d",
   "metadata": {},
   "source": [
    "Fill in the template to build the LAMMPS script.  "
   ]
  },
  {
   "cell_type": "code",
   "execution_count": 25,
   "id": "85d759b3-e82b-4190-b9db-15dfed097559",
   "metadata": {
    "tags": []
   },
   "outputs": [
    {
     "name": "stdout",
     "output_type": "stream",
     "text": [
      "\n",
      "# LAMMPS input script for dynamic msd computation\n",
      "\n",
      "units metal\n",
      "atom_style atomic\n",
      "\n",
      "boundary p p p\n",
      "read_data init.dat\n",
      "\n",
      "print \"Parameter file(s) can be downloaded at:\"\n",
      "print \"https://www.ctcms.nist.gov/potentials/Download/2004--Zhou-X-W-Johnson-R-A-Wadley-H-N-G--Au/2/Au.set\"\n",
      "\n",
      "pair_style eam/alloy \n",
      "pair_coeff * * 2004--Zhou-X-W--Au--LAMMPS--ipr1\\Au.set Au\n",
      "\n",
      "mass 1 196.97\n",
      "\n",
      "\n",
      "\n",
      "# Assign simulation parameter values\n",
      "variable temperature equal 1200\n",
      "variable randomseed equal 334345743\n",
      "variable thermosteps equal 100\n",
      "variable timestep equal 0.001\n",
      "variable dumpsteps equal 10000\n",
      "variable runsteps equal 100000\n",
      "variable twotemp equal 2*${temperature}\n",
      "variable damptemp equal 100*${timestep}\n",
      "\n",
      "# Specify property computes\n",
      "compute peatom all pe/atom\n",
      "compute msd all msd com yes\n",
      "\n",
      "# Define thermo data\n",
      "thermo ${thermosteps}\n",
      "thermo_style custom step temp pe ke etotal pxx pyy pzz c_msd[1] c_msd[2] c_msd[3] c_msd[4]\n",
      "thermo_modify format float %.13e\n",
      "\n",
      "# Specify timestep\n",
      "timestep ${timestep}\n",
      "\n",
      "# Define dump file contents and frequency\n",
      "dump dumpit all custom 10000 *.dump id type x y z c_peatom\n",
      "dump_modify dumpit format float %.13e\n",
      "\n",
      "# Create velocities and equilibrate system using nvt\n",
      "velocity all create ${twotemp} ${randomseed}\n",
      "fix nvt all nvt temp ${temperature} ${temperature} ${damptemp}\n",
      "run ${runsteps}\n",
      "\n",
      "\n"
     ]
    }
   ],
   "source": [
    "# Function parameters: template, replacement dict, before and after delimiters for template variables\n",
    "script = am.tools.filltemplate(template, lammps_variables, '<', '>')\n",
    "print(script)"
   ]
  },
  {
   "cell_type": "markdown",
   "id": "d26d1df9-5703-42d7-ac50-786bff88b732",
   "metadata": {},
   "source": [
    "## 5. Run LAMMPS and explore results"
   ]
  },
  {
   "cell_type": "markdown",
   "id": "7212c004-cb54-4214-9078-29ce860b13c8",
   "metadata": {},
   "source": [
    "### 5.1. Run LAMMPS\n",
    "\n",
    "Run with atomman.lammps.run().  If it finishes successfully, it will return a Log object.  If if crashes, it should throw a LAMMPSError."
   ]
  },
  {
   "cell_type": "code",
   "execution_count": 26,
   "id": "74391de2-ea85-489f-b324-e148ae63a882",
   "metadata": {
    "tags": []
   },
   "outputs": [],
   "source": [
    "log = lmp.run(lammps_command, script=script, mpi_command=mpi_command)"
   ]
  },
  {
   "cell_type": "code",
   "execution_count": 12,
   "id": "1aa66a92-e35a-4f1c-8f92-538b8fcff87a",
   "metadata": {
    "tags": []
   },
   "outputs": [
    {
     "ename": "LammpsError",
     "evalue": "Unknown command: bad_command  does not exist (../input.cpp:232)\nLast command: bad_command  does not exist\n",
     "output_type": "error",
     "traceback": [
      "\u001b[1;31m---------------------------------------------------------------------------\u001b[0m",
      "\u001b[1;31mCalledProcessError\u001b[0m                        Traceback (most recent call last)",
      "File \u001b[1;32mF:\\Python-packages\\atomman\\atomman\\lammps\\run.py:143\u001b[0m, in \u001b[0;36mrun\u001b[1;34m(lammps_command, script_name, script, mpi_command, restart_script_name, restart_script, partition, logfile, screen, suffix)\u001b[0m\n\u001b[0;32m    142\u001b[0m \u001b[38;5;28;01mtry\u001b[39;00m:\n\u001b[1;32m--> 143\u001b[0m     output \u001b[38;5;241m=\u001b[39m subprocess\u001b[38;5;241m.\u001b[39mrun(command, \u001b[38;5;28minput\u001b[39m\u001b[38;5;241m=\u001b[39mscript, check\u001b[38;5;241m=\u001b[39m\u001b[38;5;28;01mTrue\u001b[39;00m,\n\u001b[0;32m    144\u001b[0m                             capture_output\u001b[38;5;241m=\u001b[39m\u001b[38;5;28;01mTrue\u001b[39;00m, text\u001b[38;5;241m=\u001b[39m\u001b[38;5;28;01mTrue\u001b[39;00m)\n\u001b[0;32m    146\u001b[0m \u001b[38;5;66;03m# Convert LAMMPS error to a Python error if failed\u001b[39;00m\n",
      "File \u001b[1;32m~\\AppData\\Local\\anaconda3\\Lib\\subprocess.py:571\u001b[0m, in \u001b[0;36mrun\u001b[1;34m(input, capture_output, timeout, check, *popenargs, **kwargs)\u001b[0m\n\u001b[0;32m    570\u001b[0m     \u001b[38;5;28;01mif\u001b[39;00m check \u001b[38;5;129;01mand\u001b[39;00m retcode:\n\u001b[1;32m--> 571\u001b[0m         \u001b[38;5;28;01mraise\u001b[39;00m CalledProcessError(retcode, process\u001b[38;5;241m.\u001b[39margs,\n\u001b[0;32m    572\u001b[0m                                  output\u001b[38;5;241m=\u001b[39mstdout, stderr\u001b[38;5;241m=\u001b[39mstderr)\n\u001b[0;32m    573\u001b[0m \u001b[38;5;28;01mreturn\u001b[39;00m CompletedProcess(process\u001b[38;5;241m.\u001b[39margs, retcode, stdout, stderr)\n",
      "\u001b[1;31mCalledProcessError\u001b[0m: Command '['lmp_serial']' returned non-zero exit status 1.",
      "\nThe above exception was the direct cause of the following exception:\n",
      "\u001b[1;31mLammpsError\u001b[0m                               Traceback (most recent call last)",
      "Cell \u001b[1;32mIn[12], line 5\u001b[0m\n\u001b[0;32m      1\u001b[0m badscript \u001b[38;5;241m=\u001b[39m \u001b[38;5;124m\"\"\"\u001b[39m\n\u001b[0;32m      2\u001b[0m \u001b[38;5;124munits metal\u001b[39m\n\u001b[0;32m      3\u001b[0m \u001b[38;5;124mbad_command  does not exist\u001b[39m\n\u001b[0;32m      4\u001b[0m \u001b[38;5;124m\"\"\"\u001b[39m\n\u001b[1;32m----> 5\u001b[0m lmp\u001b[38;5;241m.\u001b[39mrun(lammps_command, script\u001b[38;5;241m=\u001b[39mbadscript)\n",
      "File \u001b[1;32mF:\\Python-packages\\atomman\\atomman\\lammps\\run.py:148\u001b[0m, in \u001b[0;36mrun\u001b[1;34m(lammps_command, script_name, script, mpi_command, restart_script_name, restart_script, partition, logfile, screen, suffix)\u001b[0m\n\u001b[0;32m    146\u001b[0m \u001b[38;5;66;03m# Convert LAMMPS error to a Python error if failed\u001b[39;00m\n\u001b[0;32m    147\u001b[0m \u001b[38;5;28;01mexcept\u001b[39;00m subprocess\u001b[38;5;241m.\u001b[39mCalledProcessError \u001b[38;5;28;01mas\u001b[39;00m e:\n\u001b[1;32m--> 148\u001b[0m     \u001b[38;5;28;01mraise\u001b[39;00m LammpsError(e\u001b[38;5;241m.\u001b[39moutput) \u001b[38;5;28;01mfrom\u001b[39;00m \u001b[38;5;21;01me\u001b[39;00m\n\u001b[0;32m    150\u001b[0m \u001b[38;5;66;03m# Initialize Log object\u001b[39;00m\n\u001b[0;32m    151\u001b[0m log \u001b[38;5;241m=\u001b[39m Log()\n",
      "\u001b[1;31mLammpsError\u001b[0m: Unknown command: bad_command  does not exist (../input.cpp:232)\nLast command: bad_command  does not exist\n"
     ]
    }
   ],
   "source": [
    "badscript = \"\"\"\n",
    "units metal\n",
    "bad_command  does not exist\n",
    "\"\"\"\n",
    "lmp.run(lammps_command, script=badscript)"
   ]
  },
  {
   "cell_type": "markdown",
   "id": "814d4172-9834-40e6-8375-55f7c17e7586",
   "metadata": {},
   "source": [
    "### 5.2. Explore log outputs\n",
    "\n",
    "The returned log object contains a list of simulations.  Each simulation has two tables of data: \"performance\" which collects the LAMMPS computational time information, and \"thermo\" which collects that simulation's thermo data.\n",
    "\n",
    "Also, you can use the Log objects to read in log.lammps files."
   ]
  },
  {
   "cell_type": "code",
   "execution_count": 27,
   "id": "208a9c66-cfff-4d7e-91dd-305f2a3d47cb",
   "metadata": {
    "tags": []
   },
   "outputs": [
    {
     "name": "stdout",
     "output_type": "stream",
     "text": [
      "1\n"
     ]
    }
   ],
   "source": [
    "print(len(log.simulations))"
   ]
  },
  {
   "cell_type": "code",
   "execution_count": 28,
   "id": "4ac2b67e-e48d-44a1-b2c9-e0fcdddba158",
   "metadata": {
    "tags": []
   },
   "outputs": [
    {
     "data": {
      "text/html": [
       "<div>\n",
       "<style scoped>\n",
       "    .dataframe tbody tr th:only-of-type {\n",
       "        vertical-align: middle;\n",
       "    }\n",
       "\n",
       "    .dataframe tbody tr th {\n",
       "        vertical-align: top;\n",
       "    }\n",
       "\n",
       "    .dataframe thead th {\n",
       "        text-align: right;\n",
       "    }\n",
       "</style>\n",
       "<table border=\"1\" class=\"dataframe\">\n",
       "  <thead>\n",
       "    <tr style=\"text-align: right;\">\n",
       "      <th></th>\n",
       "      <th>min time</th>\n",
       "      <th>avg time</th>\n",
       "      <th>max time</th>\n",
       "      <th>%varavg</th>\n",
       "      <th>%total</th>\n",
       "    </tr>\n",
       "    <tr>\n",
       "      <th>Section</th>\n",
       "      <th></th>\n",
       "      <th></th>\n",
       "      <th></th>\n",
       "      <th></th>\n",
       "      <th></th>\n",
       "    </tr>\n",
       "  </thead>\n",
       "  <tbody>\n",
       "    <tr>\n",
       "      <th>Pair</th>\n",
       "      <td>105.110000</td>\n",
       "      <td>105.110000</td>\n",
       "      <td>105.110000</td>\n",
       "      <td>0.0</td>\n",
       "      <td>97.05</td>\n",
       "    </tr>\n",
       "    <tr>\n",
       "      <th>Neigh</th>\n",
       "      <td>0.754950</td>\n",
       "      <td>0.754950</td>\n",
       "      <td>0.754950</td>\n",
       "      <td>0.0</td>\n",
       "      <td>0.70</td>\n",
       "    </tr>\n",
       "    <tr>\n",
       "      <th>Comm</th>\n",
       "      <td>1.154200</td>\n",
       "      <td>1.154200</td>\n",
       "      <td>1.154200</td>\n",
       "      <td>0.0</td>\n",
       "      <td>1.07</td>\n",
       "    </tr>\n",
       "    <tr>\n",
       "      <th>Output</th>\n",
       "      <td>0.074105</td>\n",
       "      <td>0.074105</td>\n",
       "      <td>0.074105</td>\n",
       "      <td>0.0</td>\n",
       "      <td>0.07</td>\n",
       "    </tr>\n",
       "    <tr>\n",
       "      <th>Modify</th>\n",
       "      <td>0.810130</td>\n",
       "      <td>0.810130</td>\n",
       "      <td>0.810130</td>\n",
       "      <td>0.0</td>\n",
       "      <td>0.75</td>\n",
       "    </tr>\n",
       "    <tr>\n",
       "      <th>Other</th>\n",
       "      <td>0.000000</td>\n",
       "      <td>0.402600</td>\n",
       "      <td>0.000000</td>\n",
       "      <td>0.0</td>\n",
       "      <td>0.37</td>\n",
       "    </tr>\n",
       "  </tbody>\n",
       "</table>\n",
       "</div>"
      ],
      "text/plain": [
       "            min time    avg time    max time  %varavg  %total\n",
       "Section                                                      \n",
       "Pair      105.110000  105.110000  105.110000      0.0   97.05\n",
       "Neigh       0.754950    0.754950    0.754950      0.0    0.70\n",
       "Comm        1.154200    1.154200    1.154200      0.0    1.07\n",
       "Output      0.074105    0.074105    0.074105      0.0    0.07\n",
       "Modify      0.810130    0.810130    0.810130      0.0    0.75\n",
       "Other       0.000000    0.402600    0.000000      0.0    0.37"
      ]
     },
     "execution_count": 28,
     "metadata": {},
     "output_type": "execute_result"
    }
   ],
   "source": [
    "sim = log.simulations[0]\n",
    "sim.performance"
   ]
  },
  {
   "cell_type": "code",
   "execution_count": 29,
   "id": "b7093c34-6b10-478b-a124-53adcb1b0ff2",
   "metadata": {
    "tags": []
   },
   "outputs": [
    {
     "data": {
      "text/plain": [
       "107.903385"
      ]
     },
     "execution_count": 29,
     "metadata": {},
     "output_type": "execute_result"
    }
   ],
   "source": [
    "sim.performance['max time'].sum()"
   ]
  },
  {
   "cell_type": "code",
   "execution_count": 30,
   "id": "fe52b04a-6391-4bb8-82cc-9840faaabed4",
   "metadata": {
    "tags": []
   },
   "outputs": [
    {
     "data": {
      "text/html": [
       "<div>\n",
       "<style scoped>\n",
       "    .dataframe tbody tr th:only-of-type {\n",
       "        vertical-align: middle;\n",
       "    }\n",
       "\n",
       "    .dataframe tbody tr th {\n",
       "        vertical-align: top;\n",
       "    }\n",
       "\n",
       "    .dataframe thead th {\n",
       "        text-align: right;\n",
       "    }\n",
       "</style>\n",
       "<table border=\"1\" class=\"dataframe\">\n",
       "  <thead>\n",
       "    <tr style=\"text-align: right;\">\n",
       "      <th></th>\n",
       "      <th>Step</th>\n",
       "      <th>Temp</th>\n",
       "      <th>PotEng</th>\n",
       "      <th>KinEng</th>\n",
       "      <th>TotEng</th>\n",
       "      <th>Pxx</th>\n",
       "      <th>Pyy</th>\n",
       "      <th>Pzz</th>\n",
       "      <th>c_msd[1]</th>\n",
       "      <th>c_msd[2]</th>\n",
       "      <th>c_msd[3]</th>\n",
       "      <th>c_msd[4]</th>\n",
       "    </tr>\n",
       "  </thead>\n",
       "  <tbody>\n",
       "    <tr>\n",
       "      <th>0</th>\n",
       "      <td>0</td>\n",
       "      <td>2400.000000</td>\n",
       "      <td>-1954.991287</td>\n",
       "      <td>154.181501</td>\n",
       "      <td>-1800.809786</td>\n",
       "      <td>16296.437061</td>\n",
       "      <td>16558.296216</td>\n",
       "      <td>19034.500059</td>\n",
       "      <td>1.262177e-29</td>\n",
       "      <td>1.546167e-28</td>\n",
       "      <td>1.262177e-29</td>\n",
       "      <td>1.798603e-28</td>\n",
       "    </tr>\n",
       "    <tr>\n",
       "      <th>1</th>\n",
       "      <td>100</td>\n",
       "      <td>796.298658</td>\n",
       "      <td>-1864.223438</td>\n",
       "      <td>51.156051</td>\n",
       "      <td>-1813.067387</td>\n",
       "      <td>89784.864064</td>\n",
       "      <td>91288.049857</td>\n",
       "      <td>91538.371063</td>\n",
       "      <td>3.944753e-02</td>\n",
       "      <td>4.017785e-02</td>\n",
       "      <td>4.418465e-02</td>\n",
       "      <td>1.238100e-01</td>\n",
       "    </tr>\n",
       "    <tr>\n",
       "      <th>2</th>\n",
       "      <td>200</td>\n",
       "      <td>1049.650418</td>\n",
       "      <td>-1866.703110</td>\n",
       "      <td>67.431949</td>\n",
       "      <td>-1799.271161</td>\n",
       "      <td>91660.246684</td>\n",
       "      <td>91137.277623</td>\n",
       "      <td>88365.700727</td>\n",
       "      <td>5.661350e-02</td>\n",
       "      <td>5.350949e-02</td>\n",
       "      <td>6.015484e-02</td>\n",
       "      <td>1.702778e-01</td>\n",
       "    </tr>\n",
       "    <tr>\n",
       "      <th>3</th>\n",
       "      <td>300</td>\n",
       "      <td>1236.384192</td>\n",
       "      <td>-1869.215635</td>\n",
       "      <td>79.428154</td>\n",
       "      <td>-1789.787481</td>\n",
       "      <td>86394.275609</td>\n",
       "      <td>91504.065713</td>\n",
       "      <td>87101.006020</td>\n",
       "      <td>6.369768e-02</td>\n",
       "      <td>4.676178e-02</td>\n",
       "      <td>6.433682e-02</td>\n",
       "      <td>1.747963e-01</td>\n",
       "    </tr>\n",
       "    <tr>\n",
       "      <th>4</th>\n",
       "      <td>400</td>\n",
       "      <td>1263.438357</td>\n",
       "      <td>-1870.846359</td>\n",
       "      <td>81.166176</td>\n",
       "      <td>-1789.680183</td>\n",
       "      <td>80315.569056</td>\n",
       "      <td>89961.730071</td>\n",
       "      <td>91537.783729</td>\n",
       "      <td>6.585848e-02</td>\n",
       "      <td>4.920062e-02</td>\n",
       "      <td>5.713772e-02</td>\n",
       "      <td>1.721968e-01</td>\n",
       "    </tr>\n",
       "    <tr>\n",
       "      <th>...</th>\n",
       "      <td>...</td>\n",
       "      <td>...</td>\n",
       "      <td>...</td>\n",
       "      <td>...</td>\n",
       "      <td>...</td>\n",
       "      <td>...</td>\n",
       "      <td>...</td>\n",
       "      <td>...</td>\n",
       "      <td>...</td>\n",
       "      <td>...</td>\n",
       "      <td>...</td>\n",
       "      <td>...</td>\n",
       "    </tr>\n",
       "    <tr>\n",
       "      <th>996</th>\n",
       "      <td>99600</td>\n",
       "      <td>1227.790756</td>\n",
       "      <td>-1873.613250</td>\n",
       "      <td>78.876092</td>\n",
       "      <td>-1794.737157</td>\n",
       "      <td>81177.992263</td>\n",
       "      <td>86802.543169</td>\n",
       "      <td>86686.177890</td>\n",
       "      <td>1.863424e-01</td>\n",
       "      <td>1.885856e-01</td>\n",
       "      <td>1.845998e-01</td>\n",
       "      <td>5.595278e-01</td>\n",
       "    </tr>\n",
       "    <tr>\n",
       "      <th>997</th>\n",
       "      <td>99700</td>\n",
       "      <td>1267.472373</td>\n",
       "      <td>-1878.707132</td>\n",
       "      <td>81.425330</td>\n",
       "      <td>-1797.281802</td>\n",
       "      <td>78742.314084</td>\n",
       "      <td>80504.919561</td>\n",
       "      <td>83717.521744</td>\n",
       "      <td>1.867037e-01</td>\n",
       "      <td>1.804956e-01</td>\n",
       "      <td>1.911940e-01</td>\n",
       "      <td>5.583934e-01</td>\n",
       "    </tr>\n",
       "    <tr>\n",
       "      <th>998</th>\n",
       "      <td>99800</td>\n",
       "      <td>1236.255615</td>\n",
       "      <td>-1883.254974</td>\n",
       "      <td>79.419894</td>\n",
       "      <td>-1803.835080</td>\n",
       "      <td>77770.815913</td>\n",
       "      <td>78462.341336</td>\n",
       "      <td>75815.404285</td>\n",
       "      <td>1.823201e-01</td>\n",
       "      <td>1.728169e-01</td>\n",
       "      <td>1.920212e-01</td>\n",
       "      <td>5.471582e-01</td>\n",
       "    </tr>\n",
       "    <tr>\n",
       "      <th>999</th>\n",
       "      <td>99900</td>\n",
       "      <td>1123.156348</td>\n",
       "      <td>-1878.097678</td>\n",
       "      <td>72.154138</td>\n",
       "      <td>-1805.943540</td>\n",
       "      <td>82651.041626</td>\n",
       "      <td>81550.579087</td>\n",
       "      <td>78478.982260</td>\n",
       "      <td>1.810508e-01</td>\n",
       "      <td>1.774206e-01</td>\n",
       "      <td>1.823976e-01</td>\n",
       "      <td>5.408691e-01</td>\n",
       "    </tr>\n",
       "    <tr>\n",
       "      <th>1000</th>\n",
       "      <td>100000</td>\n",
       "      <td>1207.243774</td>\n",
       "      <td>-1880.047754</td>\n",
       "      <td>77.556107</td>\n",
       "      <td>-1802.491647</td>\n",
       "      <td>79043.787023</td>\n",
       "      <td>76013.391522</td>\n",
       "      <td>81752.808519</td>\n",
       "      <td>1.769638e-01</td>\n",
       "      <td>1.703301e-01</td>\n",
       "      <td>1.702522e-01</td>\n",
       "      <td>5.175460e-01</td>\n",
       "    </tr>\n",
       "  </tbody>\n",
       "</table>\n",
       "<p>1001 rows × 12 columns</p>\n",
       "</div>"
      ],
      "text/plain": [
       "        Step         Temp       PotEng      KinEng       TotEng           Pxx  \\\n",
       "0          0  2400.000000 -1954.991287  154.181501 -1800.809786  16296.437061   \n",
       "1        100   796.298658 -1864.223438   51.156051 -1813.067387  89784.864064   \n",
       "2        200  1049.650418 -1866.703110   67.431949 -1799.271161  91660.246684   \n",
       "3        300  1236.384192 -1869.215635   79.428154 -1789.787481  86394.275609   \n",
       "4        400  1263.438357 -1870.846359   81.166176 -1789.680183  80315.569056   \n",
       "...      ...          ...          ...         ...          ...           ...   \n",
       "996    99600  1227.790756 -1873.613250   78.876092 -1794.737157  81177.992263   \n",
       "997    99700  1267.472373 -1878.707132   81.425330 -1797.281802  78742.314084   \n",
       "998    99800  1236.255615 -1883.254974   79.419894 -1803.835080  77770.815913   \n",
       "999    99900  1123.156348 -1878.097678   72.154138 -1805.943540  82651.041626   \n",
       "1000  100000  1207.243774 -1880.047754   77.556107 -1802.491647  79043.787023   \n",
       "\n",
       "               Pyy           Pzz      c_msd[1]      c_msd[2]      c_msd[3]  \\\n",
       "0     16558.296216  19034.500059  1.262177e-29  1.546167e-28  1.262177e-29   \n",
       "1     91288.049857  91538.371063  3.944753e-02  4.017785e-02  4.418465e-02   \n",
       "2     91137.277623  88365.700727  5.661350e-02  5.350949e-02  6.015484e-02   \n",
       "3     91504.065713  87101.006020  6.369768e-02  4.676178e-02  6.433682e-02   \n",
       "4     89961.730071  91537.783729  6.585848e-02  4.920062e-02  5.713772e-02   \n",
       "...            ...           ...           ...           ...           ...   \n",
       "996   86802.543169  86686.177890  1.863424e-01  1.885856e-01  1.845998e-01   \n",
       "997   80504.919561  83717.521744  1.867037e-01  1.804956e-01  1.911940e-01   \n",
       "998   78462.341336  75815.404285  1.823201e-01  1.728169e-01  1.920212e-01   \n",
       "999   81550.579087  78478.982260  1.810508e-01  1.774206e-01  1.823976e-01   \n",
       "1000  76013.391522  81752.808519  1.769638e-01  1.703301e-01  1.702522e-01   \n",
       "\n",
       "          c_msd[4]  \n",
       "0     1.798603e-28  \n",
       "1     1.238100e-01  \n",
       "2     1.702778e-01  \n",
       "3     1.747963e-01  \n",
       "4     1.721968e-01  \n",
       "...            ...  \n",
       "996   5.595278e-01  \n",
       "997   5.583934e-01  \n",
       "998   5.471582e-01  \n",
       "999   5.408691e-01  \n",
       "1000  5.175460e-01  \n",
       "\n",
       "[1001 rows x 12 columns]"
      ]
     },
     "execution_count": 30,
     "metadata": {},
     "output_type": "execute_result"
    }
   ],
   "source": [
    "sim.thermo"
   ]
  },
  {
   "cell_type": "code",
   "execution_count": 32,
   "id": "7e1f952e-2082-47f9-856e-41bf592906fb",
   "metadata": {
    "tags": []
   },
   "outputs": [
    {
     "data": {
      "text/plain": [
       "[<matplotlib.lines.Line2D at 0x138d3f56790>]"
      ]
     },
     "execution_count": 32,
     "metadata": {},
     "output_type": "execute_result"
    },
    {
     "data": {
      "image/png": "[encoded data removed]",
      "text/plain": [
       "<Figure size 640x480 with 1 Axes>"
      ]
     },
     "metadata": {},
     "output_type": "display_data"
    }
   ],
   "source": [
    "plt.plot(sim.thermo.Step, sim.thermo['c_msd[4]'])"
   ]
  },
  {
   "cell_type": "markdown",
   "id": "4c02e877-3ca1-4943-841e-44665101dae1",
   "metadata": {},
   "source": [
    "### 5.3. Load dump files\n",
    "\n",
    "You can use atomman.load to read in any of the dump files to do any further per-atom processing of the results using atomman."
   ]
  },
  {
   "cell_type": "code",
   "execution_count": 18,
   "id": "870bba75-cd88-4a8a-a459-7f7d38113523",
   "metadata": {
    "tags": []
   },
   "outputs": [
    {
     "name": "stdout",
     "output_type": "stream",
     "text": [
      "['atype', 'pos', 'atom_id', 'c_peatom']\n"
     ]
    }
   ],
   "source": [
    "final = am.load('atom_dump', '100000.dump')\n",
    "print(final.atoms_prop())"
   ]
  },
  {
   "cell_type": "markdown",
   "id": "adad1368-b365-4b9e-9938-47996c452755",
   "metadata": {},
   "source": [
    "**File cleanup**"
   ]
  },
  {
   "cell_type": "code",
   "execution_count": 31,
   "id": "4a08f69f-8712-4181-96ec-2643833df660",
   "metadata": {
    "tags": []
   },
   "outputs": [],
   "source": [
    "from pathlib import Path\n",
    "import shutil\n",
    "\n",
    "for potdir in Path().glob('19*--ipr*'):\n",
    "    if potdir.is_dir():\n",
    "        shutil.rmtree(potdir)\n",
    "for potdir in Path().glob('20*--ipr*'):\n",
    "    if potdir.is_dir():\n",
    "        shutil.rmtree(potdir)\n",
    "for fname in Path().glob('*.dump'):\n",
    "    fname.unlink()\n",
    "if Path('log.lammps').exists():\n",
    "    Path('log.lammps').unlink()\n",
    "if Path('init.dat').exists():\n",
    "    Path('init.dat').unlink()"
   ]
  }
 ],
 "metadata": {
  "kernelspec": {
   "display_name": "Python 3 (ipykernel)",
   "language": "python",
   "name": "python3"
  },
  "language_info": {
   "codemirror_mode": {
    "name": "ipython",
    "version": 3
   },
   "file_extension": ".py",
   "mimetype": "text/x-python",
   "name": "python",
   "nbconvert_exporter": "python",
   "pygments_lexer": "ipython3",
   "version": "3.11.3"
  }
 },
 "nbformat": 4,
 "nbformat_minor": 5
}
