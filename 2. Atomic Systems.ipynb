{
 "cells": [
  {
   "cell_type": "markdown",
   "metadata": {},
   "source": [
    "# Atomic Systems"
   ]
  },
  {
   "cell_type": "markdown",
   "metadata": {},
   "source": [
    "## 1. Importing/installing atomman\n",
    "\n",
    "This cell imports atomman if it is already installed, or it installs it.  This makes it possible to run the Notebook in a colab environment.\n",
    "\n",
    "__NOTE__: If atomman gets installed, the Notebook kernel must be restarted and the cell executed again before running the remaining cells!"
   ]
  },
  {
   "cell_type": "code",
   "execution_count": 1,
   "metadata": {},
   "outputs": [
    {
     "name": "stdout",
     "output_type": "stream",
     "text": [
      "atomman version 1.4.0 loaded\n"
     ]
    }
   ],
   "source": [
    "try:\n",
    "    # Check if potentials has been installed\n",
    "    import atomman as am\n",
    "\n",
    "except:\n",
    "    # Install if need be and print message\n",
    "    !pip install atomman\n",
    "    print('!!!!! RESTART KERNEL/RUNTIME TO USE POTENTIALS !!!!!')\n",
    "\n",
    "else:\n",
    "    # Print version of the loaded atomman package\n",
    "    print(f'atomman version {am.__version__} loaded')"
   ]
  },
  {
   "cell_type": "markdown",
   "metadata": {},
   "source": [
    "## 2. Unit conversion basics\n",
    "\n",
    "Units are handled in atomman by converting values to compatible working units when they are set, and then retrieving the results in the units that you wish.  This method avoids any overhead associated with tracking units during calculations, but does mean that invalid unit conversions are not explicitly checked.\n",
    "\n",
    "- atomman.unitconvert.set_in_units(value, unit) sets a value in the specified units by converting to the compatible working units (i.e. when you assign values). \n",
    "- atomman.unitconvert.get_in_units(value, unit) gets a value in the specified units by converting from the compatible working units (i.e. when you retrieve values).\n",
    "\n",
    "The default working units for atomman are\n",
    "- length = ‘angstrom’ = ‘Å’\n",
    "- mass = ‘amu’\n",
    "- energy = ‘eV’\n",
    "- charge = ‘e’\n",
    "- temperature = ‘K’"
   ]
  },
  {
   "cell_type": "code",
   "execution_count": 4,
   "metadata": {},
   "outputs": [],
   "source": [
    "import atomman.unitconvert as uc"
   ]
  },
  {
   "cell_type": "code",
   "execution_count": 5,
   "metadata": {},
   "outputs": [
    {
     "name": "stdout",
     "output_type": "stream",
     "text": [
      "P in working units is 1.2795093602644564e-09\n",
      "P in Pa is 205.0\n"
     ]
    }
   ],
   "source": [
    "# Set value with complex units\n",
    "p = uc.set_in_units(205, 'kg/(m*s^2)')\n",
    "\n",
    "print('P in working units is', p)\n",
    "\n",
    "# Show that complex units are equivalent to Pa\n",
    "print('P in Pa is', uc.get_in_units(p, 'Pa'))"
   ]
  },
  {
   "cell_type": "markdown",
   "metadata": {},
   "source": [
    "## 3. Manual creation of an atomic System\n",
    "\n",
    "The atomic configurations represented in atomman consist of three primary classes:\n",
    "\n",
    "- Box defines a system/cell box,\n",
    "- Atoms manages per-atom properties, and \n",
    "- System combines the two to provide a representation of the full atomic system."
   ]
  },
  {
   "cell_type": "markdown",
   "metadata": {},
   "source": [
    "### 3.1. Creating a Box\n",
    "\n",
    "A Box consists of four vectors\n",
    "- avect is the Cartesian vector associated with the Box’s a lattice vector.\n",
    "- bvect is the Cartesian vector associated with the Box’s b lattice vector.\n",
    "- cvect is the Cartesian vector associated with the Box’s c lattice vector.\n",
    "- origin is the Cartesian position vector for the Box’s origin. The positions of the Box’s eight corners are given by adding combinations of avect, bvect and cvect to the origin.\n",
    "\n",
    "A new Box can be created by specifying the box dimensions in a number of formats\n",
    "- vects (and origin): a 3x3 array of the three box vectors plus the optional origin\n",
    "- avect, bvect, cvect (and origin): the three separate box vectors plus the optional origin.\n",
    "- a, b, c, (alpha, beta, gamma and origin): the lattice constants plus the optional lattice angles and origin.  Any angle not given are assumed to be 90.\n",
    "- xlo, xhi, ylo, yhi, zlo, zhi, (xy, xz and yz): The LAMMPS box bounds and optional tilts.\n",
    "- lx, ly, lz, (xy, xz, yz, and origin): The LAMMPS box lengths and optional tilts and origin."
   ]
  },
  {
   "cell_type": "markdown",
   "metadata": {},
   "source": [
    "Cubic box for an FCC unit cell system for Al"
   ]
  },
  {
   "cell_type": "code",
   "execution_count": 2,
   "metadata": {},
   "outputs": [
    {
     "name": "stdout",
     "output_type": "stream",
     "text": [
      "avect =  [ 4.050,  0.000,  0.000]\n",
      "bvect =  [ 0.000,  4.050,  0.000]\n",
      "cvect =  [ 0.000,  0.000,  4.050]\n",
      "origin = [ 0.000,  0.000,  0.000]\n"
     ]
    }
   ],
   "source": [
    "a = uc.set_in_units(4.05, 'angstrom')\n",
    "\n",
    "box = am.Box(a=a, b=a, c=a)\n",
    "print(box)"
   ]
  },
  {
   "cell_type": "markdown",
   "metadata": {},
   "source": [
    "Alternatively, methods named for crystal families (cubic, hexagonal, etc) allow for boxes to be specified with only the unique lattice constants and angles."
   ]
  },
  {
   "cell_type": "code",
   "execution_count": 3,
   "metadata": {},
   "outputs": [
    {
     "name": "stdout",
     "output_type": "stream",
     "text": [
      "avect =  [ 4.050,  0.000,  0.000]\n",
      "bvect =  [ 0.000,  4.050,  0.000]\n",
      "cvect =  [ 0.000,  0.000,  4.050]\n",
      "origin = [ 0.000,  0.000,  0.000]\n"
     ]
    }
   ],
   "source": [
    "box = am.Box.cubic(a=a)\n",
    "print(box)"
   ]
  },
  {
   "cell_type": "markdown",
   "metadata": {},
   "source": [
    "### 3.2. Creating Atoms\n",
    "\n",
    "Atoms objects manage per-atom properties for all of the atoms in a system.  The basic design of atomman.Atoms is that\n",
    "\n",
    "- The number of atoms is constant.  Note that new Atoms objects can be constructed by copying/deleting atoms from other Atoms objects.\n",
    "- The only required per-atom properties are a positive integer atype, and a 3D vector pos.\n",
    "- Other per-atom properties can be freely assigned, as long as the property is shared by all atoms and is of the same data type and shape."
   ]
  },
  {
   "cell_type": "code",
   "execution_count": 7,
   "metadata": {},
   "outputs": [
    {
     "name": "stdout",
     "output_type": "stream",
     "text": [
      "per-atom properties = ['atype', 'pos']\n",
      "     id |   atype |  pos[0] |  pos[1] |  pos[2]\n",
      "      0 |       1 |   0.000 |   0.000 |   0.000\n",
      "      1 |       1 |   0.500 |   0.500 |   0.000\n",
      "      2 |       1 |   0.500 |   0.000 |   0.500\n",
      "      3 |       1 |   0.000 |   0.500 |   0.500\n"
     ]
    }
   ],
   "source": [
    "# Construct atoms with reduced coordinates for a face-centered cell\n",
    "atoms = am.Atoms(atype=1, pos=[[0.0, 0.0, 0.0],\n",
    "                               [0.5, 0.5, 0.0],\n",
    "                               [0.5, 0.0, 0.5], \n",
    "                               [0.0, 0.5, 0.5]])\n",
    "print(atoms)"
   ]
  },
  {
   "cell_type": "markdown",
   "metadata": {},
   "source": [
    "Per-atom properties can be set and retrieved as object attributes if the names are legal attribute names."
   ]
  },
  {
   "cell_type": "code",
   "execution_count": 14,
   "metadata": {},
   "outputs": [
    {
     "name": "stdout",
     "output_type": "stream",
     "text": [
      "[0. 0. 0. 0.]\n"
     ]
    }
   ],
   "source": [
    "atoms.charge = [0.0, 0.0, 0.0, 0.0]\n",
    "print(atoms.charge)"
   ]
  },
  {
   "cell_type": "code",
   "execution_count": 15,
   "metadata": {},
   "outputs": [
    {
     "name": "stdout",
     "output_type": "stream",
     "text": [
      "[0.5 0.  0.5]\n"
     ]
    }
   ],
   "source": [
    "print(atoms.pos[2])"
   ]
  },
  {
   "cell_type": "markdown",
   "metadata": {},
   "source": [
    "Using indexing on the Atoms object itself will return a new Atoms object of the specified slice."
   ]
  },
  {
   "cell_type": "code",
   "execution_count": 16,
   "metadata": {},
   "outputs": [
    {
     "name": "stdout",
     "output_type": "stream",
     "text": [
      "per-atom properties = ['atype', 'pos', 'charge']\n",
      "     id |   atype |  pos[0] |  pos[1] |  pos[2]\n",
      "      0 |       1 |   0.000 |   0.000 |   0.000\n",
      "      1 |       1 |   0.500 |   0.000 |   0.500\n"
     ]
    }
   ],
   "source": [
    "print(atoms[[0,2]])"
   ]
  },
  {
   "cell_type": "markdown",
   "metadata": {},
   "source": [
    "The atomic properties can also be copied to a pandas.DataFrame representation."
   ]
  },
  {
   "cell_type": "code",
   "execution_count": 18,
   "metadata": {},
   "outputs": [
    {
     "data": {
      "text/html": [
       "<div>\n",
       "<style scoped>\n",
       "    .dataframe tbody tr th:only-of-type {\n",
       "        vertical-align: middle;\n",
       "    }\n",
       "\n",
       "    .dataframe tbody tr th {\n",
       "        vertical-align: top;\n",
       "    }\n",
       "\n",
       "    .dataframe thead th {\n",
       "        text-align: right;\n",
       "    }\n",
       "</style>\n",
       "<table border=\"1\" class=\"dataframe\">\n",
       "  <thead>\n",
       "    <tr style=\"text-align: right;\">\n",
       "      <th></th>\n",
       "      <th>atype</th>\n",
       "      <th>pos[0]</th>\n",
       "      <th>pos[1]</th>\n",
       "      <th>pos[2]</th>\n",
       "      <th>charge</th>\n",
       "    </tr>\n",
       "  </thead>\n",
       "  <tbody>\n",
       "    <tr>\n",
       "      <td>0</td>\n",
       "      <td>1</td>\n",
       "      <td>0.0</td>\n",
       "      <td>0.0</td>\n",
       "      <td>0.0</td>\n",
       "      <td>0.0</td>\n",
       "    </tr>\n",
       "    <tr>\n",
       "      <td>1</td>\n",
       "      <td>1</td>\n",
       "      <td>0.5</td>\n",
       "      <td>0.5</td>\n",
       "      <td>0.0</td>\n",
       "      <td>0.0</td>\n",
       "    </tr>\n",
       "    <tr>\n",
       "      <td>2</td>\n",
       "      <td>1</td>\n",
       "      <td>0.5</td>\n",
       "      <td>0.0</td>\n",
       "      <td>0.5</td>\n",
       "      <td>0.0</td>\n",
       "    </tr>\n",
       "    <tr>\n",
       "      <td>3</td>\n",
       "      <td>1</td>\n",
       "      <td>0.0</td>\n",
       "      <td>0.5</td>\n",
       "      <td>0.5</td>\n",
       "      <td>0.0</td>\n",
       "    </tr>\n",
       "  </tbody>\n",
       "</table>\n",
       "</div>"
      ],
      "text/plain": [
       "   atype  pos[0]  pos[1]  pos[2]  charge\n",
       "0      1     0.0     0.0     0.0     0.0\n",
       "1      1     0.5     0.5     0.0     0.0\n",
       "2      1     0.5     0.0     0.5     0.0\n",
       "3      1     0.0     0.5     0.5     0.0"
      ]
     },
     "execution_count": 18,
     "metadata": {},
     "output_type": "execute_result"
    }
   ],
   "source": [
    "atoms.df()"
   ]
  },
  {
   "cell_type": "markdown",
   "metadata": {},
   "source": [
    "### 3.3. Creating Systems\n",
    "\n",
    "A System object can then be created by combining Box and Atoms objects.\n",
    "\n",
    "- setting scale=True will scale atomic pos by the box dimensions.\n",
    "- symbols assigns atomic model symbols to the unique integer atype values.\n",
    "- pbc allows for the three periodic boundary conditions to be set/changed, with True indicating that the associated box dimension is periodic"
   ]
  },
  {
   "cell_type": "code",
   "execution_count": 19,
   "metadata": {},
   "outputs": [
    {
     "name": "stdout",
     "output_type": "stream",
     "text": [
      "avect =  [ 4.050,  0.000,  0.000]\n",
      "bvect =  [ 0.000,  4.050,  0.000]\n",
      "cvect =  [ 0.000,  0.000,  4.050]\n",
      "origin = [ 0.000,  0.000,  0.000]\n",
      "natoms = 4\n",
      "natypes = 1\n",
      "symbols = ('Al',)\n",
      "pbc = [ True  True  True]\n",
      "per-atom properties = ['atype', 'pos', 'charge']\n",
      "     id |   atype |  pos[0] |  pos[1] |  pos[2]\n",
      "      0 |       1 |   0.000 |   0.000 |   0.000\n",
      "      1 |       1 |   2.025 |   2.025 |   0.000\n",
      "      2 |       1 |   2.025 |   0.000 |   2.025\n",
      "      3 |       1 |   0.000 |   2.025 |   2.025\n"
     ]
    }
   ],
   "source": [
    "ucell = am.System(atoms=atoms, box=box, scale=True, symbols=['Al'])\n",
    "print(ucell)"
   ]
  },
  {
   "cell_type": "markdown",
   "metadata": {},
   "source": [
    "The Atoms and Box used to create the system can still be directly accessed for exploration and modifications."
   ]
  },
  {
   "cell_type": "code",
   "execution_count": 33,
   "metadata": {},
   "outputs": [
    {
     "name": "stdout",
     "output_type": "stream",
     "text": [
      "avect =  [ 4.050,  0.000,  0.000]\n",
      "bvect =  [ 0.000,  4.050,  0.000]\n",
      "cvect =  [ 0.000,  0.000,  4.050]\n",
      "origin = [ 0.000,  0.000,  0.000]\n"
     ]
    }
   ],
   "source": [
    "print(ucell.box)"
   ]
  },
  {
   "cell_type": "code",
   "execution_count": 34,
   "metadata": {},
   "outputs": [
    {
     "name": "stdout",
     "output_type": "stream",
     "text": [
      "per-atom properties = ['atype', 'pos']\n",
      "     id |   atype |  pos[0] |  pos[1] |  pos[2]\n",
      "      0 |       1 |   0.500 |   0.500 |   0.500\n",
      "      1 |       1 |   0.500 |   2.525 |   2.525\n",
      "      2 |       1 |   2.525 |   0.500 |   2.525\n",
      "      3 |       1 |   2.525 |   2.525 |   0.500\n"
     ]
    }
   ],
   "source": [
    "print(ucell.atoms)"
   ]
  },
  {
   "cell_type": "markdown",
   "metadata": {},
   "source": [
    "## 4. Loading an atomic configuration\n",
    "\n",
    "An atomman.System can also be constructed by loading configuration information from other sources.\n",
    "\n",
    "- From files or strings: POSCAR, CIF, LAMMPS data, LAMMPS dump, atomman JSON/XML format \n",
    "- From databases: crystal prototypes, NIST relaxed crystals, DFT relaxed crystals from Materials Project and/or OQMD\n",
    "- From alternate Python representations: ase.Atoms, phonopy.Atoms, pymatgen.Structure, spglib.cell"
   ]
  },
  {
   "cell_type": "markdown",
   "metadata": {},
   "source": [
    "### 4.1. Load a unit cell system from a POSCAR str"
   ]
  },
  {
   "cell_type": "code",
   "execution_count": 20,
   "metadata": {},
   "outputs": [
    {
     "name": "stdout",
     "output_type": "stream",
     "text": [
      "avect =  [ 4.050,  0.000,  0.000]\n",
      "bvect =  [ 0.000,  4.050,  0.000]\n",
      "cvect =  [ 0.000,  0.000,  4.050]\n",
      "origin = [ 0.000,  0.000,  0.000]\n",
      "natoms = 4\n",
      "natypes = 1\n",
      "symbols = ('Al',)\n",
      "pbc = [ True  True  True]\n",
      "per-atom properties = ['atype', 'pos']\n",
      "     id |   atype |  pos[0] |  pos[1] |  pos[2]\n",
      "      0 |       1 |   0.000 |   0.000 |   0.000\n",
      "      1 |       1 |   2.025 |   2.025 |   0.000\n",
      "      2 |       1 |   2.025 |   0.000 |   2.025\n",
      "      3 |       1 |   0.000 |   2.025 |   2.025\n"
     ]
    }
   ],
   "source": [
    "poscar=\"\"\"POSCAR demo for fcc Al\n",
    "4.0500000\n",
    "1.000000 0.000000 0.000000\n",
    "0.000000 1.000000 0.000000\n",
    "0.000000 0.000000 1.000000\n",
    "Al\n",
    "4\n",
    "Cartesian\n",
    "0.000000 0.000000 0.000000 1 0 0\n",
    "2.025000 2.025000 0.000000 1 0 0\n",
    "2.025000 0.000000 2.025000 1 0 0\n",
    "0.000000 2.025000 2.025000 1 0 0\n",
    "\"\"\"\n",
    "ucell = am.load('poscar', poscar)\n",
    "print(ucell)"
   ]
  },
  {
   "cell_type": "markdown",
   "metadata": {},
   "source": [
    "### 4.2. Load a LAMMPS potential and an associated relaxed crystal from the NIST database"
   ]
  },
  {
   "cell_type": "code",
   "execution_count": 21,
   "metadata": {},
   "outputs": [],
   "source": [
    "potential = am.load_lammps_potential(id='2003--Zope-R-R--Al--LAMMPS--ipr1')"
   ]
  },
  {
   "cell_type": "code",
   "execution_count": 22,
   "metadata": {},
   "outputs": [
    {
     "name": "stdout",
     "output_type": "stream",
     "text": [
      "avect =  [ 4.050,  0.000,  0.000]\n",
      "bvect =  [ 0.000,  4.050,  0.000]\n",
      "cvect =  [ 0.000,  0.000,  4.050]\n",
      "origin = [ 0.000,  0.000,  0.000]\n",
      "natoms = 4\n",
      "natypes = 1\n",
      "symbols = ('Al',)\n",
      "pbc = [ True  True  True]\n",
      "per-atom properties = ['atype', 'pos']\n",
      "     id |   atype |  pos[0] |  pos[1] |  pos[2]\n",
      "      0 |       1 |   0.000 |   0.000 |   0.000\n",
      "      1 |       1 |   0.000 |   2.025 |   2.025\n",
      "      2 |       1 |   2.025 |   0.000 |   2.025\n",
      "      3 |       1 |   2.025 |   2.025 |   0.000\n"
     ]
    }
   ],
   "source": [
    "ucell = am.load('crystal', potential=potential, family='A1--Cu--fcc')\n",
    "print(ucell)"
   ]
  },
  {
   "cell_type": "markdown",
   "metadata": {},
   "source": [
    "## 5. Basic System modifications"
   ]
  },
  {
   "cell_type": "markdown",
   "metadata": {},
   "source": [
    "### 5.1. Rigid shift\n",
    "\n",
    "A rigid shift can simply be applied by adding/subtracting a constant from all atomic positions.\n"
   ]
  },
  {
   "cell_type": "code",
   "execution_count": 24,
   "metadata": {},
   "outputs": [
    {
     "name": "stdout",
     "output_type": "stream",
     "text": [
      "avect =  [ 4.050,  0.000,  0.000]\n",
      "bvect =  [ 0.000,  4.050,  0.000]\n",
      "cvect =  [ 0.000,  0.000,  4.050]\n",
      "origin = [ 0.000,  0.000,  0.000]\n",
      "natoms = 4\n",
      "natypes = 1\n",
      "symbols = ('Al',)\n",
      "pbc = [ True  True  True]\n",
      "per-atom properties = ['atype', 'pos']\n",
      "     id |   atype |  pos[0] |  pos[1] |  pos[2]\n",
      "      0 |       1 |   0.500 |   0.500 |   0.500\n",
      "      1 |       1 |   0.500 |   2.525 |   2.525\n",
      "      2 |       1 |   2.525 |   0.500 |   2.525\n",
      "      3 |       1 |   2.525 |   2.525 |   0.500\n"
     ]
    }
   ],
   "source": [
    "ucell.atoms.pos += [0.5, 0.5, 0.5]\n",
    "print(ucell)"
   ]
  },
  {
   "cell_type": "markdown",
   "metadata": {},
   "source": [
    "### 5.2. Wrap atoms/bounds\n",
    "\n",
    "The wrap() method will ensure all atom positions are inside the box by\n",
    "- wrapping atoms past periodic boundaries back into the box\n",
    "- shifting non-periodic boundaries to encompass all atoms "
   ]
  },
  {
   "cell_type": "code",
   "execution_count": 25,
   "metadata": {},
   "outputs": [
    {
     "name": "stdout",
     "output_type": "stream",
     "text": [
      "avect =  [ 4.050,  0.000,  0.000]\n",
      "bvect =  [ 0.000,  4.050,  0.000]\n",
      "cvect =  [ 0.000,  0.000,  4.050]\n",
      "origin = [ 0.000,  0.000,  0.000]\n",
      "natoms = 4\n",
      "natypes = 1\n",
      "symbols = ('Al',)\n",
      "pbc = [ True  True  True]\n",
      "per-atom properties = ['atype', 'pos']\n",
      "     id |   atype |  pos[0] |  pos[1] |  pos[2]\n",
      "      0 |       1 |   0.500 |   0.500 |   0.500\n",
      "      1 |       1 |   0.500 |   2.525 |   2.525\n",
      "      2 |       1 |   2.525 |   0.500 |   2.525\n",
      "      3 |       1 |   2.525 |   2.525 |   0.500\n"
     ]
    }
   ],
   "source": [
    "ucell.wrap()\n",
    "print(ucell)"
   ]
  },
  {
   "cell_type": "markdown",
   "metadata": {},
   "source": [
    "### 5.3. Change periodic boundary conditions\n",
    "\n",
    "The periodic boundary conditions can be changed by setting new values to pbc."
   ]
  },
  {
   "cell_type": "code",
   "execution_count": 27,
   "metadata": {},
   "outputs": [
    {
     "name": "stdout",
     "output_type": "stream",
     "text": [
      "[ True  True False]\n",
      "[ True  True  True]\n"
     ]
    }
   ],
   "source": [
    "ucell.pbc[2] = False\n",
    "print(ucell.pbc)\n",
    "ucell.pbc = [True, True, True]\n",
    "print(ucell.pbc)"
   ]
  },
  {
   "cell_type": "markdown",
   "metadata": {},
   "source": [
    "### 5.4. Rotate\n",
    "\n",
    "Systems can be rotated by specifying three Miller vectors relative to the current system's box vectors.  This ensures that the system remains coherent across any periodic boundary conditions."
   ]
  },
  {
   "cell_type": "code",
   "execution_count": 29,
   "metadata": {},
   "outputs": [
    {
     "name": "stdout",
     "output_type": "stream",
     "text": [
      "avect =  [ 9.920,  0.000,  0.000]\n",
      "bvect =  [ 0.000,  7.015,  0.000]\n",
      "cvect =  [ 0.000,  0.000,  5.728]\n",
      "origin = [ 0.000,  0.000,  0.000]\n",
      "natoms = 24\n",
      "natypes = 1\n",
      "symbols = ('Al',)\n",
      "pbc = [ True  True  True]\n",
      "per-atom properties = ['atype', 'pos']\n",
      "     id |   atype |  pos[0] |  pos[1] |  pos[2]\n",
      "      0 |       1 |   7.440 |   0.866 |   1.432\n",
      "      1 |       1 |   7.440 |   0.866 |   4.296\n",
      "      2 |       1 |   9.094 |   3.204 |   4.296\n",
      "      3 |       1 |   9.094 |   3.204 |   1.432\n",
      "      4 |       1 |   2.480 |   0.866 |   4.296\n",
      "      5 |       1 |   4.960 |   0.866 |   5.728\n",
      "      6 |       1 |   2.480 |   0.866 |   1.432\n",
      "      7 |       1 |   4.960 |   0.866 |   2.864\n",
      "      8 |       1 |   4.134 |   3.204 |   1.432\n",
      "      9 |       1 |   4.134 |   3.204 |   4.296\n",
      "     10 |       1 |   6.614 |   3.204 |   2.864\n",
      "     11 |       1 |   6.614 |   3.204 |   0.000\n",
      "     12 |       1 |   5.787 |   5.543 |   4.296\n",
      "     13 |       1 |   8.267 |   5.543 |   0.000\n",
      "     14 |       1 |   5.787 |   5.543 |   1.432\n",
      "     15 |       1 |   8.267 |   5.543 |   2.864\n",
      "     16 |       1 |   9.920 |   0.866 |   2.864\n",
      "     17 |       1 |   9.920 |   0.866 |   0.000\n",
      "     18 |       1 |   1.653 |   3.204 |   5.728\n",
      "     19 |       1 |   1.653 |   3.204 |   2.864\n",
      "     20 |       1 |   0.827 |   5.543 |   1.432\n",
      "     21 |       1 |   0.827 |   5.543 |   4.296\n",
      "     22 |       1 |   3.307 |   5.543 |   2.864\n",
      "     23 |       1 |   3.307 |   5.543 |   0.000\n"
     ]
    }
   ],
   "source": [
    "rcell = ucell.rotate([[ 1, 1,-2],\n",
    "                      [ 1, 1, 1],\n",
    "                      [-1, 1, 0]])\n",
    "print(rcell)"
   ]
  },
  {
   "cell_type": "markdown",
   "metadata": {},
   "source": [
    "### 5.5. Replicate\n",
    "\n",
    "The supersize method replicates the current system along each of the box vectors a specified number of times. Replications can be positive, negative or a combination of the two.  For negative replications, the system is shifted/copied in the negative Cartesian direction."
   ]
  },
  {
   "cell_type": "code",
   "execution_count": 30,
   "metadata": {},
   "outputs": [
    {
     "name": "stdout",
     "output_type": "stream",
     "text": [
      "avect =  [ 8.100,  0.000,  0.000]\n",
      "bvect =  [ 0.000,  8.100,  0.000]\n",
      "cvect =  [ 0.000,  0.000,  8.100]\n",
      "origin = [ 0.000, -8.100, -4.050]\n",
      "natoms = 32\n",
      "natypes = 1\n",
      "symbols = ('Al',)\n",
      "pbc = [ True  True  True]\n",
      "per-atom properties = ['atype', 'pos']\n",
      "     id |   atype |  pos[0] |  pos[1] |  pos[2]\n",
      "      0 |       1 |   0.500 |  -7.600 |  -3.550\n",
      "      1 |       1 |   0.500 |  -5.575 |  -1.525\n",
      "      2 |       1 |   2.525 |  -7.600 |  -1.525\n",
      "      3 |       1 |   2.525 |  -5.575 |  -3.550\n",
      "      4 |       1 |   4.550 |  -7.600 |  -3.550\n",
      "      5 |       1 |   4.550 |  -5.575 |  -1.525\n",
      "      6 |       1 |   6.575 |  -7.600 |  -1.525\n",
      "      7 |       1 |   6.575 |  -5.575 |  -3.550\n",
      "      8 |       1 |   0.500 |  -3.550 |  -3.550\n",
      "      9 |       1 |   0.500 |  -1.525 |  -1.525\n",
      "     10 |       1 |   2.525 |  -3.550 |  -1.525\n",
      "     11 |       1 |   2.525 |  -1.525 |  -3.550\n",
      "     12 |       1 |   4.550 |  -3.550 |  -3.550\n",
      "     13 |       1 |   4.550 |  -1.525 |  -1.525\n",
      "     14 |       1 |   6.575 |  -3.550 |  -1.525\n",
      "     15 |       1 |   6.575 |  -1.525 |  -3.550\n",
      "     16 |       1 |   0.500 |  -7.600 |   0.500\n",
      "     17 |       1 |   0.500 |  -5.575 |   2.525\n",
      "     18 |       1 |   2.525 |  -7.600 |   2.525\n",
      "     19 |       1 |   2.525 |  -5.575 |   0.500\n",
      "     20 |       1 |   4.550 |  -7.600 |   0.500\n",
      "     21 |       1 |   4.550 |  -5.575 |   2.525\n",
      "     22 |       1 |   6.575 |  -7.600 |   2.525\n",
      "     23 |       1 |   6.575 |  -5.575 |   0.500\n",
      "     24 |       1 |   0.500 |  -3.550 |   0.500\n",
      "     25 |       1 |   0.500 |  -1.525 |   2.525\n",
      "     26 |       1 |   2.525 |  -3.550 |   2.525\n",
      "     27 |       1 |   2.525 |  -1.525 |   0.500\n",
      "     28 |       1 |   4.550 |  -3.550 |   0.500\n",
      "     29 |       1 |   4.550 |  -1.525 |   2.525\n",
      "     30 |       1 |   6.575 |  -3.550 |   2.525\n",
      "     31 |       1 |   6.575 |  -1.525 |   0.500\n"
     ]
    }
   ],
   "source": [
    "# Create 2x2x2 supercell, where a is replicated in the positive direction, b in the negative direction, and c equally in both directions \n",
    "bigsystem = ucell.supersize(2, -2, (-1, 1))\n",
    "print(bigsystem)"
   ]
  },
  {
   "cell_type": "markdown",
   "metadata": {},
   "source": [
    "### 5.6. Slice and extend\n",
    "\n",
    "- System.atoms_ix[] creates a new system with same box, pbc info with a slice of atoms.  \n",
    "- System.atoms_extend() creates a new system with the same box, pbc info but with extra atoms added in. Can either specify an int number of new atoms to add, or an Atoms object. "
   ]
  },
  {
   "cell_type": "code",
   "execution_count": 31,
   "metadata": {},
   "outputs": [
    {
     "name": "stdout",
     "output_type": "stream",
     "text": [
      "avect =  [ 8.100,  0.000,  0.000]\n",
      "bvect =  [ 0.000,  8.100,  0.000]\n",
      "cvect =  [ 0.000,  0.000,  8.100]\n",
      "origin = [ 0.000, -8.100, -4.050]\n",
      "natoms = 4\n",
      "natypes = 1\n",
      "symbols = ('Al',)\n",
      "pbc = [ True  True  True]\n",
      "per-atom properties = ['atype', 'pos']\n",
      "     id |   atype |  pos[0] |  pos[1] |  pos[2]\n",
      "      0 |       1 |   0.500 |  -7.600 |  -3.550\n",
      "      1 |       1 |   0.500 |  -5.575 |  -1.525\n",
      "      2 |       1 |   2.525 |  -7.600 |  -1.525\n",
      "      3 |       1 |   2.525 |  -5.575 |  -3.550\n"
     ]
    }
   ],
   "source": [
    "print(bigsystem.atoms_ix[:4])"
   ]
  },
  {
   "cell_type": "code",
   "execution_count": 32,
   "metadata": {},
   "outputs": [
    {
     "name": "stdout",
     "output_type": "stream",
     "text": [
      "avect =  [ 4.050,  0.000,  0.000]\n",
      "bvect =  [ 0.000,  4.050,  0.000]\n",
      "cvect =  [ 0.000,  0.000,  4.050]\n",
      "origin = [ 0.000,  0.000,  0.000]\n",
      "natoms = 8\n",
      "natypes = 1\n",
      "symbols = ('Al',)\n",
      "pbc = [ True  True  True]\n",
      "per-atom properties = ['atype', 'pos']\n",
      "     id |   atype |  pos[0] |  pos[1] |  pos[2]\n",
      "      0 |       1 |   0.500 |   0.500 |   0.500\n",
      "      1 |       1 |   0.500 |   2.525 |   2.525\n",
      "      2 |       1 |   2.525 |   0.500 |   2.525\n",
      "      3 |       1 |   2.525 |   2.525 |   0.500\n",
      "      4 |       1 |   0.000 |   0.000 |   0.000\n",
      "      5 |       1 |   0.000 |   0.000 |   0.000\n",
      "      6 |       1 |   0.000 |   0.000 |   0.000\n",
      "      7 |       1 |   0.000 |   0.000 |   0.000\n"
     ]
    }
   ],
   "source": [
    "print(ucell.atoms_extend(4))"
   ]
  },
  {
   "cell_type": "markdown",
   "metadata": {},
   "source": [
    "## 6. System analysis tools"
   ]
  },
  {
   "cell_type": "markdown",
   "metadata": {},
   "source": [
    "### 6.1. Shortest interatomic spacing\n",
    "\n",
    "The System.r0() method will compute the shortest atomic spacing.  Note that this checks *all* atoms, so perform it on systems before supersizing if possible)"
   ]
  },
  {
   "cell_type": "code",
   "execution_count": 35,
   "metadata": {},
   "outputs": [
    {
     "data": {
      "text/plain": [
       "2.863782440859508"
      ]
     },
     "execution_count": 35,
     "metadata": {},
     "output_type": "execute_result"
    }
   ],
   "source": [
    "ucell.r0()"
   ]
  },
  {
   "cell_type": "markdown",
   "metadata": {},
   "source": [
    "### 6.2. Relative distance vectors and magnitudes\n",
    "\n",
    "The System.dvect() and System.dmag() methods compute the shortest relative distance vectors and magnitudes between atoms or arbitrary points by considering periodic boundary conditions."
   ]
  },
  {
   "cell_type": "code",
   "execution_count": 37,
   "metadata": {},
   "outputs": [
    {
     "data": {
      "text/plain": [
       "array([[-2.02499998,  0.        , -2.02499998],\n",
       "       [-2.02499998,  2.02499998,  0.        ],\n",
       "       [ 0.        ,  0.        ,  0.        ],\n",
       "       [ 0.        ,  2.02499998, -2.02499998]])"
      ]
     },
     "execution_count": 37,
     "metadata": {},
     "output_type": "execute_result"
    }
   ],
   "source": [
    "# Compute dvects between all atoms in ucell and atom with index 2 (the third atom)\n",
    "ucell.dvect(2, range(4))"
   ]
  },
  {
   "cell_type": "code",
   "execution_count": 40,
   "metadata": {},
   "outputs": [
    {
     "data": {
      "text/plain": [
       "array([0.8660254 , 2.21387667, 2.21387667, 2.21387667])"
      ]
     },
     "execution_count": 40,
     "metadata": {},
     "output_type": "execute_result"
    }
   ],
   "source": [
    "# Compute dmags between all atoms in ucell and position [1.0, 1.0, 1.0]\n",
    "ucell.dmag([1.0, 1.0, 1.0], range(4))"
   ]
  },
  {
   "cell_type": "markdown",
   "metadata": {},
   "source": [
    "### 6.3. Neighbor lists\n",
    "\n",
    "The System.neighborlist() method identifies all nearest neighbor atoms for all atoms within a specified cutoff.  \n",
    "\n",
    "__NOTE__: The underlying algorithm uses dmag, and therefore when assigning neighbors *does not* differentiate between multiple replicas of the same atom.  As a consequence, the number of neighbors may be undercounted if any atoms neighbor multiple periodic replicas of the same atom."
   ]
  },
  {
   "cell_type": "code",
   "execution_count": 42,
   "metadata": {},
   "outputs": [],
   "source": [
    "testsystem = ucell.supersize(3,3,3)\n",
    "nlist = testsystem.neighborlist(cutoff = ucell.r0()*1.2)"
   ]
  },
  {
   "cell_type": "markdown",
   "metadata": {},
   "source": [
    "coord returns the coordination count for each atom."
   ]
  },
  {
   "cell_type": "code",
   "execution_count": 43,
   "metadata": {},
   "outputs": [
    {
     "data": {
      "text/plain": [
       "12.0"
      ]
     },
     "execution_count": 43,
     "metadata": {},
     "output_type": "execute_result"
    }
   ],
   "source": [
    "nlist.coord.mean()"
   ]
  },
  {
   "cell_type": "markdown",
   "metadata": {},
   "source": [
    "The indices of neighbors for a given atom can be easily retrieved."
   ]
  },
  {
   "cell_type": "code",
   "execution_count": 46,
   "metadata": {},
   "outputs": [
    {
     "data": {
      "text/plain": [
       "array([ 1,  2,  3, 10, 11, 25, 27, 35, 73, 74, 82, 97], dtype=int64)"
      ]
     },
     "execution_count": 46,
     "metadata": {},
     "output_type": "execute_result"
    }
   ],
   "source": [
    "nlist[0]"
   ]
  }
 ],
 "metadata": {
  "kernelspec": {
   "display_name": "Python 3",
   "language": "python",
   "name": "python3"
  },
  "language_info": {
   "codemirror_mode": {
    "name": "ipython",
    "version": 3
   },
   "file_extension": ".py",
   "mimetype": "text/x-python",
   "name": "python",
   "nbconvert_exporter": "python",
   "pygments_lexer": "ipython3",
   "version": "3.7.4"
  }
 },
 "nbformat": 4,
 "nbformat_minor": 4
}
