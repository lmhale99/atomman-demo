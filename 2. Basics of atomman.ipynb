{
 "cells": [
  {
   "cell_type": "markdown",
   "id": "c948f9ae-c67e-4f0f-9ffb-b7c2bd75831b",
   "metadata": {},
   "source": [
    "# Manipulate atomic configurations\n",
    "\n",
    "This Notebook provides a quick outline on using atomman to manipulate atomic configurations.  "
   ]
  },
  {
   "cell_type": "code",
   "execution_count": 1,
   "id": "2de2471d-9408-48e2-9748-8e02f491c685",
   "metadata": {
    "tags": []
   },
   "outputs": [],
   "source": [
    "import numpy as np\n",
    "\n",
    "import atomman as am"
   ]
  },
  {
   "cell_type": "markdown",
   "id": "67d833a5-5a1e-4b37-a122-3aaeb1b2815a",
   "metadata": {},
   "source": [
    "## 1. Atomic configuration basics\n",
    "\n",
    "In atomman, atomic configurations are represented using three basic objects\n",
    "\n",
    "- __Box__ represents the system box using three lattice vectors a, b, c, and an origin coordinate.  It has conversion tools to different representations as well as utility methods for crystal symmetry, Miller vectors and planes, and identifying if points are inside/outside.\n",
    "- __Atoms__ represents a list of atoms.  By default, all atoms have an integer atype and a 3-coordinate pos.  Other properties can be freely assigned as long as the value for each atom is of the same data type and shape.\n",
    "- __System__ combines a Box object, an Atoms object, periodic boundary condition flags, and the list atom model symbols.  Built-in methods support simple atomic analysis, manipulations, and conversion to alternate atomic configuration representations."
   ]
  },
  {
   "cell_type": "code",
   "execution_count": 3,
   "id": "474b579b-34d8-4181-965d-f8e13b925ffb",
   "metadata": {
    "tags": []
   },
   "outputs": [
    {
     "name": "stdout",
     "output_type": "stream",
     "text": [
      "avect =  [ 4.050,  0.000,  0.000]\n",
      "bvect =  [ 0.000,  4.050,  0.000]\n",
      "cvect =  [ 0.000,  0.000,  4.050]\n",
      "origin = [ 0.000,  0.000,  0.000]\n",
      "natoms = 4\n",
      "natypes = 1\n",
      "symbols = ('Al',)\n",
      "pbc = [ True  True  True]\n",
      "per-atom properties = ['atype', 'pos']\n",
      "     id |   atype |  pos[0] |  pos[1] |  pos[2]\n",
      "      0 |       1 |   0.000 |   0.000 |   0.000\n",
      "      1 |       1 |   2.025 |   2.025 |   0.000\n",
      "      2 |       1 |   2.025 |   0.000 |   2.025\n",
      "      3 |       1 |   0.000 |   2.025 |   2.025\n"
     ]
    }
   ],
   "source": [
    "# Simple example: manually define an fcc unit cell\n",
    "box = am.Box.cubic(a=4.05)                  # class methods exist for all 7 crystal symmetry families\n",
    "\n",
    "atoms = am.Atoms(atype = 1, \n",
    "                 pos = [[0.0, 0.0, 0.0],\n",
    "                        [0.5, 0.5, 0.0],\n",
    "                        [0.5, 0.0, 0.5], \n",
    "                        [0.0, 0.5, 0.5]])\n",
    "\n",
    "ucell = am.System(atoms = atoms,\n",
    "                  box = box,\n",
    "                  scale = True,              # scale=True scales atom pos to box vectors\n",
    "                  symbols = 'Al')  \n",
    "\n",
    "print(ucell)"
   ]
  },
  {
   "cell_type": "markdown",
   "id": "a88c5e6c-f396-4cbd-838b-64423422afdc",
   "metadata": {},
   "source": [
    "## 2. Box tool examples"
   ]
  },
  {
   "cell_type": "markdown",
   "id": "d9cff1f5-7d55-4f5a-98b5-257441ab90ff",
   "metadata": {},
   "source": [
    "### 2.1. Box representations\n",
    "\n",
    "The box parameters can be retrieved in a variety of different formats.  You can also define a box with any complete set of parameters."
   ]
  },
  {
   "cell_type": "code",
   "execution_count": 3,
   "id": "f04bccb7-bc32-40d1-90ee-1f36533e1af0",
   "metadata": {
    "tags": []
   },
   "outputs": [
    {
     "name": "stdout",
     "output_type": "stream",
     "text": [
      "vects\n",
      "[[4.05 0.   0.  ]\n",
      " [0.   4.05 0.  ]\n",
      " [0.   0.   4.05]]\n",
      "\n",
      "origin\n",
      "[0. 0. 0.]\n",
      "\n",
      "avect, bvect, cvect\n",
      "[4.05 0.   0.  ]\n",
      "[0.   4.05 0.  ]\n",
      "[0.   0.   4.05]\n",
      "\n",
      "a, b, c, alpha, beta, gamma\n",
      "4.05 4.05 4.05\n",
      "90.0 90.0 90.0\n",
      "\n",
      "box lengths, lo/hi, and tilts\n",
      "4.05 4.05 4.05\n",
      "0.0 4.05 0.0 4.05 0.0 4.05\n",
      "0.0 0.0 0.0\n"
     ]
    }
   ],
   "source": [
    "print('vects')\n",
    "print(ucell.box.vects)\n",
    "print()\n",
    "\n",
    "print('origin')\n",
    "print(ucell.box.origin)\n",
    "print()\n",
    "\n",
    "print('avect, bvect, cvect')\n",
    "print(ucell.box.avect)\n",
    "print(ucell.box.bvect)\n",
    "print(ucell.box.cvect)\n",
    "print()\n",
    "\n",
    "print('a, b, c, alpha, beta, gamma')\n",
    "print(ucell.box.a, ucell.box.b, ucell.box.c)\n",
    "print(ucell.box.alpha, ucell.box.beta, ucell.box.gamma)\n",
    "print()\n",
    "\n",
    "print('box lengths, lo/hi, and tilts')\n",
    "print(ucell.box.lx, ucell.box.ly, ucell.box.lz)\n",
    "print(ucell.box.xlo, ucell.box.xhi, ucell.box.ylo, ucell.box.yhi, ucell.box.zlo, ucell.box.zhi)\n",
    "print(ucell.box.xy, ucell.box.xz, ucell.box.yz)"
   ]
  },
  {
   "cell_type": "markdown",
   "id": "ca20fd03-0c52-4e63-8d26-c21586549520",
   "metadata": {},
   "source": [
    "### 2.2. Basic box utilities"
   ]
  },
  {
   "cell_type": "code",
   "execution_count": 4,
   "id": "a90b4f19-6110-42e2-8e7c-76ebec9fe7a6",
   "metadata": {
    "tags": []
   },
   "outputs": [
    {
     "name": "stdout",
     "output_type": "stream",
     "text": [
      "66.43012499999999\n"
     ]
    }
   ],
   "source": [
    "print(ucell.box.volume)"
   ]
  },
  {
   "cell_type": "code",
   "execution_count": 5,
   "id": "e281393e-ada1-4653-a51c-6e0fbb2e0129",
   "metadata": {
    "tags": []
   },
   "outputs": [
    {
     "name": "stdout",
     "output_type": "stream",
     "text": [
      "[[0.24691358 0.         0.        ]\n",
      " [0.         0.24691358 0.        ]\n",
      " [0.         0.         0.24691358]]\n"
     ]
    }
   ],
   "source": [
    "print(ucell.box.reciprocal_vects)"
   ]
  },
  {
   "cell_type": "code",
   "execution_count": 9,
   "id": "04654886-ba88-430c-a469-85e927a6f3a5",
   "metadata": {
    "tags": []
   },
   "outputs": [
    {
     "name": "stdout",
     "output_type": "stream",
     "text": [
      "[ True False]\n"
     ]
    }
   ],
   "source": [
    "print(ucell.box.inside([[0.0, 0.0, 0.0],\n",
    "                        [-0.1, 0.0, 0.0]]))"
   ]
  },
  {
   "cell_type": "markdown",
   "id": "e2f50097-4eb4-41a4-9847-c75177a8798c",
   "metadata": {},
   "source": [
    "### 2.3. Crystal symmetry methods\n",
    "\n",
    "There is one \"is\" method for each of the 7 families"
   ]
  },
  {
   "cell_type": "code",
   "execution_count": 10,
   "id": "75e67eac-267d-43c6-9cdd-ca6f71eb3e88",
   "metadata": {
    "tags": []
   },
   "outputs": [
    {
     "name": "stdout",
     "output_type": "stream",
     "text": [
      "True\n"
     ]
    }
   ],
   "source": [
    "print(ucell.box.iscubic())"
   ]
  },
  {
   "cell_type": "code",
   "execution_count": 11,
   "id": "75197197-fbf7-48ff-bf42-f56c1602d6a3",
   "metadata": {
    "tags": []
   },
   "outputs": [
    {
     "name": "stdout",
     "output_type": "stream",
     "text": [
      "False\n"
     ]
    }
   ],
   "source": [
    "print(ucell.box.ishexagonal())"
   ]
  },
  {
   "cell_type": "code",
   "execution_count": 12,
   "id": "b53e572c-f207-4f82-822a-7ec6cc004c4b",
   "metadata": {
    "tags": []
   },
   "outputs": [
    {
     "name": "stdout",
     "output_type": "stream",
     "text": [
      "cubic\n"
     ]
    }
   ],
   "source": [
    "print(ucell.box.identifyfamily())"
   ]
  },
  {
   "cell_type": "markdown",
   "id": "8c842532-9d59-47dc-b91b-6fd58273b110",
   "metadata": {},
   "source": [
    "### 2.4. Miller vector and plane operations, and pos conversions"
   ]
  },
  {
   "cell_type": "code",
   "execution_count": 13,
   "id": "a26a3967-5b18-4230-9d6d-b3799df24c41",
   "metadata": {
    "tags": []
   },
   "outputs": [
    {
     "name": "stdout",
     "output_type": "stream",
     "text": [
      "[4.05 4.05 4.05]\n"
     ]
    }
   ],
   "source": [
    "print(ucell.box.vector_crystal_to_cartesian([1,1,1]))"
   ]
  },
  {
   "cell_type": "code",
   "execution_count": 14,
   "id": "da898cfc-5fba-4bda-a379-2e2353ec2864",
   "metadata": {
    "tags": []
   },
   "outputs": [
    {
     "name": "stdout",
     "output_type": "stream",
     "text": [
      "[0.57735027 0.57735027 0.57735027]\n"
     ]
    }
   ],
   "source": [
    "print(ucell.box.plane_crystal_to_cartesian([1,1,1]))"
   ]
  },
  {
   "cell_type": "code",
   "execution_count": 15,
   "id": "35ff7f80-fe0f-481e-a8f6-64b1400c1a61",
   "metadata": {
    "tags": []
   },
   "outputs": [
    {
     "name": "stdout",
     "output_type": "stream",
     "text": [
      "2.3382685902179863\n"
     ]
    }
   ],
   "source": [
    "print(ucell.box.d_hkl([1,1,1]))"
   ]
  },
  {
   "cell_type": "code",
   "execution_count": 16,
   "id": "4365208d-a53a-4e0e-abd5-d705313d6838",
   "metadata": {
    "tags": []
   },
   "outputs": [
    {
     "name": "stdout",
     "output_type": "stream",
     "text": [
      "[2.025 2.025 2.025]\n"
     ]
    }
   ],
   "source": [
    "print(ucell.box.position_relative_to_cartesian([0.5, 0.5, 0.5]))"
   ]
  },
  {
   "cell_type": "code",
   "execution_count": 17,
   "id": "bf5d58b4-b21d-4606-8457-c2b40f6f67c7",
   "metadata": {
    "tags": []
   },
   "outputs": [
    {
     "name": "stdout",
     "output_type": "stream",
     "text": [
      "[0.5 0.5 0.5]\n"
     ]
    }
   ],
   "source": [
    "print(ucell.box.position_cartesian_to_relative([2.025, 2.025, 2.025]))"
   ]
  },
  {
   "cell_type": "markdown",
   "id": "ed8fefb2-75b0-4c77-8ee1-236a57a7d360",
   "metadata": {},
   "source": [
    "## 3. Atoms tools examples"
   ]
  },
  {
   "cell_type": "markdown",
   "id": "967af460-d9a2-4f5c-a72c-aacc59858796",
   "metadata": {},
   "source": [
    "### 3.1. Basic info"
   ]
  },
  {
   "cell_type": "code",
   "execution_count": 18,
   "id": "1b9186ec-4223-482e-831e-ea35c9bc78b7",
   "metadata": {
    "tags": []
   },
   "outputs": [
    {
     "name": "stdout",
     "output_type": "stream",
     "text": [
      "4\n"
     ]
    }
   ],
   "source": [
    "print(ucell.atoms.natoms)"
   ]
  },
  {
   "cell_type": "code",
   "execution_count": 19,
   "id": "c52418d4-bb28-4e49-83ff-efcfdf26494f",
   "metadata": {
    "tags": []
   },
   "outputs": [
    {
     "name": "stdout",
     "output_type": "stream",
     "text": [
      "1\n"
     ]
    }
   ],
   "source": [
    "print(ucell.atoms.natypes)"
   ]
  },
  {
   "cell_type": "markdown",
   "id": "c50b2e1a-584b-4118-83f6-f39a0af89aed",
   "metadata": {},
   "source": [
    "### 3.2. Getting and setting atomic properties\n",
    "\n",
    "By default, Atoms have atype (integer atomic type) and pos (3D coordinates).  Any other per-atom properties can be assigned as long as each atom has a value and the value's data type and shape are the same for each atom.\n",
    "\n",
    "prop() can be used to see names of set properties, set values and retrieve values."
   ]
  },
  {
   "cell_type": "code",
   "execution_count": 20,
   "id": "add8850d-3c8a-4976-830b-75241b8bf607",
   "metadata": {
    "tags": []
   },
   "outputs": [
    {
     "name": "stdout",
     "output_type": "stream",
     "text": [
      "['atype', 'pos']\n"
     ]
    }
   ],
   "source": [
    "print(ucell.atoms.prop())"
   ]
  },
  {
   "cell_type": "markdown",
   "id": "37287e55-103b-4eb2-a0c1-404da633c335",
   "metadata": {},
   "source": [
    "But it is typically easier to interact with properties as attributes"
   ]
  },
  {
   "cell_type": "code",
   "execution_count": 21,
   "id": "72f68fb2-274a-4bf3-9dc9-df35646daec3",
   "metadata": {
    "tags": []
   },
   "outputs": [
    {
     "name": "stdout",
     "output_type": "stream",
     "text": [
      "[[0.    0.    0.   ]\n",
      " [2.025 2.025 0.   ]\n",
      " [2.025 0.    2.025]\n",
      " [0.    2.025 2.025]]\n"
     ]
    }
   ],
   "source": [
    "print(ucell.atoms.pos)"
   ]
  },
  {
   "cell_type": "code",
   "execution_count": 23,
   "id": "d2ecd849-845f-4135-986a-bb24f05c927a",
   "metadata": {
    "tags": []
   },
   "outputs": [],
   "source": [
    "# Set per-atom 3x3 stress tensors of 0's for all atoms\n",
    "ucell.atoms.stress = np.zeros([4,3,3])"
   ]
  },
  {
   "cell_type": "code",
   "execution_count": 24,
   "id": "b69aa37c-3295-4e5b-a6d7-13274e3929d4",
   "metadata": {},
   "outputs": [
    {
     "name": "stdout",
     "output_type": "stream",
     "text": [
      "['atype', 'pos', 'stress']\n"
     ]
    }
   ],
   "source": [
    "print(ucell.atoms.prop())"
   ]
  },
  {
   "cell_type": "code",
   "execution_count": 25,
   "id": "77ac60e4-21b2-49e4-b096-8f641958b822",
   "metadata": {
    "tags": []
   },
   "outputs": [
    {
     "name": "stdout",
     "output_type": "stream",
     "text": [
      "[[0. 0. 0.]\n",
      " [0. 0. 0.]\n",
      " [0. 0. 0.]]\n"
     ]
    }
   ],
   "source": [
    "# Show stress tensor for atom 0\n",
    "print(ucell.atoms.stress[0])"
   ]
  },
  {
   "cell_type": "markdown",
   "id": "94b3f08e-5dde-4bf6-b550-2a9aa1d88ef0",
   "metadata": {},
   "source": [
    "### 3.3. View as a DataFrame\n",
    "\n",
    "You can also convert the data to a df to view values in a table format.  **Caution!** The df is built by copying the data into a DataFrame and therefore could cause memory issues if the number of atoms is very large!"
   ]
  },
  {
   "cell_type": "code",
   "execution_count": 26,
   "id": "dfde4ad7-5f7d-4282-a9ff-a3b993d5528d",
   "metadata": {
    "tags": []
   },
   "outputs": [
    {
     "data": {
      "text/html": [
       "<div>\n",
       "<style scoped>\n",
       "    .dataframe tbody tr th:only-of-type {\n",
       "        vertical-align: middle;\n",
       "    }\n",
       "\n",
       "    .dataframe tbody tr th {\n",
       "        vertical-align: top;\n",
       "    }\n",
       "\n",
       "    .dataframe thead th {\n",
       "        text-align: right;\n",
       "    }\n",
       "</style>\n",
       "<table border=\"1\" class=\"dataframe\">\n",
       "  <thead>\n",
       "    <tr style=\"text-align: right;\">\n",
       "      <th></th>\n",
       "      <th>atype</th>\n",
       "      <th>pos[0]</th>\n",
       "      <th>pos[1]</th>\n",
       "      <th>pos[2]</th>\n",
       "      <th>stress[0][0]</th>\n",
       "      <th>stress[0][1]</th>\n",
       "      <th>stress[0][2]</th>\n",
       "      <th>stress[1][0]</th>\n",
       "      <th>stress[1][1]</th>\n",
       "      <th>stress[1][2]</th>\n",
       "      <th>stress[2][0]</th>\n",
       "      <th>stress[2][1]</th>\n",
       "      <th>stress[2][2]</th>\n",
       "    </tr>\n",
       "  </thead>\n",
       "  <tbody>\n",
       "    <tr>\n",
       "      <th>0</th>\n",
       "      <td>1</td>\n",
       "      <td>0.000</td>\n",
       "      <td>0.000</td>\n",
       "      <td>0.000</td>\n",
       "      <td>0.0</td>\n",
       "      <td>0.0</td>\n",
       "      <td>0.0</td>\n",
       "      <td>0.0</td>\n",
       "      <td>0.0</td>\n",
       "      <td>0.0</td>\n",
       "      <td>0.0</td>\n",
       "      <td>0.0</td>\n",
       "      <td>0.0</td>\n",
       "    </tr>\n",
       "    <tr>\n",
       "      <th>1</th>\n",
       "      <td>1</td>\n",
       "      <td>2.025</td>\n",
       "      <td>2.025</td>\n",
       "      <td>0.000</td>\n",
       "      <td>0.0</td>\n",
       "      <td>0.0</td>\n",
       "      <td>0.0</td>\n",
       "      <td>0.0</td>\n",
       "      <td>0.0</td>\n",
       "      <td>0.0</td>\n",
       "      <td>0.0</td>\n",
       "      <td>0.0</td>\n",
       "      <td>0.0</td>\n",
       "    </tr>\n",
       "    <tr>\n",
       "      <th>2</th>\n",
       "      <td>1</td>\n",
       "      <td>2.025</td>\n",
       "      <td>0.000</td>\n",
       "      <td>2.025</td>\n",
       "      <td>0.0</td>\n",
       "      <td>0.0</td>\n",
       "      <td>0.0</td>\n",
       "      <td>0.0</td>\n",
       "      <td>0.0</td>\n",
       "      <td>0.0</td>\n",
       "      <td>0.0</td>\n",
       "      <td>0.0</td>\n",
       "      <td>0.0</td>\n",
       "    </tr>\n",
       "    <tr>\n",
       "      <th>3</th>\n",
       "      <td>1</td>\n",
       "      <td>0.000</td>\n",
       "      <td>2.025</td>\n",
       "      <td>2.025</td>\n",
       "      <td>0.0</td>\n",
       "      <td>0.0</td>\n",
       "      <td>0.0</td>\n",
       "      <td>0.0</td>\n",
       "      <td>0.0</td>\n",
       "      <td>0.0</td>\n",
       "      <td>0.0</td>\n",
       "      <td>0.0</td>\n",
       "      <td>0.0</td>\n",
       "    </tr>\n",
       "  </tbody>\n",
       "</table>\n",
       "</div>"
      ],
      "text/plain": [
       "   atype  pos[0]  pos[1]  pos[2]  stress[0][0]  stress[0][1]  stress[0][2]  \\\n",
       "0      1   0.000   0.000   0.000           0.0           0.0           0.0   \n",
       "1      1   2.025   2.025   0.000           0.0           0.0           0.0   \n",
       "2      1   2.025   0.000   2.025           0.0           0.0           0.0   \n",
       "3      1   0.000   2.025   2.025           0.0           0.0           0.0   \n",
       "\n",
       "   stress[1][0]  stress[1][1]  stress[1][2]  stress[2][0]  stress[2][1]  \\\n",
       "0           0.0           0.0           0.0           0.0           0.0   \n",
       "1           0.0           0.0           0.0           0.0           0.0   \n",
       "2           0.0           0.0           0.0           0.0           0.0   \n",
       "3           0.0           0.0           0.0           0.0           0.0   \n",
       "\n",
       "   stress[2][2]  \n",
       "0           0.0  \n",
       "1           0.0  \n",
       "2           0.0  \n",
       "3           0.0  "
      ]
     },
     "execution_count": 26,
     "metadata": {},
     "output_type": "execute_result"
    }
   ],
   "source": [
    "ucell.atoms.df()"
   ]
  },
  {
   "cell_type": "markdown",
   "id": "bc100351-876d-4915-8077-259a87dfa539",
   "metadata": {},
   "source": [
    "## 4. System tools examples"
   ]
  },
  {
   "cell_type": "markdown",
   "id": "d7a38e05-a992-41f2-bad0-7d58dd1a30eb",
   "metadata": {},
   "source": [
    "### 4.1. Basic info"
   ]
  },
  {
   "cell_type": "code",
   "execution_count": 27,
   "id": "341c6641-8045-4dc0-b1a4-c0895328efdd",
   "metadata": {
    "tags": []
   },
   "outputs": [
    {
     "name": "stdout",
     "output_type": "stream",
     "text": [
      "4\n"
     ]
    }
   ],
   "source": [
    "print(ucell.natoms)"
   ]
  },
  {
   "cell_type": "code",
   "execution_count": 28,
   "id": "490c279b-e01c-4b68-9612-0d1ad81216fb",
   "metadata": {
    "tags": []
   },
   "outputs": [
    {
     "name": "stdout",
     "output_type": "stream",
     "text": [
      "Al\n"
     ]
    }
   ],
   "source": [
    "print(ucell.composition)"
   ]
  },
  {
   "cell_type": "markdown",
   "id": "757f876b-f20f-4831-bdf9-a428308b0296",
   "metadata": {},
   "source": [
    "### 4.2. Position analysis\n",
    "\n",
    "- __dvect()__ finds shortest vectors between points taking account of pbcs. Points can be given either as coordinates or atom ids.\n",
    "- __dmag()__ finds magnitudes of the shortest vectors between points taking account of pbcs.  Points can be given either as coordinates or atom ids.\n",
    "- __r0()__ finds the shortest interatomic separation distance in the cell.  Can be costly for large systems."
   ]
  },
  {
   "cell_type": "code",
   "execution_count": 29,
   "id": "caf7ca21-9e8c-4a8c-866b-65a592999399",
   "metadata": {
    "tags": []
   },
   "outputs": [
    {
     "name": "stdout",
     "output_type": "stream",
     "text": [
      "[[2.025 2.025 0.   ]\n",
      " [2.025 0.    2.025]\n",
      " [0.    2.025 2.025]]\n"
     ]
    }
   ],
   "source": [
    "print(ucell.dvect(0, [1,2,3]))  # Find dvects between first atom and the rest"
   ]
  },
  {
   "cell_type": "code",
   "execution_count": 30,
   "id": "d7702f92-97a5-4c88-80a7-f62fba054477",
   "metadata": {
    "tags": []
   },
   "outputs": [
    {
     "name": "stdout",
     "output_type": "stream",
     "text": [
      "[3.50740289 2.025      2.025      2.025     ]\n"
     ]
    }
   ],
   "source": [
    "print(ucell.dmag([2.025, 2.025, 2.025], [0,1,2,3]))  # Find dmags between center of ucell and the atom points"
   ]
  },
  {
   "cell_type": "code",
   "execution_count": 31,
   "id": "36c09ca4-30bc-4db2-8f36-e418e91b8966",
   "metadata": {
    "tags": []
   },
   "outputs": [
    {
     "name": "stdout",
     "output_type": "stream",
     "text": [
      "2.8637824638055176\n"
     ]
    }
   ],
   "source": [
    "print(ucell.r0())"
   ]
  },
  {
   "cell_type": "markdown",
   "id": "9018b981-1d26-4105-a636-6acb00be221f",
   "metadata": {
    "tags": []
   },
   "source": [
    "### 4.3. System manipulations\n",
    "\n",
    "- __rotate()__ the system using Miller(-Bravais) integer vectors relative to the current box vectors. Creates a new system such that atoms remain coherent across periodic boundaries.\n",
    "- __supersize()__ the system by multiplying along the box directions in postive and/or negative directions. \n",
    "- __box_set()__ changes the box dimensions with the option to leave atoms at either absolute Cartesian or box-vector-relative positions.\n",
    "- __atoms_extend()__ creates a new System with the current atoms plus extras.\n",
    "- __atoms_ix()__ creates a new System based on taking a slice of the old system's atoms list.  Numpy-style indexing is used for selecting the atoms.\n",
    "- __wrap()__ adjusts the system so all atoms are within the box boundaries. This is done by wrapping atoms around periodic boundaries and extending non-periodic boundaries as needed."
   ]
  },
  {
   "cell_type": "code",
   "execution_count": 32,
   "id": "1c367ded-05f3-4ad2-af2e-a733b78ca765",
   "metadata": {
    "tags": []
   },
   "outputs": [
    {
     "name": "stdout",
     "output_type": "stream",
     "text": [
      "avect =  [ 7.015,  0.000,  0.000]\n",
      "bvect =  [ 0.000,  9.920,  0.000]\n",
      "cvect =  [ 0.000,  0.000,  5.728]\n",
      "origin = [ 0.000,  0.000,  0.000]\n",
      "natoms = 24\n",
      "natypes = 1\n",
      "symbols = ('Al',)\n",
      "pbc = [ True  True  True]\n",
      "per-atom properties = ['atype', 'pos', 'stress']\n",
      "     id |   atype |  pos[0] |  pos[1] |  pos[2]\n",
      "      0 |       1 |   0.000 |   2.480 |   4.296\n",
      "      1 |       1 |   0.000 |   9.920 |   2.864\n",
      "      2 |       1 |   0.000 |   7.440 |   4.296\n",
      "      3 |       1 |   0.000 |   7.440 |   1.432\n",
      "      4 |       1 |   2.338 |   9.094 |   4.296\n",
      "      5 |       1 |   0.000 |   2.480 |   1.432\n",
      "      6 |       1 |   0.000 |   4.960 |   0.000\n",
      "      7 |       1 |   7.015 |   4.960 |   2.864\n",
      "      8 |       1 |   2.338 |   4.134 |   4.296\n",
      "      9 |       1 |   2.338 |   6.614 |   2.864\n",
      "     10 |       1 |   2.338 |   4.134 |   1.432\n",
      "     11 |       1 |   4.677 |   5.787 |   4.296\n",
      "     12 |       1 |   0.000 |   9.920 |   0.000\n",
      "     13 |       1 |   2.338 |   1.653 |   0.000\n",
      "     14 |       1 |   2.338 |   1.653 |   2.864\n",
      "     15 |       1 |   4.677 |   0.827 |   4.296\n",
      "     16 |       1 |   4.677 |   3.307 |   2.864\n",
      "     17 |       1 |   4.677 |   0.827 |   1.432\n",
      "     18 |       1 |   2.338 |   9.094 |   1.432\n",
      "     19 |       1 |   2.338 |   6.614 |   5.728\n",
      "     20 |       1 |   4.677 |   5.787 |   1.432\n",
      "     21 |       1 |   4.677 |   8.267 |   5.728\n",
      "     22 |       1 |   4.677 |   8.267 |   2.864\n",
      "     23 |       1 |   4.677 |   3.307 |   5.728\n"
     ]
    }
   ],
   "source": [
    "# Rotate such that the [111] direction is along the x-axis\n",
    "uvws = [\n",
    "    [ 1, 1, 1],\n",
    "    [ 1,-2, 1],\n",
    "    [ 1, 0,-1]\n",
    "]\n",
    "rcell = ucell.rotate(uvws)\n",
    "print(rcell)"
   ]
  },
  {
   "cell_type": "code",
   "execution_count": 33,
   "id": "258f4d63-c31b-4b56-b7c2-f18812e1e92f",
   "metadata": {
    "tags": []
   },
   "outputs": [
    {
     "name": "stdout",
     "output_type": "stream",
     "text": [
      "avect =  [56.118,  0.000,  0.000]\n",
      "bvect =  [ 0.000, 59.523,  0.000]\n",
      "cvect =  [ 0.000,  0.000, 57.276]\n",
      "origin = [-28.059, -29.761, -28.638]\n",
      "11520\n"
     ]
    }
   ],
   "source": [
    "# Multiply system along all three box directions. (0,0,0) coordinate is in the center of the system.\n",
    "system = rcell.supersize((-4, 4), (-3, 3), (-5, 5))\n",
    "\n",
    "print(system.box)\n",
    "print(system.natoms)"
   ]
  },
  {
   "cell_type": "markdown",
   "id": "ce37d03d-d147-46ca-9e4c-b360a0745dde",
   "metadata": {},
   "source": [
    "### 4.4. Neighbor lists"
   ]
  },
  {
   "cell_type": "code",
   "execution_count": 34,
   "id": "d8a836e5-8f28-4acc-835f-91ecaba0188a",
   "metadata": {
    "tags": []
   },
   "outputs": [],
   "source": [
    "nlist = system.neighborlist(cutoff = 1.1 * ucell.r0())"
   ]
  },
  {
   "cell_type": "code",
   "execution_count": 35,
   "id": "f524ea4a-51a7-425b-ba56-0c33e0010730",
   "metadata": {
    "tags": []
   },
   "outputs": [
    {
     "name": "stdout",
     "output_type": "stream",
     "text": [
      "12.0\n"
     ]
    }
   ],
   "source": [
    "print(nlist.coord.mean())"
   ]
  },
  {
   "cell_type": "code",
   "execution_count": 36,
   "id": "c444213e-c91f-4fe0-b98b-996f895d9ce8",
   "metadata": {
    "tags": []
   },
   "outputs": [
    {
     "name": "stdout",
     "output_type": "stream",
     "text": [
      "[   5    8   14  175  183  184  191  961 1157 1158 1165 2124]\n"
     ]
    }
   ],
   "source": [
    "print(nlist[0])"
   ]
  },
  {
   "cell_type": "code",
   "execution_count": null,
   "id": "7b89ea48-d9ce-46e8-8308-dfc2396697de",
   "metadata": {},
   "outputs": [],
   "source": []
  }
 ],
 "metadata": {
  "kernelspec": {
   "display_name": "Python 3 (ipykernel)",
   "language": "python",
   "name": "python3"
  },
  "language_info": {
   "codemirror_mode": {
    "name": "ipython",
    "version": 3
   },
   "file_extension": ".py",
   "mimetype": "text/x-python",
   "name": "python",
   "nbconvert_exporter": "python",
   "pygments_lexer": "ipython3",
   "version": "3.12.11"
  }
 },
 "nbformat": 4,
 "nbformat_minor": 5
}
